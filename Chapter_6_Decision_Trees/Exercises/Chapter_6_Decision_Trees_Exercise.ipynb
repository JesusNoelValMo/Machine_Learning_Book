{
  "nbformat": 4,
  "nbformat_minor": 0,
  "metadata": {
    "colab": {
      "name": "Chapter_6_Decision_Trees_Exercise.ipynb",
      "provenance": [],
      "collapsed_sections": []
    },
    "kernelspec": {
      "name": "python3",
      "display_name": "Python 3"
    }
  },
  "cells": [
    {
      "cell_type": "markdown",
      "metadata": {
        "id": "-bpE9WPUSerV"
      },
      "source": [
        "Exercise: train and fine-tune a Decision Tree for the moons dataset.\n",
        "---\n",
        "\n",
        "\n"
      ]
    },
    {
      "cell_type": "code",
      "metadata": {
        "id": "qy6sUisqSNRZ"
      },
      "source": [
        "from sklearn.datasets import make_moons\n",
        "import numpy as np\n"
      ],
      "execution_count": 37,
      "outputs": []
    },
    {
      "cell_type": "code",
      "metadata": {
        "id": "6U5TNLEVe7gu"
      },
      "source": [
        "X, y = make_moons(n_samples=10000, noise=0.4)"
      ],
      "execution_count": 38,
      "outputs": []
    },
    {
      "cell_type": "code",
      "metadata": {
        "id": "TvPvD8U7fDFO"
      },
      "source": [
        "from sklearn.tree import DecisionTreeClassifier\n",
        "desc_tree_clfr = DecisionTreeClassifier()"
      ],
      "execution_count": 39,
      "outputs": []
    },
    {
      "cell_type": "code",
      "metadata": {
        "id": "MkdapxlTf9Xp"
      },
      "source": [
        "#Split Data \n",
        "from sklearn.model_selection import train_test_split\n",
        "x_train, x_test, y_train, y_test = train_test_split(X,y, test_size = 0.2)\n"
      ],
      "execution_count": 40,
      "outputs": []
    },
    {
      "cell_type": "code",
      "metadata": {
        "id": "RBlsj5hWg2GC"
      },
      "source": [
        "from sklearn.model_selection import GridSearchCV\n",
        "parameters = {\n",
        "    \"criterion\" : [\"gini\", \"entropy\"],\n",
        "    \"max_depth\" : [3,4,5,6,7,10,15,25,30,200], \n",
        "    \"min_samples_split\" : [50,100,250,500],\n",
        "    \"min_samples_leaf\" : [1,10,150,250,500,1000], \n",
        "    \"max_features\" : [1,2],\n",
        "\n",
        "}\n",
        "\n",
        "gridsearch = GridSearchCV(desc_tree_clfr, parameters, cv=3)\n"
      ],
      "execution_count": 41,
      "outputs": []
    },
    {
      "cell_type": "code",
      "metadata": {
        "id": "fy_4mvxLk1kO",
        "outputId": "48b376bf-e146-4544-f0cc-03fce6912ef9",
        "colab": {
          "base_uri": "https://localhost:8080/",
          "height": 374
        }
      },
      "source": [
        "gridsearch.fit(x_train, y_train)"
      ],
      "execution_count": 42,
      "outputs": [
        {
          "output_type": "execute_result",
          "data": {
            "text/plain": [
              "GridSearchCV(cv=3, error_score=nan,\n",
              "             estimator=DecisionTreeClassifier(ccp_alpha=0.0, class_weight=None,\n",
              "                                              criterion='gini', max_depth=None,\n",
              "                                              max_features=None,\n",
              "                                              max_leaf_nodes=None,\n",
              "                                              min_impurity_decrease=0.0,\n",
              "                                              min_impurity_split=None,\n",
              "                                              min_samples_leaf=1,\n",
              "                                              min_samples_split=2,\n",
              "                                              min_weight_fraction_leaf=0.0,\n",
              "                                              presort='deprecated',\n",
              "                                              random_state=None,\n",
              "                                              splitter='best'),\n",
              "             iid='deprecated', n_jobs=None,\n",
              "             param_grid={'criterion': ['gini', 'entropy'],\n",
              "                         'max_depth': [3, 4, 5, 6, 7, 10, 15, 25, 30, 200],\n",
              "                         'max_features': [1, 2],\n",
              "                         'min_samples_leaf': [1, 10, 150, 250, 500, 1000],\n",
              "                         'min_samples_split': [50, 100, 250, 500]},\n",
              "             pre_dispatch='2*n_jobs', refit=True, return_train_score=False,\n",
              "             scoring=None, verbose=0)"
            ]
          },
          "metadata": {
            "tags": []
          },
          "execution_count": 42
        }
      ]
    },
    {
      "cell_type": "code",
      "metadata": {
        "id": "wTRBHYQQmrmB",
        "outputId": "53fac2fb-2743-4f38-b544-fa1856be385c",
        "colab": {
          "base_uri": "https://localhost:8080/",
          "height": 102
        }
      },
      "source": [
        "gridsearch.best_params_"
      ],
      "execution_count": 43,
      "outputs": [
        {
          "output_type": "execute_result",
          "data": {
            "text/plain": [
              "{'criterion': 'entropy',\n",
              " 'max_depth': 10,\n",
              " 'max_features': 1,\n",
              " 'min_samples_leaf': 10,\n",
              " 'min_samples_split': 100}"
            ]
          },
          "metadata": {
            "tags": []
          },
          "execution_count": 43
        }
      ]
    },
    {
      "cell_type": "code",
      "metadata": {
        "id": "pJFRlL-znfoY",
        "outputId": "05bf5d90-520a-447e-977e-c7c09feb7701",
        "colab": {
          "base_uri": "https://localhost:8080/",
          "height": 34
        }
      },
      "source": [
        "gridsearch.best_score_"
      ],
      "execution_count": 44,
      "outputs": [
        {
          "output_type": "execute_result",
          "data": {
            "text/plain": [
              "0.8607493549427851"
            ]
          },
          "metadata": {
            "tags": []
          },
          "execution_count": 44
        }
      ]
    },
    {
      "cell_type": "code",
      "metadata": {
        "id": "cs1OmUXupb5X",
        "outputId": "6b51eadf-5cb2-436b-d189-173e9307d3c5",
        "colab": {
          "base_uri": "https://localhost:8080/",
          "height": 34
        }
      },
      "source": [
        "from sklearn.metrics import accuracy_score\n",
        "y_pred = gridsearch.predict(x_test)\n",
        "accuracy_score(y_test, y_pred)"
      ],
      "execution_count": 45,
      "outputs": [
        {
          "output_type": "execute_result",
          "data": {
            "text/plain": [
              "0.866"
            ]
          },
          "metadata": {
            "tags": []
          },
          "execution_count": 45
        }
      ]
    },
    {
      "cell_type": "markdown",
      "metadata": {
        "id": "qQ8LgxBnQFep"
      },
      "source": [
        "Exercise: Grow a Forest.\n",
        "\n",
        "\n",
        "a. Continuing the previous exercise, generate 1,000 subsets of the training set, each containing 100 instances selected randomly. Hint: you can use Scikit-Learn's ShuffleSplit class for this.\n"
      ]
    },
    {
      "cell_type": "code",
      "metadata": {
        "id": "GbxwTfvZQEf5"
      },
      "source": [
        "from sklearn.model_selection import ShuffleSplit\n",
        "n_trees = 1000\n",
        "subsets = ShuffleSplit(n_splits=1000, test_size=0.2)"
      ],
      "execution_count": 46,
      "outputs": []
    },
    {
      "cell_type": "code",
      "metadata": {
        "id": "GSXLH3GWRVtM"
      },
      "source": [
        "minisets = []\n",
        "for train_sub_idx, test_sub_idx in subsets.split(x_train): #returnn index for each instance, for X returns 1 index, but 2 values in X_train\n",
        "\n",
        "  X_mini_train = x_train[train_sub_idx] #i.e. x_train[0] return 2 values (two features)\n",
        "  y_mini_train = y_train[train_sub_idx]#i.e. y_train[0] return 1 value (label)\n",
        "  minisets.append((X_mini_train, y_mini_train)) #list of datasets"
      ],
      "execution_count": 47,
      "outputs": []
    },
    {
      "cell_type": "code",
      "metadata": {
        "id": "CWAx9iEhVYPl"
      },
      "source": [
        "from sklearn.base import clone  \n",
        "forest = [clone(gridsearch.best_estimator_) for _ in range(n_trees)]"
      ],
      "execution_count": 48,
      "outputs": []
    },
    {
      "cell_type": "code",
      "metadata": {
        "id": "xiXqk9G7WYA0"
      },
      "source": [
        "accuracy_scores = []\n",
        "for tree, (mini_x_subset, mini_y_subset) in zip(forest, minisets):\n",
        "  tree.fit(mini_x_subset,mini_y_subset)\n",
        "  y_predictions=tree.predict(x_test)\n",
        "  accuracy_scores.append(accuracy_score(y_test,y_predictions))\n",
        "\n"
      ],
      "execution_count": 49,
      "outputs": []
    },
    {
      "cell_type": "code",
      "metadata": {
        "id": "84y0_wRtXnAD",
        "outputId": "d7fdcad4-a178-4c5e-ab60-a66a38a29a75",
        "colab": {
          "base_uri": "https://localhost:8080/",
          "height": 34
        }
      },
      "source": [
        "np.mean(accuracy_scores)"
      ],
      "execution_count": 50,
      "outputs": [
        {
          "output_type": "execute_result",
          "data": {
            "text/plain": [
              "0.8580840000000001"
            ]
          },
          "metadata": {
            "tags": []
          },
          "execution_count": 50
        }
      ]
    },
    {
      "cell_type": "code",
      "metadata": {
        "id": "6wpOAm9FY_nr"
      },
      "source": [
        "y_predi = np.empty([n_trees, len(x_test)])\n",
        "for idx, tree in enumerate(forest):\n",
        "  y_predi[idx] = tree.predict(x_test)"
      ],
      "execution_count": 51,
      "outputs": []
    },
    {
      "cell_type": "code",
      "metadata": {
        "id": "GHtPGk1raevx"
      },
      "source": [
        "from scipy.stats import mode\n",
        "y_pred_majority_votes, n_votes = mode(y_predi, axis=0)"
      ],
      "execution_count": 52,
      "outputs": []
    },
    {
      "cell_type": "code",
      "metadata": {
        "id": "O3AA048fa3bY",
        "outputId": "1ab8223c-314e-466c-efae-7b81ec6e16df",
        "colab": {
          "base_uri": "https://localhost:8080/",
          "height": 51
        }
      },
      "source": [
        "y_pred_majority_votes, n_votes"
      ],
      "execution_count": 53,
      "outputs": [
        {
          "output_type": "execute_result",
          "data": {
            "text/plain": [
              "(array([[0., 0., 0., ..., 1., 0., 1.]]),\n",
              " array([[1000,  963,  997, ..., 1000, 1000, 1000]]))"
            ]
          },
          "metadata": {
            "tags": []
          },
          "execution_count": 53
        }
      ]
    },
    {
      "cell_type": "code",
      "metadata": {
        "id": "h6ABGPSKa_Yv",
        "outputId": "9d88f8df-fb98-4680-ddb2-df3fff609f46",
        "colab": {
          "base_uri": "https://localhost:8080/",
          "height": 34
        }
      },
      "source": [
        "accuracy_score(y_test, y_pred_majority_votes.reshape([-1]))"
      ],
      "execution_count": 54,
      "outputs": [
        {
          "output_type": "execute_result",
          "data": {
            "text/plain": [
              "0.866"
            ]
          },
          "metadata": {
            "tags": []
          },
          "execution_count": 54
        }
      ]
    }
  ]
}