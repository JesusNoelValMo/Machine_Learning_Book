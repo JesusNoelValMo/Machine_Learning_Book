{
  "nbformat": 4,
  "nbformat_minor": 0,
  "metadata": {
    "colab": {
      "name": "Logistic_reg_heart_disease.ipynb",
      "provenance": [],
      "collapsed_sections": []
    },
    "kernelspec": {
      "name": "python3",
      "display_name": "Python 3"
    }
  },
  "cells": [
    {
      "cell_type": "markdown",
      "metadata": {
        "id": "Rp1yIP1Ejo4n"
      },
      "source": [
        "**# Introduction**\n",
        "\n",
        "* The next project is based on the kaggle dataset \"Logistic regression To predict heart disease\" and you can find it in this [link](https://www.kaggle.com/dileep070/heart-disease-prediction-using-logistic-regression)\n",
        "\n",
        "* The goal of this project is to have a better understanding on the factors that rise the probability of heart disease.\n",
        "\n",
        "* The features are correctly described in the kaggle dataset.\n",
        "\n",
        "* We will use some Logistic models in order to predict the probability of have heart problems."
      ]
    },
    {
      "cell_type": "markdown",
      "metadata": {
        "id": "1mQdDQJvlbkX"
      },
      "source": [
        "#Let's import our libraries\n"
      ]
    },
    {
      "cell_type": "code",
      "metadata": {
        "id": "9Ysrd3S_iHPH"
      },
      "source": [
        "import pandas as pd\n",
        "import numpy as np\n",
        "import seaborn as sns \n",
        "import matplotlib.pyplot as plt\n"
      ],
      "execution_count": null,
      "outputs": []
    },
    {
      "cell_type": "markdown",
      "metadata": {
        "id": "56osc8PnszyV"
      },
      "source": [
        "Let's collect the data from kaggle\n"
      ]
    },
    {
      "cell_type": "code",
      "metadata": {
        "id": "oZvuxJYqs3Cl"
      },
      "source": [
        "!pip install -q kaggle"
      ],
      "execution_count": null,
      "outputs": []
    },
    {
      "cell_type": "code",
      "metadata": {
        "id": "hzN2nnBKs7b8",
        "outputId": "11fb8bc1-e97f-4af6-b422-b92c23c827b2",
        "colab": {
          "resources": {
            "http://localhost:8080/nbextensions/google.colab/files.js": {
              "data": "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",
              "ok": true,
              "headers": [
                [
                  "content-type",
                  "application/javascript"
                ]
              ],
              "status": 200,
              "status_text": ""
            }
          },
          "base_uri": "https://localhost:8080/",
          "height": 89
        }
      },
      "source": [
        "#Choice our kaggle.json downloaded file\n",
        "from google.colab import files\n",
        "files.upload()\n",
        "\n",
        "#Make directory named kaggle and copy kaggle.json file there.\n",
        "! mkdir ~/.kaggle\n",
        "! cp kaggle.json ~/.kaggle/\n"
      ],
      "execution_count": null,
      "outputs": [
        {
          "output_type": "display_data",
          "data": {
            "text/html": [
              "\n",
              "     <input type=\"file\" id=\"files-759048f6-d2d0-4025-a976-f8d902e2651a\" name=\"files[]\" multiple disabled\n",
              "        style=\"border:none\" />\n",
              "     <output id=\"result-759048f6-d2d0-4025-a976-f8d902e2651a\">\n",
              "      Upload widget is only available when the cell has been executed in the\n",
              "      current browser session. Please rerun this cell to enable.\n",
              "      </output>\n",
              "      <script src=\"/nbextensions/google.colab/files.js\"></script> "
            ],
            "text/plain": [
              "<IPython.core.display.HTML object>"
            ]
          },
          "metadata": {
            "tags": []
          }
        },
        {
          "output_type": "stream",
          "text": [
            "Saving kaggle.json to kaggle.json\n",
            "mkdir: cannot create directory ‘/root/.kaggle’: File exists\n"
          ],
          "name": "stdout"
        }
      ]
    },
    {
      "cell_type": "code",
      "metadata": {
        "id": "ARAnZuhYNddv",
        "outputId": "099d52cc-b1f9-4209-f1b6-c8241e4d89b3",
        "colab": {
          "base_uri": "https://localhost:8080/"
        }
      },
      "source": [
        "! ls"
      ],
      "execution_count": null,
      "outputs": [
        {
          "output_type": "stream",
          "text": [
            "kaggle.json  Logistic_reg_heart_disease_project_dataset  sample_data\n"
          ],
          "name": "stdout"
        }
      ]
    },
    {
      "cell_type": "markdown",
      "metadata": {
        "id": "oRMuZw-oN1EZ"
      },
      "source": [
        "Note:\n",
        "If you have any issue with the kaggle.json file, remove it and create a new api key from kaggle."
      ]
    },
    {
      "cell_type": "code",
      "metadata": {
        "id": "wBiC7MjntH7E"
      },
      "source": [
        " ! chmod 600 ~/.kaggle/kaggle.json #Change the permissions of the file.n\n",
        " "
      ],
      "execution_count": null,
      "outputs": []
    },
    {
      "cell_type": "code",
      "metadata": {
        "id": "LyBXSiD4tRn8",
        "outputId": "46dcd73f-8dc3-4d05-bb76-940334019e7e",
        "colab": {
          "base_uri": "https://localhost:8080/"
        }
      },
      "source": [
        "! kaggle datasets list #- That's all ! You can check if everything's okay by running this command."
      ],
      "execution_count": null,
      "outputs": [
        {
          "output_type": "stream",
          "text": [
            "Warning: Looks like you're using an outdated API Version, please consider updating (server 1.5.9 / client 1.5.4)\n",
            "ref                                                       title                                               size  lastUpdated          downloadCount  \n",
            "--------------------------------------------------------  -------------------------------------------------  -----  -------------------  -------------  \n",
            "terenceshin/covid19s-impact-on-airport-traffic            COVID-19's Impact on Airport Traffic               106KB  2020-10-19 12:40:17            760  \n",
            "sootersaalu/amazon-top-50-bestselling-books-2009-2019     Amazon Top 50 Bestselling Books 2009 - 2019         15KB  2020-10-13 09:39:21            800  \n",
            "thomaskonstantin/highly-rated-children-books-and-stories  Highly Rated Children Books And Stories            106KB  2020-10-24 12:09:59            204  \n",
            "tunguz/euro-parliament-proceedings-1996-2011              Euro Parliament Proceedings 1996 - 2011              1GB  2020-10-26 17:48:29             10  \n",
            "rishidamarla/judicial-expenditures-across-all-50-states   Judicial Expenditures across all 50 States           2KB  2020-10-25 00:07:45            151  \n",
            "docstein/brics-world-bank-indicators                      BRICS World Bank Indicators                          4MB  2020-10-22 12:18:40            171  \n",
            "kanishk307/6000-indian-food-recipes-dataset               6000+ Indian Food Recipes Dataset                    9MB  2020-10-24 01:08:23            284  \n",
            "elvinagammed/chatbots-intent-recognition-dataset          Chatbots: Intent Recognition Dataset                17KB  2020-10-23 07:44:59            103  \n",
            "omarhanyy/500-greatest-songs-of-all-time                  500 Greatest Songs of All Time                      33KB  2020-10-26 13:36:09            180  \n",
            "balraj98/synthetic-objective-testing-set-sots-reside      Synthetic Objective Testing Set (SOTS) [RESIDE]    415MB  2020-10-24 10:07:29             23  \n",
            "salmaneunus/mechanical-tools-dataset                      Mechanical Tools Classification Dataset            600MB  2020-10-27 22:35:47            116  \n",
            "lunamcbride24/pokemon-type-matchup-data                   Pokemon Type Matchup Data                            9KB  2020-10-14 18:56:23            124  \n",
            "gaurav2796/kaggle-competions-rankings-and-kernels         Kaggle Competions, Rankings and Kernels            698KB  2020-10-15 04:05:15             14  \n",
            "balraj98/indoor-training-set-its-residestandard           Indoor Training Set (ITS) [RESIDE-Standard]          5GB  2020-10-24 10:07:30             25  \n",
            "romazepa/moscow-schools-winners-of-educational-olympiads  Moscow schools - winners of educational Olympiads    1MB  2020-10-12 21:45:01             30  \n",
            "sootersaalu/nigerian-songs-spotify                        Nigerian Songs Spotify                              24KB  2020-10-25 19:10:23             34  \n",
            "thanatoz/hinglish-blogs                                   Hinglish blogs                                       2MB  2020-10-13 18:16:05              9  \n",
            "shivamb/netflix-shows                                     Netflix Movies and TV Shows                        971KB  2020-01-20 07:33:56          51590  \n",
            "nehaprabhavalkar/indian-food-101                          Indian Food 101                                      7KB  2020-09-30 06:23:43           5680  \n",
            "heeraldedhia/groceries-dataset                            Groceries dataset                                  257KB  2020-09-17 04:36:08           5807  \n"
          ],
          "name": "stdout"
        }
      ]
    },
    {
      "cell_type": "code",
      "metadata": {
        "id": "VKjaei1ctaI0",
        "outputId": "6fb458e4-3bec-4a7c-8659-370a6166b51f",
        "colab": {
          "base_uri": "https://localhost:8080/"
        }
      },
      "source": [
        "\n",
        "! kaggle datasets download -d dileep070/heart-disease-prediction-using-logistic-regression\n",
        "\n",
        "! mkdir Logistic_reg_heart_disease_project_dataset\n",
        "#! cp heart-disease-prediction-using-logistic-regression.zip /Logistic_reg_heart_disease_project_datase/\n",
        "\n"
      ],
      "execution_count": null,
      "outputs": [
        {
          "output_type": "stream",
          "text": [
            "Downloading heart-disease-prediction-using-logistic-regression.zip to /content\n",
            "\r  0% 0.00/58.4k [00:00<?, ?B/s]\n",
            "\r100% 58.4k/58.4k [00:00<00:00, 21.6MB/s]\n",
            "mkdir: cannot create directory ‘Logistic_reg_heart_disease_project_dataset’: File exists\n"
          ],
          "name": "stdout"
        }
      ]
    },
    {
      "cell_type": "code",
      "metadata": {
        "id": "bm5WS_eAOb_Q",
        "outputId": "e2cf47a4-05fb-40b1-f257-adfc2b355551",
        "colab": {
          "base_uri": "https://localhost:8080/"
        }
      },
      "source": [
        "! unzip heart-disease-prediction-using-logistic-regression.zip -d Logistic_reg_heart_disease_project_dataset"
      ],
      "execution_count": null,
      "outputs": [
        {
          "output_type": "stream",
          "text": [
            "Archive:  heart-disease-prediction-using-logistic-regression.zip\n",
            "  inflating: Logistic_reg_heart_disease_project_dataset/framingham.csv  \n"
          ],
          "name": "stdout"
        }
      ]
    },
    {
      "cell_type": "code",
      "metadata": {
        "id": "NNM6eCHfv15k",
        "outputId": "cf330175-07fc-425b-a7fb-d61ce16c2977",
        "colab": {
          "base_uri": "https://localhost:8080/"
        }
      },
      "source": [
        "!echo $PATH\n",
        "!ls"
      ],
      "execution_count": null,
      "outputs": [
        {
          "output_type": "stream",
          "text": [
            "/usr/local/nvidia/bin:/usr/local/cuda/bin:/usr/local/sbin:/usr/local/bin:/usr/sbin:/usr/bin:/sbin:/bin:/tools/node/bin:/tools/google-cloud-sdk/bin:/opt/bin\n",
            "heart-disease-prediction-using-logistic-regression.zip\n",
            "kaggle.json\n",
            "Logistic_reg_heart_disease_project_dataset\n",
            "sample_data\n"
          ],
          "name": "stdout"
        }
      ]
    },
    {
      "cell_type": "code",
      "metadata": {
        "id": "FcacNk0x2z0y"
      },
      "source": [
        "!cd Logistic_reg_heart_disease_project_dataset"
      ],
      "execution_count": null,
      "outputs": []
    },
    {
      "cell_type": "code",
      "metadata": {
        "id": "peok-yYi25w1",
        "outputId": "348c6d57-4cd6-4a88-d2bf-2f4e1a417dc4",
        "colab": {
          "base_uri": "https://localhost:8080/"
        }
      },
      "source": [
        "!ls Logistic_reg_heart_disease_project_dataset\n"
      ],
      "execution_count": null,
      "outputs": [
        {
          "output_type": "stream",
          "text": [
            "framingham.csv\n"
          ],
          "name": "stdout"
        }
      ]
    },
    {
      "cell_type": "code",
      "metadata": {
        "id": "MkUZ-pgSwKn7"
      },
      "source": [
        "path = 'Logistic_reg_heart_disease_project_dataset/framingham.csv'"
      ],
      "execution_count": null,
      "outputs": []
    },
    {
      "cell_type": "code",
      "metadata": {
        "id": "4vagOTcXwTOT"
      },
      "source": [
        "#Reading the saved dataset\n",
        "dataset = pd.read_csv(path)\n"
      ],
      "execution_count": null,
      "outputs": []
    },
    {
      "cell_type": "code",
      "metadata": {
        "id": "Rv1yhSBG6vUU",
        "outputId": "39f9e12b-4b44-434f-d3f5-d76b172147d2",
        "colab": {
          "base_uri": "https://localhost:8080/"
        }
      },
      "source": [
        "dataset.info()\n"
      ],
      "execution_count": null,
      "outputs": [
        {
          "output_type": "stream",
          "text": [
            "<class 'pandas.core.frame.DataFrame'>\n",
            "RangeIndex: 4238 entries, 0 to 4237\n",
            "Data columns (total 16 columns):\n",
            " #   Column           Non-Null Count  Dtype  \n",
            "---  ------           --------------  -----  \n",
            " 0   male             4238 non-null   int64  \n",
            " 1   age              4238 non-null   int64  \n",
            " 2   education        4133 non-null   float64\n",
            " 3   currentSmoker    4238 non-null   int64  \n",
            " 4   cigsPerDay       4209 non-null   float64\n",
            " 5   BPMeds           4185 non-null   float64\n",
            " 6   prevalentStroke  4238 non-null   int64  \n",
            " 7   prevalentHyp     4238 non-null   int64  \n",
            " 8   diabetes         4238 non-null   int64  \n",
            " 9   totChol          4188 non-null   float64\n",
            " 10  sysBP            4238 non-null   float64\n",
            " 11  diaBP            4238 non-null   float64\n",
            " 12  BMI              4219 non-null   float64\n",
            " 13  heartRate        4237 non-null   float64\n",
            " 14  glucose          3850 non-null   float64\n",
            " 15  TenYearCHD       4238 non-null   int64  \n",
            "dtypes: float64(9), int64(7)\n",
            "memory usage: 529.9 KB\n"
          ],
          "name": "stdout"
        }
      ]
    },
    {
      "cell_type": "markdown",
      "metadata": {
        "id": "Oyc9vVK3Z-XC"
      },
      "source": [
        "* # Data Cleaning "
      ]
    },
    {
      "cell_type": "markdown",
      "metadata": {
        "id": "JA9yZ3Ddwz0O"
      },
      "source": [
        "* Let's see correlations between our features, this could help us with the data cleaning process."
      ]
    },
    {
      "cell_type": "code",
      "metadata": {
        "id": "n8G8Eyu1w-mS",
        "outputId": "097f8074-574b-4bd9-c44d-b19482a2d41b",
        "colab": {
          "base_uri": "https://localhost:8080/",
          "height": 351
        }
      },
      "source": [
        "#See correlations \n",
        "cmap = sns.diverging_palette(200,10,as_cmap=True)\n",
        "sns.heatmap(dataset.corr(), vmax=1,vmin=-1, center=0, cmap=cmap,\n",
        "            square=True, linewidths=.5, cbar_kws={\"shrink\": .5})"
      ],
      "execution_count": null,
      "outputs": [
        {
          "output_type": "execute_result",
          "data": {
            "text/plain": [
              "<matplotlib.axes._subplots.AxesSubplot at 0x7fc8597a8320>"
            ]
          },
          "metadata": {
            "tags": []
          },
          "execution_count": 30
        },
        {
          "output_type": "display_data",
          "data": {
            "image/png": "[encoded data removed]",
            "text/plain": [
              "<Figure size 432x288 with 2 Axes>"
            ]
          },
          "metadata": {
            "tags": [],
            "needs_background": "light"
          }
        }
      ]
    },
    {
      "cell_type": "markdown",
      "metadata": {
        "id": "8rhysfKPaaex"
      },
      "source": [
        "Since we don't have info about what \"education\" feature is about, I'll delete it from our dataset."
      ]
    },
    {
      "cell_type": "code",
      "metadata": {
        "id": "T4zHLBCNaGbK"
      },
      "source": [
        "dataset = dataset.drop([\"education\"], axis=1)"
      ],
      "execution_count": null,
      "outputs": []
    },
    {
      "cell_type": "code",
      "metadata": {
        "id": "9p05_l5Ka7IL",
        "outputId": "1a56139f-61ce-4c00-e939-2327817df9f2",
        "colab": {
          "base_uri": "https://localhost:8080/"
        }
      },
      "source": [
        "dataset.shape"
      ],
      "execution_count": null,
      "outputs": [
        {
          "output_type": "execute_result",
          "data": {
            "text/plain": [
              "(4238, 15)"
            ]
          },
          "metadata": {
            "tags": []
          },
          "execution_count": 32
        }
      ]
    },
    {
      "cell_type": "markdown",
      "metadata": {
        "id": "RZVOmsIqjstn"
      },
      "source": [
        "## Let's Take Care of the cigsPerDay feature\n",
        "* For this feature we'll set the instance to 0.0 if the person is not a current smoker (currentSmoker == 0), otherwise, the instance will be set to 20.0 (the most common value) \n"
      ]
    },
    {
      "cell_type": "code",
      "metadata": {
        "id": "ukSfHBB2puET"
      },
      "source": [
        "#Fill our missing data with 20.0\n",
        "#we'll take care of the values where the person is a currentSmoker later\n",
        "dataset['cigsPerDay'] = dataset['cigsPerDay'].fillna(20.0)\n"
      ],
      "execution_count": null,
      "outputs": []
    },
    {
      "cell_type": "code",
      "metadata": {
        "id": "NbxFNFgOs4Nm",
        "outputId": "f4264229-bcfe-48c8-f355-2bcd03a2cd31",
        "colab": {
          "base_uri": "https://localhost:8080/"
        }
      },
      "source": [
        "dataset['cigsPerDay'].describe()"
      ],
      "execution_count": null,
      "outputs": [
        {
          "output_type": "execute_result",
          "data": {
            "text/plain": [
              "count    4238.000000\n",
              "mean        9.078339\n",
              "std        11.913780\n",
              "min         0.000000\n",
              "25%         0.000000\n",
              "50%         0.000000\n",
              "75%        20.000000\n",
              "max        70.000000\n",
              "Name: cigsPerDay, dtype: float64"
            ]
          },
          "metadata": {
            "tags": []
          },
          "execution_count": 34
        }
      ]
    },
    {
      "cell_type": "code",
      "metadata": {
        "id": "bx9eZWYbtLqe"
      },
      "source": [
        "#If our the instance is a currentSmoker, fill the cigsPerDay with a 0\n",
        "dataset['cigsPerDay'] = dataset.apply(lambda x: 0.0 if x[\"currentSmoker\"]==0 else x['cigsPerDay'], axis=1)"
      ],
      "execution_count": null,
      "outputs": []
    },
    {
      "cell_type": "code",
      "metadata": {
        "id": "1hFUR5VetRsY",
        "outputId": "6045a89e-e413-42cd-f0fb-62edad84074a",
        "colab": {
          "base_uri": "https://localhost:8080/"
        }
      },
      "source": [
        "dataset.info()"
      ],
      "execution_count": null,
      "outputs": [
        {
          "output_type": "stream",
          "text": [
            "<class 'pandas.core.frame.DataFrame'>\n",
            "RangeIndex: 4238 entries, 0 to 4237\n",
            "Data columns (total 15 columns):\n",
            " #   Column           Non-Null Count  Dtype  \n",
            "---  ------           --------------  -----  \n",
            " 0   male             4238 non-null   int64  \n",
            " 1   age              4238 non-null   int64  \n",
            " 2   currentSmoker    4238 non-null   int64  \n",
            " 3   cigsPerDay       4238 non-null   float64\n",
            " 4   BPMeds           4185 non-null   float64\n",
            " 5   prevalentStroke  4238 non-null   int64  \n",
            " 6   prevalentHyp     4238 non-null   int64  \n",
            " 7   diabetes         4238 non-null   int64  \n",
            " 8   totChol          4188 non-null   float64\n",
            " 9   sysBP            4238 non-null   float64\n",
            " 10  diaBP            4238 non-null   float64\n",
            " 11  BMI              4219 non-null   float64\n",
            " 12  heartRate        4237 non-null   float64\n",
            " 13  glucose          3850 non-null   float64\n",
            " 14  TenYearCHD       4238 non-null   int64  \n",
            "dtypes: float64(8), int64(7)\n",
            "memory usage: 496.8 KB\n"
          ],
          "name": "stdout"
        }
      ]
    },
    {
      "cell_type": "markdown",
      "metadata": {
        "id": "zKsTwWnuu7hh"
      },
      "source": [
        "## Let's take Care of the BPMeds missing values"
      ]
    },
    {
      "cell_type": "code",
      "metadata": {
        "id": "JKnA7Dm-zUOr"
      },
      "source": [
        "from sklearn.impute import SimpleImputer"
      ],
      "execution_count": null,
      "outputs": []
    },
    {
      "cell_type": "code",
      "metadata": {
        "id": "7nxY-UtlzfUX"
      },
      "source": [
        "BPMeds_imputer = SimpleImputer(strategy='constant', fill_value=0)"
      ],
      "execution_count": null,
      "outputs": []
    },
    {
      "cell_type": "code",
      "metadata": {
        "id": "RH4BRkQP0MvS"
      },
      "source": [
        "dataset['BPMeds'] = BPMeds_imputer.fit_transform(dataset['BPMeds'].values.reshape(-1, 1))"
      ],
      "execution_count": null,
      "outputs": []
    },
    {
      "cell_type": "code",
      "metadata": {
        "id": "9irjCX1e0mZ2",
        "outputId": "795e4055-27d4-479c-9587-87e1ff1ea4ac",
        "colab": {
          "base_uri": "https://localhost:8080/"
        }
      },
      "source": [
        "dataset.info()"
      ],
      "execution_count": null,
      "outputs": [
        {
          "output_type": "stream",
          "text": [
            "<class 'pandas.core.frame.DataFrame'>\n",
            "RangeIndex: 4238 entries, 0 to 4237\n",
            "Data columns (total 15 columns):\n",
            " #   Column           Non-Null Count  Dtype  \n",
            "---  ------           --------------  -----  \n",
            " 0   male             4238 non-null   int64  \n",
            " 1   age              4238 non-null   int64  \n",
            " 2   currentSmoker    4238 non-null   int64  \n",
            " 3   cigsPerDay       4238 non-null   float64\n",
            " 4   BPMeds           4238 non-null   float64\n",
            " 5   prevalentStroke  4238 non-null   int64  \n",
            " 6   prevalentHyp     4238 non-null   int64  \n",
            " 7   diabetes         4238 non-null   int64  \n",
            " 8   totChol          4188 non-null   float64\n",
            " 9   sysBP            4238 non-null   float64\n",
            " 10  diaBP            4238 non-null   float64\n",
            " 11  BMI              4219 non-null   float64\n",
            " 12  heartRate        4237 non-null   float64\n",
            " 13  glucose          3850 non-null   float64\n",
            " 14  TenYearCHD       4238 non-null   int64  \n",
            "dtypes: float64(8), int64(7)\n",
            "memory usage: 496.8 KB\n"
          ],
          "name": "stdout"
        }
      ]
    },
    {
      "cell_type": "markdown",
      "metadata": {
        "id": "70gfbMJ61FsV"
      },
      "source": [
        "## Taking care of the totChol missing values"
      ]
    },
    {
      "cell_type": "code",
      "metadata": {
        "id": "TGZcOTZ81E2O"
      },
      "source": [
        "TotChol_imputer = SimpleImputer(strategy='mean')"
      ],
      "execution_count": null,
      "outputs": []
    },
    {
      "cell_type": "code",
      "metadata": {
        "id": "WXI5iOZ01aCn"
      },
      "source": [
        "dataset['totChol'] = TotChol_imputer.fit_transform(dataset['totChol'].values.reshape(-1, 1))"
      ],
      "execution_count": null,
      "outputs": []
    },
    {
      "cell_type": "code",
      "metadata": {
        "id": "NaNVv1cq1d4P",
        "outputId": "9aa818d0-ba15-468b-8168-85f910fbec7a",
        "colab": {
          "base_uri": "https://localhost:8080/"
        }
      },
      "source": [
        "dataset.info()"
      ],
      "execution_count": null,
      "outputs": [
        {
          "output_type": "stream",
          "text": [
            "<class 'pandas.core.frame.DataFrame'>\n",
            "RangeIndex: 4238 entries, 0 to 4237\n",
            "Data columns (total 15 columns):\n",
            " #   Column           Non-Null Count  Dtype  \n",
            "---  ------           --------------  -----  \n",
            " 0   male             4238 non-null   int64  \n",
            " 1   age              4238 non-null   int64  \n",
            " 2   currentSmoker    4238 non-null   int64  \n",
            " 3   cigsPerDay       4238 non-null   float64\n",
            " 4   BPMeds           4238 non-null   float64\n",
            " 5   prevalentStroke  4238 non-null   int64  \n",
            " 6   prevalentHyp     4238 non-null   int64  \n",
            " 7   diabetes         4238 non-null   int64  \n",
            " 8   totChol          4238 non-null   float64\n",
            " 9   sysBP            4238 non-null   float64\n",
            " 10  diaBP            4238 non-null   float64\n",
            " 11  BMI              4219 non-null   float64\n",
            " 12  heartRate        4237 non-null   float64\n",
            " 13  glucose          3850 non-null   float64\n",
            " 14  TenYearCHD       4238 non-null   int64  \n",
            "dtypes: float64(8), int64(7)\n",
            "memory usage: 496.8 KB\n"
          ],
          "name": "stdout"
        }
      ]
    },
    {
      "cell_type": "markdown",
      "metadata": {
        "id": "w_7sWFjp1xeo"
      },
      "source": [
        "## Taking care of the BMI missing values"
      ]
    },
    {
      "cell_type": "code",
      "metadata": {
        "id": "rwri08pC10cw"
      },
      "source": [
        "BMI_imputer = SimpleImputer(strategy='mean')\n",
        "dataset['BMI'] = BMI_imputer.fit_transform(dataset['BMI'].values.reshape(-1, 1))"
      ],
      "execution_count": null,
      "outputs": []
    },
    {
      "cell_type": "code",
      "metadata": {
        "id": "JX5MDHbS2Prc",
        "outputId": "bc51732e-e124-4ab5-973e-fa054ccda31b",
        "colab": {
          "base_uri": "https://localhost:8080/"
        }
      },
      "source": [
        "dataset.info()"
      ],
      "execution_count": null,
      "outputs": [
        {
          "output_type": "stream",
          "text": [
            "<class 'pandas.core.frame.DataFrame'>\n",
            "RangeIndex: 4238 entries, 0 to 4237\n",
            "Data columns (total 15 columns):\n",
            " #   Column           Non-Null Count  Dtype  \n",
            "---  ------           --------------  -----  \n",
            " 0   male             4238 non-null   int64  \n",
            " 1   age              4238 non-null   int64  \n",
            " 2   currentSmoker    4238 non-null   int64  \n",
            " 3   cigsPerDay       4238 non-null   float64\n",
            " 4   BPMeds           4238 non-null   float64\n",
            " 5   prevalentStroke  4238 non-null   int64  \n",
            " 6   prevalentHyp     4238 non-null   int64  \n",
            " 7   diabetes         4238 non-null   int64  \n",
            " 8   totChol          4238 non-null   float64\n",
            " 9   sysBP            4238 non-null   float64\n",
            " 10  diaBP            4238 non-null   float64\n",
            " 11  BMI              4238 non-null   float64\n",
            " 12  heartRate        4237 non-null   float64\n",
            " 13  glucose          3850 non-null   float64\n",
            " 14  TenYearCHD       4238 non-null   int64  \n",
            "dtypes: float64(8), int64(7)\n",
            "memory usage: 496.8 KB\n"
          ],
          "name": "stdout"
        }
      ]
    },
    {
      "cell_type": "markdown",
      "metadata": {
        "id": "27tjOmWK2Woq"
      },
      "source": [
        "## Using the same imputer for heartRate and glucose.\n"
      ]
    },
    {
      "cell_type": "code",
      "metadata": {
        "id": "88mh4vST2Vfd"
      },
      "source": [
        "dataset['heartRate'] = BMI_imputer.fit_transform(dataset['heartRate'].values.reshape(-1, 1))\n",
        "dataset['glucose'] = BMI_imputer.fit_transform(dataset['glucose'].values.reshape(-1, 1))"
      ],
      "execution_count": null,
      "outputs": []
    },
    {
      "cell_type": "code",
      "metadata": {
        "id": "XS4wv-Po2mBN",
        "outputId": "6dd464c1-9f92-41a0-b5ee-0bbe08190f94",
        "colab": {
          "base_uri": "https://localhost:8080/"
        }
      },
      "source": [
        "dataset.info()"
      ],
      "execution_count": null,
      "outputs": [
        {
          "output_type": "stream",
          "text": [
            "<class 'pandas.core.frame.DataFrame'>\n",
            "RangeIndex: 4238 entries, 0 to 4237\n",
            "Data columns (total 15 columns):\n",
            " #   Column           Non-Null Count  Dtype  \n",
            "---  ------           --------------  -----  \n",
            " 0   male             4238 non-null   int64  \n",
            " 1   age              4238 non-null   int64  \n",
            " 2   currentSmoker    4238 non-null   int64  \n",
            " 3   cigsPerDay       4238 non-null   float64\n",
            " 4   BPMeds           4238 non-null   float64\n",
            " 5   prevalentStroke  4238 non-null   int64  \n",
            " 6   prevalentHyp     4238 non-null   int64  \n",
            " 7   diabetes         4238 non-null   int64  \n",
            " 8   totChol          4238 non-null   float64\n",
            " 9   sysBP            4238 non-null   float64\n",
            " 10  diaBP            4238 non-null   float64\n",
            " 11  BMI              4238 non-null   float64\n",
            " 12  heartRate        4238 non-null   float64\n",
            " 13  glucose          4238 non-null   float64\n",
            " 14  TenYearCHD       4238 non-null   int64  \n",
            "dtypes: float64(8), int64(7)\n",
            "memory usage: 496.8 KB\n"
          ],
          "name": "stdout"
        }
      ]
    },
    {
      "cell_type": "markdown",
      "metadata": {
        "id": "3acJR1a2Wfdm"
      },
      "source": [
        "# Let's Use Seaborn to do the Exploratory Data Analysis (EDA) "
      ]
    },
    {
      "cell_type": "markdown",
      "metadata": {
        "id": "lAlRBUB8W0Kh"
      },
      "source": [
        "* Let's see how features are correlated again\n"
      ]
    },
    {
      "cell_type": "code",
      "metadata": {
        "id": "umjp5dUsXkly",
        "outputId": "ac1ee04c-4557-4e75-edba-8c0178cb9677",
        "colab": {
          "base_uri": "https://localhost:8080/",
          "height": 514
        }
      },
      "source": [
        "dataset.corr()"
      ],
      "execution_count": null,
      "outputs": [
        {
          "output_type": "execute_result",
          "data": {
            "text/html": [
              "<div>\n",
              "<style scoped>\n",
              "    .dataframe tbody tr th:only-of-type {\n",
              "        vertical-align: middle;\n",
              "    }\n",
              "\n",
              "    .dataframe tbody tr th {\n",
              "        vertical-align: top;\n",
              "    }\n",
              "\n",
              "    .dataframe thead th {\n",
              "        text-align: right;\n",
              "    }\n",
              "</style>\n",
              "<table border=\"1\" class=\"dataframe\">\n",
              "  <thead>\n",
              "    <tr style=\"text-align: right;\">\n",
              "      <th></th>\n",
              "      <th>male</th>\n",
              "      <th>age</th>\n",
              "      <th>currentSmoker</th>\n",
              "      <th>cigsPerDay</th>\n",
              "      <th>BPMeds</th>\n",
              "      <th>prevalentStroke</th>\n",
              "      <th>prevalentHyp</th>\n",
              "      <th>diabetes</th>\n",
              "      <th>totChol</th>\n",
              "      <th>sysBP</th>\n",
              "      <th>diaBP</th>\n",
              "      <th>BMI</th>\n",
              "      <th>heartRate</th>\n",
              "      <th>glucose</th>\n",
              "      <th>TenYearCHD</th>\n",
              "    </tr>\n",
              "  </thead>\n",
              "  <tbody>\n",
              "    <tr>\n",
              "      <th>male</th>\n",
              "      <td>1.000000</td>\n",
              "      <td>-0.028979</td>\n",
              "      <td>0.197596</td>\n",
              "      <td>0.316571</td>\n",
              "      <td>-0.051545</td>\n",
              "      <td>-0.004546</td>\n",
              "      <td>0.005313</td>\n",
              "      <td>0.015708</td>\n",
              "      <td>-0.069974</td>\n",
              "      <td>-0.035989</td>\n",
              "      <td>0.057933</td>\n",
              "      <td>0.081506</td>\n",
              "      <td>-0.116601</td>\n",
              "      <td>0.005818</td>\n",
              "      <td>0.088428</td>\n",
              "    </tr>\n",
              "    <tr>\n",
              "      <th>age</th>\n",
              "      <td>-0.028979</td>\n",
              "      <td>1.000000</td>\n",
              "      <td>-0.213748</td>\n",
              "      <td>-0.191985</td>\n",
              "      <td>0.120955</td>\n",
              "      <td>0.057655</td>\n",
              "      <td>0.307194</td>\n",
              "      <td>0.101258</td>\n",
              "      <td>0.260270</td>\n",
              "      <td>0.394302</td>\n",
              "      <td>0.206104</td>\n",
              "      <td>0.135283</td>\n",
              "      <td>-0.012819</td>\n",
              "      <td>0.116850</td>\n",
              "      <td>0.225256</td>\n",
              "    </tr>\n",
              "    <tr>\n",
              "      <th>currentSmoker</th>\n",
              "      <td>0.197596</td>\n",
              "      <td>-0.213748</td>\n",
              "      <td>1.000000</td>\n",
              "      <td>0.771138</td>\n",
              "      <td>-0.048358</td>\n",
              "      <td>-0.032988</td>\n",
              "      <td>-0.103260</td>\n",
              "      <td>-0.044295</td>\n",
              "      <td>-0.046285</td>\n",
              "      <td>-0.130230</td>\n",
              "      <td>-0.107746</td>\n",
              "      <td>-0.167276</td>\n",
              "      <td>0.062348</td>\n",
              "      <td>-0.054157</td>\n",
              "      <td>0.019456</td>\n",
              "    </tr>\n",
              "    <tr>\n",
              "      <th>cigsPerDay</th>\n",
              "      <td>0.316571</td>\n",
              "      <td>-0.191985</td>\n",
              "      <td>0.771138</td>\n",
              "      <td>1.000000</td>\n",
              "      <td>-0.046627</td>\n",
              "      <td>-0.033098</td>\n",
              "      <td>-0.066700</td>\n",
              "      <td>-0.037982</td>\n",
              "      <td>-0.024922</td>\n",
              "      <td>-0.088196</td>\n",
              "      <td>-0.055732</td>\n",
              "      <td>-0.092112</td>\n",
              "      <td>0.075657</td>\n",
              "      <td>-0.055106</td>\n",
              "      <td>0.056147</td>\n",
              "    </tr>\n",
              "    <tr>\n",
              "      <th>BPMeds</th>\n",
              "      <td>-0.051545</td>\n",
              "      <td>0.120955</td>\n",
              "      <td>-0.048358</td>\n",
              "      <td>-0.046627</td>\n",
              "      <td>1.000000</td>\n",
              "      <td>0.114609</td>\n",
              "      <td>0.258697</td>\n",
              "      <td>0.051394</td>\n",
              "      <td>0.078712</td>\n",
              "      <td>0.251503</td>\n",
              "      <td>0.192356</td>\n",
              "      <td>0.099647</td>\n",
              "      <td>0.015139</td>\n",
              "      <td>0.048856</td>\n",
              "      <td>0.086417</td>\n",
              "    </tr>\n",
              "    <tr>\n",
              "      <th>prevalentStroke</th>\n",
              "      <td>-0.004546</td>\n",
              "      <td>0.057655</td>\n",
              "      <td>-0.032988</td>\n",
              "      <td>-0.033098</td>\n",
              "      <td>0.114609</td>\n",
              "      <td>1.000000</td>\n",
              "      <td>0.074830</td>\n",
              "      <td>0.006949</td>\n",
              "      <td>0.000067</td>\n",
              "      <td>0.057009</td>\n",
              "      <td>0.045190</td>\n",
              "      <td>0.024840</td>\n",
              "      <td>-0.017676</td>\n",
              "      <td>0.018055</td>\n",
              "      <td>0.061810</td>\n",
              "    </tr>\n",
              "    <tr>\n",
              "      <th>prevalentHyp</th>\n",
              "      <td>0.005313</td>\n",
              "      <td>0.307194</td>\n",
              "      <td>-0.103260</td>\n",
              "      <td>-0.066700</td>\n",
              "      <td>0.258697</td>\n",
              "      <td>0.074830</td>\n",
              "      <td>1.000000</td>\n",
              "      <td>0.077808</td>\n",
              "      <td>0.163041</td>\n",
              "      <td>0.696755</td>\n",
              "      <td>0.615751</td>\n",
              "      <td>0.300572</td>\n",
              "      <td>0.147222</td>\n",
              "      <td>0.082924</td>\n",
              "      <td>0.177603</td>\n",
              "    </tr>\n",
              "    <tr>\n",
              "      <th>diabetes</th>\n",
              "      <td>0.015708</td>\n",
              "      <td>0.101258</td>\n",
              "      <td>-0.044295</td>\n",
              "      <td>-0.037982</td>\n",
              "      <td>0.051394</td>\n",
              "      <td>0.006949</td>\n",
              "      <td>0.077808</td>\n",
              "      <td>1.000000</td>\n",
              "      <td>0.040092</td>\n",
              "      <td>0.111283</td>\n",
              "      <td>0.050329</td>\n",
              "      <td>0.086250</td>\n",
              "      <td>0.048993</td>\n",
              "      <td>0.605705</td>\n",
              "      <td>0.097317</td>\n",
              "    </tr>\n",
              "    <tr>\n",
              "      <th>totChol</th>\n",
              "      <td>-0.069974</td>\n",
              "      <td>0.260270</td>\n",
              "      <td>-0.046285</td>\n",
              "      <td>-0.024922</td>\n",
              "      <td>0.078712</td>\n",
              "      <td>0.000067</td>\n",
              "      <td>0.163041</td>\n",
              "      <td>0.040092</td>\n",
              "      <td>1.000000</td>\n",
              "      <td>0.207609</td>\n",
              "      <td>0.163903</td>\n",
              "      <td>0.114789</td>\n",
              "      <td>0.090676</td>\n",
              "      <td>0.044583</td>\n",
              "      <td>0.081624</td>\n",
              "    </tr>\n",
              "    <tr>\n",
              "      <th>sysBP</th>\n",
              "      <td>-0.035989</td>\n",
              "      <td>0.394302</td>\n",
              "      <td>-0.130230</td>\n",
              "      <td>-0.088196</td>\n",
              "      <td>0.251503</td>\n",
              "      <td>0.057009</td>\n",
              "      <td>0.696755</td>\n",
              "      <td>0.111283</td>\n",
              "      <td>0.207609</td>\n",
              "      <td>1.000000</td>\n",
              "      <td>0.784002</td>\n",
              "      <td>0.325247</td>\n",
              "      <td>0.182174</td>\n",
              "      <td>0.134608</td>\n",
              "      <td>0.216429</td>\n",
              "    </tr>\n",
              "    <tr>\n",
              "      <th>diaBP</th>\n",
              "      <td>0.057933</td>\n",
              "      <td>0.206104</td>\n",
              "      <td>-0.107746</td>\n",
              "      <td>-0.055732</td>\n",
              "      <td>0.192356</td>\n",
              "      <td>0.045190</td>\n",
              "      <td>0.615751</td>\n",
              "      <td>0.050329</td>\n",
              "      <td>0.163903</td>\n",
              "      <td>0.784002</td>\n",
              "      <td>1.000000</td>\n",
              "      <td>0.376544</td>\n",
              "      <td>0.181246</td>\n",
              "      <td>0.058647</td>\n",
              "      <td>0.145299</td>\n",
              "    </tr>\n",
              "    <tr>\n",
              "      <th>BMI</th>\n",
              "      <td>0.081506</td>\n",
              "      <td>0.135283</td>\n",
              "      <td>-0.167276</td>\n",
              "      <td>-0.092112</td>\n",
              "      <td>0.099647</td>\n",
              "      <td>0.024840</td>\n",
              "      <td>0.300572</td>\n",
              "      <td>0.086250</td>\n",
              "      <td>0.114789</td>\n",
              "      <td>0.325247</td>\n",
              "      <td>0.376544</td>\n",
              "      <td>1.000000</td>\n",
              "      <td>0.067544</td>\n",
              "      <td>0.082109</td>\n",
              "      <td>0.074680</td>\n",
              "    </tr>\n",
              "    <tr>\n",
              "      <th>heartRate</th>\n",
              "      <td>-0.116601</td>\n",
              "      <td>-0.012819</td>\n",
              "      <td>0.062348</td>\n",
              "      <td>0.075657</td>\n",
              "      <td>0.015139</td>\n",
              "      <td>-0.017676</td>\n",
              "      <td>0.147222</td>\n",
              "      <td>0.048993</td>\n",
              "      <td>0.090676</td>\n",
              "      <td>0.182174</td>\n",
              "      <td>0.181246</td>\n",
              "      <td>0.067544</td>\n",
              "      <td>1.000000</td>\n",
              "      <td>0.089341</td>\n",
              "      <td>0.022898</td>\n",
              "    </tr>\n",
              "    <tr>\n",
              "      <th>glucose</th>\n",
              "      <td>0.005818</td>\n",
              "      <td>0.116850</td>\n",
              "      <td>-0.054157</td>\n",
              "      <td>-0.055106</td>\n",
              "      <td>0.048856</td>\n",
              "      <td>0.018055</td>\n",
              "      <td>0.082924</td>\n",
              "      <td>0.605705</td>\n",
              "      <td>0.044583</td>\n",
              "      <td>0.134608</td>\n",
              "      <td>0.058647</td>\n",
              "      <td>0.082109</td>\n",
              "      <td>0.089341</td>\n",
              "      <td>1.000000</td>\n",
              "      <td>0.120406</td>\n",
              "    </tr>\n",
              "    <tr>\n",
              "      <th>TenYearCHD</th>\n",
              "      <td>0.088428</td>\n",
              "      <td>0.225256</td>\n",
              "      <td>0.019456</td>\n",
              "      <td>0.056147</td>\n",
              "      <td>0.086417</td>\n",
              "      <td>0.061810</td>\n",
              "      <td>0.177603</td>\n",
              "      <td>0.097317</td>\n",
              "      <td>0.081624</td>\n",
              "      <td>0.216429</td>\n",
              "      <td>0.145299</td>\n",
              "      <td>0.074680</td>\n",
              "      <td>0.022898</td>\n",
              "      <td>0.120406</td>\n",
              "      <td>1.000000</td>\n",
              "    </tr>\n",
              "  </tbody>\n",
              "</table>\n",
              "</div>"
            ],
            "text/plain": [
              "                     male       age  ...   glucose  TenYearCHD\n",
              "male             1.000000 -0.028979  ...  0.005818    0.088428\n",
              "age             -0.028979  1.000000  ...  0.116850    0.225256\n",
              "currentSmoker    0.197596 -0.213748  ... -0.054157    0.019456\n",
              "cigsPerDay       0.316571 -0.191985  ... -0.055106    0.056147\n",
              "BPMeds          -0.051545  0.120955  ...  0.048856    0.086417\n",
              "prevalentStroke -0.004546  0.057655  ...  0.018055    0.061810\n",
              "prevalentHyp     0.005313  0.307194  ...  0.082924    0.177603\n",
              "diabetes         0.015708  0.101258  ...  0.605705    0.097317\n",
              "totChol         -0.069974  0.260270  ...  0.044583    0.081624\n",
              "sysBP           -0.035989  0.394302  ...  0.134608    0.216429\n",
              "diaBP            0.057933  0.206104  ...  0.058647    0.145299\n",
              "BMI              0.081506  0.135283  ...  0.082109    0.074680\n",
              "heartRate       -0.116601 -0.012819  ...  0.089341    0.022898\n",
              "glucose          0.005818  0.116850  ...  1.000000    0.120406\n",
              "TenYearCHD       0.088428  0.225256  ...  0.120406    1.000000\n",
              "\n",
              "[15 rows x 15 columns]"
            ]
          },
          "metadata": {
            "tags": []
          },
          "execution_count": 48
        }
      ]
    },
    {
      "cell_type": "code",
      "metadata": {
        "id": "U5__WVJEWAC0",
        "outputId": "ca7b655c-6bd7-4e47-e970-a7203c765b81",
        "colab": {
          "base_uri": "https://localhost:8080/",
          "height": 804
        }
      },
      "source": [
        "#See correlations \n",
        "plt.figure(figsize=(15,15))\n",
        "cmap = sns.diverging_palette(200,10,as_cmap=True)\n",
        "sns.heatmap(dataset.corr(), vmax=1,vmin=-1, center=0, cmap=cmap,\n",
        "            square=True, linewidths=.5, cbar_kws={\"shrink\": .5})"
      ],
      "execution_count": null,
      "outputs": [
        {
          "output_type": "execute_result",
          "data": {
            "text/plain": [
              "<matplotlib.axes._subplots.AxesSubplot at 0x7fc8529b6cc0>"
            ]
          },
          "metadata": {
            "tags": []
          },
          "execution_count": 49
        },
        {
          "output_type": "display_data",
          "data": {
            "image/png": "[encoded data removed]",
            "text/plain": [
              "<Figure size 1080x1080 with 2 Axes>"
            ]
          },
          "metadata": {
            "tags": [],
            "needs_background": "light"
          }
        }
      ]
    },
    {
      "cell_type": "markdown",
      "metadata": {
        "id": "DOGrP7EebADo"
      },
      "source": [
        "We can see that the most correlated features with out label (TenYearCHD) are:\n",
        "*   age\n",
        "*   prevalentHyp\n",
        "*   sysBP\n",
        "*   diaBP\n",
        "*   glucose"
      ]
    },
    {
      "cell_type": "code",
      "metadata": {
        "id": "Gtvzdw0QcByw",
        "outputId": "68bd9fc7-1ea4-4bba-9e40-b2f57c30ba6d",
        "colab": {
          "base_uri": "https://localhost:8080/",
          "height": 297
        }
      },
      "source": [
        "dataset.describe()"
      ],
      "execution_count": null,
      "outputs": [
        {
          "output_type": "execute_result",
          "data": {
            "text/html": [
              "<div>\n",
              "<style scoped>\n",
              "    .dataframe tbody tr th:only-of-type {\n",
              "        vertical-align: middle;\n",
              "    }\n",
              "\n",
              "    .dataframe tbody tr th {\n",
              "        vertical-align: top;\n",
              "    }\n",
              "\n",
              "    .dataframe thead th {\n",
              "        text-align: right;\n",
              "    }\n",
              "</style>\n",
              "<table border=\"1\" class=\"dataframe\">\n",
              "  <thead>\n",
              "    <tr style=\"text-align: right;\">\n",
              "      <th></th>\n",
              "      <th>male</th>\n",
              "      <th>age</th>\n",
              "      <th>currentSmoker</th>\n",
              "      <th>cigsPerDay</th>\n",
              "      <th>BPMeds</th>\n",
              "      <th>prevalentStroke</th>\n",
              "      <th>prevalentHyp</th>\n",
              "      <th>diabetes</th>\n",
              "      <th>totChol</th>\n",
              "      <th>sysBP</th>\n",
              "      <th>diaBP</th>\n",
              "      <th>BMI</th>\n",
              "      <th>heartRate</th>\n",
              "      <th>glucose</th>\n",
              "      <th>TenYearCHD</th>\n",
              "    </tr>\n",
              "  </thead>\n",
              "  <tbody>\n",
              "    <tr>\n",
              "      <th>count</th>\n",
              "      <td>4238.000000</td>\n",
              "      <td>4238.000000</td>\n",
              "      <td>4238.000000</td>\n",
              "      <td>4238.000000</td>\n",
              "      <td>4238.000000</td>\n",
              "      <td>4238.000000</td>\n",
              "      <td>4238.000000</td>\n",
              "      <td>4238.000000</td>\n",
              "      <td>4238.000000</td>\n",
              "      <td>4238.000000</td>\n",
              "      <td>4238.000000</td>\n",
              "      <td>4238.000000</td>\n",
              "      <td>4238.000000</td>\n",
              "      <td>4238.000000</td>\n",
              "      <td>4238.000000</td>\n",
              "    </tr>\n",
              "    <tr>\n",
              "      <th>mean</th>\n",
              "      <td>0.429212</td>\n",
              "      <td>49.584946</td>\n",
              "      <td>0.494101</td>\n",
              "      <td>9.078339</td>\n",
              "      <td>0.029259</td>\n",
              "      <td>0.005899</td>\n",
              "      <td>0.310524</td>\n",
              "      <td>0.025720</td>\n",
              "      <td>236.721585</td>\n",
              "      <td>132.352407</td>\n",
              "      <td>82.893464</td>\n",
              "      <td>25.802008</td>\n",
              "      <td>75.878924</td>\n",
              "      <td>81.966753</td>\n",
              "      <td>0.151958</td>\n",
              "    </tr>\n",
              "    <tr>\n",
              "      <th>std</th>\n",
              "      <td>0.495022</td>\n",
              "      <td>8.572160</td>\n",
              "      <td>0.500024</td>\n",
              "      <td>11.913780</td>\n",
              "      <td>0.168552</td>\n",
              "      <td>0.076587</td>\n",
              "      <td>0.462763</td>\n",
              "      <td>0.158316</td>\n",
              "      <td>44.326453</td>\n",
              "      <td>22.038097</td>\n",
              "      <td>11.910850</td>\n",
              "      <td>4.070953</td>\n",
              "      <td>12.025177</td>\n",
              "      <td>22.836603</td>\n",
              "      <td>0.359023</td>\n",
              "    </tr>\n",
              "    <tr>\n",
              "      <th>min</th>\n",
              "      <td>0.000000</td>\n",
              "      <td>32.000000</td>\n",
              "      <td>0.000000</td>\n",
              "      <td>0.000000</td>\n",
              "      <td>0.000000</td>\n",
              "      <td>0.000000</td>\n",
              "      <td>0.000000</td>\n",
              "      <td>0.000000</td>\n",
              "      <td>107.000000</td>\n",
              "      <td>83.500000</td>\n",
              "      <td>48.000000</td>\n",
              "      <td>15.540000</td>\n",
              "      <td>44.000000</td>\n",
              "      <td>40.000000</td>\n",
              "      <td>0.000000</td>\n",
              "    </tr>\n",
              "    <tr>\n",
              "      <th>25%</th>\n",
              "      <td>0.000000</td>\n",
              "      <td>42.000000</td>\n",
              "      <td>0.000000</td>\n",
              "      <td>0.000000</td>\n",
              "      <td>0.000000</td>\n",
              "      <td>0.000000</td>\n",
              "      <td>0.000000</td>\n",
              "      <td>0.000000</td>\n",
              "      <td>206.000000</td>\n",
              "      <td>117.000000</td>\n",
              "      <td>75.000000</td>\n",
              "      <td>23.080000</td>\n",
              "      <td>68.000000</td>\n",
              "      <td>72.000000</td>\n",
              "      <td>0.000000</td>\n",
              "    </tr>\n",
              "    <tr>\n",
              "      <th>50%</th>\n",
              "      <td>0.000000</td>\n",
              "      <td>49.000000</td>\n",
              "      <td>0.000000</td>\n",
              "      <td>0.000000</td>\n",
              "      <td>0.000000</td>\n",
              "      <td>0.000000</td>\n",
              "      <td>0.000000</td>\n",
              "      <td>0.000000</td>\n",
              "      <td>234.000000</td>\n",
              "      <td>128.000000</td>\n",
              "      <td>82.000000</td>\n",
              "      <td>25.410000</td>\n",
              "      <td>75.000000</td>\n",
              "      <td>80.000000</td>\n",
              "      <td>0.000000</td>\n",
              "    </tr>\n",
              "    <tr>\n",
              "      <th>75%</th>\n",
              "      <td>1.000000</td>\n",
              "      <td>56.000000</td>\n",
              "      <td>1.000000</td>\n",
              "      <td>20.000000</td>\n",
              "      <td>0.000000</td>\n",
              "      <td>0.000000</td>\n",
              "      <td>1.000000</td>\n",
              "      <td>0.000000</td>\n",
              "      <td>262.000000</td>\n",
              "      <td>144.000000</td>\n",
              "      <td>89.875000</td>\n",
              "      <td>28.037500</td>\n",
              "      <td>83.000000</td>\n",
              "      <td>85.000000</td>\n",
              "      <td>0.000000</td>\n",
              "    </tr>\n",
              "    <tr>\n",
              "      <th>max</th>\n",
              "      <td>1.000000</td>\n",
              "      <td>70.000000</td>\n",
              "      <td>1.000000</td>\n",
              "      <td>70.000000</td>\n",
              "      <td>1.000000</td>\n",
              "      <td>1.000000</td>\n",
              "      <td>1.000000</td>\n",
              "      <td>1.000000</td>\n",
              "      <td>696.000000</td>\n",
              "      <td>295.000000</td>\n",
              "      <td>142.500000</td>\n",
              "      <td>56.800000</td>\n",
              "      <td>143.000000</td>\n",
              "      <td>394.000000</td>\n",
              "      <td>1.000000</td>\n",
              "    </tr>\n",
              "  </tbody>\n",
              "</table>\n",
              "</div>"
            ],
            "text/plain": [
              "              male          age  ...      glucose   TenYearCHD\n",
              "count  4238.000000  4238.000000  ...  4238.000000  4238.000000\n",
              "mean      0.429212    49.584946  ...    81.966753     0.151958\n",
              "std       0.495022     8.572160  ...    22.836603     0.359023\n",
              "min       0.000000    32.000000  ...    40.000000     0.000000\n",
              "25%       0.000000    42.000000  ...    72.000000     0.000000\n",
              "50%       0.000000    49.000000  ...    80.000000     0.000000\n",
              "75%       1.000000    56.000000  ...    85.000000     0.000000\n",
              "max       1.000000    70.000000  ...   394.000000     1.000000\n",
              "\n",
              "[8 rows x 15 columns]"
            ]
          },
          "metadata": {
            "tags": []
          },
          "execution_count": 50
        }
      ]
    },
    {
      "cell_type": "markdown",
      "metadata": {
        "id": "PuVSZQ0WgCg_"
      },
      "source": [
        "Now let's do some boxplots"
      ]
    },
    {
      "cell_type": "code",
      "metadata": {
        "id": "Opy5VZz1ZPfR",
        "outputId": "25e2481b-bcb3-4926-c394-006169bc45d9",
        "colab": {
          "base_uri": "https://localhost:8080/",
          "height": 609
        }
      },
      "source": [
        "plt.figure(figsize=(20,10))\n",
        "dataset.boxplot(column=[\"age\", \"cigsPerDay\", \"totChol\", \"sysBP\", \"diaBP\", \"BMI\", \"heartRate\", \"glucose\"])"
      ],
      "execution_count": null,
      "outputs": [
        {
          "output_type": "execute_result",
          "data": {
            "text/plain": [
              "<matplotlib.axes._subplots.AxesSubplot at 0x7fc8529b6b70>"
            ]
          },
          "metadata": {
            "tags": []
          },
          "execution_count": 51
        },
        {
          "output_type": "display_data",
          "data": {
            "image/png": "[encoded data removed]",
            "text/plain": [
              "<Figure size 1440x720 with 1 Axes>"
            ]
          },
          "metadata": {
            "tags": [],
            "needs_background": "light"
          }
        }
      ]
    },
    {
      "cell_type": "markdown",
      "metadata": {
        "id": "0x6aZd4leow-"
      },
      "source": [
        "## Insigts:\n",
        "*   age and cigsPerDay a little bit of outliers\n",
        "*   totChol, sysBP, diaBP, BMI, heartRate and glucose have many outliers\n",
        "*   Our features have very different scales (we will scale our features)\n",
        "\n"
      ]
    },
    {
      "cell_type": "markdown",
      "metadata": {
        "id": "UCXS_xkziB7M"
      },
      "source": [
        "Before scale our features, let's do some barplots\n"
      ]
    },
    {
      "cell_type": "code",
      "metadata": {
        "id": "uJzn6ZgziA-F",
        "outputId": "b3a97420-342e-458a-bcbc-56757af8bfec",
        "colab": {
          "base_uri": "https://localhost:8080/",
          "height": 1000
        }
      },
      "source": [
        "plt.figure(figsize=(20,20))\n",
        "for column in dataset.columns:\n",
        "  sns.displot(dataset[column])"
      ],
      "execution_count": null,
      "outputs": [
        {
          "output_type": "display_data",
          "data": {
            "text/plain": [
              "<Figure size 1440x1440 with 0 Axes>"
            ]
          },
          "metadata": {
            "tags": []
          }
        },
        {
          "output_type": "display_data",
          "data": {
            "image/png": "[encoded data removed]",
            "text/plain": [
              "<Figure size 360x360 with 1 Axes>"
            ]
          },
          "metadata": {
            "tags": [],
            "needs_background": "light"
          }
        },
        {
          "output_type": "display_data",
          "data": {
            "image/png": "[encoded data removed]",
            "text/plain": [
              "<Figure size 360x360 with 1 Axes>"
            ]
          },
          "metadata": {
            "tags": [],
            "needs_background": "light"
          }
        },
        {
          "output_type": "display_data",
          "data": {
            "image/png": "[encoded data removed]",
            "text/plain": [
              "<Figure size 360x360 with 1 Axes>"
            ]
          },
          "metadata": {
            "tags": [],
            "needs_background": "light"
          }
        },
        {
          "output_type": "display_data",
          "data": {
            "image/png": "[encoded data removed]",
            "text/plain": [
              "<Figure size 360x360 with 1 Axes>"
            ]
          },
          "metadata": {
            "tags": [],
            "needs_background": "light"
          }
        },
        {
          "output_type": "display_data",
          "data": {
            "image/png": "[encoded data removed]",
            "text/plain": [
              "<Figure size 360x360 with 1 Axes>"
            ]
          },
          "metadata": {
            "tags": [],
            "needs_background": "light"
          }
        },
        {
          "output_type": "display_data",
          "data": {
            "image/png": "[encoded data removed]",
            "text/plain": [
              "<Figure size 360x360 with 1 Axes>"
            ]
          },
          "metadata": {
            "tags": [],
            "needs_background": "light"
          }
        },
        {
          "output_type": "display_data",
          "data": {
            "image/png": "[encoded data removed]",
            "text/plain": [
              "<Figure size 360x360 with 1 Axes>"
            ]
          },
          "metadata": {
            "tags": [],
            "needs_background": "light"
          }
        },
        {
          "output_type": "display_data",
          "data": {
            "image/png": "[encoded data removed]",
            "text/plain": [
              "<Figure size 360x360 with 1 Axes>"
            ]
          },
          "metadata": {
            "tags": [],
            "needs_background": "light"
          }
        },
        {
          "output_type": "display_data",
          "data": {
            "image/png": "[encoded data removed]",
            "text/plain": [
              "<Figure size 360x360 with 1 Axes>"
            ]
          },
          "metadata": {
            "tags": [],
            "needs_background": "light"
          }
        },
        {
          "output_type": "display_data",
          "data": {
            "image/png": "[encoded data removed]",
            "text/plain": [
              "<Figure size 360x360 with 1 Axes>"
            ]
          },
          "metadata": {
            "tags": [],
            "needs_background": "light"
          }
        },
        {
          "output_type": "display_data",
          "data": {
            "image/png": "[encoded data removed]",
            "text/plain": [
              "<Figure size 360x360 with 1 Axes>"
            ]
          },
          "metadata": {
            "tags": [],
            "needs_background": "light"
          }
        },
        {
          "output_type": "display_data",
          "data": {
            "image/png": "[encoded data removed]",
            "text/plain": [
              "<Figure size 360x360 with 1 Axes>"
            ]
          },
          "metadata": {
            "tags": [],
            "needs_background": "light"
          }
        },
        {
          "output_type": "display_data",
          "data": {
            "image/png": "[encoded data removed]",
            "text/plain": [
              "<Figure size 360x360 with 1 Axes>"
            ]
          },
          "metadata": {
            "tags": [],
            "needs_background": "light"
          }
        },
        {
          "output_type": "display_data",
          "data": {
            "image/png": "[encoded data removed]",
            "text/plain": [
              "<Figure size 360x360 with 1 Axes>"
            ]
          },
          "metadata": {
            "tags": [],
            "needs_background": "light"
          }
        },
        {
          "output_type": "display_data",
          "data": {
            "image/png": "[encoded data removed]",
            "text/plain": [
              "<Figure size 360x360 with 1 Axes>"
            ]
          },
          "metadata": {
            "tags": [],
            "needs_background": "light"
          }
        }
      ]
    },
    {
      "cell_type": "markdown",
      "metadata": {
        "id": "Oz6jH-mxn61z"
      },
      "source": [
        "## insights of the dataset:\n",
        "*  There is some bias on BPMeds, prevalentStroke and diabetes features, most of the patients had not any of this problems.\n",
        "\n",
        "* The number of male/famele patients and current/not current smoker are similar, which is fine.\n",
        "\n",
        "* The other features are well distributed, we just need to do some feature scaling."
      ]
    },
    {
      "cell_type": "markdown",
      "metadata": {
        "id": "wb6u1XUFqXwa"
      },
      "source": [
        "# Feature Scaling\n",
        "* This time we will use Standaritation since we have a lot of outliers (normalitation is highly affected by outliers)."
      ]
    },
    {
      "cell_type": "code",
      "metadata": {
        "id": "6Suc6pGbn6U7"
      },
      "source": [
        "from sklearn.preprocessing import StandardScaler\n"
      ],
      "execution_count": null,
      "outputs": []
    },
    {
      "cell_type": "code",
      "metadata": {
        "id": "SDLVKcqKrVyh"
      },
      "source": [
        "scaler = StandardScaler()"
      ],
      "execution_count": null,
      "outputs": []
    },
    {
      "cell_type": "markdown",
      "metadata": {
        "id": "i-beWFg3tuTn"
      },
      "source": [
        "* Before scale our features, let's split our dataset into out features (X) and our labels (y) and into our train, val and test sets"
      ]
    },
    {
      "cell_type": "code",
      "metadata": {
        "id": "CLOaBfB-uSV2"
      },
      "source": [
        "X = dataset.drop(labels = \"TenYearCHD\", axis=1)\n",
        "y = dataset[\"TenYearCHD\"]"
      ],
      "execution_count": null,
      "outputs": []
    },
    {
      "cell_type": "code",
      "metadata": {
        "id": "4cc9CXGHtteg"
      },
      "source": [
        "from sklearn.model_selection import train_test_split"
      ],
      "execution_count": null,
      "outputs": []
    },
    {
      "cell_type": "code",
      "metadata": {
        "id": "BvQ1iBBMuBYO"
      },
      "source": [
        "X_train_val, X_test, y_train_val, y_test = train_test_split(X, y, test_size=0.20, random_state=42)"
      ],
      "execution_count": null,
      "outputs": []
    },
    {
      "cell_type": "markdown",
      "metadata": {
        "id": "3OYCkKbrv24V"
      },
      "source": [
        "* Let's Scale our training set"
      ]
    },
    {
      "cell_type": "code",
      "metadata": {
        "id": "Ec384IFHwqA3",
        "outputId": "0006111a-7949-4440-87d2-4b569e91adb8",
        "colab": {
          "base_uri": "https://localhost:8080/",
          "height": 419
        }
      },
      "source": [
        "X_train_val"
      ],
      "execution_count": null,
      "outputs": [
        {
          "output_type": "execute_result",
          "data": {
            "text/html": [
              "<div>\n",
              "<style scoped>\n",
              "    .dataframe tbody tr th:only-of-type {\n",
              "        vertical-align: middle;\n",
              "    }\n",
              "\n",
              "    .dataframe tbody tr th {\n",
              "        vertical-align: top;\n",
              "    }\n",
              "\n",
              "    .dataframe thead th {\n",
              "        text-align: right;\n",
              "    }\n",
              "</style>\n",
              "<table border=\"1\" class=\"dataframe\">\n",
              "  <thead>\n",
              "    <tr style=\"text-align: right;\">\n",
              "      <th></th>\n",
              "      <th>male</th>\n",
              "      <th>age</th>\n",
              "      <th>currentSmoker</th>\n",
              "      <th>cigsPerDay</th>\n",
              "      <th>BPMeds</th>\n",
              "      <th>prevalentStroke</th>\n",
              "      <th>prevalentHyp</th>\n",
              "      <th>diabetes</th>\n",
              "      <th>totChol</th>\n",
              "      <th>sysBP</th>\n",
              "      <th>diaBP</th>\n",
              "      <th>BMI</th>\n",
              "      <th>heartRate</th>\n",
              "      <th>glucose</th>\n",
              "    </tr>\n",
              "  </thead>\n",
              "  <tbody>\n",
              "    <tr>\n",
              "      <th>3252</th>\n",
              "      <td>1</td>\n",
              "      <td>40</td>\n",
              "      <td>1</td>\n",
              "      <td>30.0</td>\n",
              "      <td>0.0</td>\n",
              "      <td>0</td>\n",
              "      <td>0</td>\n",
              "      <td>0</td>\n",
              "      <td>205.0</td>\n",
              "      <td>131.0</td>\n",
              "      <td>81.0</td>\n",
              "      <td>23.74</td>\n",
              "      <td>66.0</td>\n",
              "      <td>87.0</td>\n",
              "    </tr>\n",
              "    <tr>\n",
              "      <th>3946</th>\n",
              "      <td>0</td>\n",
              "      <td>57</td>\n",
              "      <td>0</td>\n",
              "      <td>0.0</td>\n",
              "      <td>0.0</td>\n",
              "      <td>0</td>\n",
              "      <td>1</td>\n",
              "      <td>0</td>\n",
              "      <td>250.0</td>\n",
              "      <td>152.5</td>\n",
              "      <td>92.5</td>\n",
              "      <td>32.31</td>\n",
              "      <td>75.0</td>\n",
              "      <td>94.0</td>\n",
              "    </tr>\n",
              "    <tr>\n",
              "      <th>1261</th>\n",
              "      <td>0</td>\n",
              "      <td>47</td>\n",
              "      <td>0</td>\n",
              "      <td>0.0</td>\n",
              "      <td>0.0</td>\n",
              "      <td>0</td>\n",
              "      <td>0</td>\n",
              "      <td>0</td>\n",
              "      <td>230.0</td>\n",
              "      <td>123.0</td>\n",
              "      <td>71.0</td>\n",
              "      <td>26.98</td>\n",
              "      <td>83.0</td>\n",
              "      <td>73.0</td>\n",
              "    </tr>\n",
              "    <tr>\n",
              "      <th>2536</th>\n",
              "      <td>1</td>\n",
              "      <td>41</td>\n",
              "      <td>1</td>\n",
              "      <td>30.0</td>\n",
              "      <td>0.0</td>\n",
              "      <td>0</td>\n",
              "      <td>0</td>\n",
              "      <td>0</td>\n",
              "      <td>228.0</td>\n",
              "      <td>113.0</td>\n",
              "      <td>82.5</td>\n",
              "      <td>25.67</td>\n",
              "      <td>67.0</td>\n",
              "      <td>70.0</td>\n",
              "    </tr>\n",
              "    <tr>\n",
              "      <th>4089</th>\n",
              "      <td>0</td>\n",
              "      <td>64</td>\n",
              "      <td>0</td>\n",
              "      <td>0.0</td>\n",
              "      <td>0.0</td>\n",
              "      <td>0</td>\n",
              "      <td>1</td>\n",
              "      <td>0</td>\n",
              "      <td>232.0</td>\n",
              "      <td>149.5</td>\n",
              "      <td>84.0</td>\n",
              "      <td>20.49</td>\n",
              "      <td>68.0</td>\n",
              "      <td>96.0</td>\n",
              "    </tr>\n",
              "    <tr>\n",
              "      <th>...</th>\n",
              "      <td>...</td>\n",
              "      <td>...</td>\n",
              "      <td>...</td>\n",
              "      <td>...</td>\n",
              "      <td>...</td>\n",
              "      <td>...</td>\n",
              "      <td>...</td>\n",
              "      <td>...</td>\n",
              "      <td>...</td>\n",
              "      <td>...</td>\n",
              "      <td>...</td>\n",
              "      <td>...</td>\n",
              "      <td>...</td>\n",
              "      <td>...</td>\n",
              "    </tr>\n",
              "    <tr>\n",
              "      <th>3444</th>\n",
              "      <td>0</td>\n",
              "      <td>36</td>\n",
              "      <td>1</td>\n",
              "      <td>5.0</td>\n",
              "      <td>0.0</td>\n",
              "      <td>0</td>\n",
              "      <td>1</td>\n",
              "      <td>0</td>\n",
              "      <td>222.0</td>\n",
              "      <td>147.0</td>\n",
              "      <td>94.0</td>\n",
              "      <td>26.79</td>\n",
              "      <td>76.0</td>\n",
              "      <td>71.0</td>\n",
              "    </tr>\n",
              "    <tr>\n",
              "      <th>466</th>\n",
              "      <td>0</td>\n",
              "      <td>57</td>\n",
              "      <td>1</td>\n",
              "      <td>15.0</td>\n",
              "      <td>0.0</td>\n",
              "      <td>0</td>\n",
              "      <td>0</td>\n",
              "      <td>0</td>\n",
              "      <td>250.0</td>\n",
              "      <td>125.0</td>\n",
              "      <td>74.0</td>\n",
              "      <td>21.08</td>\n",
              "      <td>80.0</td>\n",
              "      <td>72.0</td>\n",
              "    </tr>\n",
              "    <tr>\n",
              "      <th>3092</th>\n",
              "      <td>0</td>\n",
              "      <td>60</td>\n",
              "      <td>0</td>\n",
              "      <td>0.0</td>\n",
              "      <td>0.0</td>\n",
              "      <td>0</td>\n",
              "      <td>1</td>\n",
              "      <td>0</td>\n",
              "      <td>298.0</td>\n",
              "      <td>133.0</td>\n",
              "      <td>89.0</td>\n",
              "      <td>25.09</td>\n",
              "      <td>83.0</td>\n",
              "      <td>81.0</td>\n",
              "    </tr>\n",
              "    <tr>\n",
              "      <th>3772</th>\n",
              "      <td>1</td>\n",
              "      <td>39</td>\n",
              "      <td>1</td>\n",
              "      <td>10.0</td>\n",
              "      <td>0.0</td>\n",
              "      <td>0</td>\n",
              "      <td>0</td>\n",
              "      <td>0</td>\n",
              "      <td>215.0</td>\n",
              "      <td>102.0</td>\n",
              "      <td>64.5</td>\n",
              "      <td>24.50</td>\n",
              "      <td>68.0</td>\n",
              "      <td>62.0</td>\n",
              "    </tr>\n",
              "    <tr>\n",
              "      <th>860</th>\n",
              "      <td>0</td>\n",
              "      <td>35</td>\n",
              "      <td>0</td>\n",
              "      <td>0.0</td>\n",
              "      <td>0.0</td>\n",
              "      <td>0</td>\n",
              "      <td>0</td>\n",
              "      <td>0</td>\n",
              "      <td>248.0</td>\n",
              "      <td>107.0</td>\n",
              "      <td>73.0</td>\n",
              "      <td>20.64</td>\n",
              "      <td>90.0</td>\n",
              "      <td>80.0</td>\n",
              "    </tr>\n",
              "  </tbody>\n",
              "</table>\n",
              "<p>3390 rows × 14 columns</p>\n",
              "</div>"
            ],
            "text/plain": [
              "      male  age  currentSmoker  cigsPerDay  ...  diaBP    BMI  heartRate  glucose\n",
              "3252     1   40              1        30.0  ...   81.0  23.74       66.0     87.0\n",
              "3946     0   57              0         0.0  ...   92.5  32.31       75.0     94.0\n",
              "1261     0   47              0         0.0  ...   71.0  26.98       83.0     73.0\n",
              "2536     1   41              1        30.0  ...   82.5  25.67       67.0     70.0\n",
              "4089     0   64              0         0.0  ...   84.0  20.49       68.0     96.0\n",
              "...    ...  ...            ...         ...  ...    ...    ...        ...      ...\n",
              "3444     0   36              1         5.0  ...   94.0  26.79       76.0     71.0\n",
              "466      0   57              1        15.0  ...   74.0  21.08       80.0     72.0\n",
              "3092     0   60              0         0.0  ...   89.0  25.09       83.0     81.0\n",
              "3772     1   39              1        10.0  ...   64.5  24.50       68.0     62.0\n",
              "860      0   35              0         0.0  ...   73.0  20.64       90.0     80.0\n",
              "\n",
              "[3390 rows x 14 columns]"
            ]
          },
          "metadata": {
            "tags": []
          },
          "execution_count": 58
        }
      ]
    },
    {
      "cell_type": "markdown",
      "metadata": {
        "id": "bNTQSieHxP11"
      },
      "source": [
        "* Scale only the needed features."
      ]
    },
    {
      "cell_type": "code",
      "metadata": {
        "id": "Y6voyHvLvUx_",
        "outputId": "6b566387-9bc6-45b0-8ea6-9030c498471d",
        "colab": {
          "base_uri": "https://localhost:8080/"
        }
      },
      "source": [
        "X_train_val[[\"age\", \"cigsPerDay\", \"totChol\", \"sysBP\", \"diaBP\", \"BMI\", \"heartRate\", \"glucose\"]] = scaler.fit_transform(X_train_val[[\"age\", \"cigsPerDay\", \"totChol\", \"sysBP\", \"diaBP\", \"BMI\", \"heartRate\", \"glucose\"]])"
      ],
      "execution_count": null,
      "outputs": [
        {
          "output_type": "stream",
          "text": [
            "/usr/local/lib/python3.6/dist-packages/ipykernel_launcher.py:1: SettingWithCopyWarning: \n",
            "A value is trying to be set on a copy of a slice from a DataFrame.\n",
            "Try using .loc[row_indexer,col_indexer] = value instead\n",
            "\n",
            "See the caveats in the documentation: https://pandas.pydata.org/pandas-docs/stable/user_guide/indexing.html#returning-a-view-versus-a-copy\n",
            "  \"\"\"Entry point for launching an IPython kernel.\n",
            "/usr/local/lib/python3.6/dist-packages/pandas/core/indexing.py:1736: SettingWithCopyWarning: \n",
            "A value is trying to be set on a copy of a slice from a DataFrame.\n",
            "Try using .loc[row_indexer,col_indexer] = value instead\n",
            "\n",
            "See the caveats in the documentation: https://pandas.pydata.org/pandas-docs/stable/user_guide/indexing.html#returning-a-view-versus-a-copy\n",
            "  isetter(loc, value[:, i].tolist())\n"
          ],
          "name": "stderr"
        }
      ]
    },
    {
      "cell_type": "code",
      "metadata": {
        "id": "pND9Bs4jzNU_",
        "outputId": "6a1252a4-a290-41af-cf3a-03f8379172e2",
        "colab": {
          "base_uri": "https://localhost:8080/",
          "height": 297
        }
      },
      "source": [
        "X_train_val.describe()"
      ],
      "execution_count": null,
      "outputs": [
        {
          "output_type": "execute_result",
          "data": {
            "text/html": [
              "<div>\n",
              "<style scoped>\n",
              "    .dataframe tbody tr th:only-of-type {\n",
              "        vertical-align: middle;\n",
              "    }\n",
              "\n",
              "    .dataframe tbody tr th {\n",
              "        vertical-align: top;\n",
              "    }\n",
              "\n",
              "    .dataframe thead th {\n",
              "        text-align: right;\n",
              "    }\n",
              "</style>\n",
              "<table border=\"1\" class=\"dataframe\">\n",
              "  <thead>\n",
              "    <tr style=\"text-align: right;\">\n",
              "      <th></th>\n",
              "      <th>male</th>\n",
              "      <th>age</th>\n",
              "      <th>currentSmoker</th>\n",
              "      <th>cigsPerDay</th>\n",
              "      <th>BPMeds</th>\n",
              "      <th>prevalentStroke</th>\n",
              "      <th>prevalentHyp</th>\n",
              "      <th>diabetes</th>\n",
              "      <th>totChol</th>\n",
              "      <th>sysBP</th>\n",
              "      <th>diaBP</th>\n",
              "      <th>BMI</th>\n",
              "      <th>heartRate</th>\n",
              "      <th>glucose</th>\n",
              "    </tr>\n",
              "  </thead>\n",
              "  <tbody>\n",
              "    <tr>\n",
              "      <th>count</th>\n",
              "      <td>3390.000000</td>\n",
              "      <td>3.390000e+03</td>\n",
              "      <td>3390.000000</td>\n",
              "      <td>3.390000e+03</td>\n",
              "      <td>3390.000000</td>\n",
              "      <td>3390.000000</td>\n",
              "      <td>3390.000000</td>\n",
              "      <td>3390.000000</td>\n",
              "      <td>3.390000e+03</td>\n",
              "      <td>3.390000e+03</td>\n",
              "      <td>3.390000e+03</td>\n",
              "      <td>3.390000e+03</td>\n",
              "      <td>3.390000e+03</td>\n",
              "      <td>3.390000e+03</td>\n",
              "    </tr>\n",
              "    <tr>\n",
              "      <th>mean</th>\n",
              "      <td>0.422714</td>\n",
              "      <td>2.596415e-16</td>\n",
              "      <td>0.499115</td>\n",
              "      <td>3.092904e-16</td>\n",
              "      <td>0.029204</td>\n",
              "      <td>0.006195</td>\n",
              "      <td>0.313274</td>\n",
              "      <td>0.025074</td>\n",
              "      <td>-1.884432e-16</td>\n",
              "      <td>-1.426587e-16</td>\n",
              "      <td>-6.163212e-16</td>\n",
              "      <td>-9.052739e-16</td>\n",
              "      <td>3.624764e-16</td>\n",
              "      <td>-5.268238e-16</td>\n",
              "    </tr>\n",
              "    <tr>\n",
              "      <th>std</th>\n",
              "      <td>0.494064</td>\n",
              "      <td>1.000148e+00</td>\n",
              "      <td>0.500073</td>\n",
              "      <td>1.000148e+00</td>\n",
              "      <td>0.168401</td>\n",
              "      <td>0.078474</td>\n",
              "      <td>0.463893</td>\n",
              "      <td>0.156372</td>\n",
              "      <td>1.000148e+00</td>\n",
              "      <td>1.000148e+00</td>\n",
              "      <td>1.000148e+00</td>\n",
              "      <td>1.000148e+00</td>\n",
              "      <td>1.000148e+00</td>\n",
              "      <td>1.000148e+00</td>\n",
              "    </tr>\n",
              "    <tr>\n",
              "      <th>min</th>\n",
              "      <td>0.000000</td>\n",
              "      <td>-2.043179e+00</td>\n",
              "      <td>0.000000</td>\n",
              "      <td>-7.666685e-01</td>\n",
              "      <td>0.000000</td>\n",
              "      <td>0.000000</td>\n",
              "      <td>0.000000</td>\n",
              "      <td>0.000000</td>\n",
              "      <td>-2.920039e+00</td>\n",
              "      <td>-2.210567e+00</td>\n",
              "      <td>-2.923962e+00</td>\n",
              "      <td>-2.507742e+00</td>\n",
              "      <td>-2.597952e+00</td>\n",
              "      <td>-1.856802e+00</td>\n",
              "    </tr>\n",
              "    <tr>\n",
              "      <th>25%</th>\n",
              "      <td>0.000000</td>\n",
              "      <td>-8.771223e-01</td>\n",
              "      <td>0.000000</td>\n",
              "      <td>-7.666685e-01</td>\n",
              "      <td>0.000000</td>\n",
              "      <td>0.000000</td>\n",
              "      <td>0.000000</td>\n",
              "      <td>0.000000</td>\n",
              "      <td>-6.941720e-01</td>\n",
              "      <td>-6.958551e-01</td>\n",
              "      <td>-6.987246e-01</td>\n",
              "      <td>-6.692609e-01</td>\n",
              "      <td>-6.701617e-01</td>\n",
              "      <td>-4.419622e-01</td>\n",
              "    </tr>\n",
              "    <tr>\n",
              "      <th>50%</th>\n",
              "      <td>0.000000</td>\n",
              "      <td>-6.088261e-02</td>\n",
              "      <td>0.000000</td>\n",
              "      <td>-7.666685e-01</td>\n",
              "      <td>0.000000</td>\n",
              "      <td>0.000000</td>\n",
              "      <td>0.000000</td>\n",
              "      <td>0.000000</td>\n",
              "      <td>-6.463382e-02</td>\n",
              "      <td>-1.984871e-01</td>\n",
              "      <td>-8.234430e-02</td>\n",
              "      <td>-1.116290e-01</td>\n",
              "      <td>-8.344309e-02</td>\n",
              "      <td>-8.825222e-02</td>\n",
              "    </tr>\n",
              "    <tr>\n",
              "      <th>75%</th>\n",
              "      <td>1.000000</td>\n",
              "      <td>7.553571e-01</td>\n",
              "      <td>1.000000</td>\n",
              "      <td>9.116797e-01</td>\n",
              "      <td>0.000000</td>\n",
              "      <td>0.000000</td>\n",
              "      <td>1.000000</td>\n",
              "      <td>0.000000</td>\n",
              "      <td>5.817670e-01</td>\n",
              "      <td>5.249573e-01</td>\n",
              "      <td>5.862717e-01</td>\n",
              "      <td>5.233165e-01</td>\n",
              "      <td>5.870925e-01</td>\n",
              "      <td>1.328165e-01</td>\n",
              "    </tr>\n",
              "    <tr>\n",
              "      <th>max</th>\n",
              "      <td>1.000000</td>\n",
              "      <td>2.387837e+00</td>\n",
              "      <td>1.000000</td>\n",
              "      <td>4.268376e+00</td>\n",
              "      <td>1.000000</td>\n",
              "      <td>1.000000</td>\n",
              "      <td>1.000000</td>\n",
              "      <td>1.000000</td>\n",
              "      <td>1.032275e+01</td>\n",
              "      <td>7.352464e+00</td>\n",
              "      <td>4.765121e+00</td>\n",
              "      <td>7.539373e+00</td>\n",
              "      <td>5.616110e+00</td>\n",
              "      <td>1.379487e+01</td>\n",
              "    </tr>\n",
              "  </tbody>\n",
              "</table>\n",
              "</div>"
            ],
            "text/plain": [
              "              male           age  ...     heartRate       glucose\n",
              "count  3390.000000  3.390000e+03  ...  3.390000e+03  3.390000e+03\n",
              "mean      0.422714  2.596415e-16  ...  3.624764e-16 -5.268238e-16\n",
              "std       0.494064  1.000148e+00  ...  1.000148e+00  1.000148e+00\n",
              "min       0.000000 -2.043179e+00  ... -2.597952e+00 -1.856802e+00\n",
              "25%       0.000000 -8.771223e-01  ... -6.701617e-01 -4.419622e-01\n",
              "50%       0.000000 -6.088261e-02  ... -8.344309e-02 -8.825222e-02\n",
              "75%       1.000000  7.553571e-01  ...  5.870925e-01  1.328165e-01\n",
              "max       1.000000  2.387837e+00  ...  5.616110e+00  1.379487e+01\n",
              "\n",
              "[8 rows x 14 columns]"
            ]
          },
          "metadata": {
            "tags": []
          },
          "execution_count": 60
        }
      ]
    },
    {
      "cell_type": "markdown",
      "metadata": {
        "id": "ATDlf0FRZuKL"
      },
      "source": [
        "## Let's Build our model!"
      ]
    },
    {
      "cell_type": "code",
      "metadata": {
        "id": "1uNaRu3AY3Hg"
      },
      "source": [
        "from sklearn.linear_model import LogisticRegression\n",
        "from sklearn.metrics import recall_score\n",
        "# Build some dictionaries for measures\n",
        "\n",
        "training_scores = pd.DataFrame(columns=[\"model\", \"accuracy_score\", \"recall_score\", \"true_negatives\", \"false_positives\", \"false_negatives\", \"true_positives\"])\n",
        "validation_scores = pd.DataFrame(columns=[\"model\", \"accuracy_score\", \"recall_score\", \"true_negatives\", \"false_positives\", \"false_negatives\", \"true_positives\"])\n",
        "test_scores  = pd.DataFrame(columns=[\"model\", \"accuracy_score\", \"recall_score\", \"true_negatives\", \"false_positives\", \"false_negatives\", \"true_positives\"])\n",
        "\n",
        "log_reg = LogisticRegression(penalty=\"l2\",solver=\"lbfgs\")"
      ],
      "execution_count": null,
      "outputs": []
    },
    {
      "cell_type": "code",
      "metadata": {
        "id": "Zsis-fFk3Wzy"
      },
      "source": [
        ""
      ],
      "execution_count": null,
      "outputs": []
    },
    {
      "cell_type": "code",
      "metadata": {
        "id": "QMhIoCBTaTM2"
      },
      "source": [
        "#Split training_val set to training and validation sets\n",
        "X_train, X_val, y_train, y_val = train_test_split(X_train_val, y_train_val, train_size = 0.8, random_state = 42) "
      ],
      "execution_count": null,
      "outputs": []
    },
    {
      "cell_type": "code",
      "metadata": {
        "id": "Szo3z2boaHue",
        "outputId": "728c4641-f208-43f3-d40c-f87ba27727d4",
        "colab": {
          "base_uri": "https://localhost:8080/"
        }
      },
      "source": [
        "#Training the model\n",
        "log_reg.fit(X_train, y_train)"
      ],
      "execution_count": null,
      "outputs": [
        {
          "output_type": "execute_result",
          "data": {
            "text/plain": [
              "LogisticRegression(C=1.0, class_weight=None, dual=False, fit_intercept=True,\n",
              "                   intercept_scaling=1, l1_ratio=None, max_iter=100,\n",
              "                   multi_class='auto', n_jobs=None, penalty='l2',\n",
              "                   random_state=None, solver='lbfgs', tol=0.0001, verbose=0,\n",
              "                   warm_start=False)"
            ]
          },
          "metadata": {
            "tags": []
          },
          "execution_count": 63
        }
      ]
    },
    {
      "cell_type": "code",
      "metadata": {
        "id": "pVmb1LrBfP-Q",
        "outputId": "4db7f1a7-5cf3-4ee6-8f0c-2d6ce07f83c8",
        "colab": {
          "base_uri": "https://localhost:8080/"
        }
      },
      "source": [
        "log_reg.n_iter_"
      ],
      "execution_count": null,
      "outputs": [
        {
          "output_type": "execute_result",
          "data": {
            "text/plain": [
              "array([42], dtype=int32)"
            ]
          },
          "metadata": {
            "tags": []
          },
          "execution_count": 64
        }
      ]
    },
    {
      "cell_type": "code",
      "metadata": {
        "id": "Qpbltqqva4MA"
      },
      "source": [
        "predictions_val = log_reg.predict(X_val)\n",
        "predictions_train = log_reg.predict(X_train)"
      ],
      "execution_count": null,
      "outputs": []
    },
    {
      "cell_type": "markdown",
      "metadata": {
        "id": "7py3TnMlipOv"
      },
      "source": [
        "## Measuring accuracy preformance"
      ]
    },
    {
      "cell_type": "code",
      "metadata": {
        "id": "8rHSXB8sbAxm",
        "outputId": "be8b1ea2-0973-4b46-9a7d-f838c57b5b00",
        "colab": {
          "base_uri": "https://localhost:8080/"
        }
      },
      "source": [
        "from sklearn.metrics import accuracy_score\n",
        "Logistic_regression_accuracy_train = accuracy_score(y_train, predictions_train)\n",
        "Logistic_regression_accuracy_train\n"
      ],
      "execution_count": null,
      "outputs": [
        {
          "output_type": "execute_result",
          "data": {
            "text/plain": [
              "0.8558259587020649"
            ]
          },
          "metadata": {
            "tags": []
          },
          "execution_count": 66
        }
      ]
    },
    {
      "cell_type": "markdown",
      "metadata": {
        "id": "7f38oNvmjZVH"
      },
      "source": [
        "## Measuring confusion matrix preformance"
      ]
    },
    {
      "cell_type": "code",
      "metadata": {
        "id": "gpggw0xWjevd"
      },
      "source": [
        "from sklearn.metrics import confusion_matrix\n",
        "confusion_matrix_vanila_logistic = confusion_matrix(y_train, predictions_train)"
      ],
      "execution_count": null,
      "outputs": []
    },
    {
      "cell_type": "markdown",
      "metadata": {
        "id": "mPNu9zw9lcax"
      },
      "source": [
        "## Let's set a treshold in order to improve our recall, doing this we'll predict most of the positive cases correctly.\n",
        "\n",
        "* It is more important to have a high Recall instead of a high Precision because we need as more true positive instances as posible."
      ]
    },
    {
      "cell_type": "code",
      "metadata": {
        "id": "Rj-fG_A5oPzP"
      },
      "source": [
        "from sklearn.metrics import  precision_recall_curve"
      ],
      "execution_count": null,
      "outputs": []
    },
    {
      "cell_type": "markdown",
      "metadata": {
        "id": "RPpAD9R-vKBc"
      },
      "source": [
        "## Let's the behavior of the precision/recall depending of the threshold"
      ]
    },
    {
      "cell_type": "code",
      "metadata": {
        "id": "sKawUikUNUNN"
      },
      "source": [
        "def plot_Precision_Recall(y_train, predictions_train):\n",
        "  precisions,recalls,thresholds = precision_recall_curve(y_train, predictions_train)\n",
        "  print(f\"Precisions: {precisions}\")\n",
        "  print(f\"recalls: {recalls}\")\n",
        "  print(f\"thresholds: {thresholds}\")\n",
        "  plt.figure(figsize=(14,6))\n",
        "  plt.title(\"recall vs precision\")\n",
        "  plt.xlabel(\"Threshold\")\n",
        "  sns.lineplot(x=thresholds, y=precisions[:-1],label=\"Precision\")\n",
        "  sns.lineplot(x=thresholds, y=recalls[:-1], label=\"Recall\")"
      ],
      "execution_count": null,
      "outputs": []
    },
    {
      "cell_type": "code",
      "metadata": {
        "id": "_h7GwJhVqc18",
        "outputId": "df0e410b-2383-47d1-db50-7336bb8a35aa",
        "colab": {
          "base_uri": "https://localhost:8080/",
          "height": 455
        }
      },
      "source": [
        "plot_Precision_Recall(y_train,predictions_train)"
      ],
      "execution_count": null,
      "outputs": [
        {
          "output_type": "stream",
          "text": [
            "Precisions: [0.15449853 0.73333333 1.        ]\n",
            "recalls: [1.         0.10501193 0.        ]\n",
            "thresholds: [0 1]\n"
          ],
          "name": "stdout"
        },
        {
          "output_type": "display_data",
          "data": {
            "image/png": "[encoded data removed]",
            "text/plain": [
              "<Figure size 1008x432 with 1 Axes>"
            ]
          },
          "metadata": {
            "tags": [],
            "needs_background": "light"
          }
        }
      ]
    },
    {
      "cell_type": "markdown",
      "metadata": {
        "id": "VOWRQM66vfE0"
      },
      "source": [
        "## with a threshold of 0.3 we have a good recall "
      ]
    },
    {
      "cell_type": "code",
      "metadata": {
        "id": "1-n8pJJHlXQe",
        "outputId": "2db8a411-cbff-43f1-ac38-457f92256e0f",
        "colab": {
          "base_uri": "https://localhost:8080/"
        }
      },
      "source": [
        "predictions_train_proba = log_reg.predict_proba(X_train)\n",
        "predictions_train_proba"
      ],
      "execution_count": null,
      "outputs": [
        {
          "output_type": "execute_result",
          "data": {
            "text/plain": [
              "array([[0.67907812, 0.32092188],\n",
              "       [0.77981161, 0.22018839],\n",
              "       [0.90471924, 0.09528076],\n",
              "       ...,\n",
              "       [0.95454992, 0.04545008],\n",
              "       [0.5733495 , 0.4266505 ],\n",
              "       [0.52842725, 0.47157275]])"
            ]
          },
          "metadata": {
            "tags": []
          },
          "execution_count": 71
        }
      ]
    },
    {
      "cell_type": "code",
      "metadata": {
        "id": "gxt-VOd_mc7W",
        "outputId": "ee0404e3-a5a3-4e88-a8fa-1a712e785a9e",
        "colab": {
          "base_uri": "https://localhost:8080/"
        }
      },
      "source": [
        "#By doing this, if the instance has a 30% or more chances to have a heart disease\n",
        "# it will be take as a true case \n",
        "treshold = 0.30\n",
        "actual_predictions_train = (predictions_train_proba[:,1] > treshold)\n",
        "actual_predictions_train"
      ],
      "execution_count": null,
      "outputs": [
        {
          "output_type": "execute_result",
          "data": {
            "text/plain": [
              "array([ True, False, False, ..., False,  True,  True])"
            ]
          },
          "metadata": {
            "tags": []
          },
          "execution_count": 72
        }
      ]
    },
    {
      "cell_type": "code",
      "metadata": {
        "id": "ENKEP1WVmoot"
      },
      "source": [
        "confusion_matrix_threshold_logistic =confusion_matrix(y_train, actual_predictions_train) #Now 129 of the positives are correctly predicted"
      ],
      "execution_count": null,
      "outputs": []
    },
    {
      "cell_type": "markdown",
      "metadata": {
        "id": "9WJnKctQxeBK"
      },
      "source": [
        "## Let's see and save the recall score for both models"
      ]
    },
    {
      "cell_type": "code",
      "metadata": {
        "id": "C0Xzg-2a35FW",
        "outputId": "189b0d5e-3280-422a-a4da-bbf3b6ac3821",
        "colab": {
          "base_uri": "https://localhost:8080/"
        }
      },
      "source": [
        "recall_logistic_vanilla = recall_score(y_train, predictions_train)\n",
        "recall_logistic_thesholded = recall_score(y_train, actual_predictions_train)\n",
        "recall_logistic_thesholded\n",
        "Logistic_regression_threshold_accuracy_train = accuracy_score(y_train, actual_predictions_train)\n",
        "Logistic_regression_threshold_accuracy_train"
      ],
      "execution_count": null,
      "outputs": [
        {
          "output_type": "execute_result",
          "data": {
            "text/plain": [
              "0.825589970501475"
            ]
          },
          "metadata": {
            "tags": []
          },
          "execution_count": 74
        }
      ]
    },
    {
      "cell_type": "code",
      "metadata": {
        "id": "8GqsEPx15v69",
        "outputId": "a214c559-7042-45ed-b04c-15dc14c814cd",
        "colab": {
          "base_uri": "https://localhost:8080/",
          "height": 49
        }
      },
      "source": [
        "training_scores"
      ],
      "execution_count": null,
      "outputs": [
        {
          "output_type": "execute_result",
          "data": {
            "text/html": [
              "<div>\n",
              "<style scoped>\n",
              "    .dataframe tbody tr th:only-of-type {\n",
              "        vertical-align: middle;\n",
              "    }\n",
              "\n",
              "    .dataframe tbody tr th {\n",
              "        vertical-align: top;\n",
              "    }\n",
              "\n",
              "    .dataframe thead th {\n",
              "        text-align: right;\n",
              "    }\n",
              "</style>\n",
              "<table border=\"1\" class=\"dataframe\">\n",
              "  <thead>\n",
              "    <tr style=\"text-align: right;\">\n",
              "      <th></th>\n",
              "      <th>model</th>\n",
              "      <th>accuracy_score</th>\n",
              "      <th>recall_score</th>\n",
              "      <th>true_negatives</th>\n",
              "      <th>false_positives</th>\n",
              "      <th>false_negatives</th>\n",
              "      <th>true_positives</th>\n",
              "    </tr>\n",
              "  </thead>\n",
              "  <tbody>\n",
              "  </tbody>\n",
              "</table>\n",
              "</div>"
            ],
            "text/plain": [
              "Empty DataFrame\n",
              "Columns: [model, accuracy_score, recall_score, true_negatives, false_positives, false_negatives, true_positives]\n",
              "Index: []"
            ]
          },
          "metadata": {
            "tags": []
          },
          "execution_count": 75
        }
      ]
    },
    {
      "cell_type": "markdown",
      "metadata": {
        "id": "qXcAd4unN56U"
      },
      "source": [
        "## Let's Try some more models, measuring them with confusion matrix and precision/recall"
      ]
    },
    {
      "cell_type": "code",
      "metadata": {
        "id": "t3kWvseiN40F"
      },
      "source": [
        "from sklearn.svm import SVC\n",
        "svc = SVC(kernel=\"poly\",degree=3, coef0=1, C=5,probability=True)"
      ],
      "execution_count": null,
      "outputs": []
    },
    {
      "cell_type": "code",
      "metadata": {
        "id": "KzBaNk94OkiV",
        "outputId": "fe120763-0c7e-42c9-ae10-3cc562540610",
        "colab": {
          "base_uri": "https://localhost:8080/"
        }
      },
      "source": [
        "svc.fit(X_train, y_train)"
      ],
      "execution_count": null,
      "outputs": [
        {
          "output_type": "execute_result",
          "data": {
            "text/plain": [
              "SVC(C=5, break_ties=False, cache_size=200, class_weight=None, coef0=1,\n",
              "    decision_function_shape='ovr', degree=3, gamma='scale', kernel='poly',\n",
              "    max_iter=-1, probability=True, random_state=None, shrinking=True, tol=0.001,\n",
              "    verbose=False)"
            ]
          },
          "metadata": {
            "tags": []
          },
          "execution_count": 77
        }
      ]
    },
    {
      "cell_type": "code",
      "metadata": {
        "id": "qtz9O7_mOp6E"
      },
      "source": [
        "svc_predictions_train = svc.predict(X_train)\n",
        "svc_accuracy = accuracy_score(y_train, svc_predictions_train)"
      ],
      "execution_count": null,
      "outputs": []
    },
    {
      "cell_type": "markdown",
      "metadata": {
        "id": "d1VoJercSRiG"
      },
      "source": [
        "We have a much better accuracy!"
      ]
    },
    {
      "cell_type": "code",
      "metadata": {
        "id": "YODo0wbAPGEc"
      },
      "source": [
        "confusion_matrix_svc = confusion_matrix(y_train, svc_predictions_train)\n",
        "recall_svc = recall_score(y_train, svc_predictions_train)"
      ],
      "execution_count": null,
      "outputs": []
    },
    {
      "cell_type": "markdown",
      "metadata": {
        "id": "yVKuvhtSSoXk"
      },
      "source": [
        "We have also a bigger number of true falses (2288 instead of 2277) and true positives (89 instead of 44) than the Logistic Classifier before setting a threshold."
      ]
    },
    {
      "cell_type": "markdown",
      "metadata": {
        "id": "B7zPOk1JScSV"
      },
      "source": [
        "So, we can have better predictions for the positive instances.\n",
        "Not only because we have more true positives, but because this true positives are instances that have a bigger probability to have a heart disease, which means that we will have less false positives.\n"
      ]
    },
    {
      "cell_type": "code",
      "metadata": {
        "id": "wN285JdaPVbc",
        "outputId": "d0a1fa20-1192-4b93-80ae-24f1db8b0fa2",
        "colab": {
          "base_uri": "https://localhost:8080/",
          "height": 455
        }
      },
      "source": [
        "plot_Precision_Recall(y_train,svc_predictions_train)"
      ],
      "execution_count": null,
      "outputs": [
        {
          "output_type": "stream",
          "text": [
            "Precisions: [0.15449853 0.94680851 1.        ]\n",
            "recalls: [1.        0.2124105 0.       ]\n",
            "thresholds: [0 1]\n"
          ],
          "name": "stdout"
        },
        {
          "output_type": "display_data",
          "data": {
            "image/png": "[encoded data removed]",
            "text/plain": [
              "<Figure size 1008x432 with 1 Axes>"
            ]
          },
          "metadata": {
            "tags": [],
            "needs_background": "light"
          }
        }
      ]
    },
    {
      "cell_type": "code",
      "metadata": {
        "id": "0sWYPataPjBU",
        "outputId": "461d737e-4e18-45d7-fe72-e0c9b4b71b6e",
        "colab": {
          "base_uri": "https://localhost:8080/"
        }
      },
      "source": [
        "svc_predictions_train_proba = svc.predict_proba(X_train)\n",
        "svc_predictions_train_proba\n"
      ],
      "execution_count": null,
      "outputs": [
        {
          "output_type": "execute_result",
          "data": {
            "text/plain": [
              "array([[0.82196577, 0.17803423],\n",
              "       [0.8497837 , 0.1502163 ],\n",
              "       [0.86100766, 0.13899234],\n",
              "       ...,\n",
              "       [0.86765574, 0.13234426],\n",
              "       [0.84384915, 0.15615085],\n",
              "       [0.73495131, 0.26504869]])"
            ]
          },
          "metadata": {
            "tags": []
          },
          "execution_count": 81
        }
      ]
    },
    {
      "cell_type": "code",
      "metadata": {
        "id": "yiu3zwExVwK1",
        "outputId": "6035e894-5274-4e68-8548-8dfad5071f6d",
        "colab": {
          "base_uri": "https://localhost:8080/"
        }
      },
      "source": [
        "y_train"
      ],
      "execution_count": null,
      "outputs": [
        {
          "output_type": "execute_result",
          "data": {
            "text/plain": [
              "882     1\n",
              "4231    0\n",
              "2552    0\n",
              "2376    0\n",
              "1496    0\n",
              "       ..\n",
              "1962    0\n",
              "2643    0\n",
              "2689    0\n",
              "212     0\n",
              "3369    1\n",
              "Name: TenYearCHD, Length: 2712, dtype: int64"
            ]
          },
          "metadata": {
            "tags": []
          },
          "execution_count": 82
        }
      ]
    },
    {
      "cell_type": "markdown",
      "metadata": {
        "id": "jl_pfsqqXHht"
      },
      "source": [
        "Note: Need to see why this happends!"
      ]
    },
    {
      "cell_type": "code",
      "metadata": {
        "id": "Sr_kUv-oP_qV",
        "outputId": "05da652f-dcc5-4ee3-8d74-5162369a4513",
        "colab": {
          "base_uri": "https://localhost:8080/"
        }
      },
      "source": [
        "treshold_for_svc = 0.17\n",
        "actual_predictions_train_svc = (svc_predictions_train_proba[:,1] > treshold_for_svc)\n",
        "actual_predictions_train_svc"
      ],
      "execution_count": null,
      "outputs": [
        {
          "output_type": "execute_result",
          "data": {
            "text/plain": [
              "array([ True, False, False, ..., False, False,  True])"
            ]
          },
          "metadata": {
            "tags": []
          },
          "execution_count": 83
        }
      ]
    },
    {
      "cell_type": "code",
      "metadata": {
        "id": "YGR8ofWBQMoj",
        "outputId": "35c1e025-1abe-4452-bd2c-4a6586a89ef2",
        "colab": {
          "base_uri": "https://localhost:8080/"
        }
      },
      "source": [
        "confusion_matrix(y_train, actual_predictions_train_svc)\n"
      ],
      "execution_count": null,
      "outputs": [
        {
          "output_type": "execute_result",
          "data": {
            "text/plain": [
              "array([[2257,   36],\n",
              "       [ 273,  146]])"
            ]
          },
          "metadata": {
            "tags": []
          },
          "execution_count": 84
        }
      ]
    },
    {
      "cell_type": "markdown",
      "metadata": {
        "id": "kqdL0kzTTjkU"
      },
      "source": [
        "The bad news is that if we set our threshold at 0.30, we will have a much better precision but a poor recall (which is the one we are interested in)\n",
        "\n",
        "* Let's use the original svc model instead the set one"
      ]
    },
    {
      "cell_type": "markdown",
      "metadata": {
        "id": "ns3PM011jYC-"
      },
      "source": [
        "## Let's, Try the next models:\n",
        "* Decision Tree\n",
        "* Bagging/Pasting\n",
        "* Random Forest\n",
        "\n"
      ]
    },
    {
      "cell_type": "markdown",
      "metadata": {
        "id": "JxV600RMopS1"
      },
      "source": [
        "## Decision Tree\n"
      ]
    },
    {
      "cell_type": "code",
      "metadata": {
        "id": "r_ULXD1DonvZ"
      },
      "source": [
        "from sklearn.tree import DecisionTreeClassifier\n"
      ],
      "execution_count": null,
      "outputs": []
    },
    {
      "cell_type": "code",
      "metadata": {
        "id": "KMRw2WCahXro"
      },
      "source": [
        "tree_clf = DecisionTreeClassifier(max_depth=18)"
      ],
      "execution_count": null,
      "outputs": []
    },
    {
      "cell_type": "code",
      "metadata": {
        "id": "uGY10y7BtDia",
        "outputId": "0e69818d-458c-486f-d423-86b71d3d1165",
        "colab": {
          "base_uri": "https://localhost:8080/"
        }
      },
      "source": [
        "tree_clf.fit(X_train, y_train)"
      ],
      "execution_count": null,
      "outputs": [
        {
          "output_type": "execute_result",
          "data": {
            "text/plain": [
              "DecisionTreeClassifier(ccp_alpha=0.0, class_weight=None, criterion='gini',\n",
              "                       max_depth=18, max_features=None, max_leaf_nodes=None,\n",
              "                       min_impurity_decrease=0.0, min_impurity_split=None,\n",
              "                       min_samples_leaf=1, min_samples_split=2,\n",
              "                       min_weight_fraction_leaf=0.0, presort='deprecated',\n",
              "                       random_state=None, splitter='best')"
            ]
          },
          "metadata": {
            "tags": []
          },
          "execution_count": 87
        }
      ]
    },
    {
      "cell_type": "code",
      "metadata": {
        "id": "i1ROu9-CtLvQ"
      },
      "source": [
        "predictions_train_tree = tree_clf.predict(X_train)\n",
        "proba_predictions_tree = tree_clf.predict_proba(X_train)"
      ],
      "execution_count": null,
      "outputs": []
    },
    {
      "cell_type": "code",
      "metadata": {
        "id": "d937nY5Qugph",
        "outputId": "eff352fb-5e1a-4e54-9545-8c46de7619a3",
        "colab": {
          "base_uri": "https://localhost:8080/"
        }
      },
      "source": [
        "proba_predictions_tree"
      ],
      "execution_count": null,
      "outputs": [
        {
          "output_type": "execute_result",
          "data": {
            "text/plain": [
              "array([[0.     , 1.     ],\n",
              "       [0.96875, 0.03125],\n",
              "       [0.75   , 0.25   ],\n",
              "       ...,\n",
              "       [1.     , 0.     ],\n",
              "       [1.     , 0.     ],\n",
              "       [0.     , 1.     ]])"
            ]
          },
          "metadata": {
            "tags": []
          },
          "execution_count": 89
        }
      ]
    },
    {
      "cell_type": "code",
      "metadata": {
        "id": "VfXq7qYdulei",
        "outputId": "f017f3e5-4489-4f6f-c0a1-e58790e3f515",
        "colab": {
          "base_uri": "https://localhost:8080/"
        }
      },
      "source": [
        "y_train"
      ],
      "execution_count": null,
      "outputs": [
        {
          "output_type": "execute_result",
          "data": {
            "text/plain": [
              "882     1\n",
              "4231    0\n",
              "2552    0\n",
              "2376    0\n",
              "1496    0\n",
              "       ..\n",
              "1962    0\n",
              "2643    0\n",
              "2689    0\n",
              "212     0\n",
              "3369    1\n",
              "Name: TenYearCHD, Length: 2712, dtype: int64"
            ]
          },
          "metadata": {
            "tags": []
          },
          "execution_count": 90
        }
      ]
    },
    {
      "cell_type": "code",
      "metadata": {
        "id": "ZCoYlUSAtRdg"
      },
      "source": [
        "confusion_matrix_tree = confusion_matrix(y_train, predictions_train_tree)"
      ],
      "execution_count": null,
      "outputs": []
    },
    {
      "cell_type": "code",
      "metadata": {
        "id": "t1EEfo8Ft1nY"
      },
      "source": [
        "accuracy_tree = accuracy_score(y_train, predictions_train_tree)"
      ],
      "execution_count": null,
      "outputs": []
    },
    {
      "cell_type": "code",
      "metadata": {
        "id": "5Qu6dcQzwsU6"
      },
      "source": [
        "recall_tree = recall_score(y_train, predictions_train_tree)"
      ],
      "execution_count": null,
      "outputs": []
    },
    {
      "cell_type": "markdown",
      "metadata": {
        "id": "Cm63dsgeuqeY"
      },
      "source": [
        "This seems to be a perfect model... Let's see how well it generalize "
      ]
    },
    {
      "cell_type": "code",
      "metadata": {
        "id": "BPdsva4fuwK4"
      },
      "source": [
        "predictions_val_tree = tree_clf.predict(X_val)"
      ],
      "execution_count": null,
      "outputs": []
    },
    {
      "cell_type": "code",
      "metadata": {
        "id": "wyWchIybvLCB"
      },
      "source": [
        "confusion_matrix_tree_val = confusion_matrix(y_val, predictions_val_tree)"
      ],
      "execution_count": null,
      "outputs": []
    },
    {
      "cell_type": "code",
      "metadata": {
        "id": "fAEHGWb7krp3",
        "outputId": "50faac52-e913-46b8-e2f2-4468b655487d",
        "colab": {
          "base_uri": "https://localhost:8080/"
        }
      },
      "source": [
        "recall_score(y_val,predictions_val_tree )"
      ],
      "execution_count": null,
      "outputs": [
        {
          "output_type": "execute_result",
          "data": {
            "text/plain": [
              "0.22772277227722773"
            ]
          },
          "metadata": {
            "tags": []
          },
          "execution_count": 96
        }
      ]
    },
    {
      "cell_type": "code",
      "metadata": {
        "id": "LitI8_08wNrz"
      },
      "source": [
        "accuracy_tree_val = accuracy_score(y_val, predictions_val_tree)"
      ],
      "execution_count": null,
      "outputs": []
    },
    {
      "cell_type": "markdown",
      "metadata": {
        "id": "1s24grj5UI7X"
      },
      "source": [
        "## Bagging/Pasting for logistic regression"
      ]
    },
    {
      "cell_type": "code",
      "metadata": {
        "id": "PrxJRfCKUN3c"
      },
      "source": [
        "from sklearn.ensemble import BaggingClassifier\n",
        "from sklearn.model_selection import GridSearchCV"
      ],
      "execution_count": null,
      "outputs": []
    },
    {
      "cell_type": "code",
      "metadata": {
        "id": "KGBgCB7vUYH8"
      },
      "source": [
        "base_logistic_clf = LogisticRegression(penalty=\"l2\",solver=\"lbfgs\")\n",
        "Bagging_clf = BaggingClassifier(base_logistic_clf,bootstrap=True)\n",
        "\n",
        "#gridSearch to look for the optim num of estimators\n",
        "params_grid = {\n",
        "    \"n_estimators\" : [ 1,5,10,15,20,30,40,50,70,100]\n",
        "}\n",
        "bagging_clf_grid = GridSearchCV(Bagging_clf,params_grid)"
      ],
      "execution_count": null,
      "outputs": []
    },
    {
      "cell_type": "code",
      "metadata": {
        "id": "OHjUe4Lpwb8K",
        "outputId": "2b481dc7-3393-4a81-c77c-b446052271cc",
        "colab": {
          "base_uri": "https://localhost:8080/"
        }
      },
      "source": [
        "bagging_clf_grid.fit(X_train, y_train)"
      ],
      "execution_count": null,
      "outputs": [
        {
          "output_type": "execute_result",
          "data": {
            "text/plain": [
              "GridSearchCV(cv=None, error_score=nan,\n",
              "             estimator=BaggingClassifier(base_estimator=LogisticRegression(C=1.0,\n",
              "                                                                           class_weight=None,\n",
              "                                                                           dual=False,\n",
              "                                                                           fit_intercept=True,\n",
              "                                                                           intercept_scaling=1,\n",
              "                                                                           l1_ratio=None,\n",
              "                                                                           max_iter=100,\n",
              "                                                                           multi_class='auto',\n",
              "                                                                           n_jobs=None,\n",
              "                                                                           penalty='l2',\n",
              "                                                                           random_state=None,\n",
              "                                                                           solver='lbfgs',\n",
              "                                                                           tol=0.0001,\n",
              "                                                                           verbose=0,\n",
              "                                                                           warm_start=False),\n",
              "                                         bootstrap=True,\n",
              "                                         bootstrap_features=False,\n",
              "                                         max_features=1.0, max_samples=1.0,\n",
              "                                         n_estimators=10, n_jobs=None,\n",
              "                                         oob_score=False, random_state=None,\n",
              "                                         verbose=0, warm_start=False),\n",
              "             iid='deprecated', n_jobs=None,\n",
              "             param_grid={'n_estimators': [1, 5, 10, 15, 20, 30, 40, 50, 70,\n",
              "                                          100]},\n",
              "             pre_dispatch='2*n_jobs', refit=True, return_train_score=False,\n",
              "             scoring=None, verbose=0)"
            ]
          },
          "metadata": {
            "tags": []
          },
          "execution_count": 101
        }
      ]
    },
    {
      "cell_type": "code",
      "metadata": {
        "id": "MmUUfOlFy8_p",
        "outputId": "d1b979a0-3976-4cb4-e0db-1862e8290808",
        "colab": {
          "base_uri": "https://localhost:8080/"
        }
      },
      "source": [
        "bagging_clf_grid.best_score_"
      ],
      "execution_count": null,
      "outputs": [
        {
          "output_type": "execute_result",
          "data": {
            "text/plain": [
              "0.8539866669384926"
            ]
          },
          "metadata": {
            "tags": []
          },
          "execution_count": 102
        }
      ]
    },
    {
      "cell_type": "code",
      "metadata": {
        "id": "H24d_djGvrJk"
      },
      "source": [
        "base_logistic_clf = LogisticRegression(penalty=\"l2\",solver=\"lbfgs\")\n",
        "Pasting_clf = BaggingClassifier(base_logistic_clf,bootstrap = False)\n",
        "\n",
        "#gridSearch to look for the optim num of estimators\n",
        "params_grid = {\n",
        "    \"n_estimators\" : [ 1,5,10,15,20,30,40,50,70,100]\n",
        "}\n",
        "Pasting_clf_grid = GridSearchCV(Bagging_clf,params_grid)"
      ],
      "execution_count": null,
      "outputs": []
    },
    {
      "cell_type": "code",
      "metadata": {
        "id": "mUH2FFTMygYM",
        "outputId": "2184bed9-5706-4e94-df4c-1d426bcdebe0",
        "colab": {
          "base_uri": "https://localhost:8080/"
        }
      },
      "source": [
        "Pasting_clf_grid.fit(X_train, y_train)"
      ],
      "execution_count": null,
      "outputs": [
        {
          "output_type": "execute_result",
          "data": {
            "text/plain": [
              "GridSearchCV(cv=None, error_score=nan,\n",
              "             estimator=BaggingClassifier(base_estimator=LogisticRegression(C=1.0,\n",
              "                                                                           class_weight=None,\n",
              "                                                                           dual=False,\n",
              "                                                                           fit_intercept=True,\n",
              "                                                                           intercept_scaling=1,\n",
              "                                                                           l1_ratio=None,\n",
              "                                                                           max_iter=100,\n",
              "                                                                           multi_class='auto',\n",
              "                                                                           n_jobs=None,\n",
              "                                                                           penalty='l2',\n",
              "                                                                           random_state=None,\n",
              "                                                                           solver='lbfgs',\n",
              "                                                                           tol=0.0001,\n",
              "                                                                           verbose=0,\n",
              "                                                                           warm_start=False),\n",
              "                                         bootstrap=True,\n",
              "                                         bootstrap_features=False,\n",
              "                                         max_features=1.0, max_samples=1.0,\n",
              "                                         n_estimators=10, n_jobs=None,\n",
              "                                         oob_score=False, random_state=None,\n",
              "                                         verbose=0, warm_start=False),\n",
              "             iid='deprecated', n_jobs=None,\n",
              "             param_grid={'n_estimators': [1, 5, 10, 15, 20, 30, 40, 50, 70,\n",
              "                                          100]},\n",
              "             pre_dispatch='2*n_jobs', refit=True, return_train_score=False,\n",
              "             scoring=None, verbose=0)"
            ]
          },
          "metadata": {
            "tags": []
          },
          "execution_count": 104
        }
      ]
    },
    {
      "cell_type": "code",
      "metadata": {
        "id": "NJ6MIraqyw2G",
        "outputId": "737828c4-a5f6-4776-8c3f-15b8d7c1386b",
        "colab": {
          "base_uri": "https://localhost:8080/"
        }
      },
      "source": [
        "Pasting_clf_grid.best_estimator_"
      ],
      "execution_count": null,
      "outputs": [
        {
          "output_type": "execute_result",
          "data": {
            "text/plain": [
              "BaggingClassifier(base_estimator=LogisticRegression(C=1.0, class_weight=None,\n",
              "                                                    dual=False,\n",
              "                                                    fit_intercept=True,\n",
              "                                                    intercept_scaling=1,\n",
              "                                                    l1_ratio=None, max_iter=100,\n",
              "                                                    multi_class='auto',\n",
              "                                                    n_jobs=None, penalty='l2',\n",
              "                                                    random_state=None,\n",
              "                                                    solver='lbfgs', tol=0.0001,\n",
              "                                                    verbose=0,\n",
              "                                                    warm_start=False),\n",
              "                  bootstrap=True, bootstrap_features=False, max_features=1.0,\n",
              "                  max_samples=1.0, n_estimators=5, n_jobs=None, oob_score=False,\n",
              "                  random_state=None, verbose=0, warm_start=False)"
            ]
          },
          "metadata": {
            "tags": []
          },
          "execution_count": 105
        }
      ]
    },
    {
      "cell_type": "code",
      "metadata": {
        "id": "4I4rZCFIy207",
        "outputId": "ed827309-21f0-46bb-e8a7-d2815467ea51",
        "colab": {
          "base_uri": "https://localhost:8080/"
        }
      },
      "source": [
        "Pasting_clf_grid.best_score_"
      ],
      "execution_count": null,
      "outputs": [
        {
          "output_type": "execute_result",
          "data": {
            "text/plain": [
              "0.8539887056329126"
            ]
          },
          "metadata": {
            "tags": []
          },
          "execution_count": 106
        }
      ]
    },
    {
      "cell_type": "markdown",
      "metadata": {
        "id": "SR1ghcF2zDKI"
      },
      "source": [
        "* Pasting need less estimators than Bagging model.\n",
        "* Bagging is a little bit more accurate."
      ]
    },
    {
      "cell_type": "markdown",
      "metadata": {
        "id": "O6P0q2gUzNpF"
      },
      "source": [
        "## Let's Measure them using confusion matrix."
      ]
    },
    {
      "cell_type": "code",
      "metadata": {
        "id": "s7S4AfD1zTjc",
        "outputId": "203f2942-60a9-4db9-b779-3843f1a165bb",
        "colab": {
          "base_uri": "https://localhost:8080/"
        }
      },
      "source": [
        "bagging_predictions_train = bagging_clf_grid.predict(X_train)\n",
        "pasting_predictions_train = Pasting_clf_grid.predict(X_train)\n",
        "print(\"Bagging confusion matrix: \")\n",
        "print(confusion_matrix(y_train, bagging_predictions_train))\n",
        "confusion_matrix_Bagging_Logistic = confusion_matrix(y_train, bagging_predictions_train)\n",
        "print(\"Pasting confusion matrix: \")\n",
        "print(confusion_matrix(y_train, pasting_predictions_train))\n",
        "confusion_matrix_Pasting_Logistic = confusion_matrix(y_train, pasting_predictions_train)\n",
        "\n",
        "#Accuracy scores\n",
        "Accuracy_bagging_Logistic_train =accuracy_score(y_train, bagging_predictions_train)\n",
        "Accuracy_pasting_Logistic_train =accuracy_score(y_train, pasting_predictions_train)"
      ],
      "execution_count": null,
      "outputs": [
        {
          "output_type": "stream",
          "text": [
            "Bagging confusion matrix: \n",
            "[[2277   16]\n",
            " [ 376   43]]\n",
            "Pasting confusion matrix: \n",
            "[[2279   14]\n",
            " [ 374   45]]\n"
          ],
          "name": "stdout"
        }
      ]
    },
    {
      "cell_type": "markdown",
      "metadata": {
        "id": "mfac5g8Dz9H-"
      },
      "source": [
        "## Let's see the recall socre"
      ]
    },
    {
      "cell_type": "code",
      "metadata": {
        "id": "uxeze2_Sz2S1",
        "outputId": "ddd546b1-2af9-4f36-b722-87159a861031",
        "colab": {
          "base_uri": "https://localhost:8080/"
        }
      },
      "source": [
        "recall_socre_bagging_Logistic_train = recall_score(y_train, bagging_predictions_train)\n",
        "recall_score_pasting_Logistic_train = recall_score(y_train, pasting_predictions_train)\n",
        "\n",
        "print(f\"Bagging recall score: {recall_socre_bagging_Logistic_train}\")\n",
        "print(f\"Pasting recall score: {recall_score_pasting_Logistic_train}\")"
      ],
      "execution_count": null,
      "outputs": [
        {
          "output_type": "stream",
          "text": [
            "Bagging recall score: 0.1026252983293556\n",
            "Pasting recall score: 0.10739856801909307\n"
          ],
          "name": "stdout"
        }
      ]
    },
    {
      "cell_type": "markdown",
      "metadata": {
        "id": "udbAA5Bh3I_n"
      },
      "source": [
        "## Bagging/Pasting with SVC\n",
        "#Not used"
      ]
    },
    {
      "cell_type": "markdown",
      "metadata": {
        "id": "tnyPj-rQT7EP"
      },
      "source": [
        "* Bagging"
      ]
    },
    {
      "cell_type": "code",
      "metadata": {
        "id": "3jqcAtz_TcL_"
      },
      "source": [
        "#base_svc = SVC(kernel=\"poly\",degree=3, coef0=1, C=2,probability=True)\n",
        "\n",
        "#Bagging_clf_svc = BaggingClassifier(base_svc,bootstrap=True)\n",
        "\n",
        "#gridSearch to look for the optim num of estimators\n",
        "#params_grid = {\n",
        "#    \"n_estimators\" : [ 5,10,100]\n",
        "#}\n",
        "#Bagging_clf_svc_grid = GridSearchCV(Bagging_clf_svc,params_grid)\n",
        "#Bagging_clf_svc_grid.fit(X_train, y_train)"
      ],
      "execution_count": null,
      "outputs": []
    },
    {
      "cell_type": "markdown",
      "metadata": {
        "id": "wS0pHKzCUBea"
      },
      "source": [
        "* Pasting"
      ]
    },
    {
      "cell_type": "code",
      "metadata": {
        "id": "qNxPPlWBUAqy"
      },
      "source": [
        "#base_svc = SVC(kernel=\"poly\",degree=3, coef0=1, C=2,probability=True)\n",
        "\n",
        "#Pasting_clf_svc = BaggingClassifier(base_svc,bootstrap=False)\n",
        "\n",
        "#gridSearch to look for the optim num of estimators\n",
        "#params_grid = {\n",
        "#    \"n_estimators\" : [ 1,5,10,15,20,30,40,50,70,100]\n",
        "#}\n",
        "#Pasting_clf_svc_grid = GridSearchCV(Pasting_clf_svc,params_grid)\n",
        "#Pasting_clf_svc_grid.fit(X_train, y_train)"
      ],
      "execution_count": null,
      "outputs": []
    },
    {
      "cell_type": "markdown",
      "metadata": {
        "id": "DofTGU0OUL0u"
      },
      "source": [
        "# Measuring them"
      ]
    },
    {
      "cell_type": "code",
      "metadata": {
        "id": "zSCVu_aoUO4m"
      },
      "source": [
        "#bagging_svc_predictions_train = bagging_clf_grid.predict(X_train)\n",
        "#pasting_svc_predictions_train = Pasting_clf_grid.predict(X_train)\n",
        "\n",
        "#confusion_matrix_bagging_svc_train = confusion_matrix(y_train, bagging_svc_predictions_train)\n",
        "#confusion_matrix_pasting_svc_train = confusion_matrix(y_train, pasting_svc_predictions_train)\n",
        "\n",
        "#recall_bagging_svc_train =recall_score(y_train, bagging_svc_predictions_train)\n",
        "#recall_pasting_svc_train =recall_score(y_train, pasting_svc_predictions_train)\n",
        "\n",
        "\n",
        "#Accuracy_bagging_svc_train = accurary_score(y_train, bagging_svc_predictions_train)\n",
        "#Accuracy_pasting_svc_train = accurary_score(y_train, pasting_svc_predictions_train)"
      ],
      "execution_count": null,
      "outputs": []
    },
    {
      "cell_type": "markdown",
      "metadata": {
        "id": "-KOIIamuv5Nv"
      },
      "source": [
        "## Random Forest\n"
      ]
    },
    {
      "cell_type": "code",
      "metadata": {
        "id": "B4CdbSG6v8y2"
      },
      "source": [
        "from sklearn.ensemble import RandomForestClassifier\n",
        "rnd_clf = RandomForestClassifier()\n",
        "param_grid = {\n",
        "    \"n_estimators\": [2,5,10,20,25,30,50,75,100],\n",
        "   \"min_samples_leaf\": [1,10,20,50,100],\n",
        "    \"max_leaf_nodes\": [None, 2]\n",
        "}\n",
        "rnd_clf_grid = GridSearchCV(rnd_clf, param_grid)"
      ],
      "execution_count": null,
      "outputs": []
    },
    {
      "cell_type": "code",
      "metadata": {
        "id": "Jcn-ZeK9ZUVP",
        "outputId": "89e90179-b592-430c-de8e-3b87b2150bc7",
        "colab": {
          "base_uri": "https://localhost:8080/"
        }
      },
      "source": [
        "rnd_clf_grid.fit(X_train, y_train)"
      ],
      "execution_count": null,
      "outputs": [
        {
          "output_type": "execute_result",
          "data": {
            "text/plain": [
              "GridSearchCV(cv=None, error_score=nan,\n",
              "             estimator=RandomForestClassifier(bootstrap=True, ccp_alpha=0.0,\n",
              "                                              class_weight=None,\n",
              "                                              criterion='gini', max_depth=None,\n",
              "                                              max_features='auto',\n",
              "                                              max_leaf_nodes=None,\n",
              "                                              max_samples=None,\n",
              "                                              min_impurity_decrease=0.0,\n",
              "                                              min_impurity_split=None,\n",
              "                                              min_samples_leaf=1,\n",
              "                                              min_samples_split=2,\n",
              "                                              min_weight_fraction_leaf=0.0,\n",
              "                                              n_estimators=100, n_jobs=None,\n",
              "                                              oob_score=False,\n",
              "                                              random_state=None, verbose=0,\n",
              "                                              warm_start=False),\n",
              "             iid='deprecated', n_jobs=None,\n",
              "             param_grid={'max_leaf_nodes': [None, 2],\n",
              "                         'min_samples_leaf': [1, 10, 20, 50, 100],\n",
              "                         'n_estimators': [2, 5, 10, 20, 25, 30, 50, 75, 100]},\n",
              "             pre_dispatch='2*n_jobs', refit=True, return_train_score=False,\n",
              "             scoring=None, verbose=0)"
            ]
          },
          "metadata": {
            "tags": []
          },
          "execution_count": 113
        }
      ]
    },
    {
      "cell_type": "code",
      "metadata": {
        "id": "JOu08-ZIZviW",
        "outputId": "8c2e37fc-7eac-4e90-9740-6b41f46dcf94",
        "colab": {
          "base_uri": "https://localhost:8080/"
        }
      },
      "source": [
        "rnd_clf_grid.best_params_"
      ],
      "execution_count": null,
      "outputs": [
        {
          "output_type": "execute_result",
          "data": {
            "text/plain": [
              "{'max_leaf_nodes': None, 'min_samples_leaf': 1, 'n_estimators': 75}"
            ]
          },
          "metadata": {
            "tags": []
          },
          "execution_count": 114
        }
      ]
    },
    {
      "cell_type": "code",
      "metadata": {
        "id": "nMTOIOf1ZbVn"
      },
      "source": [
        "rnd_clf_grid_predictions_train = rnd_clf_grid.predict(X_train)"
      ],
      "execution_count": null,
      "outputs": []
    },
    {
      "cell_type": "code",
      "metadata": {
        "id": "5fsubwtgZihP",
        "outputId": "5881beda-3fe2-4a5d-b550-cc58c64826c9",
        "colab": {
          "base_uri": "https://localhost:8080/"
        }
      },
      "source": [
        "confusion_matrix_random_forest_train =confusion_matrix(y_train,rnd_clf_grid_predictions_train)\n",
        "confusion_matrix_random_forest_train"
      ],
      "execution_count": null,
      "outputs": [
        {
          "output_type": "execute_result",
          "data": {
            "text/plain": [
              "array([[2293,    0],\n",
              "       [   0,  419]])"
            ]
          },
          "metadata": {
            "tags": []
          },
          "execution_count": 116
        }
      ]
    },
    {
      "cell_type": "code",
      "metadata": {
        "id": "rdBnjDDzZ_Oh"
      },
      "source": [
        "recall_random_forest_train = recall_score(y_train, rnd_clf_grid_predictions_train)"
      ],
      "execution_count": null,
      "outputs": []
    },
    {
      "cell_type": "code",
      "metadata": {
        "id": "189n2gtqaAVD"
      },
      "source": [
        "Accurary_random_forest = accuracy_score(y_train, rnd_clf_grid_predictions_train)"
      ],
      "execution_count": null,
      "outputs": []
    },
    {
      "cell_type": "code",
      "metadata": {
        "id": "1SmuTZ14Z1km"
      },
      "source": [
        "rnd_clf_grid_predictions_val = rnd_clf_grid.predict(X_val)"
      ],
      "execution_count": null,
      "outputs": []
    },
    {
      "cell_type": "code",
      "metadata": {
        "id": "pBciNof4Z4v6"
      },
      "source": [
        "confusion_matrix_random_forest_val = confusion_matrix(y_val,rnd_clf_grid_predictions_val)"
      ],
      "execution_count": null,
      "outputs": []
    },
    {
      "cell_type": "markdown",
      "metadata": {
        "id": "rBwTyrXVaann"
      },
      "source": [
        "* The model is overfitting the data"
      ]
    },
    {
      "cell_type": "code",
      "metadata": {
        "id": "dfiUKtBEaFQy"
      },
      "source": [
        "recall_random_forest_val = recall_score(y_val, rnd_clf_grid_predictions_val)"
      ],
      "execution_count": null,
      "outputs": []
    },
    {
      "cell_type": "code",
      "metadata": {
        "id": "GgQIafAaWiuV"
      },
      "source": [
        "models_name = [\"Logistic Regression Vanilla\", \"Logistic Regression Threshold\", \"svc\", \"Decision Tree\", \"Bagging Logistic Reagression\", \"Pasting Logistic Regression\", \"Random Forest\"] \n",
        "train_accuracy = [Logistic_regression_accuracy_train, Logistic_regression_threshold_accuracy_train, svc_accuracy,accuracy_tree,Accuracy_bagging_Logistic_train,Accuracy_pasting_Logistic_train, Accurary_random_forest]\n",
        "confusion_matrices = [confusion_matrix_vanila_logistic,confusion_matrix_threshold_logistic,confusion_matrix_svc,confusion_matrix_tree,confusion_matrix_Bagging_Logistic,confusion_matrix_Pasting_Logistic,confusion_matrix_random_forest_train ]\n",
        "recall_scores = [recall_logistic_vanilla,recall_logistic_thesholded,recall_svc,recall_tree,recall_socre_bagging_Logistic_train,recall_score_pasting_Logistic_train,recall_random_forest_train]"
      ],
      "execution_count": null,
      "outputs": []
    },
    {
      "cell_type": "code",
      "metadata": {
        "id": "jWm-2LjrYhOy"
      },
      "source": [
        "scores = pd.DataFrame(columns=[\"Model\", \"Accuracy\", \"Recall_Scores\"])"
      ],
      "execution_count": null,
      "outputs": []
    },
    {
      "cell_type": "code",
      "metadata": {
        "id": "2Z9MFEZgauVy"
      },
      "source": [
        "scores['Model'] = models_name"
      ],
      "execution_count": null,
      "outputs": []
    },
    {
      "cell_type": "code",
      "metadata": {
        "id": "-f8UHKeka2Nq"
      },
      "source": [
        "scores[\"Accuracy\"]= train_accuracy"
      ],
      "execution_count": null,
      "outputs": []
    },
    {
      "cell_type": "code",
      "metadata": {
        "id": "nbEv2DiibC8y"
      },
      "source": [
        "scores['Recall_Scores']= recall_scores\n"
      ],
      "execution_count": null,
      "outputs": []
    },
    {
      "cell_type": "code",
      "metadata": {
        "id": "99mCGiogbaCq"
      },
      "source": [
        "scores[\"True_Negatives\"] =confusion_matrices_np[:, 0, 0]"
      ],
      "execution_count": null,
      "outputs": []
    },
    {
      "cell_type": "code",
      "metadata": {
        "id": "_wzTx-UZcb2q"
      },
      "source": [
        "scores[\"False_Positives\"] =confusion_matrices_np[:, 0, 1]"
      ],
      "execution_count": null,
      "outputs": []
    },
    {
      "cell_type": "code",
      "metadata": {
        "id": "7S8xqOz6cg37"
      },
      "source": [
        "scores[\"False_Negatives\"] =confusion_matrices_np[:, 1, 0]"
      ],
      "execution_count": null,
      "outputs": []
    },
    {
      "cell_type": "code",
      "metadata": {
        "id": "-_L5hgpqcmnT"
      },
      "source": [
        "scores[\"True_Positives\"] =confusion_matrices_np[:, 1, 1]"
      ],
      "execution_count": null,
      "outputs": []
    },
    {
      "cell_type": "code",
      "metadata": {
        "id": "LED4G0jLbJhT",
        "outputId": "753afca8-fda5-4dcb-b262-ab2e29da074e",
        "colab": {
          "base_uri": "https://localhost:8080/",
          "height": 266
        }
      },
      "source": [
        "scores"
      ],
      "execution_count": null,
      "outputs": [
        {
          "output_type": "execute_result",
          "data": {
            "text/html": [
              "<div>\n",
              "<style scoped>\n",
              "    .dataframe tbody tr th:only-of-type {\n",
              "        vertical-align: middle;\n",
              "    }\n",
              "\n",
              "    .dataframe tbody tr th {\n",
              "        vertical-align: top;\n",
              "    }\n",
              "\n",
              "    .dataframe thead th {\n",
              "        text-align: right;\n",
              "    }\n",
              "</style>\n",
              "<table border=\"1\" class=\"dataframe\">\n",
              "  <thead>\n",
              "    <tr style=\"text-align: right;\">\n",
              "      <th></th>\n",
              "      <th>Model</th>\n",
              "      <th>Accuracy</th>\n",
              "      <th>Recall_Scores</th>\n",
              "      <th>True_Negatives</th>\n",
              "      <th>False_Positives</th>\n",
              "      <th>False_Negatives</th>\n",
              "      <th>True_Positives</th>\n",
              "    </tr>\n",
              "  </thead>\n",
              "  <tbody>\n",
              "    <tr>\n",
              "      <th>0</th>\n",
              "      <td>Logistic Regression Vanilla</td>\n",
              "      <td>0.855826</td>\n",
              "      <td>0.105012</td>\n",
              "      <td>2277</td>\n",
              "      <td>16</td>\n",
              "      <td>375</td>\n",
              "      <td>44</td>\n",
              "    </tr>\n",
              "    <tr>\n",
              "      <th>1</th>\n",
              "      <td>Logistic Regression Threshold</td>\n",
              "      <td>0.825590</td>\n",
              "      <td>0.307876</td>\n",
              "      <td>2110</td>\n",
              "      <td>183</td>\n",
              "      <td>290</td>\n",
              "      <td>129</td>\n",
              "    </tr>\n",
              "    <tr>\n",
              "      <th>2</th>\n",
              "      <td>svc</td>\n",
              "      <td>0.876475</td>\n",
              "      <td>0.212411</td>\n",
              "      <td>2288</td>\n",
              "      <td>5</td>\n",
              "      <td>330</td>\n",
              "      <td>89</td>\n",
              "    </tr>\n",
              "    <tr>\n",
              "      <th>3</th>\n",
              "      <td>Decision Tree</td>\n",
              "      <td>0.977876</td>\n",
              "      <td>0.861575</td>\n",
              "      <td>2291</td>\n",
              "      <td>2</td>\n",
              "      <td>58</td>\n",
              "      <td>361</td>\n",
              "    </tr>\n",
              "    <tr>\n",
              "      <th>4</th>\n",
              "      <td>Bagging Logistic Reagression</td>\n",
              "      <td>0.855457</td>\n",
              "      <td>0.102625</td>\n",
              "      <td>2277</td>\n",
              "      <td>16</td>\n",
              "      <td>376</td>\n",
              "      <td>43</td>\n",
              "    </tr>\n",
              "    <tr>\n",
              "      <th>5</th>\n",
              "      <td>Pasting Logistic Regression</td>\n",
              "      <td>0.856932</td>\n",
              "      <td>0.107399</td>\n",
              "      <td>2279</td>\n",
              "      <td>14</td>\n",
              "      <td>374</td>\n",
              "      <td>45</td>\n",
              "    </tr>\n",
              "    <tr>\n",
              "      <th>6</th>\n",
              "      <td>Random Forest</td>\n",
              "      <td>1.000000</td>\n",
              "      <td>1.000000</td>\n",
              "      <td>2293</td>\n",
              "      <td>0</td>\n",
              "      <td>0</td>\n",
              "      <td>419</td>\n",
              "    </tr>\n",
              "  </tbody>\n",
              "</table>\n",
              "</div>"
            ],
            "text/plain": [
              "                           Model  Accuracy  ...  False_Negatives  True_Positives\n",
              "0    Logistic Regression Vanilla  0.855826  ...              375              44\n",
              "1  Logistic Regression Threshold  0.825590  ...              290             129\n",
              "2                            svc  0.876475  ...              330              89\n",
              "3                  Decision Tree  0.977876  ...               58             361\n",
              "4   Bagging Logistic Reagression  0.855457  ...              376              43\n",
              "5    Pasting Logistic Regression  0.856932  ...              374              45\n",
              "6                  Random Forest  1.000000  ...                0             419\n",
              "\n",
              "[7 rows x 7 columns]"
            ]
          },
          "metadata": {
            "tags": []
          },
          "execution_count": 134
        }
      ]
    },
    {
      "cell_type": "code",
      "metadata": {
        "id": "UfeZA30ifEfh",
        "outputId": "06e595a5-7f63-4778-b0fd-b2e06dde7ee1",
        "colab": {
          "base_uri": "https://localhost:8080/",
          "height": 1000
        }
      },
      "source": [
        "sns.set_theme(style=\"whitegrid\")\n",
        "plt.figure(figsize=(25,7))\n",
        "plt.xlabel(xlabel=\"Model\",fontsize=20)\n",
        "plt.ylabel(ylabel=\"Accuracy\",fontsize=20)\n",
        "sns.barplot(x=\"Model\", y=\"Accuracy\", data=scores)\n",
        "plt.figure(figsize=(25,7))\n",
        "plt.xlabel(xlabel=\"Model\",fontsize=20)\n",
        "plt.ylabel(ylabel=\"Recall_Scores\",fontsize=20)\n",
        "sns.barplot(x=\"Model\", y=\"Recall_Scores\", data=scores)\n",
        "plt.figure(figsize=(25,7))\n",
        "plt.xlabel(xlabel=\"Model\",fontsize=20)\n",
        "plt.ylabel(ylabel=\"True_Positives\",fontsize=20)\n",
        "sns.barplot(x=\"Model\", y=\"True_Positives\", data=scores)\n",
        "plt.figure(figsize=(25,7))\n",
        "plt.xlabel(xlabel=\"Model\",fontsize=20)\n",
        "plt.ylabel(ylabel=\"False_Negatives\",fontsize=20)\n",
        "sns.barplot(x=\"Model\", y=\"False_Negatives\", data=scores)"
      ],
      "execution_count": null,
      "outputs": [
        {
          "output_type": "execute_result",
          "data": {
            "text/plain": [
              "<matplotlib.axes._subplots.AxesSubplot at 0x7fc847e9aef0>"
            ]
          },
          "metadata": {
            "tags": []
          },
          "execution_count": 152
        },
        {
          "output_type": "display_data",
          "data": {
            "image/png": "[encoded data removed]",
            "text/plain": [
              "<Figure size 1800x504 with 1 Axes>"
            ]
          },
          "metadata": {
            "tags": []
          }
        },
        {
          "output_type": "display_data",
          "data": {
            "image/png": "[encoded data removed]",
            "text/plain": [
              "<Figure size 1800x504 with 1 Axes>"
            ]
          },
          "metadata": {
            "tags": []
          }
        },
        {
          "output_type": "display_data",
          "data": {
            "image/png": "[encoded data removed]",
            "text/plain": [
              "<Figure size 1800x504 with 1 Axes>"
            ]
          },
          "metadata": {
            "tags": []
          }
        },
        {
          "output_type": "display_data",
          "data": {
            "image/png": "[encoded data removed]",
            "text/plain": [
              "<Figure size 1800x504 with 1 Axes>"
            ]
          },
          "metadata": {
            "tags": []
          }
        }
      ]
    },
    {
      "cell_type": "markdown",
      "metadata": {
        "id": "llfK11PVXzJ6"
      },
      "source": [
        "# How well our models generalize?\n",
        "* Let's measure them."
      ]
    },
    {
      "cell_type": "code",
      "metadata": {
        "id": "ExUj-Sb_Y00r",
        "outputId": "77546427-e84b-43c2-c7ad-24e74e5cc9e7",
        "colab": {
          "base_uri": "https://localhost:8080/",
          "height": 419
        }
      },
      "source": [
        "X_val"
      ],
      "execution_count": null,
      "outputs": [
        {
          "output_type": "execute_result",
          "data": {
            "text/html": [
              "<div>\n",
              "<style scoped>\n",
              "    .dataframe tbody tr th:only-of-type {\n",
              "        vertical-align: middle;\n",
              "    }\n",
              "\n",
              "    .dataframe tbody tr th {\n",
              "        vertical-align: top;\n",
              "    }\n",
              "\n",
              "    .dataframe thead th {\n",
              "        text-align: right;\n",
              "    }\n",
              "</style>\n",
              "<table border=\"1\" class=\"dataframe\">\n",
              "  <thead>\n",
              "    <tr style=\"text-align: right;\">\n",
              "      <th></th>\n",
              "      <th>male</th>\n",
              "      <th>age</th>\n",
              "      <th>currentSmoker</th>\n",
              "      <th>cigsPerDay</th>\n",
              "      <th>BPMeds</th>\n",
              "      <th>prevalentStroke</th>\n",
              "      <th>prevalentHyp</th>\n",
              "      <th>diabetes</th>\n",
              "      <th>totChol</th>\n",
              "      <th>sysBP</th>\n",
              "      <th>diaBP</th>\n",
              "      <th>BMI</th>\n",
              "      <th>heartRate</th>\n",
              "      <th>glucose</th>\n",
              "    </tr>\n",
              "  </thead>\n",
              "  <tbody>\n",
              "    <tr>\n",
              "      <th>554</th>\n",
              "      <td>0</td>\n",
              "      <td>0.055723</td>\n",
              "      <td>1</td>\n",
              "      <td>0.911680</td>\n",
              "      <td>0.0</td>\n",
              "      <td>0</td>\n",
              "      <td>1</td>\n",
              "      <td>0</td>\n",
              "      <td>-0.536787</td>\n",
              "      <td>0.344096</td>\n",
              "      <td>-0.082344</td>\n",
              "      <td>-0.890853</td>\n",
              "      <td>-1.005430</td>\n",
              "      <td>-0.441962</td>\n",
              "    </tr>\n",
              "    <tr>\n",
              "      <th>4110</th>\n",
              "      <td>1</td>\n",
              "      <td>-0.527305</td>\n",
              "      <td>0</td>\n",
              "      <td>-0.766668</td>\n",
              "      <td>0.0</td>\n",
              "      <td>0</td>\n",
              "      <td>0</td>\n",
              "      <td>0</td>\n",
              "      <td>-0.379403</td>\n",
              "      <td>0.298881</td>\n",
              "      <td>-0.750960</td>\n",
              "      <td>0.365646</td>\n",
              "      <td>-0.502528</td>\n",
              "      <td>0.796023</td>\n",
              "    </tr>\n",
              "    <tr>\n",
              "      <th>2231</th>\n",
              "      <td>1</td>\n",
              "      <td>0.288934</td>\n",
              "      <td>0</td>\n",
              "      <td>-0.766668</td>\n",
              "      <td>0.0</td>\n",
              "      <td>0</td>\n",
              "      <td>0</td>\n",
              "      <td>0</td>\n",
              "      <td>1.082025</td>\n",
              "      <td>-1.012362</td>\n",
              "      <td>-0.333075</td>\n",
              "      <td>-0.591339</td>\n",
              "      <td>-0.753979</td>\n",
              "      <td>-0.751458</td>\n",
              "    </tr>\n",
              "    <tr>\n",
              "      <th>943</th>\n",
              "      <td>1</td>\n",
              "      <td>-0.177488</td>\n",
              "      <td>1</td>\n",
              "      <td>-0.011412</td>\n",
              "      <td>0.0</td>\n",
              "      <td>0</td>\n",
              "      <td>1</td>\n",
              "      <td>0</td>\n",
              "      <td>-0.761622</td>\n",
              "      <td>-0.673247</td>\n",
              "      <td>0.753426</td>\n",
              "      <td>0.465484</td>\n",
              "      <td>0.335642</td>\n",
              "      <td>1.459229</td>\n",
              "    </tr>\n",
              "    <tr>\n",
              "      <th>687</th>\n",
              "      <td>0</td>\n",
              "      <td>-0.527305</td>\n",
              "      <td>1</td>\n",
              "      <td>0.911680</td>\n",
              "      <td>0.0</td>\n",
              "      <td>0</td>\n",
              "      <td>0</td>\n",
              "      <td>0</td>\n",
              "      <td>-1.818347</td>\n",
              "      <td>-0.605425</td>\n",
              "      <td>0.001233</td>\n",
              "      <td>-0.929814</td>\n",
              "      <td>-0.670162</td>\n",
              "      <td>-0.176680</td>\n",
              "    </tr>\n",
              "    <tr>\n",
              "      <th>...</th>\n",
              "      <td>...</td>\n",
              "      <td>...</td>\n",
              "      <td>...</td>\n",
              "      <td>...</td>\n",
              "      <td>...</td>\n",
              "      <td>...</td>\n",
              "      <td>...</td>\n",
              "      <td>...</td>\n",
              "      <td>...</td>\n",
              "      <td>...</td>\n",
              "      <td>...</td>\n",
              "      <td>...</td>\n",
              "      <td>...</td>\n",
              "      <td>...</td>\n",
              "    </tr>\n",
              "    <tr>\n",
              "      <th>1766</th>\n",
              "      <td>1</td>\n",
              "      <td>-1.226939</td>\n",
              "      <td>0</td>\n",
              "      <td>-0.766668</td>\n",
              "      <td>0.0</td>\n",
              "      <td>0</td>\n",
              "      <td>1</td>\n",
              "      <td>0</td>\n",
              "      <td>1.868948</td>\n",
              "      <td>-0.424563</td>\n",
              "      <td>0.586272</td>\n",
              "      <td>-0.340526</td>\n",
              "      <td>0.754726</td>\n",
              "      <td>-0.574603</td>\n",
              "    </tr>\n",
              "    <tr>\n",
              "      <th>367</th>\n",
              "      <td>1</td>\n",
              "      <td>1.105174</td>\n",
              "      <td>0</td>\n",
              "      <td>-0.766668</td>\n",
              "      <td>0.0</td>\n",
              "      <td>0</td>\n",
              "      <td>0</td>\n",
              "      <td>0</td>\n",
              "      <td>1.014574</td>\n",
              "      <td>-0.831501</td>\n",
              "      <td>-1.335999</td>\n",
              "      <td>0.536101</td>\n",
              "      <td>-1.508331</td>\n",
              "      <td>-0.132466</td>\n",
              "    </tr>\n",
              "    <tr>\n",
              "      <th>1879</th>\n",
              "      <td>0</td>\n",
              "      <td>1.338385</td>\n",
              "      <td>0</td>\n",
              "      <td>-0.766668</td>\n",
              "      <td>0.0</td>\n",
              "      <td>0</td>\n",
              "      <td>0</td>\n",
              "      <td>0</td>\n",
              "      <td>-0.003443</td>\n",
              "      <td>-0.786286</td>\n",
              "      <td>-1.921038</td>\n",
              "      <td>-0.082408</td>\n",
              "      <td>0.000374</td>\n",
              "      <td>0.751809</td>\n",
              "    </tr>\n",
              "    <tr>\n",
              "      <th>3643</th>\n",
              "      <td>0</td>\n",
              "      <td>-1.576756</td>\n",
              "      <td>0</td>\n",
              "      <td>-0.766668</td>\n",
              "      <td>0.0</td>\n",
              "      <td>0</td>\n",
              "      <td>0</td>\n",
              "      <td>0</td>\n",
              "      <td>-1.098875</td>\n",
              "      <td>-0.921931</td>\n",
              "      <td>-0.416652</td>\n",
              "      <td>-0.803190</td>\n",
              "      <td>-1.089247</td>\n",
              "      <td>-0.397748</td>\n",
              "    </tr>\n",
              "    <tr>\n",
              "      <th>1236</th>\n",
              "      <td>1</td>\n",
              "      <td>2.154625</td>\n",
              "      <td>0</td>\n",
              "      <td>-0.766668</td>\n",
              "      <td>0.0</td>\n",
              "      <td>0</td>\n",
              "      <td>0</td>\n",
              "      <td>0</td>\n",
              "      <td>-0.154568</td>\n",
              "      <td>-0.379348</td>\n",
              "      <td>-1.085268</td>\n",
              "      <td>-0.727703</td>\n",
              "      <td>-0.502528</td>\n",
              "      <td>-0.972527</td>\n",
              "    </tr>\n",
              "  </tbody>\n",
              "</table>\n",
              "<p>678 rows × 14 columns</p>\n",
              "</div>"
            ],
            "text/plain": [
              "      male       age  currentSmoker  ...       BMI  heartRate   glucose\n",
              "554      0  0.055723              1  ... -0.890853  -1.005430 -0.441962\n",
              "4110     1 -0.527305              0  ...  0.365646  -0.502528  0.796023\n",
              "2231     1  0.288934              0  ... -0.591339  -0.753979 -0.751458\n",
              "943      1 -0.177488              1  ...  0.465484   0.335642  1.459229\n",
              "687      0 -0.527305              1  ... -0.929814  -0.670162 -0.176680\n",
              "...    ...       ...            ...  ...       ...        ...       ...\n",
              "1766     1 -1.226939              0  ... -0.340526   0.754726 -0.574603\n",
              "367      1  1.105174              0  ...  0.536101  -1.508331 -0.132466\n",
              "1879     0  1.338385              0  ... -0.082408   0.000374  0.751809\n",
              "3643     0 -1.576756              0  ... -0.803190  -1.089247 -0.397748\n",
              "1236     1  2.154625              0  ... -0.727703  -0.502528 -0.972527\n",
              "\n",
              "[678 rows x 14 columns]"
            ]
          },
          "metadata": {
            "tags": []
          },
          "execution_count": 139
        }
      ]
    },
    {
      "cell_type": "markdown",
      "metadata": {
        "id": "CJ9aW32sdqIr"
      },
      "source": [
        "## Predictions"
      ]
    },
    {
      "cell_type": "code",
      "metadata": {
        "id": "-EkdjopQXyzs"
      },
      "source": [
        "Predictions_val_Logistic_Vanilla = log_reg.predict(X_val)\n",
        "\n",
        "proba_logistic_predictions_val = log_reg.predict_proba(X_val)\n",
        "treshold = 0.30\n",
        "Predictions_val_Logistic_Threshold = (proba_logistic_predictions_val[:,1] > treshold)\n",
        "\n",
        "\n",
        "Predictions_val_SVC= svc.predict(X_val)\n",
        "Predictions_val_Decision_Tree= tree_clf.predict(X_val)\n",
        "Predictions_val_Bagging_Logistic= bagging_clf_grid.predict(X_val)\n",
        "Predictions_val_Pasting_Logistic = Pasting_clf_grid.predict(X_val)\n",
        "Predictions_val_Random_forest= rnd_clf_grid.predict(X_val)\n",
        "\n"
      ],
      "execution_count": null,
      "outputs": []
    },
    {
      "cell_type": "markdown",
      "metadata": {
        "id": "nClzTyescwdO"
      },
      "source": [
        "## Accuracy"
      ]
    },
    {
      "cell_type": "code",
      "metadata": {
        "id": "OLUj01s0dw_j"
      },
      "source": [
        "Accuracy_score_val_Logistic_Vanilla = accuracy_score(y_val, Predictions_val_Logistic_Vanilla )\n",
        "Accuracy_score_val_Logistic_Threshold = accuracy_score(y_val, Predictions_val_Logistic_Threshold )\n",
        "Accuracy_score_val_SVC = accuracy_score(y_val, Predictions_val_SVC )\n",
        "Accuracy_score_val_Decision_Tree = accuracy_score(y_val, Predictions_val_Decision_Tree )\n",
        "Accuracy_score_val_Bagging_Logistic = accuracy_score(y_val, Predictions_val_Bagging_Logistic )\n",
        "Accuracy_score_val_Pasting_Logistic = accuracy_score(y_val,  Predictions_val_Pasting_Logistic)\n",
        "Accuracy_score_val_Random_forest = accuracy_score(y_val, Predictions_val_Random_forest )"
      ],
      "execution_count": null,
      "outputs": []
    },
    {
      "cell_type": "markdown",
      "metadata": {
        "id": "hokKaEc2dj_V"
      },
      "source": [
        "## Recall Score"
      ]
    },
    {
      "cell_type": "code",
      "metadata": {
        "id": "bW_TaPGYcvOs"
      },
      "source": [
        "Recall_score_val_Logistic_Vanilla = recall_score(y_val, Predictions_val_Logistic_Vanilla)\n",
        "Recall_score_val_Logistic_Threshold = recall_score(y_val, Predictions_val_Logistic_Threshold)\n",
        "Recall_score_val_SVC = recall_score(y_val,  Predictions_val_SVC )\n",
        "Recall_score_val_Decision_Tree = recall_score(y_val, Predictions_val_Decision_Tree)\n",
        "Recall_score_val_Bagging_Logistic = recall_score(y_val,Predictions_val_Bagging_Logistic )\n",
        "Recall_score_val_Pasting_Logistic = recall_score(y_val,  Predictions_val_Pasting_Logistic)\n",
        "Recall_score_val_Random_forest = recall_score(y_val,Predictions_val_Random_forest  )"
      ],
      "execution_count": null,
      "outputs": []
    },
    {
      "cell_type": "markdown",
      "metadata": {
        "id": "5utt7-ijewra"
      },
      "source": [
        "## Confusion Matrix "
      ]
    },
    {
      "cell_type": "code",
      "metadata": {
        "id": "WOnAFBrdevBn"
      },
      "source": [
        "Confusion_Matrix_val_Logistic_Vanilla = confusion_matrix(y_val, Predictions_val_Logistic_Vanilla)\n",
        "Confusion_Matrix_val_Logistic_Threshold = confusion_matrix(y_val, Predictions_val_Logistic_Threshold)\n",
        "Confusion_Matrix_val_SVC = confusion_matrix(y_val,Predictions_val_SVC )\n",
        "Confusion_Matrix_val_Decision_Tree = confusion_matrix(y_val,Predictions_val_Decision_Tree )\n",
        "Confusion_Matrix_val_Bagging_Logistic = confusion_matrix(y_val, Predictions_val_Bagging_Logistic )\n",
        "Confusion_Matrix_val_Pasting_Logistic = confusion_matrix(y_val, Predictions_val_Pasting_Logistic )\n",
        "Confusion_Matrix_val_Random_forest = confusion_matrix(y_val,Predictions_val_Random_forest )"
      ],
      "execution_count": null,
      "outputs": []
    },
    {
      "cell_type": "code",
      "metadata": {
        "id": "tO-vr0iigCZQ"
      },
      "source": [
        "models_name_val =  [\"Logistic Regression Vanilla\", \"Logistic Regression Threshold\", \"svc\", \"Decision Tree\", \"Bagging Logistic Reagression\", \"Pasting Logistic Regression\", \"Random Forest\"] \n",
        "train_accuracy_val = [Accuracy_score_val_Logistic_Vanilla,Accuracy_score_val_Logistic_Threshold,Accuracy_score_val_SVC,Accuracy_score_val_Decision_Tree,Accuracy_score_val_Bagging_Logistic,Accuracy_score_val_Pasting_Logistic,Accuracy_score_val_Random_forest]\n",
        "recall_scores_val = [ Recall_score_val_Logistic_Vanilla,Recall_score_val_Logistic_Threshold,Recall_score_val_SVC,Recall_score_val_Decision_Tree,Recall_score_val_Bagging_Logistic,Recall_score_val_Pasting_Logistic,Recall_score_val_Random_forest]\n",
        "confusion_matrices_val = [Confusion_Matrix_val_Logistic_Vanilla,Confusion_Matrix_val_Logistic_Threshold,Confusion_Matrix_val_SVC,Confusion_Matrix_val_Decision_Tree,Confusion_Matrix_val_Bagging_Logistic,Confusion_Matrix_val_Pasting_Logistic,Confusion_Matrix_val_Random_forest]"
      ],
      "execution_count": null,
      "outputs": []
    },
    {
      "cell_type": "code",
      "metadata": {
        "id": "M1r2XF5Cg-fh",
        "outputId": "a42a94eb-8da3-4c01-fd13-ab2ff5b05bc6",
        "colab": {
          "base_uri": "https://localhost:8080/"
        }
      },
      "source": [
        "confusion_matrices_np_val = np.array(confusion_matrices_val)\n",
        "confusion_matrices_np_val"
      ],
      "execution_count": null,
      "outputs": [
        {
          "output_type": "execute_result",
          "data": {
            "text/plain": [
              "array([[[567,  10],\n",
              "        [ 94,   7]],\n",
              "\n",
              "       [[517,  60],\n",
              "        [ 74,  27]],\n",
              "\n",
              "       [[568,   9],\n",
              "        [ 92,   9]],\n",
              "\n",
              "       [[501,  76],\n",
              "        [ 78,  23]],\n",
              "\n",
              "       [[567,  10],\n",
              "        [ 94,   7]],\n",
              "\n",
              "       [[567,  10],\n",
              "        [ 94,   7]],\n",
              "\n",
              "       [[569,   8],\n",
              "        [ 90,  11]]])"
            ]
          },
          "metadata": {
            "tags": []
          },
          "execution_count": 147
        }
      ]
    },
    {
      "cell_type": "code",
      "metadata": {
        "id": "QAAvxv1DfU0l"
      },
      "source": [
        "scores_val = pd.DataFrame(columns=[\"Model\", \"Accuracy\", \"Recall_Scores\"])\n",
        "scores_val['Model'] = models_name_val\n",
        "scores_val[\"Accuracy\"]= train_accuracy_val\n",
        "scores_val['Recall_Scores']= recall_scores_val\n",
        "scores_val[\"True_Negatives\"] =confusion_matrices_np_val[:, 0, 0]\n",
        "scores_val[\"False_Positives\"] =confusion_matrices_np_val[:, 0, 1]\n",
        "scores_val[\"False_Negatives\"] =confusion_matrices_np_val[:, 1, 0]\n",
        "scores_val[\"True_Positives\"] =confusion_matrices_np_val[:, 1, 1]"
      ],
      "execution_count": null,
      "outputs": []
    },
    {
      "cell_type": "code",
      "metadata": {
        "id": "rHKjKHKjhTfs",
        "outputId": "5c07d92a-40b7-4ee0-97ea-32d148a1a77d",
        "colab": {
          "base_uri": "https://localhost:8080/",
          "height": 266
        }
      },
      "source": [
        "scores_val"
      ],
      "execution_count": null,
      "outputs": [
        {
          "output_type": "execute_result",
          "data": {
            "text/html": [
              "<div>\n",
              "<style scoped>\n",
              "    .dataframe tbody tr th:only-of-type {\n",
              "        vertical-align: middle;\n",
              "    }\n",
              "\n",
              "    .dataframe tbody tr th {\n",
              "        vertical-align: top;\n",
              "    }\n",
              "\n",
              "    .dataframe thead th {\n",
              "        text-align: right;\n",
              "    }\n",
              "</style>\n",
              "<table border=\"1\" class=\"dataframe\">\n",
              "  <thead>\n",
              "    <tr style=\"text-align: right;\">\n",
              "      <th></th>\n",
              "      <th>Model</th>\n",
              "      <th>Accuracy</th>\n",
              "      <th>Recall_Scores</th>\n",
              "      <th>True_Negatives</th>\n",
              "      <th>False_Positives</th>\n",
              "      <th>False_Negatives</th>\n",
              "      <th>True_Positives</th>\n",
              "    </tr>\n",
              "  </thead>\n",
              "  <tbody>\n",
              "    <tr>\n",
              "      <th>0</th>\n",
              "      <td>Logistic Regression Vanilla</td>\n",
              "      <td>0.846608</td>\n",
              "      <td>0.069307</td>\n",
              "      <td>567</td>\n",
              "      <td>10</td>\n",
              "      <td>94</td>\n",
              "      <td>7</td>\n",
              "    </tr>\n",
              "    <tr>\n",
              "      <th>1</th>\n",
              "      <td>Logistic Regression Threshold</td>\n",
              "      <td>0.802360</td>\n",
              "      <td>0.267327</td>\n",
              "      <td>517</td>\n",
              "      <td>60</td>\n",
              "      <td>74</td>\n",
              "      <td>27</td>\n",
              "    </tr>\n",
              "    <tr>\n",
              "      <th>2</th>\n",
              "      <td>svc</td>\n",
              "      <td>0.851032</td>\n",
              "      <td>0.089109</td>\n",
              "      <td>568</td>\n",
              "      <td>9</td>\n",
              "      <td>92</td>\n",
              "      <td>9</td>\n",
              "    </tr>\n",
              "    <tr>\n",
              "      <th>3</th>\n",
              "      <td>Decision Tree</td>\n",
              "      <td>0.772861</td>\n",
              "      <td>0.227723</td>\n",
              "      <td>501</td>\n",
              "      <td>76</td>\n",
              "      <td>78</td>\n",
              "      <td>23</td>\n",
              "    </tr>\n",
              "    <tr>\n",
              "      <th>4</th>\n",
              "      <td>Bagging Logistic Reagression</td>\n",
              "      <td>0.846608</td>\n",
              "      <td>0.069307</td>\n",
              "      <td>567</td>\n",
              "      <td>10</td>\n",
              "      <td>94</td>\n",
              "      <td>7</td>\n",
              "    </tr>\n",
              "    <tr>\n",
              "      <th>5</th>\n",
              "      <td>Pasting Logistic Regression</td>\n",
              "      <td>0.846608</td>\n",
              "      <td>0.069307</td>\n",
              "      <td>567</td>\n",
              "      <td>10</td>\n",
              "      <td>94</td>\n",
              "      <td>7</td>\n",
              "    </tr>\n",
              "    <tr>\n",
              "      <th>6</th>\n",
              "      <td>Random Forest</td>\n",
              "      <td>0.855457</td>\n",
              "      <td>0.108911</td>\n",
              "      <td>569</td>\n",
              "      <td>8</td>\n",
              "      <td>90</td>\n",
              "      <td>11</td>\n",
              "    </tr>\n",
              "  </tbody>\n",
              "</table>\n",
              "</div>"
            ],
            "text/plain": [
              "                           Model  Accuracy  ...  False_Negatives  True_Positives\n",
              "0    Logistic Regression Vanilla  0.846608  ...               94               7\n",
              "1  Logistic Regression Threshold  0.802360  ...               74              27\n",
              "2                            svc  0.851032  ...               92               9\n",
              "3                  Decision Tree  0.772861  ...               78              23\n",
              "4   Bagging Logistic Reagression  0.846608  ...               94               7\n",
              "5    Pasting Logistic Regression  0.846608  ...               94               7\n",
              "6                  Random Forest  0.855457  ...               90              11\n",
              "\n",
              "[7 rows x 7 columns]"
            ]
          },
          "metadata": {
            "tags": []
          },
          "execution_count": 150
        }
      ]
    },
    {
      "cell_type": "code",
      "metadata": {
        "id": "bXHxB5jphyql",
        "outputId": "0b4e3974-7c53-417b-b037-9a55deb40cc0",
        "colab": {
          "base_uri": "https://localhost:8080/",
          "height": 1000
        }
      },
      "source": [
        "sns.set_theme(style=\"whitegrid\")\n",
        "plt.figure(figsize=(25,7))\n",
        "plt.xlabel(xlabel=\"Model\",fontsize=20)\n",
        "plt.ylabel(ylabel=\"Accuracy\",fontsize=20)\n",
        "sns.barplot(x=\"Model\", y=\"Accuracy\", data=scores_val)\n",
        "plt.savefig('Accuracy_val.png')\n",
        "files.download('Accuracy_val.png')\n",
        "\n",
        "plt.figure(figsize=(25,7))\n",
        "plt.xlabel(xlabel=\"Model\",fontsize=20)\n",
        "plt.ylabel(ylabel=\"Recall_Scores\",fontsize=20)\n",
        "sns.barplot(x=\"Model\", y=\"Recall_Scores\", data=scores_val)\n",
        "plt.savefig('Recall_Scores.png')\n",
        "files.download('Recall_Scores.png')\n",
        "\n",
        "plt.figure(figsize=(25,7))\n",
        "plt.xlabel(xlabel=\"Model\",fontsize=20)\n",
        "plt.ylabel(ylabel=\"True_Positives\",fontsize=20)\n",
        "sns.barplot(x=\"Model\", y=\"True_Positives\", data=scores_val)\n",
        "plt.savefig('True_Positives.png')\n",
        "files.download('True_Positives.png')\n",
        "\n",
        "plt.figure(figsize=(25,7))\n",
        "plt.xlabel(xlabel=\"Model\",fontsize=20)\n",
        "plt.ylabel(ylabel=\"False_Negatives\",fontsize=20)\n",
        "sns.barplot(x=\"Model\", y=\"False_Negatives\", data=scores_val)\n",
        "plt.savefig('False_Negatives.png')\n",
        "files.download('False_Negatives.png')\n"
      ],
      "execution_count": null,
      "outputs": [
        {
          "output_type": "display_data",
          "data": {
            "application/javascript": [
              "\n",
              "    async function download(id, filename, size) {\n",
              "      if (!google.colab.kernel.accessAllowed) {\n",
              "        return;\n",
              "      }\n",
              "      const div = document.createElement('div');\n",
              "      const label = document.createElement('label');\n",
              "      label.textContent = `Downloading \"${filename}\": `;\n",
              "      div.appendChild(label);\n",
              "      const progress = document.createElement('progress');\n",
              "      progress.max = size;\n",
              "      div.appendChild(progress);\n",
              "      document.body.appendChild(div);\n",
              "\n",
              "      const buffers = [];\n",
              "      let downloaded = 0;\n",
              "\n",
              "      const channel = await google.colab.kernel.comms.open(id);\n",
              "      // Send a message to notify the kernel that we're ready.\n",
              "      channel.send({})\n",
              "\n",
              "      for await (const message of channel.messages) {\n",
              "        // Send a message to notify the kernel that we're ready.\n",
              "        channel.send({})\n",
              "        if (message.buffers) {\n",
              "          for (const buffer of message.buffers) {\n",
              "            buffers.push(buffer);\n",
              "            downloaded += buffer.byteLength;\n",
              "            progress.value = downloaded;\n",
              "          }\n",
              "        }\n",
              "      }\n",
              "      const blob = new Blob(buffers, {type: 'application/binary'});\n",
              "      const a = document.createElement('a');\n",
              "      a.href = window.URL.createObjectURL(blob);\n",
              "      a.download = filename;\n",
              "      div.appendChild(a);\n",
              "      a.click();\n",
              "      div.remove();\n",
              "    }\n",
              "  "
            ],
            "text/plain": [
              "<IPython.core.display.Javascript object>"
            ]
          },
          "metadata": {
            "tags": []
          }
        },
        {
          "output_type": "display_data",
          "data": {
            "application/javascript": [
              "download(\"download_743df438-dda6-4afa-a8c6-a6f92ce58944\", \"Accuracy_val.png\", 21215)"
            ],
            "text/plain": [
              "<IPython.core.display.Javascript object>"
            ]
          },
          "metadata": {
            "tags": []
          }
        },
        {
          "output_type": "display_data",
          "data": {
            "application/javascript": [
              "\n",
              "    async function download(id, filename, size) {\n",
              "      if (!google.colab.kernel.accessAllowed) {\n",
              "        return;\n",
              "      }\n",
              "      const div = document.createElement('div');\n",
              "      const label = document.createElement('label');\n",
              "      label.textContent = `Downloading \"${filename}\": `;\n",
              "      div.appendChild(label);\n",
              "      const progress = document.createElement('progress');\n",
              "      progress.max = size;\n",
              "      div.appendChild(progress);\n",
              "      document.body.appendChild(div);\n",
              "\n",
              "      const buffers = [];\n",
              "      let downloaded = 0;\n",
              "\n",
              "      const channel = await google.colab.kernel.comms.open(id);\n",
              "      // Send a message to notify the kernel that we're ready.\n",
              "      channel.send({})\n",
              "\n",
              "      for await (const message of channel.messages) {\n",
              "        // Send a message to notify the kernel that we're ready.\n",
              "        channel.send({})\n",
              "        if (message.buffers) {\n",
              "          for (const buffer of message.buffers) {\n",
              "            buffers.push(buffer);\n",
              "            downloaded += buffer.byteLength;\n",
              "            progress.value = downloaded;\n",
              "          }\n",
              "        }\n",
              "      }\n",
              "      const blob = new Blob(buffers, {type: 'application/binary'});\n",
              "      const a = document.createElement('a');\n",
              "      a.href = window.URL.createObjectURL(blob);\n",
              "      a.download = filename;\n",
              "      div.appendChild(a);\n",
              "      a.click();\n",
              "      div.remove();\n",
              "    }\n",
              "  "
            ],
            "text/plain": [
              "<IPython.core.display.Javascript object>"
            ]
          },
          "metadata": {
            "tags": []
          }
        },
        {
          "output_type": "display_data",
          "data": {
            "application/javascript": [
              "download(\"download_247eea24-db51-4a2d-a874-d251bc06723d\", \"Recall_Scores.png\", 21589)"
            ],
            "text/plain": [
              "<IPython.core.display.Javascript object>"
            ]
          },
          "metadata": {
            "tags": []
          }
        },
        {
          "output_type": "display_data",
          "data": {
            "application/javascript": [
              "\n",
              "    async function download(id, filename, size) {\n",
              "      if (!google.colab.kernel.accessAllowed) {\n",
              "        return;\n",
              "      }\n",
              "      const div = document.createElement('div');\n",
              "      const label = document.createElement('label');\n",
              "      label.textContent = `Downloading \"${filename}\": `;\n",
              "      div.appendChild(label);\n",
              "      const progress = document.createElement('progress');\n",
              "      progress.max = size;\n",
              "      div.appendChild(progress);\n",
              "      document.body.appendChild(div);\n",
              "\n",
              "      const buffers = [];\n",
              "      let downloaded = 0;\n",
              "\n",
              "      const channel = await google.colab.kernel.comms.open(id);\n",
              "      // Send a message to notify the kernel that we're ready.\n",
              "      channel.send({})\n",
              "\n",
              "      for await (const message of channel.messages) {\n",
              "        // Send a message to notify the kernel that we're ready.\n",
              "        channel.send({})\n",
              "        if (message.buffers) {\n",
              "          for (const buffer of message.buffers) {\n",
              "            buffers.push(buffer);\n",
              "            downloaded += buffer.byteLength;\n",
              "            progress.value = downloaded;\n",
              "          }\n",
              "        }\n",
              "      }\n",
              "      const blob = new Blob(buffers, {type: 'application/binary'});\n",
              "      const a = document.createElement('a');\n",
              "      a.href = window.URL.createObjectURL(blob);\n",
              "      a.download = filename;\n",
              "      div.appendChild(a);\n",
              "      a.click();\n",
              "      div.remove();\n",
              "    }\n",
              "  "
            ],
            "text/plain": [
              "<IPython.core.display.Javascript object>"
            ]
          },
          "metadata": {
            "tags": []
          }
        },
        {
          "output_type": "display_data",
          "data": {
            "application/javascript": [
              "download(\"download_677548e4-d265-4eac-8ff7-fc4c4a86f6c0\", \"True_Positives.png\", 19614)"
            ],
            "text/plain": [
              "<IPython.core.display.Javascript object>"
            ]
          },
          "metadata": {
            "tags": []
          }
        },
        {
          "output_type": "display_data",
          "data": {
            "application/javascript": [
              "\n",
              "    async function download(id, filename, size) {\n",
              "      if (!google.colab.kernel.accessAllowed) {\n",
              "        return;\n",
              "      }\n",
              "      const div = document.createElement('div');\n",
              "      const label = document.createElement('label');\n",
              "      label.textContent = `Downloading \"${filename}\": `;\n",
              "      div.appendChild(label);\n",
              "      const progress = document.createElement('progress');\n",
              "      progress.max = size;\n",
              "      div.appendChild(progress);\n",
              "      document.body.appendChild(div);\n",
              "\n",
              "      const buffers = [];\n",
              "      let downloaded = 0;\n",
              "\n",
              "      const channel = await google.colab.kernel.comms.open(id);\n",
              "      // Send a message to notify the kernel that we're ready.\n",
              "      channel.send({})\n",
              "\n",
              "      for await (const message of channel.messages) {\n",
              "        // Send a message to notify the kernel that we're ready.\n",
              "        channel.send({})\n",
              "        if (message.buffers) {\n",
              "          for (const buffer of message.buffers) {\n",
              "            buffers.push(buffer);\n",
              "            downloaded += buffer.byteLength;\n",
              "            progress.value = downloaded;\n",
              "          }\n",
              "        }\n",
              "      }\n",
              "      const blob = new Blob(buffers, {type: 'application/binary'});\n",
              "      const a = document.createElement('a');\n",
              "      a.href = window.URL.createObjectURL(blob);\n",
              "      a.download = filename;\n",
              "      div.appendChild(a);\n",
              "      a.click();\n",
              "      div.remove();\n",
              "    }\n",
              "  "
            ],
            "text/plain": [
              "<IPython.core.display.Javascript object>"
            ]
          },
          "metadata": {
            "tags": []
          }
        },
        {
          "output_type": "display_data",
          "data": {
            "application/javascript": [
              "download(\"download_6ea91944-bbf6-459a-a254-e6a3cea4965a\", \"False_Negatives.png\", 20874)"
            ],
            "text/plain": [
              "<IPython.core.display.Javascript object>"
            ]
          },
          "metadata": {
            "tags": []
          }
        },
        {
          "output_type": "display_data",
          "data": {
            "image/png": "[encoded data removed]",
            "text/plain": [
              "<Figure size 1800x504 with 1 Axes>"
            ]
          },
          "metadata": {
            "tags": []
          }
        },
        {
          "output_type": "display_data",
          "data": {
            "image/png": "[encoded data removed]",
            "text/plain": [
              "<Figure size 1800x504 with 1 Axes>"
            ]
          },
          "metadata": {
            "tags": []
          }
        },
        {
          "output_type": "display_data",
          "data": {
            "image/png": "[encoded data removed]",
            "text/plain": [
              "<Figure size 1800x504 with 1 Axes>"
            ]
          },
          "metadata": {
            "tags": []
          }
        },
        {
          "output_type": "display_data",
          "data": {
            "image/png": "[encoded data removed]",
            "text/plain": [
              "<Figure size 1800x504 with 1 Axes>"
            ]
          },
          "metadata": {
            "tags": []
          }
        }
      ]
    },
    {
      "cell_type": "markdown",
      "metadata": {
        "id": "M0N_pVwViqk2"
      },
      "source": [
        "## Insights:\n",
        "* All the models have a good accuracy on the Validarion Set (good generalization).\n",
        "* The Decision Tree Model did not overvits the new data as hard as we thought.\n",
        "* Logistic Regression Model's recall is the best, but the instances must have  30% probabilities or more of being a true instance. \n",
        "* Our best models so far, for this problem, are Decision Tree and Logistic Regression with a threshold of 0.30"
      ]
    }
  ]
}