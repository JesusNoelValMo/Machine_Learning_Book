{
  "nbformat": 4,
  "nbformat_minor": 0,
  "metadata": {
    "colab": {
      "name": "Logistic_reg_heart_disease.ipynb",
      "provenance": [],
      "collapsed_sections": []
    },
    "kernelspec": {
      "name": "python3",
      "display_name": "Python 3"
    }
  },
  "cells": [
    {
      "cell_type": "markdown",
      "metadata": {
        "id": "Rp1yIP1Ejo4n"
      },
      "source": [
        "**# Introduction**\n",
        "\n",
        "* The next project is based on the kaggle dataset \"Logistic regression To predict heart disease\" and you can find it in this [link](https://www.kaggle.com/dileep070/heart-disease-prediction-using-logistic-regression)\n",
        "\n",
        "* The goal of this project is to have a better understanding on the factors that rise the probability of heart disease.\n",
        "\n",
        "* The features are correctly described in the kaggle dataset.\n",
        "\n",
        "* We will use some Logistic models in order to predict the probability of have heart problems."
      ]
    },
    {
      "cell_type": "markdown",
      "metadata": {
        "id": "1mQdDQJvlbkX"
      },
      "source": [
        "#Let's import our libraries\n"
      ]
    },
    {
      "cell_type": "code",
      "metadata": {
        "id": "9Ysrd3S_iHPH"
      },
      "source": [
        "import pandas as pd\n",
        "import numpy as np\n",
        "import seaborn as sns \n",
        "import matplotlib.pyplot as plt\n"
      ],
      "execution_count": 210,
      "outputs": []
    },
    {
      "cell_type": "markdown",
      "metadata": {
        "id": "56osc8PnszyV"
      },
      "source": [
        "Let's collect the data from kaggle\n"
      ]
    },
    {
      "cell_type": "code",
      "metadata": {
        "id": "oZvuxJYqs3Cl",
        "outputId": "7a7675b3-f333-4ab8-deed-a38074b63bdc",
        "colab": {
          "base_uri": "https://localhost:8080/"
        }
      },
      "source": [
        "!pip install -q kaggle"
      ],
      "execution_count": 211,
      "outputs": [
        {
          "output_type": "stream",
          "text": [
            "n\n",
            "n\n",
            "\n",
            "n\n",
            "n\n"
          ],
          "name": "stdout"
        }
      ]
    },
    {
      "cell_type": "code",
      "metadata": {
        "id": "hzN2nnBKs7b8",
        "outputId": "22716152-eac8-4ee6-bb24-f12fea004c1c",
        "colab": {
          "resources": {
            "http://localhost:8080/nbextensions/google.colab/files.js": {
              "data": "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",
              "ok": true,
              "headers": [
                [
                  "content-type",
                  "application/javascript"
                ]
              ],
              "status": 200,
              "status_text": ""
            }
          },
          "base_uri": "https://localhost:8080/",
          "height": 89
        }
      },
      "source": [
        "#Choice our kaggle.json downloaded file\n",
        "from google.colab import files\n",
        "files.upload()\n",
        "\n",
        "#Make directory named kaggle and copy kaggle.json file there.\n",
        "! mkdir ~/.kaggle\n",
        "! cp kaggle.json ~/.kaggle/\n"
      ],
      "execution_count": 212,
      "outputs": [
        {
          "output_type": "display_data",
          "data": {
            "text/html": [
              "\n",
              "     <input type=\"file\" id=\"files-2951bee6-c027-4507-bb0f-693163653279\" name=\"files[]\" multiple disabled\n",
              "        style=\"border:none\" />\n",
              "     <output id=\"result-2951bee6-c027-4507-bb0f-693163653279\">\n",
              "      Upload widget is only available when the cell has been executed in the\n",
              "      current browser session. Please rerun this cell to enable.\n",
              "      </output>\n",
              "      <script src=\"/nbextensions/google.colab/files.js\"></script> "
            ],
            "text/plain": [
              "<IPython.core.display.HTML object>"
            ]
          },
          "metadata": {
            "tags": []
          }
        },
        {
          "output_type": "stream",
          "text": [
            "Saving kaggle.json to kaggle (2).json\n",
            "mkdir: cannot create directory ‘/root/.kaggle’: File exists\n"
          ],
          "name": "stdout"
        }
      ]
    },
    {
      "cell_type": "code",
      "metadata": {
        "id": "wBiC7MjntH7E"
      },
      "source": [
        " ! chmod 600 ~/.kaggle/kaggle.json #Change the permissions of the file.n"
      ],
      "execution_count": 213,
      "outputs": []
    },
    {
      "cell_type": "code",
      "metadata": {
        "id": "LyBXSiD4tRn8",
        "outputId": "9b0d58e0-3890-4853-b32c-d414409f6c47",
        "colab": {
          "base_uri": "https://localhost:8080/"
        }
      },
      "source": [
        "! kaggle datasets list #- That's all ! You can check if everything's okay by running this command."
      ],
      "execution_count": 214,
      "outputs": [
        {
          "output_type": "stream",
          "text": [
            "401 - Unauthorized\n"
          ],
          "name": "stdout"
        }
      ]
    },
    {
      "cell_type": "code",
      "metadata": {
        "id": "VKjaei1ctaI0",
        "outputId": "b9b1d884-d622-4d17-a95e-484926eb4f6e",
        "colab": {
          "base_uri": "https://localhost:8080/"
        }
      },
      "source": [
        "\n",
        "! kaggle datasets download -d dileep070/heart-disease-prediction-using-logistic-regression\n",
        "\n",
        "! mkdir Logistic_reg_heart_disease_project_dataset\n",
        "#! cp heart-disease-prediction-using-logistic-regression.zip /Logistic_reg_heart_disease_project_datase/\n",
        "! unzip heart-disease-prediction-using-logistic-regression.zip -d Logistic_reg_heart_disease_project_dataset\n"
      ],
      "execution_count": 215,
      "outputs": [
        {
          "output_type": "stream",
          "text": [
            "401 - Unauthorized\n",
            "mkdir: cannot create directory ‘Logistic_reg_heart_disease_project_dataset’: File exists\n",
            "Archive:  heart-disease-prediction-using-logistic-regression.zip\n",
            "replace Logistic_reg_heart_disease_project_dataset/framingham.csv? [y]es, [n]o, [A]ll, [N]one, [r]ename: n\n"
          ],
          "name": "stdout"
        }
      ]
    },
    {
      "cell_type": "code",
      "metadata": {
        "id": "NNM6eCHfv15k",
        "outputId": "4aff465d-743b-4eef-d49b-e3ac720540ce",
        "colab": {
          "base_uri": "https://localhost:8080/"
        }
      },
      "source": [
        "!echo $PATH\n",
        "!ls"
      ],
      "execution_count": 216,
      "outputs": [
        {
          "output_type": "stream",
          "text": [
            "/usr/local/nvidia/bin:/usr/local/cuda/bin:/usr/local/sbin:/usr/local/bin:/usr/sbin:/usr/bin:/sbin:/bin:/tools/node/bin:/tools/google-cloud-sdk/bin:/opt/bin\n",
            "\n",
            " heart-disease-prediction-using-logistic-regression.zip\n",
            "'kaggle (1).json'\n",
            "'kaggle (2).json'\n",
            " kaggle.json\n",
            " Logistic_reg_heart_disease_project_dataset\n",
            " sample_data\n"
          ],
          "name": "stdout"
        }
      ]
    },
    {
      "cell_type": "code",
      "metadata": {
        "id": "FcacNk0x2z0y"
      },
      "source": [
        "!cd Logistic_reg_heart_disease_project_dataset"
      ],
      "execution_count": 217,
      "outputs": []
    },
    {
      "cell_type": "code",
      "metadata": {
        "id": "peok-yYi25w1",
        "outputId": "5ed12da3-77f3-40d1-e2c6-0d6c8bd0ac5a",
        "colab": {
          "base_uri": "https://localhost:8080/"
        }
      },
      "source": [
        "!ls Logistic_reg_heart_disease_project_dataset\n"
      ],
      "execution_count": 218,
      "outputs": [
        {
          "output_type": "stream",
          "text": [
            "\n",
            "framingham.csv\n"
          ],
          "name": "stdout"
        }
      ]
    },
    {
      "cell_type": "code",
      "metadata": {
        "id": "MkUZ-pgSwKn7"
      },
      "source": [
        "path = 'Logistic_reg_heart_disease_project_dataset/framingham.csv'"
      ],
      "execution_count": 219,
      "outputs": []
    },
    {
      "cell_type": "code",
      "metadata": {
        "id": "4vagOTcXwTOT"
      },
      "source": [
        "#Reading the saved dataset\n",
        "dataset = pd.read_csv(path)\n"
      ],
      "execution_count": 220,
      "outputs": []
    },
    {
      "cell_type": "code",
      "metadata": {
        "id": "Rv1yhSBG6vUU",
        "outputId": "fc19fc4b-5043-4d40-db9f-4052c6ef3ff7",
        "colab": {
          "base_uri": "https://localhost:8080/"
        }
      },
      "source": [
        "dataset.info()\n"
      ],
      "execution_count": 221,
      "outputs": [
        {
          "output_type": "stream",
          "text": [
            "<class 'pandas.core.frame.DataFrame'>\n",
            "RangeIndex: 4238 entries, 0 to 4237\n",
            "Data columns (total 16 columns):\n",
            " #   Column           Non-Null Count  Dtype  \n",
            "---  ------           --------------  -----  \n",
            " 0   male             4238 non-null   int64  \n",
            " 1   age              4238 non-null   int64  \n",
            " 2   education        4133 non-null   float64\n",
            " 3   currentSmoker    4238 non-null   int64  \n",
            " 4   cigsPerDay       4209 non-null   float64\n",
            " 5   BPMeds           4185 non-null   float64\n",
            " 6   prevalentStroke  4238 non-null   int64  \n",
            " 7   prevalentHyp     4238 non-null   int64  \n",
            " 8   diabetes         4238 non-null   int64  \n",
            " 9   totChol          4188 non-null   float64\n",
            " 10  sysBP            4238 non-null   float64\n",
            " 11  diaBP            4238 non-null   float64\n",
            " 12  BMI              4219 non-null   float64\n",
            " 13  heartRate        4237 non-null   float64\n",
            " 14  glucose          3850 non-null   float64\n",
            " 15  TenYearCHD       4238 non-null   int64  \n",
            "dtypes: float64(9), int64(7)\n",
            "memory usage: 529.9 KB\n"
          ],
          "name": "stdout"
        }
      ]
    },
    {
      "cell_type": "markdown",
      "metadata": {
        "id": "Oyc9vVK3Z-XC"
      },
      "source": [
        "* # Data Cleaning "
      ]
    },
    {
      "cell_type": "markdown",
      "metadata": {
        "id": "JA9yZ3Ddwz0O"
      },
      "source": [
        "* Let's see correlations between our features, this could help us with the data cleaning process."
      ]
    },
    {
      "cell_type": "code",
      "metadata": {
        "id": "n8G8Eyu1w-mS",
        "outputId": "5765ea35-6478-4ffa-f614-41f6ec531bab",
        "colab": {
          "base_uri": "https://localhost:8080/",
          "height": 351
        }
      },
      "source": [
        "#See correlations \n",
        "cmap = sns.diverging_palette(200,10,as_cmap=True)\n",
        "sns.heatmap(dataset.corr(), vmax=1,vmin=-1, center=0, cmap=cmap,\n",
        "            square=True, linewidths=.5, cbar_kws={\"shrink\": .5})"
      ],
      "execution_count": 222,
      "outputs": [
        {
          "output_type": "execute_result",
          "data": {
            "text/plain": [
              "<matplotlib.axes._subplots.AxesSubplot at 0x7efdb8cae6a0>"
            ]
          },
          "metadata": {
            "tags": []
          },
          "execution_count": 222
        },
        {
          "output_type": "display_data",
          "data": {
            "image/png": "[encoded data removed]",
            "text/plain": [
              "<Figure size 432x288 with 2 Axes>"
            ]
          },
          "metadata": {
            "tags": [],
            "needs_background": "light"
          }
        }
      ]
    },
    {
      "cell_type": "markdown",
      "metadata": {
        "id": "8rhysfKPaaex"
      },
      "source": [
        "Since we don't have info about what \"education\" feature is about, I'll delete it from our dataset."
      ]
    },
    {
      "cell_type": "code",
      "metadata": {
        "id": "T4zHLBCNaGbK"
      },
      "source": [
        "dataset = dataset.drop([\"education\"], axis=1)"
      ],
      "execution_count": 223,
      "outputs": []
    },
    {
      "cell_type": "code",
      "metadata": {
        "id": "9p05_l5Ka7IL",
        "outputId": "aef5f002-8df1-4d30-f39f-53a853097c7e",
        "colab": {
          "base_uri": "https://localhost:8080/"
        }
      },
      "source": [
        "dataset.shape"
      ],
      "execution_count": 224,
      "outputs": [
        {
          "output_type": "execute_result",
          "data": {
            "text/plain": [
              "(4238, 15)"
            ]
          },
          "metadata": {
            "tags": []
          },
          "execution_count": 224
        }
      ]
    },
    {
      "cell_type": "markdown",
      "metadata": {
        "id": "RZVOmsIqjstn"
      },
      "source": [
        "## Let's Take Care of the cigsPerDay feature\n",
        "* For this feature we'll set the instance to 0.0 if the person is not a current smoker (currentSmoker == 0), otherwise, the instance will be set to 20.0 (the most common value) \n"
      ]
    },
    {
      "cell_type": "code",
      "metadata": {
        "id": "ukSfHBB2puET"
      },
      "source": [
        "#Fill our missing data with 20.0\n",
        "#we'll take care of the values where the person is a currentSmoker later\n",
        "dataset['cigsPerDay'] = dataset['cigsPerDay'].fillna(20.0)\n"
      ],
      "execution_count": 225,
      "outputs": []
    },
    {
      "cell_type": "code",
      "metadata": {
        "id": "NbxFNFgOs4Nm",
        "outputId": "eba13e37-2669-464e-c26d-115f7c035bf0",
        "colab": {
          "base_uri": "https://localhost:8080/"
        }
      },
      "source": [
        "dataset['cigsPerDay'].describe()"
      ],
      "execution_count": 226,
      "outputs": [
        {
          "output_type": "execute_result",
          "data": {
            "text/plain": [
              "count    4238.000000\n",
              "mean        9.078339\n",
              "std        11.913780\n",
              "min         0.000000\n",
              "25%         0.000000\n",
              "50%         0.000000\n",
              "75%        20.000000\n",
              "max        70.000000\n",
              "Name: cigsPerDay, dtype: float64"
            ]
          },
          "metadata": {
            "tags": []
          },
          "execution_count": 226
        }
      ]
    },
    {
      "cell_type": "code",
      "metadata": {
        "id": "bx9eZWYbtLqe"
      },
      "source": [
        "#If our the instance is a currentSmoker, fill the cigsPerDay with a 0\n",
        "dataset['cigsPerDay'] = dataset.apply(lambda x: 0.0 if x[\"currentSmoker\"]==0 else x['cigsPerDay'], axis=1)"
      ],
      "execution_count": 227,
      "outputs": []
    },
    {
      "cell_type": "code",
      "metadata": {
        "id": "1hFUR5VetRsY",
        "outputId": "c5047c5a-ad87-45d4-d057-baebd14cdcdf",
        "colab": {
          "base_uri": "https://localhost:8080/"
        }
      },
      "source": [
        "dataset.info()"
      ],
      "execution_count": 228,
      "outputs": [
        {
          "output_type": "stream",
          "text": [
            "<class 'pandas.core.frame.DataFrame'>\n",
            "RangeIndex: 4238 entries, 0 to 4237\n",
            "Data columns (total 15 columns):\n",
            " #   Column           Non-Null Count  Dtype  \n",
            "---  ------           --------------  -----  \n",
            " 0   male             4238 non-null   int64  \n",
            " 1   age              4238 non-null   int64  \n",
            " 2   currentSmoker    4238 non-null   int64  \n",
            " 3   cigsPerDay       4238 non-null   float64\n",
            " 4   BPMeds           4185 non-null   float64\n",
            " 5   prevalentStroke  4238 non-null   int64  \n",
            " 6   prevalentHyp     4238 non-null   int64  \n",
            " 7   diabetes         4238 non-null   int64  \n",
            " 8   totChol          4188 non-null   float64\n",
            " 9   sysBP            4238 non-null   float64\n",
            " 10  diaBP            4238 non-null   float64\n",
            " 11  BMI              4219 non-null   float64\n",
            " 12  heartRate        4237 non-null   float64\n",
            " 13  glucose          3850 non-null   float64\n",
            " 14  TenYearCHD       4238 non-null   int64  \n",
            "dtypes: float64(8), int64(7)\n",
            "memory usage: 496.8 KB\n"
          ],
          "name": "stdout"
        }
      ]
    },
    {
      "cell_type": "markdown",
      "metadata": {
        "id": "zKsTwWnuu7hh"
      },
      "source": [
        "## Let's take Care of the BPMeds missing values"
      ]
    },
    {
      "cell_type": "code",
      "metadata": {
        "id": "JKnA7Dm-zUOr"
      },
      "source": [
        "from sklearn.impute import SimpleImputer"
      ],
      "execution_count": 229,
      "outputs": []
    },
    {
      "cell_type": "code",
      "metadata": {
        "id": "7nxY-UtlzfUX"
      },
      "source": [
        "BPMeds_imputer = SimpleImputer(strategy='constant', fill_value=0)"
      ],
      "execution_count": 230,
      "outputs": []
    },
    {
      "cell_type": "code",
      "metadata": {
        "id": "RH4BRkQP0MvS"
      },
      "source": [
        "dataset['BPMeds'] = BPMeds_imputer.fit_transform(dataset['BPMeds'].values.reshape(-1, 1))"
      ],
      "execution_count": 231,
      "outputs": []
    },
    {
      "cell_type": "code",
      "metadata": {
        "id": "9irjCX1e0mZ2",
        "outputId": "8b412f5c-1c69-4892-cf6a-6b127a276fbb",
        "colab": {
          "base_uri": "https://localhost:8080/"
        }
      },
      "source": [
        "dataset.info()"
      ],
      "execution_count": 232,
      "outputs": [
        {
          "output_type": "stream",
          "text": [
            "<class 'pandas.core.frame.DataFrame'>\n",
            "RangeIndex: 4238 entries, 0 to 4237\n",
            "Data columns (total 15 columns):\n",
            " #   Column           Non-Null Count  Dtype  \n",
            "---  ------           --------------  -----  \n",
            " 0   male             4238 non-null   int64  \n",
            " 1   age              4238 non-null   int64  \n",
            " 2   currentSmoker    4238 non-null   int64  \n",
            " 3   cigsPerDay       4238 non-null   float64\n",
            " 4   BPMeds           4238 non-null   float64\n",
            " 5   prevalentStroke  4238 non-null   int64  \n",
            " 6   prevalentHyp     4238 non-null   int64  \n",
            " 7   diabetes         4238 non-null   int64  \n",
            " 8   totChol          4188 non-null   float64\n",
            " 9   sysBP            4238 non-null   float64\n",
            " 10  diaBP            4238 non-null   float64\n",
            " 11  BMI              4219 non-null   float64\n",
            " 12  heartRate        4237 non-null   float64\n",
            " 13  glucose          3850 non-null   float64\n",
            " 14  TenYearCHD       4238 non-null   int64  \n",
            "dtypes: float64(8), int64(7)\n",
            "memory usage: 496.8 KB\n"
          ],
          "name": "stdout"
        }
      ]
    },
    {
      "cell_type": "markdown",
      "metadata": {
        "id": "70gfbMJ61FsV"
      },
      "source": [
        "## Taking care of the totChol missing values"
      ]
    },
    {
      "cell_type": "code",
      "metadata": {
        "id": "TGZcOTZ81E2O"
      },
      "source": [
        "TotChol_imputer = SimpleImputer(strategy='mean')"
      ],
      "execution_count": 233,
      "outputs": []
    },
    {
      "cell_type": "code",
      "metadata": {
        "id": "WXI5iOZ01aCn"
      },
      "source": [
        "dataset['totChol'] = TotChol_imputer.fit_transform(dataset['totChol'].values.reshape(-1, 1))"
      ],
      "execution_count": 234,
      "outputs": []
    },
    {
      "cell_type": "code",
      "metadata": {
        "id": "NaNVv1cq1d4P",
        "outputId": "ce79260a-3cd3-4823-c44a-ae8637dcafad",
        "colab": {
          "base_uri": "https://localhost:8080/"
        }
      },
      "source": [
        "dataset.info()"
      ],
      "execution_count": 235,
      "outputs": [
        {
          "output_type": "stream",
          "text": [
            "<class 'pandas.core.frame.DataFrame'>\n",
            "RangeIndex: 4238 entries, 0 to 4237\n",
            "Data columns (total 15 columns):\n",
            " #   Column           Non-Null Count  Dtype  \n",
            "---  ------           --------------  -----  \n",
            " 0   male             4238 non-null   int64  \n",
            " 1   age              4238 non-null   int64  \n",
            " 2   currentSmoker    4238 non-null   int64  \n",
            " 3   cigsPerDay       4238 non-null   float64\n",
            " 4   BPMeds           4238 non-null   float64\n",
            " 5   prevalentStroke  4238 non-null   int64  \n",
            " 6   prevalentHyp     4238 non-null   int64  \n",
            " 7   diabetes         4238 non-null   int64  \n",
            " 8   totChol          4238 non-null   float64\n",
            " 9   sysBP            4238 non-null   float64\n",
            " 10  diaBP            4238 non-null   float64\n",
            " 11  BMI              4219 non-null   float64\n",
            " 12  heartRate        4237 non-null   float64\n",
            " 13  glucose          3850 non-null   float64\n",
            " 14  TenYearCHD       4238 non-null   int64  \n",
            "dtypes: float64(8), int64(7)\n",
            "memory usage: 496.8 KB\n"
          ],
          "name": "stdout"
        }
      ]
    },
    {
      "cell_type": "markdown",
      "metadata": {
        "id": "w_7sWFjp1xeo"
      },
      "source": [
        "## Taking care of the BMI missing values"
      ]
    },
    {
      "cell_type": "code",
      "metadata": {
        "id": "rwri08pC10cw"
      },
      "source": [
        "BMI_imputer = SimpleImputer(strategy='mean')\n",
        "dataset['BMI'] = BMI_imputer.fit_transform(dataset['BMI'].values.reshape(-1, 1))"
      ],
      "execution_count": 236,
      "outputs": []
    },
    {
      "cell_type": "code",
      "metadata": {
        "id": "JX5MDHbS2Prc",
        "outputId": "0153aa81-2d46-4a62-8f24-0572958d9412",
        "colab": {
          "base_uri": "https://localhost:8080/"
        }
      },
      "source": [
        "dataset.info()"
      ],
      "execution_count": 237,
      "outputs": [
        {
          "output_type": "stream",
          "text": [
            "<class 'pandas.core.frame.DataFrame'>\n",
            "RangeIndex: 4238 entries, 0 to 4237\n",
            "Data columns (total 15 columns):\n",
            " #   Column           Non-Null Count  Dtype  \n",
            "---  ------           --------------  -----  \n",
            " 0   male             4238 non-null   int64  \n",
            " 1   age              4238 non-null   int64  \n",
            " 2   currentSmoker    4238 non-null   int64  \n",
            " 3   cigsPerDay       4238 non-null   float64\n",
            " 4   BPMeds           4238 non-null   float64\n",
            " 5   prevalentStroke  4238 non-null   int64  \n",
            " 6   prevalentHyp     4238 non-null   int64  \n",
            " 7   diabetes         4238 non-null   int64  \n",
            " 8   totChol          4238 non-null   float64\n",
            " 9   sysBP            4238 non-null   float64\n",
            " 10  diaBP            4238 non-null   float64\n",
            " 11  BMI              4238 non-null   float64\n",
            " 12  heartRate        4237 non-null   float64\n",
            " 13  glucose          3850 non-null   float64\n",
            " 14  TenYearCHD       4238 non-null   int64  \n",
            "dtypes: float64(8), int64(7)\n",
            "memory usage: 496.8 KB\n"
          ],
          "name": "stdout"
        }
      ]
    },
    {
      "cell_type": "markdown",
      "metadata": {
        "id": "27tjOmWK2Woq"
      },
      "source": [
        "## Using the same imputer for heartRate and glucose.\n"
      ]
    },
    {
      "cell_type": "code",
      "metadata": {
        "id": "88mh4vST2Vfd"
      },
      "source": [
        "dataset['heartRate'] = BMI_imputer.fit_transform(dataset['heartRate'].values.reshape(-1, 1))\n",
        "dataset['glucose'] = BMI_imputer.fit_transform(dataset['glucose'].values.reshape(-1, 1))"
      ],
      "execution_count": 238,
      "outputs": []
    },
    {
      "cell_type": "code",
      "metadata": {
        "id": "XS4wv-Po2mBN",
        "outputId": "31f3c6e9-2047-44ca-a1ac-3be8c1b2cd7b",
        "colab": {
          "base_uri": "https://localhost:8080/"
        }
      },
      "source": [
        "dataset.info()"
      ],
      "execution_count": 239,
      "outputs": [
        {
          "output_type": "stream",
          "text": [
            "<class 'pandas.core.frame.DataFrame'>\n",
            "RangeIndex: 4238 entries, 0 to 4237\n",
            "Data columns (total 15 columns):\n",
            " #   Column           Non-Null Count  Dtype  \n",
            "---  ------           --------------  -----  \n",
            " 0   male             4238 non-null   int64  \n",
            " 1   age              4238 non-null   int64  \n",
            " 2   currentSmoker    4238 non-null   int64  \n",
            " 3   cigsPerDay       4238 non-null   float64\n",
            " 4   BPMeds           4238 non-null   float64\n",
            " 5   prevalentStroke  4238 non-null   int64  \n",
            " 6   prevalentHyp     4238 non-null   int64  \n",
            " 7   diabetes         4238 non-null   int64  \n",
            " 8   totChol          4238 non-null   float64\n",
            " 9   sysBP            4238 non-null   float64\n",
            " 10  diaBP            4238 non-null   float64\n",
            " 11  BMI              4238 non-null   float64\n",
            " 12  heartRate        4238 non-null   float64\n",
            " 13  glucose          4238 non-null   float64\n",
            " 14  TenYearCHD       4238 non-null   int64  \n",
            "dtypes: float64(8), int64(7)\n",
            "memory usage: 496.8 KB\n"
          ],
          "name": "stdout"
        }
      ]
    },
    {
      "cell_type": "markdown",
      "metadata": {
        "id": "3acJR1a2Wfdm"
      },
      "source": [
        "# Let's Use Seaborn to do the Exploratory Data Analysis (EDA) "
      ]
    },
    {
      "cell_type": "markdown",
      "metadata": {
        "id": "lAlRBUB8W0Kh"
      },
      "source": [
        "* Let's see how features are correlated again\n"
      ]
    },
    {
      "cell_type": "code",
      "metadata": {
        "id": "umjp5dUsXkly",
        "outputId": "34bd6b45-3d7e-4d6f-b31b-5426c8f8e99b",
        "colab": {
          "base_uri": "https://localhost:8080/",
          "height": 514
        }
      },
      "source": [
        "dataset.corr()"
      ],
      "execution_count": 240,
      "outputs": [
        {
          "output_type": "execute_result",
          "data": {
            "text/html": [
              "<div>\n",
              "<style scoped>\n",
              "    .dataframe tbody tr th:only-of-type {\n",
              "        vertical-align: middle;\n",
              "    }\n",
              "\n",
              "    .dataframe tbody tr th {\n",
              "        vertical-align: top;\n",
              "    }\n",
              "\n",
              "    .dataframe thead th {\n",
              "        text-align: right;\n",
              "    }\n",
              "</style>\n",
              "<table border=\"1\" class=\"dataframe\">\n",
              "  <thead>\n",
              "    <tr style=\"text-align: right;\">\n",
              "      <th></th>\n",
              "      <th>male</th>\n",
              "      <th>age</th>\n",
              "      <th>currentSmoker</th>\n",
              "      <th>cigsPerDay</th>\n",
              "      <th>BPMeds</th>\n",
              "      <th>prevalentStroke</th>\n",
              "      <th>prevalentHyp</th>\n",
              "      <th>diabetes</th>\n",
              "      <th>totChol</th>\n",
              "      <th>sysBP</th>\n",
              "      <th>diaBP</th>\n",
              "      <th>BMI</th>\n",
              "      <th>heartRate</th>\n",
              "      <th>glucose</th>\n",
              "      <th>TenYearCHD</th>\n",
              "    </tr>\n",
              "  </thead>\n",
              "  <tbody>\n",
              "    <tr>\n",
              "      <th>male</th>\n",
              "      <td>1.000000</td>\n",
              "      <td>-0.028979</td>\n",
              "      <td>0.197596</td>\n",
              "      <td>0.316571</td>\n",
              "      <td>-0.051545</td>\n",
              "      <td>-0.004546</td>\n",
              "      <td>0.005313</td>\n",
              "      <td>0.015708</td>\n",
              "      <td>-0.069974</td>\n",
              "      <td>-0.035989</td>\n",
              "      <td>0.057933</td>\n",
              "      <td>0.081506</td>\n",
              "      <td>-0.116601</td>\n",
              "      <td>0.005818</td>\n",
              "      <td>0.088428</td>\n",
              "    </tr>\n",
              "    <tr>\n",
              "      <th>age</th>\n",
              "      <td>-0.028979</td>\n",
              "      <td>1.000000</td>\n",
              "      <td>-0.213748</td>\n",
              "      <td>-0.191985</td>\n",
              "      <td>0.120955</td>\n",
              "      <td>0.057655</td>\n",
              "      <td>0.307194</td>\n",
              "      <td>0.101258</td>\n",
              "      <td>0.260270</td>\n",
              "      <td>0.394302</td>\n",
              "      <td>0.206104</td>\n",
              "      <td>0.135283</td>\n",
              "      <td>-0.012819</td>\n",
              "      <td>0.116850</td>\n",
              "      <td>0.225256</td>\n",
              "    </tr>\n",
              "    <tr>\n",
              "      <th>currentSmoker</th>\n",
              "      <td>0.197596</td>\n",
              "      <td>-0.213748</td>\n",
              "      <td>1.000000</td>\n",
              "      <td>0.771138</td>\n",
              "      <td>-0.048358</td>\n",
              "      <td>-0.032988</td>\n",
              "      <td>-0.103260</td>\n",
              "      <td>-0.044295</td>\n",
              "      <td>-0.046285</td>\n",
              "      <td>-0.130230</td>\n",
              "      <td>-0.107746</td>\n",
              "      <td>-0.167276</td>\n",
              "      <td>0.062348</td>\n",
              "      <td>-0.054157</td>\n",
              "      <td>0.019456</td>\n",
              "    </tr>\n",
              "    <tr>\n",
              "      <th>cigsPerDay</th>\n",
              "      <td>0.316571</td>\n",
              "      <td>-0.191985</td>\n",
              "      <td>0.771138</td>\n",
              "      <td>1.000000</td>\n",
              "      <td>-0.046627</td>\n",
              "      <td>-0.033098</td>\n",
              "      <td>-0.066700</td>\n",
              "      <td>-0.037982</td>\n",
              "      <td>-0.024922</td>\n",
              "      <td>-0.088196</td>\n",
              "      <td>-0.055732</td>\n",
              "      <td>-0.092112</td>\n",
              "      <td>0.075657</td>\n",
              "      <td>-0.055106</td>\n",
              "      <td>0.056147</td>\n",
              "    </tr>\n",
              "    <tr>\n",
              "      <th>BPMeds</th>\n",
              "      <td>-0.051545</td>\n",
              "      <td>0.120955</td>\n",
              "      <td>-0.048358</td>\n",
              "      <td>-0.046627</td>\n",
              "      <td>1.000000</td>\n",
              "      <td>0.114609</td>\n",
              "      <td>0.258697</td>\n",
              "      <td>0.051394</td>\n",
              "      <td>0.078712</td>\n",
              "      <td>0.251503</td>\n",
              "      <td>0.192356</td>\n",
              "      <td>0.099647</td>\n",
              "      <td>0.015139</td>\n",
              "      <td>0.048856</td>\n",
              "      <td>0.086417</td>\n",
              "    </tr>\n",
              "    <tr>\n",
              "      <th>prevalentStroke</th>\n",
              "      <td>-0.004546</td>\n",
              "      <td>0.057655</td>\n",
              "      <td>-0.032988</td>\n",
              "      <td>-0.033098</td>\n",
              "      <td>0.114609</td>\n",
              "      <td>1.000000</td>\n",
              "      <td>0.074830</td>\n",
              "      <td>0.006949</td>\n",
              "      <td>0.000067</td>\n",
              "      <td>0.057009</td>\n",
              "      <td>0.045190</td>\n",
              "      <td>0.024840</td>\n",
              "      <td>-0.017676</td>\n",
              "      <td>0.018055</td>\n",
              "      <td>0.061810</td>\n",
              "    </tr>\n",
              "    <tr>\n",
              "      <th>prevalentHyp</th>\n",
              "      <td>0.005313</td>\n",
              "      <td>0.307194</td>\n",
              "      <td>-0.103260</td>\n",
              "      <td>-0.066700</td>\n",
              "      <td>0.258697</td>\n",
              "      <td>0.074830</td>\n",
              "      <td>1.000000</td>\n",
              "      <td>0.077808</td>\n",
              "      <td>0.163041</td>\n",
              "      <td>0.696755</td>\n",
              "      <td>0.615751</td>\n",
              "      <td>0.300572</td>\n",
              "      <td>0.147222</td>\n",
              "      <td>0.082924</td>\n",
              "      <td>0.177603</td>\n",
              "    </tr>\n",
              "    <tr>\n",
              "      <th>diabetes</th>\n",
              "      <td>0.015708</td>\n",
              "      <td>0.101258</td>\n",
              "      <td>-0.044295</td>\n",
              "      <td>-0.037982</td>\n",
              "      <td>0.051394</td>\n",
              "      <td>0.006949</td>\n",
              "      <td>0.077808</td>\n",
              "      <td>1.000000</td>\n",
              "      <td>0.040092</td>\n",
              "      <td>0.111283</td>\n",
              "      <td>0.050329</td>\n",
              "      <td>0.086250</td>\n",
              "      <td>0.048993</td>\n",
              "      <td>0.605705</td>\n",
              "      <td>0.097317</td>\n",
              "    </tr>\n",
              "    <tr>\n",
              "      <th>totChol</th>\n",
              "      <td>-0.069974</td>\n",
              "      <td>0.260270</td>\n",
              "      <td>-0.046285</td>\n",
              "      <td>-0.024922</td>\n",
              "      <td>0.078712</td>\n",
              "      <td>0.000067</td>\n",
              "      <td>0.163041</td>\n",
              "      <td>0.040092</td>\n",
              "      <td>1.000000</td>\n",
              "      <td>0.207609</td>\n",
              "      <td>0.163903</td>\n",
              "      <td>0.114789</td>\n",
              "      <td>0.090676</td>\n",
              "      <td>0.044583</td>\n",
              "      <td>0.081624</td>\n",
              "    </tr>\n",
              "    <tr>\n",
              "      <th>sysBP</th>\n",
              "      <td>-0.035989</td>\n",
              "      <td>0.394302</td>\n",
              "      <td>-0.130230</td>\n",
              "      <td>-0.088196</td>\n",
              "      <td>0.251503</td>\n",
              "      <td>0.057009</td>\n",
              "      <td>0.696755</td>\n",
              "      <td>0.111283</td>\n",
              "      <td>0.207609</td>\n",
              "      <td>1.000000</td>\n",
              "      <td>0.784002</td>\n",
              "      <td>0.325247</td>\n",
              "      <td>0.182174</td>\n",
              "      <td>0.134608</td>\n",
              "      <td>0.216429</td>\n",
              "    </tr>\n",
              "    <tr>\n",
              "      <th>diaBP</th>\n",
              "      <td>0.057933</td>\n",
              "      <td>0.206104</td>\n",
              "      <td>-0.107746</td>\n",
              "      <td>-0.055732</td>\n",
              "      <td>0.192356</td>\n",
              "      <td>0.045190</td>\n",
              "      <td>0.615751</td>\n",
              "      <td>0.050329</td>\n",
              "      <td>0.163903</td>\n",
              "      <td>0.784002</td>\n",
              "      <td>1.000000</td>\n",
              "      <td>0.376544</td>\n",
              "      <td>0.181246</td>\n",
              "      <td>0.058647</td>\n",
              "      <td>0.145299</td>\n",
              "    </tr>\n",
              "    <tr>\n",
              "      <th>BMI</th>\n",
              "      <td>0.081506</td>\n",
              "      <td>0.135283</td>\n",
              "      <td>-0.167276</td>\n",
              "      <td>-0.092112</td>\n",
              "      <td>0.099647</td>\n",
              "      <td>0.024840</td>\n",
              "      <td>0.300572</td>\n",
              "      <td>0.086250</td>\n",
              "      <td>0.114789</td>\n",
              "      <td>0.325247</td>\n",
              "      <td>0.376544</td>\n",
              "      <td>1.000000</td>\n",
              "      <td>0.067544</td>\n",
              "      <td>0.082109</td>\n",
              "      <td>0.074680</td>\n",
              "    </tr>\n",
              "    <tr>\n",
              "      <th>heartRate</th>\n",
              "      <td>-0.116601</td>\n",
              "      <td>-0.012819</td>\n",
              "      <td>0.062348</td>\n",
              "      <td>0.075657</td>\n",
              "      <td>0.015139</td>\n",
              "      <td>-0.017676</td>\n",
              "      <td>0.147222</td>\n",
              "      <td>0.048993</td>\n",
              "      <td>0.090676</td>\n",
              "      <td>0.182174</td>\n",
              "      <td>0.181246</td>\n",
              "      <td>0.067544</td>\n",
              "      <td>1.000000</td>\n",
              "      <td>0.089341</td>\n",
              "      <td>0.022898</td>\n",
              "    </tr>\n",
              "    <tr>\n",
              "      <th>glucose</th>\n",
              "      <td>0.005818</td>\n",
              "      <td>0.116850</td>\n",
              "      <td>-0.054157</td>\n",
              "      <td>-0.055106</td>\n",
              "      <td>0.048856</td>\n",
              "      <td>0.018055</td>\n",
              "      <td>0.082924</td>\n",
              "      <td>0.605705</td>\n",
              "      <td>0.044583</td>\n",
              "      <td>0.134608</td>\n",
              "      <td>0.058647</td>\n",
              "      <td>0.082109</td>\n",
              "      <td>0.089341</td>\n",
              "      <td>1.000000</td>\n",
              "      <td>0.120406</td>\n",
              "    </tr>\n",
              "    <tr>\n",
              "      <th>TenYearCHD</th>\n",
              "      <td>0.088428</td>\n",
              "      <td>0.225256</td>\n",
              "      <td>0.019456</td>\n",
              "      <td>0.056147</td>\n",
              "      <td>0.086417</td>\n",
              "      <td>0.061810</td>\n",
              "      <td>0.177603</td>\n",
              "      <td>0.097317</td>\n",
              "      <td>0.081624</td>\n",
              "      <td>0.216429</td>\n",
              "      <td>0.145299</td>\n",
              "      <td>0.074680</td>\n",
              "      <td>0.022898</td>\n",
              "      <td>0.120406</td>\n",
              "      <td>1.000000</td>\n",
              "    </tr>\n",
              "  </tbody>\n",
              "</table>\n",
              "</div>"
            ],
            "text/plain": [
              "                     male       age  ...   glucose  TenYearCHD\n",
              "male             1.000000 -0.028979  ...  0.005818    0.088428\n",
              "age             -0.028979  1.000000  ...  0.116850    0.225256\n",
              "currentSmoker    0.197596 -0.213748  ... -0.054157    0.019456\n",
              "cigsPerDay       0.316571 -0.191985  ... -0.055106    0.056147\n",
              "BPMeds          -0.051545  0.120955  ...  0.048856    0.086417\n",
              "prevalentStroke -0.004546  0.057655  ...  0.018055    0.061810\n",
              "prevalentHyp     0.005313  0.307194  ...  0.082924    0.177603\n",
              "diabetes         0.015708  0.101258  ...  0.605705    0.097317\n",
              "totChol         -0.069974  0.260270  ...  0.044583    0.081624\n",
              "sysBP           -0.035989  0.394302  ...  0.134608    0.216429\n",
              "diaBP            0.057933  0.206104  ...  0.058647    0.145299\n",
              "BMI              0.081506  0.135283  ...  0.082109    0.074680\n",
              "heartRate       -0.116601 -0.012819  ...  0.089341    0.022898\n",
              "glucose          0.005818  0.116850  ...  1.000000    0.120406\n",
              "TenYearCHD       0.088428  0.225256  ...  0.120406    1.000000\n",
              "\n",
              "[15 rows x 15 columns]"
            ]
          },
          "metadata": {
            "tags": []
          },
          "execution_count": 240
        }
      ]
    },
    {
      "cell_type": "code",
      "metadata": {
        "id": "U5__WVJEWAC0",
        "outputId": "7937c306-e126-464f-e3e7-aa49b3fb0232",
        "colab": {
          "base_uri": "https://localhost:8080/",
          "height": 804
        }
      },
      "source": [
        "#See correlations \n",
        "plt.figure(figsize=(15,15))\n",
        "cmap = sns.diverging_palette(200,10,as_cmap=True)\n",
        "sns.heatmap(dataset.corr(), vmax=1,vmin=-1, center=0, cmap=cmap,\n",
        "            square=True, linewidths=.5, cbar_kws={\"shrink\": .5})"
      ],
      "execution_count": 241,
      "outputs": [
        {
          "output_type": "execute_result",
          "data": {
            "text/plain": [
              "<matplotlib.axes._subplots.AxesSubplot at 0x7efdb895e550>"
            ]
          },
          "metadata": {
            "tags": []
          },
          "execution_count": 241
        },
        {
          "output_type": "display_data",
          "data": {
            "image/png": "[encoded data removed]",
            "text/plain": [
              "<Figure size 1080x1080 with 2 Axes>"
            ]
          },
          "metadata": {
            "tags": [],
            "needs_background": "light"
          }
        }
      ]
    },
    {
      "cell_type": "markdown",
      "metadata": {
        "id": "DOGrP7EebADo"
      },
      "source": [
        "We can see that the most correlated features with out label (TenYearCHD) are:\n",
        "*   age\n",
        "*   prevalentHyp\n",
        "*   sysBP\n",
        "*   diaBP\n",
        "*   glucose"
      ]
    },
    {
      "cell_type": "code",
      "metadata": {
        "id": "Gtvzdw0QcByw",
        "outputId": "ee044e80-a2cd-42e1-9fff-8e0f98f82df9",
        "colab": {
          "base_uri": "https://localhost:8080/",
          "height": 297
        }
      },
      "source": [
        "dataset.describe()"
      ],
      "execution_count": 242,
      "outputs": [
        {
          "output_type": "execute_result",
          "data": {
            "text/html": [
              "<div>\n",
              "<style scoped>\n",
              "    .dataframe tbody tr th:only-of-type {\n",
              "        vertical-align: middle;\n",
              "    }\n",
              "\n",
              "    .dataframe tbody tr th {\n",
              "        vertical-align: top;\n",
              "    }\n",
              "\n",
              "    .dataframe thead th {\n",
              "        text-align: right;\n",
              "    }\n",
              "</style>\n",
              "<table border=\"1\" class=\"dataframe\">\n",
              "  <thead>\n",
              "    <tr style=\"text-align: right;\">\n",
              "      <th></th>\n",
              "      <th>male</th>\n",
              "      <th>age</th>\n",
              "      <th>currentSmoker</th>\n",
              "      <th>cigsPerDay</th>\n",
              "      <th>BPMeds</th>\n",
              "      <th>prevalentStroke</th>\n",
              "      <th>prevalentHyp</th>\n",
              "      <th>diabetes</th>\n",
              "      <th>totChol</th>\n",
              "      <th>sysBP</th>\n",
              "      <th>diaBP</th>\n",
              "      <th>BMI</th>\n",
              "      <th>heartRate</th>\n",
              "      <th>glucose</th>\n",
              "      <th>TenYearCHD</th>\n",
              "    </tr>\n",
              "  </thead>\n",
              "  <tbody>\n",
              "    <tr>\n",
              "      <th>count</th>\n",
              "      <td>4238.000000</td>\n",
              "      <td>4238.000000</td>\n",
              "      <td>4238.000000</td>\n",
              "      <td>4238.000000</td>\n",
              "      <td>4238.000000</td>\n",
              "      <td>4238.000000</td>\n",
              "      <td>4238.000000</td>\n",
              "      <td>4238.000000</td>\n",
              "      <td>4238.000000</td>\n",
              "      <td>4238.000000</td>\n",
              "      <td>4238.000000</td>\n",
              "      <td>4238.000000</td>\n",
              "      <td>4238.000000</td>\n",
              "      <td>4238.000000</td>\n",
              "      <td>4238.000000</td>\n",
              "    </tr>\n",
              "    <tr>\n",
              "      <th>mean</th>\n",
              "      <td>0.429212</td>\n",
              "      <td>49.584946</td>\n",
              "      <td>0.494101</td>\n",
              "      <td>9.078339</td>\n",
              "      <td>0.029259</td>\n",
              "      <td>0.005899</td>\n",
              "      <td>0.310524</td>\n",
              "      <td>0.025720</td>\n",
              "      <td>236.721585</td>\n",
              "      <td>132.352407</td>\n",
              "      <td>82.893464</td>\n",
              "      <td>25.802008</td>\n",
              "      <td>75.878924</td>\n",
              "      <td>81.966753</td>\n",
              "      <td>0.151958</td>\n",
              "    </tr>\n",
              "    <tr>\n",
              "      <th>std</th>\n",
              "      <td>0.495022</td>\n",
              "      <td>8.572160</td>\n",
              "      <td>0.500024</td>\n",
              "      <td>11.913780</td>\n",
              "      <td>0.168552</td>\n",
              "      <td>0.076587</td>\n",
              "      <td>0.462763</td>\n",
              "      <td>0.158316</td>\n",
              "      <td>44.326453</td>\n",
              "      <td>22.038097</td>\n",
              "      <td>11.910850</td>\n",
              "      <td>4.070953</td>\n",
              "      <td>12.025177</td>\n",
              "      <td>22.836603</td>\n",
              "      <td>0.359023</td>\n",
              "    </tr>\n",
              "    <tr>\n",
              "      <th>min</th>\n",
              "      <td>0.000000</td>\n",
              "      <td>32.000000</td>\n",
              "      <td>0.000000</td>\n",
              "      <td>0.000000</td>\n",
              "      <td>0.000000</td>\n",
              "      <td>0.000000</td>\n",
              "      <td>0.000000</td>\n",
              "      <td>0.000000</td>\n",
              "      <td>107.000000</td>\n",
              "      <td>83.500000</td>\n",
              "      <td>48.000000</td>\n",
              "      <td>15.540000</td>\n",
              "      <td>44.000000</td>\n",
              "      <td>40.000000</td>\n",
              "      <td>0.000000</td>\n",
              "    </tr>\n",
              "    <tr>\n",
              "      <th>25%</th>\n",
              "      <td>0.000000</td>\n",
              "      <td>42.000000</td>\n",
              "      <td>0.000000</td>\n",
              "      <td>0.000000</td>\n",
              "      <td>0.000000</td>\n",
              "      <td>0.000000</td>\n",
              "      <td>0.000000</td>\n",
              "      <td>0.000000</td>\n",
              "      <td>206.000000</td>\n",
              "      <td>117.000000</td>\n",
              "      <td>75.000000</td>\n",
              "      <td>23.080000</td>\n",
              "      <td>68.000000</td>\n",
              "      <td>72.000000</td>\n",
              "      <td>0.000000</td>\n",
              "    </tr>\n",
              "    <tr>\n",
              "      <th>50%</th>\n",
              "      <td>0.000000</td>\n",
              "      <td>49.000000</td>\n",
              "      <td>0.000000</td>\n",
              "      <td>0.000000</td>\n",
              "      <td>0.000000</td>\n",
              "      <td>0.000000</td>\n",
              "      <td>0.000000</td>\n",
              "      <td>0.000000</td>\n",
              "      <td>234.000000</td>\n",
              "      <td>128.000000</td>\n",
              "      <td>82.000000</td>\n",
              "      <td>25.410000</td>\n",
              "      <td>75.000000</td>\n",
              "      <td>80.000000</td>\n",
              "      <td>0.000000</td>\n",
              "    </tr>\n",
              "    <tr>\n",
              "      <th>75%</th>\n",
              "      <td>1.000000</td>\n",
              "      <td>56.000000</td>\n",
              "      <td>1.000000</td>\n",
              "      <td>20.000000</td>\n",
              "      <td>0.000000</td>\n",
              "      <td>0.000000</td>\n",
              "      <td>1.000000</td>\n",
              "      <td>0.000000</td>\n",
              "      <td>262.000000</td>\n",
              "      <td>144.000000</td>\n",
              "      <td>89.875000</td>\n",
              "      <td>28.037500</td>\n",
              "      <td>83.000000</td>\n",
              "      <td>85.000000</td>\n",
              "      <td>0.000000</td>\n",
              "    </tr>\n",
              "    <tr>\n",
              "      <th>max</th>\n",
              "      <td>1.000000</td>\n",
              "      <td>70.000000</td>\n",
              "      <td>1.000000</td>\n",
              "      <td>70.000000</td>\n",
              "      <td>1.000000</td>\n",
              "      <td>1.000000</td>\n",
              "      <td>1.000000</td>\n",
              "      <td>1.000000</td>\n",
              "      <td>696.000000</td>\n",
              "      <td>295.000000</td>\n",
              "      <td>142.500000</td>\n",
              "      <td>56.800000</td>\n",
              "      <td>143.000000</td>\n",
              "      <td>394.000000</td>\n",
              "      <td>1.000000</td>\n",
              "    </tr>\n",
              "  </tbody>\n",
              "</table>\n",
              "</div>"
            ],
            "text/plain": [
              "              male          age  ...      glucose   TenYearCHD\n",
              "count  4238.000000  4238.000000  ...  4238.000000  4238.000000\n",
              "mean      0.429212    49.584946  ...    81.966753     0.151958\n",
              "std       0.495022     8.572160  ...    22.836603     0.359023\n",
              "min       0.000000    32.000000  ...    40.000000     0.000000\n",
              "25%       0.000000    42.000000  ...    72.000000     0.000000\n",
              "50%       0.000000    49.000000  ...    80.000000     0.000000\n",
              "75%       1.000000    56.000000  ...    85.000000     0.000000\n",
              "max       1.000000    70.000000  ...   394.000000     1.000000\n",
              "\n",
              "[8 rows x 15 columns]"
            ]
          },
          "metadata": {
            "tags": []
          },
          "execution_count": 242
        }
      ]
    },
    {
      "cell_type": "markdown",
      "metadata": {
        "id": "PuVSZQ0WgCg_"
      },
      "source": [
        "Now let's do some boxplots"
      ]
    },
    {
      "cell_type": "code",
      "metadata": {
        "id": "Opy5VZz1ZPfR",
        "outputId": "285a076c-dd0a-47d1-86fe-2764e461cfad",
        "colab": {
          "base_uri": "https://localhost:8080/",
          "height": 609
        }
      },
      "source": [
        "plt.figure(figsize=(20,10))\n",
        "dataset.boxplot(column=[\"age\", \"cigsPerDay\", \"totChol\", \"sysBP\", \"diaBP\", \"BMI\", \"heartRate\", \"glucose\"])"
      ],
      "execution_count": 243,
      "outputs": [
        {
          "output_type": "execute_result",
          "data": {
            "text/plain": [
              "<matplotlib.axes._subplots.AxesSubplot at 0x7efdb8893278>"
            ]
          },
          "metadata": {
            "tags": []
          },
          "execution_count": 243
        },
        {
          "output_type": "display_data",
          "data": {
            "image/png": "[encoded data removed]",
            "text/plain": [
              "<Figure size 1440x720 with 1 Axes>"
            ]
          },
          "metadata": {
            "tags": [],
            "needs_background": "light"
          }
        }
      ]
    },
    {
      "cell_type": "markdown",
      "metadata": {
        "id": "0x6aZd4leow-"
      },
      "source": [
        "## Insigts:\n",
        "*   age and cigsPerDay a little bit of outliers\n",
        "*   totChol, sysBP, diaBP, BMI, heartRate and glucose have many outliers\n",
        "*   Our features have very different scales (we will scale our features)\n",
        "\n"
      ]
    },
    {
      "cell_type": "markdown",
      "metadata": {
        "id": "UCXS_xkziB7M"
      },
      "source": [
        "Before scale our features, let's do some barplots\n"
      ]
    },
    {
      "cell_type": "code",
      "metadata": {
        "id": "uJzn6ZgziA-F",
        "outputId": "5202bc18-e1c9-4043-ba92-4816d1de9072",
        "colab": {
          "base_uri": "https://localhost:8080/",
          "height": 1000
        }
      },
      "source": [
        "plt.figure(figsize=(20,20))\n",
        "for column in dataset.columns:\n",
        "  sns.displot(dataset[column])"
      ],
      "execution_count": 244,
      "outputs": [
        {
          "output_type": "display_data",
          "data": {
            "text/plain": [
              "<Figure size 1440x1440 with 0 Axes>"
            ]
          },
          "metadata": {
            "tags": []
          }
        },
        {
          "output_type": "display_data",
          "data": {
            "image/png": "[encoded data removed]",
            "text/plain": [
              "<Figure size 360x360 with 1 Axes>"
            ]
          },
          "metadata": {
            "tags": [],
            "needs_background": "light"
          }
        },
        {
          "output_type": "display_data",
          "data": {
            "image/png": "[encoded data removed]",
            "text/plain": [
              "<Figure size 360x360 with 1 Axes>"
            ]
          },
          "metadata": {
            "tags": [],
            "needs_background": "light"
          }
        },
        {
          "output_type": "display_data",
          "data": {
            "image/png": "[encoded data removed]",
            "text/plain": [
              "<Figure size 360x360 with 1 Axes>"
            ]
          },
          "metadata": {
            "tags": [],
            "needs_background": "light"
          }
        },
        {
          "output_type": "display_data",
          "data": {
            "image/png": "[encoded data removed]",
            "text/plain": [
              "<Figure size 360x360 with 1 Axes>"
            ]
          },
          "metadata": {
            "tags": [],
            "needs_background": "light"
          }
        },
        {
          "output_type": "display_data",
          "data": {
            "image/png": "[encoded data removed]",
            "text/plain": [
              "<Figure size 360x360 with 1 Axes>"
            ]
          },
          "metadata": {
            "tags": [],
            "needs_background": "light"
          }
        },
        {
          "output_type": "display_data",
          "data": {
            "image/png": "[encoded data removed]",
            "text/plain": [
              "<Figure size 360x360 with 1 Axes>"
            ]
          },
          "metadata": {
            "tags": [],
            "needs_background": "light"
          }
        },
        {
          "output_type": "display_data",
          "data": {
            "image/png": "[encoded data removed]",
            "text/plain": [
              "<Figure size 360x360 with 1 Axes>"
            ]
          },
          "metadata": {
            "tags": [],
            "needs_background": "light"
          }
        },
        {
          "output_type": "display_data",
          "data": {
            "image/png": "[encoded data removed]",
            "text/plain": [
              "<Figure size 360x360 with 1 Axes>"
            ]
          },
          "metadata": {
            "tags": [],
            "needs_background": "light"
          }
        },
        {
          "output_type": "display_data",
          "data": {
            "image/png": "[encoded data removed]",
            "text/plain": [
              "<Figure size 360x360 with 1 Axes>"
            ]
          },
          "metadata": {
            "tags": [],
            "needs_background": "light"
          }
        },
        {
          "output_type": "display_data",
          "data": {
            "image/png": "[encoded data removed]",
            "text/plain": [
              "<Figure size 360x360 with 1 Axes>"
            ]
          },
          "metadata": {
            "tags": [],
            "needs_background": "light"
          }
        },
        {
          "output_type": "display_data",
          "data": {
            "image/png": "[encoded data removed]",
            "text/plain": [
              "<Figure size 360x360 with 1 Axes>"
            ]
          },
          "metadata": {
            "tags": [],
            "needs_background": "light"
          }
        },
        {
          "output_type": "display_data",
          "data": {
            "image/png": "[encoded data removed]",
            "text/plain": [
              "<Figure size 360x360 with 1 Axes>"
            ]
          },
          "metadata": {
            "tags": [],
            "needs_background": "light"
          }
        },
        {
          "output_type": "display_data",
          "data": {
            "image/png": "[encoded data removed]",
            "text/plain": [
              "<Figure size 360x360 with 1 Axes>"
            ]
          },
          "metadata": {
            "tags": [],
            "needs_background": "light"
          }
        },
        {
          "output_type": "display_data",
          "data": {
            "image/png": "[encoded data removed]",
            "text/plain": [
              "<Figure size 360x360 with 1 Axes>"
            ]
          },
          "metadata": {
            "tags": [],
            "needs_background": "light"
          }
        },
        {
          "output_type": "display_data",
          "data": {
            "image/png": "[encoded data removed]",
            "text/plain": [
              "<Figure size 360x360 with 1 Axes>"
            ]
          },
          "metadata": {
            "tags": [],
            "needs_background": "light"
          }
        }
      ]
    },
    {
      "cell_type": "markdown",
      "metadata": {
        "id": "Oz6jH-mxn61z"
      },
      "source": [
        "## insights of the dataset:\n",
        "*  There is some bias on BPMeds, prevalentStroke and diabetes features, most of the patients had not any of this problems.\n",
        "\n",
        "* The number of male/famele patients and current/not current smoker are similar, which is fine.\n",
        "\n",
        "* The other features are well distributed, we just need to do some feature scaling."
      ]
    },
    {
      "cell_type": "markdown",
      "metadata": {
        "id": "wb6u1XUFqXwa"
      },
      "source": [
        "# Feature Scaling\n",
        "* This time we will use Standaritation since we have a lot of outliers (normalitation is highly affected by outliers)."
      ]
    },
    {
      "cell_type": "code",
      "metadata": {
        "id": "6Suc6pGbn6U7"
      },
      "source": [
        "from sklearn.preprocessing import StandardScaler\n"
      ],
      "execution_count": 245,
      "outputs": []
    },
    {
      "cell_type": "code",
      "metadata": {
        "id": "SDLVKcqKrVyh"
      },
      "source": [
        "scaler = StandardScaler()"
      ],
      "execution_count": 246,
      "outputs": []
    },
    {
      "cell_type": "markdown",
      "metadata": {
        "id": "i-beWFg3tuTn"
      },
      "source": [
        "* Before scale our features, let's split our dataset into out features (X) and our labels (y) and into our train, val and test sets"
      ]
    },
    {
      "cell_type": "code",
      "metadata": {
        "id": "CLOaBfB-uSV2"
      },
      "source": [
        "X = dataset.drop(labels = \"TenYearCHD\", axis=1)\n",
        "y = dataset[\"TenYearCHD\"]"
      ],
      "execution_count": 247,
      "outputs": []
    },
    {
      "cell_type": "code",
      "metadata": {
        "id": "4cc9CXGHtteg"
      },
      "source": [
        "from sklearn.model_selection import train_test_split"
      ],
      "execution_count": 248,
      "outputs": []
    },
    {
      "cell_type": "code",
      "metadata": {
        "id": "BvQ1iBBMuBYO"
      },
      "source": [
        "X_train_val, X_test, y_train_val, y_test = train_test_split(X, y, test_size=0.20, random_state=42)"
      ],
      "execution_count": 249,
      "outputs": []
    },
    {
      "cell_type": "markdown",
      "metadata": {
        "id": "3OYCkKbrv24V"
      },
      "source": [
        "* Let's Scale our training set"
      ]
    },
    {
      "cell_type": "code",
      "metadata": {
        "id": "Ec384IFHwqA3",
        "outputId": "b7e93b93-9b9b-4b30-ec3a-3711877c6202",
        "colab": {
          "base_uri": "https://localhost:8080/",
          "height": 419
        }
      },
      "source": [
        "X_train_val"
      ],
      "execution_count": 250,
      "outputs": [
        {
          "output_type": "execute_result",
          "data": {
            "text/html": [
              "<div>\n",
              "<style scoped>\n",
              "    .dataframe tbody tr th:only-of-type {\n",
              "        vertical-align: middle;\n",
              "    }\n",
              "\n",
              "    .dataframe tbody tr th {\n",
              "        vertical-align: top;\n",
              "    }\n",
              "\n",
              "    .dataframe thead th {\n",
              "        text-align: right;\n",
              "    }\n",
              "</style>\n",
              "<table border=\"1\" class=\"dataframe\">\n",
              "  <thead>\n",
              "    <tr style=\"text-align: right;\">\n",
              "      <th></th>\n",
              "      <th>male</th>\n",
              "      <th>age</th>\n",
              "      <th>currentSmoker</th>\n",
              "      <th>cigsPerDay</th>\n",
              "      <th>BPMeds</th>\n",
              "      <th>prevalentStroke</th>\n",
              "      <th>prevalentHyp</th>\n",
              "      <th>diabetes</th>\n",
              "      <th>totChol</th>\n",
              "      <th>sysBP</th>\n",
              "      <th>diaBP</th>\n",
              "      <th>BMI</th>\n",
              "      <th>heartRate</th>\n",
              "      <th>glucose</th>\n",
              "    </tr>\n",
              "  </thead>\n",
              "  <tbody>\n",
              "    <tr>\n",
              "      <th>3252</th>\n",
              "      <td>1</td>\n",
              "      <td>40</td>\n",
              "      <td>1</td>\n",
              "      <td>30.0</td>\n",
              "      <td>0.0</td>\n",
              "      <td>0</td>\n",
              "      <td>0</td>\n",
              "      <td>0</td>\n",
              "      <td>205.0</td>\n",
              "      <td>131.0</td>\n",
              "      <td>81.0</td>\n",
              "      <td>23.74</td>\n",
              "      <td>66.0</td>\n",
              "      <td>87.0</td>\n",
              "    </tr>\n",
              "    <tr>\n",
              "      <th>3946</th>\n",
              "      <td>0</td>\n",
              "      <td>57</td>\n",
              "      <td>0</td>\n",
              "      <td>0.0</td>\n",
              "      <td>0.0</td>\n",
              "      <td>0</td>\n",
              "      <td>1</td>\n",
              "      <td>0</td>\n",
              "      <td>250.0</td>\n",
              "      <td>152.5</td>\n",
              "      <td>92.5</td>\n",
              "      <td>32.31</td>\n",
              "      <td>75.0</td>\n",
              "      <td>94.0</td>\n",
              "    </tr>\n",
              "    <tr>\n",
              "      <th>1261</th>\n",
              "      <td>0</td>\n",
              "      <td>47</td>\n",
              "      <td>0</td>\n",
              "      <td>0.0</td>\n",
              "      <td>0.0</td>\n",
              "      <td>0</td>\n",
              "      <td>0</td>\n",
              "      <td>0</td>\n",
              "      <td>230.0</td>\n",
              "      <td>123.0</td>\n",
              "      <td>71.0</td>\n",
              "      <td>26.98</td>\n",
              "      <td>83.0</td>\n",
              "      <td>73.0</td>\n",
              "    </tr>\n",
              "    <tr>\n",
              "      <th>2536</th>\n",
              "      <td>1</td>\n",
              "      <td>41</td>\n",
              "      <td>1</td>\n",
              "      <td>30.0</td>\n",
              "      <td>0.0</td>\n",
              "      <td>0</td>\n",
              "      <td>0</td>\n",
              "      <td>0</td>\n",
              "      <td>228.0</td>\n",
              "      <td>113.0</td>\n",
              "      <td>82.5</td>\n",
              "      <td>25.67</td>\n",
              "      <td>67.0</td>\n",
              "      <td>70.0</td>\n",
              "    </tr>\n",
              "    <tr>\n",
              "      <th>4089</th>\n",
              "      <td>0</td>\n",
              "      <td>64</td>\n",
              "      <td>0</td>\n",
              "      <td>0.0</td>\n",
              "      <td>0.0</td>\n",
              "      <td>0</td>\n",
              "      <td>1</td>\n",
              "      <td>0</td>\n",
              "      <td>232.0</td>\n",
              "      <td>149.5</td>\n",
              "      <td>84.0</td>\n",
              "      <td>20.49</td>\n",
              "      <td>68.0</td>\n",
              "      <td>96.0</td>\n",
              "    </tr>\n",
              "    <tr>\n",
              "      <th>...</th>\n",
              "      <td>...</td>\n",
              "      <td>...</td>\n",
              "      <td>...</td>\n",
              "      <td>...</td>\n",
              "      <td>...</td>\n",
              "      <td>...</td>\n",
              "      <td>...</td>\n",
              "      <td>...</td>\n",
              "      <td>...</td>\n",
              "      <td>...</td>\n",
              "      <td>...</td>\n",
              "      <td>...</td>\n",
              "      <td>...</td>\n",
              "      <td>...</td>\n",
              "    </tr>\n",
              "    <tr>\n",
              "      <th>3444</th>\n",
              "      <td>0</td>\n",
              "      <td>36</td>\n",
              "      <td>1</td>\n",
              "      <td>5.0</td>\n",
              "      <td>0.0</td>\n",
              "      <td>0</td>\n",
              "      <td>1</td>\n",
              "      <td>0</td>\n",
              "      <td>222.0</td>\n",
              "      <td>147.0</td>\n",
              "      <td>94.0</td>\n",
              "      <td>26.79</td>\n",
              "      <td>76.0</td>\n",
              "      <td>71.0</td>\n",
              "    </tr>\n",
              "    <tr>\n",
              "      <th>466</th>\n",
              "      <td>0</td>\n",
              "      <td>57</td>\n",
              "      <td>1</td>\n",
              "      <td>15.0</td>\n",
              "      <td>0.0</td>\n",
              "      <td>0</td>\n",
              "      <td>0</td>\n",
              "      <td>0</td>\n",
              "      <td>250.0</td>\n",
              "      <td>125.0</td>\n",
              "      <td>74.0</td>\n",
              "      <td>21.08</td>\n",
              "      <td>80.0</td>\n",
              "      <td>72.0</td>\n",
              "    </tr>\n",
              "    <tr>\n",
              "      <th>3092</th>\n",
              "      <td>0</td>\n",
              "      <td>60</td>\n",
              "      <td>0</td>\n",
              "      <td>0.0</td>\n",
              "      <td>0.0</td>\n",
              "      <td>0</td>\n",
              "      <td>1</td>\n",
              "      <td>0</td>\n",
              "      <td>298.0</td>\n",
              "      <td>133.0</td>\n",
              "      <td>89.0</td>\n",
              "      <td>25.09</td>\n",
              "      <td>83.0</td>\n",
              "      <td>81.0</td>\n",
              "    </tr>\n",
              "    <tr>\n",
              "      <th>3772</th>\n",
              "      <td>1</td>\n",
              "      <td>39</td>\n",
              "      <td>1</td>\n",
              "      <td>10.0</td>\n",
              "      <td>0.0</td>\n",
              "      <td>0</td>\n",
              "      <td>0</td>\n",
              "      <td>0</td>\n",
              "      <td>215.0</td>\n",
              "      <td>102.0</td>\n",
              "      <td>64.5</td>\n",
              "      <td>24.50</td>\n",
              "      <td>68.0</td>\n",
              "      <td>62.0</td>\n",
              "    </tr>\n",
              "    <tr>\n",
              "      <th>860</th>\n",
              "      <td>0</td>\n",
              "      <td>35</td>\n",
              "      <td>0</td>\n",
              "      <td>0.0</td>\n",
              "      <td>0.0</td>\n",
              "      <td>0</td>\n",
              "      <td>0</td>\n",
              "      <td>0</td>\n",
              "      <td>248.0</td>\n",
              "      <td>107.0</td>\n",
              "      <td>73.0</td>\n",
              "      <td>20.64</td>\n",
              "      <td>90.0</td>\n",
              "      <td>80.0</td>\n",
              "    </tr>\n",
              "  </tbody>\n",
              "</table>\n",
              "<p>3390 rows × 14 columns</p>\n",
              "</div>"
            ],
            "text/plain": [
              "      male  age  currentSmoker  cigsPerDay  ...  diaBP    BMI  heartRate  glucose\n",
              "3252     1   40              1        30.0  ...   81.0  23.74       66.0     87.0\n",
              "3946     0   57              0         0.0  ...   92.5  32.31       75.0     94.0\n",
              "1261     0   47              0         0.0  ...   71.0  26.98       83.0     73.0\n",
              "2536     1   41              1        30.0  ...   82.5  25.67       67.0     70.0\n",
              "4089     0   64              0         0.0  ...   84.0  20.49       68.0     96.0\n",
              "...    ...  ...            ...         ...  ...    ...    ...        ...      ...\n",
              "3444     0   36              1         5.0  ...   94.0  26.79       76.0     71.0\n",
              "466      0   57              1        15.0  ...   74.0  21.08       80.0     72.0\n",
              "3092     0   60              0         0.0  ...   89.0  25.09       83.0     81.0\n",
              "3772     1   39              1        10.0  ...   64.5  24.50       68.0     62.0\n",
              "860      0   35              0         0.0  ...   73.0  20.64       90.0     80.0\n",
              "\n",
              "[3390 rows x 14 columns]"
            ]
          },
          "metadata": {
            "tags": []
          },
          "execution_count": 250
        }
      ]
    },
    {
      "cell_type": "markdown",
      "metadata": {
        "id": "bNTQSieHxP11"
      },
      "source": [
        "* Scale only the needed features."
      ]
    },
    {
      "cell_type": "code",
      "metadata": {
        "id": "Y6voyHvLvUx_",
        "outputId": "3b5228cd-32d1-4b24-ed93-45f6eb03eefe",
        "colab": {
          "base_uri": "https://localhost:8080/"
        }
      },
      "source": [
        "X_train_val[[\"age\", \"cigsPerDay\", \"totChol\", \"sysBP\", \"diaBP\", \"BMI\", \"heartRate\", \"glucose\"]] = scaler.fit_transform(X_train_val[[\"age\", \"cigsPerDay\", \"totChol\", \"sysBP\", \"diaBP\", \"BMI\", \"heartRate\", \"glucose\"]])"
      ],
      "execution_count": 251,
      "outputs": [
        {
          "output_type": "stream",
          "text": [
            "/usr/local/lib/python3.6/dist-packages/ipykernel_launcher.py:1: SettingWithCopyWarning: \n",
            "A value is trying to be set on a copy of a slice from a DataFrame.\n",
            "Try using .loc[row_indexer,col_indexer] = value instead\n",
            "\n",
            "See the caveats in the documentation: https://pandas.pydata.org/pandas-docs/stable/user_guide/indexing.html#returning-a-view-versus-a-copy\n",
            "  \"\"\"Entry point for launching an IPython kernel.\n",
            "/usr/local/lib/python3.6/dist-packages/pandas/core/indexing.py:1736: SettingWithCopyWarning: \n",
            "A value is trying to be set on a copy of a slice from a DataFrame.\n",
            "Try using .loc[row_indexer,col_indexer] = value instead\n",
            "\n",
            "See the caveats in the documentation: https://pandas.pydata.org/pandas-docs/stable/user_guide/indexing.html#returning-a-view-versus-a-copy\n",
            "  isetter(loc, value[:, i].tolist())\n"
          ],
          "name": "stderr"
        }
      ]
    },
    {
      "cell_type": "code",
      "metadata": {
        "id": "pND9Bs4jzNU_",
        "outputId": "c71c6b91-1f41-46d3-c10b-24826ba356f3",
        "colab": {
          "base_uri": "https://localhost:8080/",
          "height": 297
        }
      },
      "source": [
        "X_train_val.describe()"
      ],
      "execution_count": 252,
      "outputs": [
        {
          "output_type": "execute_result",
          "data": {
            "text/html": [
              "<div>\n",
              "<style scoped>\n",
              "    .dataframe tbody tr th:only-of-type {\n",
              "        vertical-align: middle;\n",
              "    }\n",
              "\n",
              "    .dataframe tbody tr th {\n",
              "        vertical-align: top;\n",
              "    }\n",
              "\n",
              "    .dataframe thead th {\n",
              "        text-align: right;\n",
              "    }\n",
              "</style>\n",
              "<table border=\"1\" class=\"dataframe\">\n",
              "  <thead>\n",
              "    <tr style=\"text-align: right;\">\n",
              "      <th></th>\n",
              "      <th>male</th>\n",
              "      <th>age</th>\n",
              "      <th>currentSmoker</th>\n",
              "      <th>cigsPerDay</th>\n",
              "      <th>BPMeds</th>\n",
              "      <th>prevalentStroke</th>\n",
              "      <th>prevalentHyp</th>\n",
              "      <th>diabetes</th>\n",
              "      <th>totChol</th>\n",
              "      <th>sysBP</th>\n",
              "      <th>diaBP</th>\n",
              "      <th>BMI</th>\n",
              "      <th>heartRate</th>\n",
              "      <th>glucose</th>\n",
              "    </tr>\n",
              "  </thead>\n",
              "  <tbody>\n",
              "    <tr>\n",
              "      <th>count</th>\n",
              "      <td>3390.000000</td>\n",
              "      <td>3.390000e+03</td>\n",
              "      <td>3390.000000</td>\n",
              "      <td>3.390000e+03</td>\n",
              "      <td>3390.000000</td>\n",
              "      <td>3390.000000</td>\n",
              "      <td>3390.000000</td>\n",
              "      <td>3390.000000</td>\n",
              "      <td>3.390000e+03</td>\n",
              "      <td>3.390000e+03</td>\n",
              "      <td>3.390000e+03</td>\n",
              "      <td>3.390000e+03</td>\n",
              "      <td>3.390000e+03</td>\n",
              "      <td>3.390000e+03</td>\n",
              "    </tr>\n",
              "    <tr>\n",
              "      <th>mean</th>\n",
              "      <td>0.422714</td>\n",
              "      <td>2.596415e-16</td>\n",
              "      <td>0.499115</td>\n",
              "      <td>3.092904e-16</td>\n",
              "      <td>0.029204</td>\n",
              "      <td>0.006195</td>\n",
              "      <td>0.313274</td>\n",
              "      <td>0.025074</td>\n",
              "      <td>-1.884432e-16</td>\n",
              "      <td>-1.426587e-16</td>\n",
              "      <td>-6.163212e-16</td>\n",
              "      <td>-9.052739e-16</td>\n",
              "      <td>3.624764e-16</td>\n",
              "      <td>-5.268238e-16</td>\n",
              "    </tr>\n",
              "    <tr>\n",
              "      <th>std</th>\n",
              "      <td>0.494064</td>\n",
              "      <td>1.000148e+00</td>\n",
              "      <td>0.500073</td>\n",
              "      <td>1.000148e+00</td>\n",
              "      <td>0.168401</td>\n",
              "      <td>0.078474</td>\n",
              "      <td>0.463893</td>\n",
              "      <td>0.156372</td>\n",
              "      <td>1.000148e+00</td>\n",
              "      <td>1.000148e+00</td>\n",
              "      <td>1.000148e+00</td>\n",
              "      <td>1.000148e+00</td>\n",
              "      <td>1.000148e+00</td>\n",
              "      <td>1.000148e+00</td>\n",
              "    </tr>\n",
              "    <tr>\n",
              "      <th>min</th>\n",
              "      <td>0.000000</td>\n",
              "      <td>-2.043179e+00</td>\n",
              "      <td>0.000000</td>\n",
              "      <td>-7.666685e-01</td>\n",
              "      <td>0.000000</td>\n",
              "      <td>0.000000</td>\n",
              "      <td>0.000000</td>\n",
              "      <td>0.000000</td>\n",
              "      <td>-2.920039e+00</td>\n",
              "      <td>-2.210567e+00</td>\n",
              "      <td>-2.923962e+00</td>\n",
              "      <td>-2.507742e+00</td>\n",
              "      <td>-2.597952e+00</td>\n",
              "      <td>-1.856802e+00</td>\n",
              "    </tr>\n",
              "    <tr>\n",
              "      <th>25%</th>\n",
              "      <td>0.000000</td>\n",
              "      <td>-8.771223e-01</td>\n",
              "      <td>0.000000</td>\n",
              "      <td>-7.666685e-01</td>\n",
              "      <td>0.000000</td>\n",
              "      <td>0.000000</td>\n",
              "      <td>0.000000</td>\n",
              "      <td>0.000000</td>\n",
              "      <td>-6.941720e-01</td>\n",
              "      <td>-6.958551e-01</td>\n",
              "      <td>-6.987246e-01</td>\n",
              "      <td>-6.692609e-01</td>\n",
              "      <td>-6.701617e-01</td>\n",
              "      <td>-4.419622e-01</td>\n",
              "    </tr>\n",
              "    <tr>\n",
              "      <th>50%</th>\n",
              "      <td>0.000000</td>\n",
              "      <td>-6.088261e-02</td>\n",
              "      <td>0.000000</td>\n",
              "      <td>-7.666685e-01</td>\n",
              "      <td>0.000000</td>\n",
              "      <td>0.000000</td>\n",
              "      <td>0.000000</td>\n",
              "      <td>0.000000</td>\n",
              "      <td>-6.463382e-02</td>\n",
              "      <td>-1.984871e-01</td>\n",
              "      <td>-8.234430e-02</td>\n",
              "      <td>-1.116290e-01</td>\n",
              "      <td>-8.344309e-02</td>\n",
              "      <td>-8.825222e-02</td>\n",
              "    </tr>\n",
              "    <tr>\n",
              "      <th>75%</th>\n",
              "      <td>1.000000</td>\n",
              "      <td>7.553571e-01</td>\n",
              "      <td>1.000000</td>\n",
              "      <td>9.116797e-01</td>\n",
              "      <td>0.000000</td>\n",
              "      <td>0.000000</td>\n",
              "      <td>1.000000</td>\n",
              "      <td>0.000000</td>\n",
              "      <td>5.817670e-01</td>\n",
              "      <td>5.249573e-01</td>\n",
              "      <td>5.862717e-01</td>\n",
              "      <td>5.233165e-01</td>\n",
              "      <td>5.870925e-01</td>\n",
              "      <td>1.328165e-01</td>\n",
              "    </tr>\n",
              "    <tr>\n",
              "      <th>max</th>\n",
              "      <td>1.000000</td>\n",
              "      <td>2.387837e+00</td>\n",
              "      <td>1.000000</td>\n",
              "      <td>4.268376e+00</td>\n",
              "      <td>1.000000</td>\n",
              "      <td>1.000000</td>\n",
              "      <td>1.000000</td>\n",
              "      <td>1.000000</td>\n",
              "      <td>1.032275e+01</td>\n",
              "      <td>7.352464e+00</td>\n",
              "      <td>4.765121e+00</td>\n",
              "      <td>7.539373e+00</td>\n",
              "      <td>5.616110e+00</td>\n",
              "      <td>1.379487e+01</td>\n",
              "    </tr>\n",
              "  </tbody>\n",
              "</table>\n",
              "</div>"
            ],
            "text/plain": [
              "              male           age  ...     heartRate       glucose\n",
              "count  3390.000000  3.390000e+03  ...  3.390000e+03  3.390000e+03\n",
              "mean      0.422714  2.596415e-16  ...  3.624764e-16 -5.268238e-16\n",
              "std       0.494064  1.000148e+00  ...  1.000148e+00  1.000148e+00\n",
              "min       0.000000 -2.043179e+00  ... -2.597952e+00 -1.856802e+00\n",
              "25%       0.000000 -8.771223e-01  ... -6.701617e-01 -4.419622e-01\n",
              "50%       0.000000 -6.088261e-02  ... -8.344309e-02 -8.825222e-02\n",
              "75%       1.000000  7.553571e-01  ...  5.870925e-01  1.328165e-01\n",
              "max       1.000000  2.387837e+00  ...  5.616110e+00  1.379487e+01\n",
              "\n",
              "[8 rows x 14 columns]"
            ]
          },
          "metadata": {
            "tags": []
          },
          "execution_count": 252
        }
      ]
    },
    {
      "cell_type": "markdown",
      "metadata": {
        "id": "ATDlf0FRZuKL"
      },
      "source": [
        "## Let's Build our model!"
      ]
    },
    {
      "cell_type": "code",
      "metadata": {
        "id": "1uNaRu3AY3Hg"
      },
      "source": [
        "from sklearn.linear_model import LogisticRegression\n",
        "from sklearn.metrics import recall_score\n",
        "# Build some dictionaries for measures\n",
        "\n",
        "training_scores = pd.DataFrame(columns=[\"model\", \"accuracy_score\", \"recall_score\", \"true_negatives\", \"false_positives\", \"false_negatives\", \"true_positives\"])\n",
        "validation_scores = pd.DataFrame(columns=[\"model\", \"accuracy_score\", \"recall_score\", \"true_negatives\", \"false_positives\", \"false_negatives\", \"true_positives\"])\n",
        "test_scores  = pd.DataFrame(columns=[\"model\", \"accuracy_score\", \"recall_score\", \"true_negatives\", \"false_positives\", \"false_negatives\", \"true_positives\"])\n",
        "\n",
        "log_reg = LogisticRegression(penalty=\"l2\",solver=\"lbfgs\")"
      ],
      "execution_count": 253,
      "outputs": []
    },
    {
      "cell_type": "code",
      "metadata": {
        "id": "Zsis-fFk3Wzy"
      },
      "source": [
        ""
      ],
      "execution_count": 253,
      "outputs": []
    },
    {
      "cell_type": "code",
      "metadata": {
        "id": "QMhIoCBTaTM2"
      },
      "source": [
        "#Split training_val set to training and validation sets\n",
        "X_train, X_val, y_train, y_val = train_test_split(X_train_val, y_train_val, train_size = 0.8, random_state = 42) "
      ],
      "execution_count": 254,
      "outputs": []
    },
    {
      "cell_type": "code",
      "metadata": {
        "id": "Szo3z2boaHue",
        "outputId": "a826d3d8-59c2-4eb6-8569-9d13cdbc77cb",
        "colab": {
          "base_uri": "https://localhost:8080/"
        }
      },
      "source": [
        "#Training the model\n",
        "log_reg.fit(X_train, y_train)"
      ],
      "execution_count": 255,
      "outputs": [
        {
          "output_type": "execute_result",
          "data": {
            "text/plain": [
              "LogisticRegression(C=1.0, class_weight=None, dual=False, fit_intercept=True,\n",
              "                   intercept_scaling=1, l1_ratio=None, max_iter=100,\n",
              "                   multi_class='auto', n_jobs=None, penalty='l2',\n",
              "                   random_state=None, solver='lbfgs', tol=0.0001, verbose=0,\n",
              "                   warm_start=False)"
            ]
          },
          "metadata": {
            "tags": []
          },
          "execution_count": 255
        }
      ]
    },
    {
      "cell_type": "code",
      "metadata": {
        "id": "pVmb1LrBfP-Q",
        "outputId": "9b51f5c6-c49c-4cdb-afa6-b2a21a9545bb",
        "colab": {
          "base_uri": "https://localhost:8080/"
        }
      },
      "source": [
        "log_reg.n_iter_"
      ],
      "execution_count": 256,
      "outputs": [
        {
          "output_type": "execute_result",
          "data": {
            "text/plain": [
              "array([42], dtype=int32)"
            ]
          },
          "metadata": {
            "tags": []
          },
          "execution_count": 256
        }
      ]
    },
    {
      "cell_type": "code",
      "metadata": {
        "id": "Qpbltqqva4MA"
      },
      "source": [
        "predictions_val = log_reg.predict(X_val)\n",
        "predictions_train = log_reg.predict(X_train)"
      ],
      "execution_count": 257,
      "outputs": []
    },
    {
      "cell_type": "markdown",
      "metadata": {
        "id": "7py3TnMlipOv"
      },
      "source": [
        "## Measuring accuracy preformance"
      ]
    },
    {
      "cell_type": "code",
      "metadata": {
        "id": "8rHSXB8sbAxm",
        "outputId": "171b2f4a-5662-4214-c773-ce0fbd8c59c6",
        "colab": {
          "base_uri": "https://localhost:8080/"
        }
      },
      "source": [
        "from sklearn.metrics import accuracy_score\n",
        "Logistic_regression_accuracy_train = accuracy_score(y_train, predictions_train)\n",
        "Logistic_regression_accuracy_train\n"
      ],
      "execution_count": 258,
      "outputs": [
        {
          "output_type": "execute_result",
          "data": {
            "text/plain": [
              "0.8558259587020649"
            ]
          },
          "metadata": {
            "tags": []
          },
          "execution_count": 258
        }
      ]
    },
    {
      "cell_type": "markdown",
      "metadata": {
        "id": "7f38oNvmjZVH"
      },
      "source": [
        "## Measuring confusion matrix preformance"
      ]
    },
    {
      "cell_type": "code",
      "metadata": {
        "id": "gpggw0xWjevd"
      },
      "source": [
        "from sklearn.metrics import confusion_matrix\n",
        "confusion_matrix_vanila_logistic = confusion_matrix(y_train, predictions_train)"
      ],
      "execution_count": 259,
      "outputs": []
    },
    {
      "cell_type": "markdown",
      "metadata": {
        "id": "mPNu9zw9lcax"
      },
      "source": [
        "## Let's set a treshold in order to improve our recall, doing this we'll predict most of the positive cases correctly.\n",
        "\n",
        "* It is more important to have a high Recall instead of a high Precision because we need as more true positive instances as posible."
      ]
    },
    {
      "cell_type": "code",
      "metadata": {
        "id": "Rj-fG_A5oPzP"
      },
      "source": [
        "from sklearn.metrics import  precision_recall_curve"
      ],
      "execution_count": 260,
      "outputs": []
    },
    {
      "cell_type": "markdown",
      "metadata": {
        "id": "RPpAD9R-vKBc"
      },
      "source": [
        "## Let's the behavior of the precision/recall depending of the threshold"
      ]
    },
    {
      "cell_type": "code",
      "metadata": {
        "id": "sKawUikUNUNN"
      },
      "source": [
        "def plot_Precision_Recall(y_train, predictions_train):\n",
        "  precisions,recalls,thresholds = precision_recall_curve(y_train, predictions_train)\n",
        "  print(f\"Precisions: {precisions}\")\n",
        "  print(f\"recalls: {recalls}\")\n",
        "  print(f\"thresholds: {thresholds}\")\n",
        "  plt.figure(figsize=(14,6))\n",
        "  plt.title(\"recall vs precision\")\n",
        "  plt.xlabel(\"Threshold\")\n",
        "  sns.lineplot(x=thresholds, y=precisions[:-1],label=\"Precision\")\n",
        "  sns.lineplot(x=thresholds, y=recalls[:-1], label=\"Recall\")"
      ],
      "execution_count": 261,
      "outputs": []
    },
    {
      "cell_type": "code",
      "metadata": {
        "id": "_h7GwJhVqc18",
        "outputId": "72f6ddae-03ef-4a44-d3f1-959613863b78",
        "colab": {
          "base_uri": "https://localhost:8080/",
          "height": 455
        }
      },
      "source": [
        "plot_Precision_Recall(y_train,predictions_train)"
      ],
      "execution_count": 262,
      "outputs": [
        {
          "output_type": "stream",
          "text": [
            "Precisions: [0.15449853 0.73333333 1.        ]\n",
            "recalls: [1.         0.10501193 0.        ]\n",
            "thresholds: [0 1]\n"
          ],
          "name": "stdout"
        },
        {
          "output_type": "display_data",
          "data": {
            "image/png": "[encoded data removed]",
            "text/plain": [
              "<Figure size 1008x432 with 1 Axes>"
            ]
          },
          "metadata": {
            "tags": [],
            "needs_background": "light"
          }
        }
      ]
    },
    {
      "cell_type": "markdown",
      "metadata": {
        "id": "VOWRQM66vfE0"
      },
      "source": [
        "## with a threshold of 0.3 we have a good recall "
      ]
    },
    {
      "cell_type": "code",
      "metadata": {
        "id": "1-n8pJJHlXQe",
        "outputId": "a3e4abcd-4f75-4386-da5b-c105b263cec2",
        "colab": {
          "base_uri": "https://localhost:8080/"
        }
      },
      "source": [
        "predictions_train_proba = log_reg.predict_proba(X_train)\n",
        "predictions_train_proba"
      ],
      "execution_count": 263,
      "outputs": [
        {
          "output_type": "execute_result",
          "data": {
            "text/plain": [
              "array([[0.67907812, 0.32092188],\n",
              "       [0.77981161, 0.22018839],\n",
              "       [0.90471924, 0.09528076],\n",
              "       ...,\n",
              "       [0.95454992, 0.04545008],\n",
              "       [0.5733495 , 0.4266505 ],\n",
              "       [0.52842725, 0.47157275]])"
            ]
          },
          "metadata": {
            "tags": []
          },
          "execution_count": 263
        }
      ]
    },
    {
      "cell_type": "code",
      "metadata": {
        "id": "gxt-VOd_mc7W",
        "outputId": "7807ce05-fe96-4f95-ffac-7de0d8bd97a1",
        "colab": {
          "base_uri": "https://localhost:8080/"
        }
      },
      "source": [
        "#By doing this, if the instance has a 30% or more chances to have a heart disease\n",
        "# it will be take as a true case \n",
        "treshold = 0.30\n",
        "actual_predictions_train = (predictions_train_proba[:,1] > treshold)\n",
        "actual_predictions_train"
      ],
      "execution_count": 264,
      "outputs": [
        {
          "output_type": "execute_result",
          "data": {
            "text/plain": [
              "array([ True, False, False, ..., False,  True,  True])"
            ]
          },
          "metadata": {
            "tags": []
          },
          "execution_count": 264
        }
      ]
    },
    {
      "cell_type": "code",
      "metadata": {
        "id": "ENKEP1WVmoot"
      },
      "source": [
        "confusion_matrix_threshold_logistic =confusion_matrix(y_train, actual_predictions_train) #Now 129 of the positives are correctly predicted"
      ],
      "execution_count": 265,
      "outputs": []
    },
    {
      "cell_type": "markdown",
      "metadata": {
        "id": "9WJnKctQxeBK"
      },
      "source": [
        "## Let's see and save the recall score for both models"
      ]
    },
    {
      "cell_type": "code",
      "metadata": {
        "id": "C0Xzg-2a35FW",
        "outputId": "341f1206-5993-49f3-bb05-234e78a8ea23",
        "colab": {
          "base_uri": "https://localhost:8080/"
        }
      },
      "source": [
        "recall_logistic_vanilla = recall_score(y_train, predictions_train)\n",
        "recall_logistic_thesholded = recall_score(y_train, actual_predictions_train)\n",
        "recall_logistic_thesholded\n",
        "Logistic_regression_threshold_accuracy_train = accuracy_score(y_train, actual_predictions_train)\n",
        "Logistic_regression_threshold_accuracy_train"
      ],
      "execution_count": 266,
      "outputs": [
        {
          "output_type": "execute_result",
          "data": {
            "text/plain": [
              "0.825589970501475"
            ]
          },
          "metadata": {
            "tags": []
          },
          "execution_count": 266
        }
      ]
    },
    {
      "cell_type": "code",
      "metadata": {
        "id": "8GqsEPx15v69",
        "outputId": "72eafda7-0ed7-46be-c7c3-e435afc83d91",
        "colab": {
          "base_uri": "https://localhost:8080/",
          "height": 49
        }
      },
      "source": [
        "scores"
      ],
      "execution_count": 267,
      "outputs": [
        {
          "output_type": "execute_result",
          "data": {
            "text/html": [
              "<div>\n",
              "<style scoped>\n",
              "    .dataframe tbody tr th:only-of-type {\n",
              "        vertical-align: middle;\n",
              "    }\n",
              "\n",
              "    .dataframe tbody tr th {\n",
              "        vertical-align: top;\n",
              "    }\n",
              "\n",
              "    .dataframe thead th {\n",
              "        text-align: right;\n",
              "    }\n",
              "</style>\n",
              "<table border=\"1\" class=\"dataframe\">\n",
              "  <thead>\n",
              "    <tr style=\"text-align: right;\">\n",
              "      <th></th>\n",
              "      <th>model</th>\n",
              "      <th>accuracy_score</th>\n",
              "      <th>recall_score</th>\n",
              "      <th>true_negatives</th>\n",
              "      <th>false_positives</th>\n",
              "      <th>false_negatives</th>\n",
              "      <th>true_positives</th>\n",
              "    </tr>\n",
              "  </thead>\n",
              "  <tbody>\n",
              "  </tbody>\n",
              "</table>\n",
              "</div>"
            ],
            "text/plain": [
              "Empty DataFrame\n",
              "Columns: [model, accuracy_score, recall_score, true_negatives, false_positives, false_negatives, true_positives]\n",
              "Index: []"
            ]
          },
          "metadata": {
            "tags": []
          },
          "execution_count": 267
        }
      ]
    },
    {
      "cell_type": "markdown",
      "metadata": {
        "id": "qXcAd4unN56U"
      },
      "source": [
        "## Let's Try some more models, measuring them with confusion matrix and precision/recall"
      ]
    },
    {
      "cell_type": "code",
      "metadata": {
        "id": "t3kWvseiN40F"
      },
      "source": [
        "from sklearn.svm import SVC\n",
        "svc = SVC(kernel=\"poly\",degree=3, coef0=1, C=5,probability=True)"
      ],
      "execution_count": 269,
      "outputs": []
    },
    {
      "cell_type": "code",
      "metadata": {
        "id": "KzBaNk94OkiV",
        "outputId": "ce057aed-5b97-4fd5-a2cf-ba31f06040b6",
        "colab": {
          "base_uri": "https://localhost:8080/"
        }
      },
      "source": [
        "svc.fit(X_train, y_train)"
      ],
      "execution_count": 270,
      "outputs": [
        {
          "output_type": "execute_result",
          "data": {
            "text/plain": [
              "SVC(C=5, break_ties=False, cache_size=200, class_weight=None, coef0=1,\n",
              "    decision_function_shape='ovr', degree=3, gamma='scale', kernel='poly',\n",
              "    max_iter=-1, probability=True, random_state=None, shrinking=True, tol=0.001,\n",
              "    verbose=False)"
            ]
          },
          "metadata": {
            "tags": []
          },
          "execution_count": 270
        }
      ]
    },
    {
      "cell_type": "code",
      "metadata": {
        "id": "qtz9O7_mOp6E",
        "outputId": "381345de-1fb3-4800-9799-285e2b23e3bb",
        "colab": {
          "base_uri": "https://localhost:8080/"
        }
      },
      "source": [
        "svc_predictions_train = svc.predict(X_train)\n",
        "accuracy_score(y_train, svc_predictions_train)"
      ],
      "execution_count": 271,
      "outputs": [
        {
          "output_type": "execute_result",
          "data": {
            "text/plain": [
              "0.8764749262536873"
            ]
          },
          "metadata": {
            "tags": []
          },
          "execution_count": 271
        }
      ]
    },
    {
      "cell_type": "markdown",
      "metadata": {
        "id": "d1VoJercSRiG"
      },
      "source": [
        "We have a much better accuracy!"
      ]
    },
    {
      "cell_type": "code",
      "metadata": {
        "id": "YODo0wbAPGEc",
        "outputId": "df157e42-8d53-426d-bd4b-504e628dfdc4",
        "colab": {
          "base_uri": "https://localhost:8080/"
        }
      },
      "source": [
        "confusion_matrix(y_train, svc_predictions_train)"
      ],
      "execution_count": 272,
      "outputs": [
        {
          "output_type": "execute_result",
          "data": {
            "text/plain": [
              "array([[2288,    5],\n",
              "       [ 330,   89]])"
            ]
          },
          "metadata": {
            "tags": []
          },
          "execution_count": 272
        }
      ]
    },
    {
      "cell_type": "markdown",
      "metadata": {
        "id": "yVKuvhtSSoXk"
      },
      "source": [
        "We have also a bigger number of true falses (2288 instead of 2277) and true positives (89 instead of 44) than the Logistic Classifier before setting a threshold."
      ]
    },
    {
      "cell_type": "markdown",
      "metadata": {
        "id": "B7zPOk1JScSV"
      },
      "source": [
        "So, we can have better predictions for the positive instances.\n",
        "Not only because we have more true positives, but because this true positives are instances that have a bigger probability to have a heart disease, which means that we will have less false positives.\n"
      ]
    },
    {
      "cell_type": "code",
      "metadata": {
        "id": "wN285JdaPVbc",
        "outputId": "94bcebc9-7d81-4da5-930f-daf5b8ce7946",
        "colab": {
          "base_uri": "https://localhost:8080/",
          "height": 455
        }
      },
      "source": [
        "plot_Precision_Recall(y_train,svc_predictions_train)"
      ],
      "execution_count": 273,
      "outputs": [
        {
          "output_type": "stream",
          "text": [
            "Precisions: [0.15449853 0.94680851 1.        ]\n",
            "recalls: [1.        0.2124105 0.       ]\n",
            "thresholds: [0 1]\n"
          ],
          "name": "stdout"
        },
        {
          "output_type": "display_data",
          "data": {
            "image/png": "[encoded data removed]",
            "text/plain": [
              "<Figure size 1008x432 with 1 Axes>"
            ]
          },
          "metadata": {
            "tags": [],
            "needs_background": "light"
          }
        }
      ]
    },
    {
      "cell_type": "code",
      "metadata": {
        "id": "0sWYPataPjBU",
        "outputId": "7355bf79-f91c-4d71-f5ff-5628e681bd6a",
        "colab": {
          "base_uri": "https://localhost:8080/"
        }
      },
      "source": [
        "svc_predictions_train_proba = svc.predict_proba(X_train)\n",
        "svc_predictions_train_proba\n"
      ],
      "execution_count": 274,
      "outputs": [
        {
          "output_type": "execute_result",
          "data": {
            "text/plain": [
              "array([[0.83048385, 0.16951615],\n",
              "       [0.84847763, 0.15152237],\n",
              "       [0.85599583, 0.14400417],\n",
              "       ...,\n",
              "       [0.86053278, 0.13946722],\n",
              "       [0.84456762, 0.15543238],\n",
              "       [0.77793991, 0.22206009]])"
            ]
          },
          "metadata": {
            "tags": []
          },
          "execution_count": 274
        }
      ]
    },
    {
      "cell_type": "code",
      "metadata": {
        "id": "yiu3zwExVwK1",
        "outputId": "f3f43166-f426-4fb3-8cd2-6cc0508b8c9f",
        "colab": {
          "base_uri": "https://localhost:8080/"
        }
      },
      "source": [
        "y_train"
      ],
      "execution_count": 275,
      "outputs": [
        {
          "output_type": "execute_result",
          "data": {
            "text/plain": [
              "882     1\n",
              "4231    0\n",
              "2552    0\n",
              "2376    0\n",
              "1496    0\n",
              "       ..\n",
              "1962    0\n",
              "2643    0\n",
              "2689    0\n",
              "212     0\n",
              "3369    1\n",
              "Name: TenYearCHD, Length: 2712, dtype: int64"
            ]
          },
          "metadata": {
            "tags": []
          },
          "execution_count": 275
        }
      ]
    },
    {
      "cell_type": "markdown",
      "metadata": {
        "id": "jl_pfsqqXHht"
      },
      "source": [
        "Note: Need to see why this happends!"
      ]
    },
    {
      "cell_type": "code",
      "metadata": {
        "id": "Sr_kUv-oP_qV",
        "outputId": "305f954d-85da-47c0-aa70-4d67949e9085",
        "colab": {
          "base_uri": "https://localhost:8080/"
        }
      },
      "source": [
        "treshold_for_svc = 0.17\n",
        "actual_predictions_train_svc = (svc_predictions_train_proba[:,1] > treshold_for_svc)\n",
        "actual_predictions_train_svc"
      ],
      "execution_count": 276,
      "outputs": [
        {
          "output_type": "execute_result",
          "data": {
            "text/plain": [
              "array([False, False, False, ..., False, False,  True])"
            ]
          },
          "metadata": {
            "tags": []
          },
          "execution_count": 276
        }
      ]
    },
    {
      "cell_type": "code",
      "metadata": {
        "id": "YGR8ofWBQMoj",
        "outputId": "6d6de440-0235-4390-8107-9173d8409208",
        "colab": {
          "base_uri": "https://localhost:8080/"
        }
      },
      "source": [
        "confusion_matrix(y_train, actual_predictions_train_svc)\n"
      ],
      "execution_count": 277,
      "outputs": [
        {
          "output_type": "execute_result",
          "data": {
            "text/plain": [
              "array([[2271,   22],\n",
              "       [ 300,  119]])"
            ]
          },
          "metadata": {
            "tags": []
          },
          "execution_count": 277
        }
      ]
    },
    {
      "cell_type": "markdown",
      "metadata": {
        "id": "kqdL0kzTTjkU"
      },
      "source": [
        "The bad news is that if we set our threshold at 0.30, we will have a much better precision but a poor recall (which is the one we are interested in)\n",
        "\n",
        "* Let's use the original svc model instead the set one"
      ]
    },
    {
      "cell_type": "markdown",
      "metadata": {
        "id": "ns3PM011jYC-"
      },
      "source": [
        "## Let's, Try the next models:\n",
        "* Decision Tree\n",
        "* Bagging/Pasting\n",
        "* Random Forest\n",
        "\n"
      ]
    },
    {
      "cell_type": "markdown",
      "metadata": {
        "id": "JxV600RMopS1"
      },
      "source": [
        "## Decision Tree\n"
      ]
    },
    {
      "cell_type": "code",
      "metadata": {
        "id": "r_ULXD1DonvZ"
      },
      "source": [
        "from sklearn.tree import DecisionTreeClassifier\n"
      ],
      "execution_count": 278,
      "outputs": []
    },
    {
      "cell_type": "code",
      "metadata": {
        "id": "KMRw2WCahXro"
      },
      "source": [
        "tree_clf = DecisionTreeClassifier(max_depth=18)"
      ],
      "execution_count": 279,
      "outputs": []
    },
    {
      "cell_type": "code",
      "metadata": {
        "id": "uGY10y7BtDia",
        "outputId": "dca3112a-3bfb-482c-aa2b-39f414f2057a",
        "colab": {
          "base_uri": "https://localhost:8080/"
        }
      },
      "source": [
        "tree_clf.fit(X_train, y_train)"
      ],
      "execution_count": 280,
      "outputs": [
        {
          "output_type": "execute_result",
          "data": {
            "text/plain": [
              "DecisionTreeClassifier(ccp_alpha=0.0, class_weight=None, criterion='gini',\n",
              "                       max_depth=18, max_features=None, max_leaf_nodes=None,\n",
              "                       min_impurity_decrease=0.0, min_impurity_split=None,\n",
              "                       min_samples_leaf=1, min_samples_split=2,\n",
              "                       min_weight_fraction_leaf=0.0, presort='deprecated',\n",
              "                       random_state=None, splitter='best')"
            ]
          },
          "metadata": {
            "tags": []
          },
          "execution_count": 280
        }
      ]
    },
    {
      "cell_type": "code",
      "metadata": {
        "id": "i1ROu9-CtLvQ"
      },
      "source": [
        "predictions_train_tree = tree_clf.predict(X_train)\n",
        "proba_predictions_tree = tree_clf.predict_proba(X_train)"
      ],
      "execution_count": 281,
      "outputs": []
    },
    {
      "cell_type": "code",
      "metadata": {
        "id": "d937nY5Qugph",
        "outputId": "4bc88b07-ebad-446d-f53e-e9a3ea76b442",
        "colab": {
          "base_uri": "https://localhost:8080/"
        }
      },
      "source": [
        "proba_predictions_tree"
      ],
      "execution_count": 282,
      "outputs": [
        {
          "output_type": "execute_result",
          "data": {
            "text/plain": [
              "array([[0.     , 1.     ],\n",
              "       [0.96875, 0.03125],\n",
              "       [0.25   , 0.75   ],\n",
              "       ...,\n",
              "       [1.     , 0.     ],\n",
              "       [1.     , 0.     ],\n",
              "       [0.     , 1.     ]])"
            ]
          },
          "metadata": {
            "tags": []
          },
          "execution_count": 282
        }
      ]
    },
    {
      "cell_type": "code",
      "metadata": {
        "id": "VfXq7qYdulei",
        "outputId": "6508e680-990a-457e-905c-beef4c740d57",
        "colab": {
          "base_uri": "https://localhost:8080/"
        }
      },
      "source": [
        "y_train"
      ],
      "execution_count": 283,
      "outputs": [
        {
          "output_type": "execute_result",
          "data": {
            "text/plain": [
              "882     1\n",
              "4231    0\n",
              "2552    0\n",
              "2376    0\n",
              "1496    0\n",
              "       ..\n",
              "1962    0\n",
              "2643    0\n",
              "2689    0\n",
              "212     0\n",
              "3369    1\n",
              "Name: TenYearCHD, Length: 2712, dtype: int64"
            ]
          },
          "metadata": {
            "tags": []
          },
          "execution_count": 283
        }
      ]
    },
    {
      "cell_type": "code",
      "metadata": {
        "id": "ZCoYlUSAtRdg",
        "outputId": "58154238-b3e1-4e74-9050-856d052600c5",
        "colab": {
          "base_uri": "https://localhost:8080/"
        }
      },
      "source": [
        "confusion_matrix(y_train, predictions_train_tree)"
      ],
      "execution_count": 284,
      "outputs": [
        {
          "output_type": "execute_result",
          "data": {
            "text/plain": [
              "array([[2289,    4],\n",
              "       [  57,  362]])"
            ]
          },
          "metadata": {
            "tags": []
          },
          "execution_count": 284
        }
      ]
    },
    {
      "cell_type": "code",
      "metadata": {
        "id": "t1EEfo8Ft1nY",
        "outputId": "ffbaa27f-6d80-4bc7-dbaa-5692304fae17",
        "colab": {
          "base_uri": "https://localhost:8080/"
        }
      },
      "source": [
        "accuracy_score(y_train, predictions_train_tree)"
      ],
      "execution_count": 285,
      "outputs": [
        {
          "output_type": "execute_result",
          "data": {
            "text/plain": [
              "0.9775073746312685"
            ]
          },
          "metadata": {
            "tags": []
          },
          "execution_count": 285
        }
      ]
    },
    {
      "cell_type": "code",
      "metadata": {
        "id": "5Qu6dcQzwsU6",
        "outputId": "a060f930-4ced-4d04-d2fb-f16e967eb875",
        "colab": {
          "base_uri": "https://localhost:8080/"
        }
      },
      "source": [
        "recall_score(y_train, predictions_train_tree)"
      ],
      "execution_count": 286,
      "outputs": [
        {
          "output_type": "execute_result",
          "data": {
            "text/plain": [
              "0.863961813842482"
            ]
          },
          "metadata": {
            "tags": []
          },
          "execution_count": 286
        }
      ]
    },
    {
      "cell_type": "markdown",
      "metadata": {
        "id": "Cm63dsgeuqeY"
      },
      "source": [
        "This seems to be a perfect model... Let's see how well it generalize "
      ]
    },
    {
      "cell_type": "code",
      "metadata": {
        "id": "BPdsva4fuwK4"
      },
      "source": [
        "predictions_val_tree = tree_clf.predict(X_val)"
      ],
      "execution_count": 287,
      "outputs": []
    },
    {
      "cell_type": "code",
      "metadata": {
        "id": "wyWchIybvLCB",
        "outputId": "1b0be499-f44d-427f-cd46-d60811fb538b",
        "colab": {
          "base_uri": "https://localhost:8080/"
        }
      },
      "source": [
        "confusion_matrix(y_val, predictions_val_tree)"
      ],
      "execution_count": 288,
      "outputs": [
        {
          "output_type": "execute_result",
          "data": {
            "text/plain": [
              "array([[498,  79],\n",
              "       [ 74,  27]])"
            ]
          },
          "metadata": {
            "tags": []
          },
          "execution_count": 288
        }
      ]
    },
    {
      "cell_type": "code",
      "metadata": {
        "id": "LitI8_08wNrz",
        "outputId": "a5405004-05b9-44f4-df85-29f6636728ba",
        "colab": {
          "base_uri": "https://localhost:8080/"
        }
      },
      "source": [
        "accuracy_score(y_val, predictions_val_tree)"
      ],
      "execution_count": 289,
      "outputs": [
        {
          "output_type": "execute_result",
          "data": {
            "text/plain": [
              "0.7743362831858407"
            ]
          },
          "metadata": {
            "tags": []
          },
          "execution_count": 289
        }
      ]
    },
    {
      "cell_type": "markdown",
      "metadata": {
        "id": "3dn4r_JM3EHZ"
      },
      "source": [
        "## Let's do some grid search to find the optim parameters."
      ]
    },
    {
      "cell_type": "code",
      "metadata": {
        "id": "cP8TMwxE3Jqy"
      },
      "source": [
        "from sklearn.model_selection import GridSearchCV"
      ],
      "execution_count": 290,
      "outputs": []
    },
    {
      "cell_type": "code",
      "metadata": {
        "id": "L7K24Js33fW5"
      },
      "source": [
        "grid_parameters = {\n",
        "    'max_depth': [18],\n",
        "    'max_features':[None],\n",
        "    'max_leaf_nodes':[None],\n",
        "    'min_samples_split':[2,10,20,30],\n",
        "    'min_samples_leaf':[100,200,400]\n",
        "}"
      ],
      "execution_count": 291,
      "outputs": []
    },
    {
      "cell_type": "code",
      "metadata": {
        "id": "EL8xWX0R5PLq"
      },
      "source": [
        "tree_grid_clf = GridSearchCV(tree_clf,param_grid=grid_parameters,scoring=\"recall\")"
      ],
      "execution_count": 292,
      "outputs": []
    },
    {
      "cell_type": "code",
      "metadata": {
        "id": "D2Ndx9G95m-R",
        "outputId": "74ad9716-6269-4f93-a404-355f06704b25",
        "colab": {
          "base_uri": "https://localhost:8080/"
        }
      },
      "source": [
        "tree_grid_clf.fit(X_train, y_train)"
      ],
      "execution_count": 293,
      "outputs": [
        {
          "output_type": "execute_result",
          "data": {
            "text/plain": [
              "GridSearchCV(cv=None, error_score=nan,\n",
              "             estimator=DecisionTreeClassifier(ccp_alpha=0.0, class_weight=None,\n",
              "                                              criterion='gini', max_depth=18,\n",
              "                                              max_features=None,\n",
              "                                              max_leaf_nodes=None,\n",
              "                                              min_impurity_decrease=0.0,\n",
              "                                              min_impurity_split=None,\n",
              "                                              min_samples_leaf=1,\n",
              "                                              min_samples_split=2,\n",
              "                                              min_weight_fraction_leaf=0.0,\n",
              "                                              presort='deprecated',\n",
              "                                              random_state=None,\n",
              "                                              splitter='best'),\n",
              "             iid='deprecated', n_jobs=None,\n",
              "             param_grid={'max_depth': [18], 'max_features': [None],\n",
              "                         'max_leaf_nodes': [None],\n",
              "                         'min_samples_leaf': [100, 200, 400],\n",
              "                         'min_samples_split': [2, 10, 20, 30]},\n",
              "             pre_dispatch='2*n_jobs', refit=True, return_train_score=False,\n",
              "             scoring='recall', verbose=0)"
            ]
          },
          "metadata": {
            "tags": []
          },
          "execution_count": 293
        }
      ]
    },
    {
      "cell_type": "code",
      "metadata": {
        "id": "8zPoduD65vsh",
        "outputId": "e93d27ff-082b-4c7d-bf04-9fdf4d29e747",
        "colab": {
          "base_uri": "https://localhost:8080/"
        }
      },
      "source": [
        "tree_grid_clf.best_score_"
      ],
      "execution_count": 294,
      "outputs": [
        {
          "output_type": "execute_result",
          "data": {
            "text/plain": [
              "0.0"
            ]
          },
          "metadata": {
            "tags": []
          },
          "execution_count": 294
        }
      ]
    },
    {
      "cell_type": "code",
      "metadata": {
        "id": "3hth6kQC6Yt5"
      },
      "source": [
        "tree_grid_predictions = tree_grid_clf.predict(X_train)"
      ],
      "execution_count": 295,
      "outputs": []
    },
    {
      "cell_type": "code",
      "metadata": {
        "id": "TPF9hM5T6svQ",
        "outputId": "770cb688-fdf1-4f0b-c7cb-fdaed82bf3ef",
        "colab": {
          "base_uri": "https://localhost:8080/"
        }
      },
      "source": [
        "confusion_matrix(y_train, tree_grid_predictions)"
      ],
      "execution_count": 296,
      "outputs": [
        {
          "output_type": "execute_result",
          "data": {
            "text/plain": [
              "array([[2293,    0],\n",
              "       [ 419,    0]])"
            ]
          },
          "metadata": {
            "tags": []
          },
          "execution_count": 296
        }
      ]
    },
    {
      "cell_type": "code",
      "metadata": {
        "id": "SMSCWpXlSW_9",
        "outputId": "4485dd99-4ab5-4b61-d89b-feeae61e7ae1",
        "colab": {
          "base_uri": "https://localhost:8080/"
        }
      },
      "source": [
        "accuracy_score(y_train, tree_grid_predictions)"
      ],
      "execution_count": 297,
      "outputs": [
        {
          "output_type": "execute_result",
          "data": {
            "text/plain": [
              "0.8455014749262537"
            ]
          },
          "metadata": {
            "tags": []
          },
          "execution_count": 297
        }
      ]
    },
    {
      "cell_type": "markdown",
      "metadata": {
        "id": "1s24grj5UI7X"
      },
      "source": [
        "## Bagging/Pasting for logistic regression"
      ]
    },
    {
      "cell_type": "code",
      "metadata": {
        "id": "PrxJRfCKUN3c"
      },
      "source": [
        "from sklearn.ensemble import BaggingClassifier\n"
      ],
      "execution_count": 298,
      "outputs": []
    },
    {
      "cell_type": "code",
      "metadata": {
        "id": "KGBgCB7vUYH8"
      },
      "source": [
        "base_logistic_clf = LogisticRegression(penalty=\"l2\",solver=\"lbfgs\")\n",
        "Bagging_clf = BaggingClassifier(base_logistic_clf,bootstrap=True)\n",
        "\n",
        "#gridSearch to look for the optim num of estimators\n",
        "params_grid = {\n",
        "    \"n_estimators\" : [ 1,5,10,15,20,30,40,50,70,100]\n",
        "}\n",
        "bagging_clf_grid = GridSearchCV(Bagging_clf,params_grid)"
      ],
      "execution_count": 299,
      "outputs": []
    },
    {
      "cell_type": "code",
      "metadata": {
        "id": "OHjUe4Lpwb8K",
        "outputId": "6821500c-f867-4df5-d8c7-e8eea9d7b11a",
        "colab": {
          "base_uri": "https://localhost:8080/"
        }
      },
      "source": [
        "bagging_clf_grid.fit(X_train, y_train)"
      ],
      "execution_count": 300,
      "outputs": [
        {
          "output_type": "execute_result",
          "data": {
            "text/plain": [
              "GridSearchCV(cv=None, error_score=nan,\n",
              "             estimator=BaggingClassifier(base_estimator=LogisticRegression(C=1.0,\n",
              "                                                                           class_weight=None,\n",
              "                                                                           dual=False,\n",
              "                                                                           fit_intercept=True,\n",
              "                                                                           intercept_scaling=1,\n",
              "                                                                           l1_ratio=None,\n",
              "                                                                           max_iter=100,\n",
              "                                                                           multi_class='auto',\n",
              "                                                                           n_jobs=None,\n",
              "                                                                           penalty='l2',\n",
              "                                                                           random_state=None,\n",
              "                                                                           solver='lbfgs',\n",
              "                                                                           tol=0.0001,\n",
              "                                                                           verbose=0,\n",
              "                                                                           warm_start=False),\n",
              "                                         bootstrap=True,\n",
              "                                         bootstrap_features=False,\n",
              "                                         max_features=1.0, max_samples=1.0,\n",
              "                                         n_estimators=10, n_jobs=None,\n",
              "                                         oob_score=False, random_state=None,\n",
              "                                         verbose=0, warm_start=False),\n",
              "             iid='deprecated', n_jobs=None,\n",
              "             param_grid={'n_estimators': [1, 5, 10, 15, 20, 30, 40, 50, 70,\n",
              "                                          100]},\n",
              "             pre_dispatch='2*n_jobs', refit=True, return_train_score=False,\n",
              "             scoring=None, verbose=0)"
            ]
          },
          "metadata": {
            "tags": []
          },
          "execution_count": 300
        }
      ]
    },
    {
      "cell_type": "code",
      "metadata": {
        "id": "MmUUfOlFy8_p",
        "outputId": "b1b24221-d229-4a1a-e7d3-7e81d39793b0",
        "colab": {
          "base_uri": "https://localhost:8080/"
        }
      },
      "source": [
        "bagging_clf_grid.best_score_"
      ],
      "execution_count": 302,
      "outputs": [
        {
          "output_type": "execute_result",
          "data": {
            "text/plain": [
              "0.8539880260681061"
            ]
          },
          "metadata": {
            "tags": []
          },
          "execution_count": 302
        }
      ]
    },
    {
      "cell_type": "code",
      "metadata": {
        "id": "H24d_djGvrJk"
      },
      "source": [
        "base_logistic_clf = LogisticRegression(penalty=\"l2\",solver=\"lbfgs\")\n",
        "Pasting_clf = BaggingClassifier(base_logistic_clf,bootstrap = False)\n",
        "\n",
        "#gridSearch to look for the optim num of estimators\n",
        "params_grid = {\n",
        "    \"n_estimators\" : [ 1,5,10,15,20,30,40,50,70,100]\n",
        "}\n",
        "Pasting_clf_grid = GridSearchCV(Bagging_clf,params_grid)"
      ],
      "execution_count": 303,
      "outputs": []
    },
    {
      "cell_type": "code",
      "metadata": {
        "id": "mUH2FFTMygYM",
        "outputId": "5cfc852a-33f4-4040-9a32-c0901eb1ef53",
        "colab": {
          "base_uri": "https://localhost:8080/"
        }
      },
      "source": [
        "Pasting_clf_grid.fit(X_train, y_train)"
      ],
      "execution_count": 304,
      "outputs": [
        {
          "output_type": "execute_result",
          "data": {
            "text/plain": [
              "GridSearchCV(cv=None, error_score=nan,\n",
              "             estimator=BaggingClassifier(base_estimator=LogisticRegression(C=1.0,\n",
              "                                                                           class_weight=None,\n",
              "                                                                           dual=False,\n",
              "                                                                           fit_intercept=True,\n",
              "                                                                           intercept_scaling=1,\n",
              "                                                                           l1_ratio=None,\n",
              "                                                                           max_iter=100,\n",
              "                                                                           multi_class='auto',\n",
              "                                                                           n_jobs=None,\n",
              "                                                                           penalty='l2',\n",
              "                                                                           random_state=None,\n",
              "                                                                           solver='lbfgs',\n",
              "                                                                           tol=0.0001,\n",
              "                                                                           verbose=0,\n",
              "                                                                           warm_start=False),\n",
              "                                         bootstrap=True,\n",
              "                                         bootstrap_features=False,\n",
              "                                         max_features=1.0, max_samples=1.0,\n",
              "                                         n_estimators=10, n_jobs=None,\n",
              "                                         oob_score=False, random_state=None,\n",
              "                                         verbose=0, warm_start=False),\n",
              "             iid='deprecated', n_jobs=None,\n",
              "             param_grid={'n_estimators': [1, 5, 10, 15, 20, 30, 40, 50, 70,\n",
              "                                          100]},\n",
              "             pre_dispatch='2*n_jobs', refit=True, return_train_score=False,\n",
              "             scoring=None, verbose=0)"
            ]
          },
          "metadata": {
            "tags": []
          },
          "execution_count": 304
        }
      ]
    },
    {
      "cell_type": "code",
      "metadata": {
        "id": "NJ6MIraqyw2G",
        "outputId": "3c767561-f872-4301-e2d5-5f43cdebe912",
        "colab": {
          "base_uri": "https://localhost:8080/"
        }
      },
      "source": [
        "Pasting_clf_grid.best_estimator_"
      ],
      "execution_count": 305,
      "outputs": [
        {
          "output_type": "execute_result",
          "data": {
            "text/plain": [
              "BaggingClassifier(base_estimator=LogisticRegression(C=1.0, class_weight=None,\n",
              "                                                    dual=False,\n",
              "                                                    fit_intercept=True,\n",
              "                                                    intercept_scaling=1,\n",
              "                                                    l1_ratio=None, max_iter=100,\n",
              "                                                    multi_class='auto',\n",
              "                                                    n_jobs=None, penalty='l2',\n",
              "                                                    random_state=None,\n",
              "                                                    solver='lbfgs', tol=0.0001,\n",
              "                                                    verbose=0,\n",
              "                                                    warm_start=False),\n",
              "                  bootstrap=True, bootstrap_features=False, max_features=1.0,\n",
              "                  max_samples=1.0, n_estimators=20, n_jobs=None,\n",
              "                  oob_score=False, random_state=None, verbose=0,\n",
              "                  warm_start=False)"
            ]
          },
          "metadata": {
            "tags": []
          },
          "execution_count": 305
        }
      ]
    },
    {
      "cell_type": "code",
      "metadata": {
        "id": "4I4rZCFIy207",
        "outputId": "e84e4706-794f-4f6d-c394-1a0dbacafc16",
        "colab": {
          "base_uri": "https://localhost:8080/"
        }
      },
      "source": [
        "Pasting_clf_grid.best_score_"
      ],
      "execution_count": 306,
      "outputs": [
        {
          "output_type": "execute_result",
          "data": {
            "text/plain": [
              "0.8536183428132624"
            ]
          },
          "metadata": {
            "tags": []
          },
          "execution_count": 306
        }
      ]
    },
    {
      "cell_type": "markdown",
      "metadata": {
        "id": "SR1ghcF2zDKI"
      },
      "source": [
        "* Pasting need less estimators than Bagging model.\n",
        "* Bagging is a little bit more accurate."
      ]
    },
    {
      "cell_type": "markdown",
      "metadata": {
        "id": "O6P0q2gUzNpF"
      },
      "source": [
        "## Let's Measure them using confusion matrix."
      ]
    },
    {
      "cell_type": "code",
      "metadata": {
        "id": "s7S4AfD1zTjc",
        "outputId": "0a77dbd9-6a3e-4c86-f312-2c33796fd4ab",
        "colab": {
          "base_uri": "https://localhost:8080/"
        }
      },
      "source": [
        "bagging_predictions_train = bagging_clf_grid.predict(X_train)\n",
        "pasting_predictions_train = Pasting_clf_grid.predict(X_train)\n",
        "print(\"Bagging confusion matrix: \")\n",
        "print(confusion_matrix(y_train, bagging_predictions_train))\n",
        "print(\"Pasting confusion matrix: \")\n",
        "print(confusion_matrix(y_train, pasting_predictions_train))"
      ],
      "execution_count": 307,
      "outputs": [
        {
          "output_type": "stream",
          "text": [
            "Bagging confusion matrix: \n",
            "[[2272   21]\n",
            " [ 375   44]]\n",
            "Pasting confusion matrix: \n",
            "[[2274   19]\n",
            " [ 376   43]]\n"
          ],
          "name": "stdout"
        }
      ]
    },
    {
      "cell_type": "markdown",
      "metadata": {
        "id": "mfac5g8Dz9H-"
      },
      "source": [
        "## Let's see the recall socre"
      ]
    },
    {
      "cell_type": "code",
      "metadata": {
        "id": "uxeze2_Sz2S1",
        "outputId": "ebc4f095-f870-4773-f485-02482d0d0386",
        "colab": {
          "base_uri": "https://localhost:8080/"
        }
      },
      "source": [
        "recall_socre_bagging_train = recall_score(y_train, bagging_predictions_train)\n",
        "recall_score_pasting_train = recall_score(y_train, pasting_predictions_train)\n",
        "\n",
        "print(f\"Bagging recall score: {recall_socre_bagging_train}\")\n",
        "print(f\"Pasting recall score: {recall_score_pasting_train}\")"
      ],
      "execution_count": 308,
      "outputs": [
        {
          "output_type": "stream",
          "text": [
            "Bagging recall score: 0.10501193317422435\n",
            "Pasting recall score: 0.1026252983293556\n"
          ],
          "name": "stdout"
        }
      ]
    },
    {
      "cell_type": "markdown",
      "metadata": {
        "id": "udbAA5Bh3I_n"
      },
      "source": [
        "## Bagging/Pasting with SVC"
      ]
    },
    {
      "cell_type": "markdown",
      "metadata": {
        "id": "tnyPj-rQT7EP"
      },
      "source": [
        "* Bagging"
      ]
    },
    {
      "cell_type": "code",
      "metadata": {
        "id": "3jqcAtz_TcL_",
        "outputId": "d2f4e9a7-0a3d-4b3b-9874-0248a57cd244",
        "colab": {
          "base_uri": "https://localhost:8080/",
          "height": 340
        }
      },
      "source": [
        "base_svc = SVC(kernel=\"poly\",degree=3, coef0=1, C=5,probability=True)\n",
        "\n",
        "Bagging_clf_svc = BaggingClassifier(base_svc,bootstrap=True)\n",
        "\n",
        "#gridSearch to look for the optim num of estimators\n",
        "params_grid = {\n",
        "    \"n_estimators\" : [ 1,5,10,15,20,30,40,50,70,100]\n",
        "}\n",
        "Bagging_clf_svc_grid = GridSearchCV(Bagging_clf_svc,params_grid)\n",
        "Bagging_clf_svc_grid.fit(X_train, y_train)"
      ],
      "execution_count": 313,
      "outputs": [
        {
          "output_type": "error",
          "ename": "KeyboardInterrupt",
          "evalue": "ignored",
          "traceback": [
            "\u001b[0;31m---------------------------------------------------------------------------\u001b[0m",
            "\u001b[0;31mKeyboardInterrupt\u001b[0m                         Traceback (most recent call last)",
            "\u001b[0;32m<ipython-input-313-dcecc1095a5f>\u001b[0m in \u001b[0;36m<module>\u001b[0;34m()\u001b[0m\n\u001b[1;32m      8\u001b[0m }\n\u001b[1;32m      9\u001b[0m \u001b[0mBagging_clf_svc_grid\u001b[0m \u001b[0;34m=\u001b[0m \u001b[0mGridSearchCV\u001b[0m\u001b[0;34m(\u001b[0m\u001b[0mBagging_clf_svc\u001b[0m\u001b[0;34m,\u001b[0m\u001b[0mparams_grid\u001b[0m\u001b[0;34m)\u001b[0m\u001b[0;34m\u001b[0m\u001b[0;34m\u001b[0m\u001b[0m\n\u001b[0;32m---> 10\u001b[0;31m \u001b[0mBagging_clf_svc_grid\u001b[0m\u001b[0;34m.\u001b[0m\u001b[0mfit\u001b[0m\u001b[0;34m(\u001b[0m\u001b[0mX_train\u001b[0m\u001b[0;34m,\u001b[0m \u001b[0my_train\u001b[0m\u001b[0;34m)\u001b[0m\u001b[0;34m\u001b[0m\u001b[0;34m\u001b[0m\u001b[0m\n\u001b[0m",
            "\u001b[0;32m/usr/local/lib/python3.6/dist-packages/sklearn/model_selection/_search.py\u001b[0m in \u001b[0;36mfit\u001b[0;34m(self, X, y, groups, **fit_params)\u001b[0m\n\u001b[1;32m    708\u001b[0m                 \u001b[0;32mreturn\u001b[0m \u001b[0mresults\u001b[0m\u001b[0;34m\u001b[0m\u001b[0;34m\u001b[0m\u001b[0m\n\u001b[1;32m    709\u001b[0m \u001b[0;34m\u001b[0m\u001b[0m\n\u001b[0;32m--> 710\u001b[0;31m             \u001b[0mself\u001b[0m\u001b[0;34m.\u001b[0m\u001b[0m_run_search\u001b[0m\u001b[0;34m(\u001b[0m\u001b[0mevaluate_candidates\u001b[0m\u001b[0;34m)\u001b[0m\u001b[0;34m\u001b[0m\u001b[0;34m\u001b[0m\u001b[0m\n\u001b[0m\u001b[1;32m    711\u001b[0m \u001b[0;34m\u001b[0m\u001b[0m\n\u001b[1;32m    712\u001b[0m         \u001b[0;31m# For multi-metric evaluation, store the best_index_, best_params_ and\u001b[0m\u001b[0;34m\u001b[0m\u001b[0;34m\u001b[0m\u001b[0;34m\u001b[0m\u001b[0m\n",
            "\u001b[0;32m/usr/local/lib/python3.6/dist-packages/sklearn/model_selection/_search.py\u001b[0m in \u001b[0;36m_run_search\u001b[0;34m(self, evaluate_candidates)\u001b[0m\n\u001b[1;32m   1149\u001b[0m     \u001b[0;32mdef\u001b[0m \u001b[0m_run_search\u001b[0m\u001b[0;34m(\u001b[0m\u001b[0mself\u001b[0m\u001b[0;34m,\u001b[0m \u001b[0mevaluate_candidates\u001b[0m\u001b[0;34m)\u001b[0m\u001b[0;34m:\u001b[0m\u001b[0;34m\u001b[0m\u001b[0;34m\u001b[0m\u001b[0m\n\u001b[1;32m   1150\u001b[0m         \u001b[0;34m\"\"\"Search all candidates in param_grid\"\"\"\u001b[0m\u001b[0;34m\u001b[0m\u001b[0;34m\u001b[0m\u001b[0m\n\u001b[0;32m-> 1151\u001b[0;31m         \u001b[0mevaluate_candidates\u001b[0m\u001b[0;34m(\u001b[0m\u001b[0mParameterGrid\u001b[0m\u001b[0;34m(\u001b[0m\u001b[0mself\u001b[0m\u001b[0;34m.\u001b[0m\u001b[0mparam_grid\u001b[0m\u001b[0;34m)\u001b[0m\u001b[0;34m)\u001b[0m\u001b[0;34m\u001b[0m\u001b[0;34m\u001b[0m\u001b[0m\n\u001b[0m\u001b[1;32m   1152\u001b[0m \u001b[0;34m\u001b[0m\u001b[0m\n\u001b[1;32m   1153\u001b[0m \u001b[0;34m\u001b[0m\u001b[0m\n",
            "\u001b[0;32m/usr/local/lib/python3.6/dist-packages/sklearn/model_selection/_search.py\u001b[0m in \u001b[0;36mevaluate_candidates\u001b[0;34m(candidate_params)\u001b[0m\n\u001b[1;32m    687\u001b[0m                                \u001b[0;32mfor\u001b[0m \u001b[0mparameters\u001b[0m\u001b[0;34m,\u001b[0m \u001b[0;34m(\u001b[0m\u001b[0mtrain\u001b[0m\u001b[0;34m,\u001b[0m \u001b[0mtest\u001b[0m\u001b[0;34m)\u001b[0m\u001b[0;34m\u001b[0m\u001b[0;34m\u001b[0m\u001b[0m\n\u001b[1;32m    688\u001b[0m                                in product(candidate_params,\n\u001b[0;32m--> 689\u001b[0;31m                                           cv.split(X, y, groups)))\n\u001b[0m\u001b[1;32m    690\u001b[0m \u001b[0;34m\u001b[0m\u001b[0m\n\u001b[1;32m    691\u001b[0m                 \u001b[0;32mif\u001b[0m \u001b[0mlen\u001b[0m\u001b[0;34m(\u001b[0m\u001b[0mout\u001b[0m\u001b[0;34m)\u001b[0m \u001b[0;34m<\u001b[0m \u001b[0;36m1\u001b[0m\u001b[0;34m:\u001b[0m\u001b[0;34m\u001b[0m\u001b[0;34m\u001b[0m\u001b[0m\n",
            "\u001b[0;32m/usr/local/lib/python3.6/dist-packages/joblib/parallel.py\u001b[0m in \u001b[0;36m__call__\u001b[0;34m(self, iterable)\u001b[0m\n\u001b[1;32m   1049\u001b[0m                 \u001b[0mself\u001b[0m\u001b[0;34m.\u001b[0m\u001b[0m_iterating\u001b[0m \u001b[0;34m=\u001b[0m \u001b[0mself\u001b[0m\u001b[0;34m.\u001b[0m\u001b[0m_original_iterator\u001b[0m \u001b[0;32mis\u001b[0m \u001b[0;32mnot\u001b[0m \u001b[0;32mNone\u001b[0m\u001b[0;34m\u001b[0m\u001b[0;34m\u001b[0m\u001b[0m\n\u001b[1;32m   1050\u001b[0m \u001b[0;34m\u001b[0m\u001b[0m\n\u001b[0;32m-> 1051\u001b[0;31m             \u001b[0;32mwhile\u001b[0m \u001b[0mself\u001b[0m\u001b[0;34m.\u001b[0m\u001b[0mdispatch_one_batch\u001b[0m\u001b[0;34m(\u001b[0m\u001b[0miterator\u001b[0m\u001b[0;34m)\u001b[0m\u001b[0;34m:\u001b[0m\u001b[0;34m\u001b[0m\u001b[0;34m\u001b[0m\u001b[0m\n\u001b[0m\u001b[1;32m   1052\u001b[0m                 \u001b[0;32mpass\u001b[0m\u001b[0;34m\u001b[0m\u001b[0;34m\u001b[0m\u001b[0m\n\u001b[1;32m   1053\u001b[0m \u001b[0;34m\u001b[0m\u001b[0m\n",
            "\u001b[0;32m/usr/local/lib/python3.6/dist-packages/joblib/parallel.py\u001b[0m in \u001b[0;36mdispatch_one_batch\u001b[0;34m(self, iterator)\u001b[0m\n\u001b[1;32m    864\u001b[0m                 \u001b[0;32mreturn\u001b[0m \u001b[0;32mFalse\u001b[0m\u001b[0;34m\u001b[0m\u001b[0;34m\u001b[0m\u001b[0m\n\u001b[1;32m    865\u001b[0m             \u001b[0;32melse\u001b[0m\u001b[0;34m:\u001b[0m\u001b[0;34m\u001b[0m\u001b[0;34m\u001b[0m\u001b[0m\n\u001b[0;32m--> 866\u001b[0;31m                 \u001b[0mself\u001b[0m\u001b[0;34m.\u001b[0m\u001b[0m_dispatch\u001b[0m\u001b[0;34m(\u001b[0m\u001b[0mtasks\u001b[0m\u001b[0;34m)\u001b[0m\u001b[0;34m\u001b[0m\u001b[0;34m\u001b[0m\u001b[0m\n\u001b[0m\u001b[1;32m    867\u001b[0m                 \u001b[0;32mreturn\u001b[0m \u001b[0;32mTrue\u001b[0m\u001b[0;34m\u001b[0m\u001b[0;34m\u001b[0m\u001b[0m\n\u001b[1;32m    868\u001b[0m \u001b[0;34m\u001b[0m\u001b[0m\n",
            "\u001b[0;32m/usr/local/lib/python3.6/dist-packages/joblib/parallel.py\u001b[0m in \u001b[0;36m_dispatch\u001b[0;34m(self, batch)\u001b[0m\n\u001b[1;32m    782\u001b[0m         \u001b[0;32mwith\u001b[0m \u001b[0mself\u001b[0m\u001b[0;34m.\u001b[0m\u001b[0m_lock\u001b[0m\u001b[0;34m:\u001b[0m\u001b[0;34m\u001b[0m\u001b[0;34m\u001b[0m\u001b[0m\n\u001b[1;32m    783\u001b[0m             \u001b[0mjob_idx\u001b[0m \u001b[0;34m=\u001b[0m \u001b[0mlen\u001b[0m\u001b[0;34m(\u001b[0m\u001b[0mself\u001b[0m\u001b[0;34m.\u001b[0m\u001b[0m_jobs\u001b[0m\u001b[0;34m)\u001b[0m\u001b[0;34m\u001b[0m\u001b[0;34m\u001b[0m\u001b[0m\n\u001b[0;32m--> 784\u001b[0;31m             \u001b[0mjob\u001b[0m \u001b[0;34m=\u001b[0m \u001b[0mself\u001b[0m\u001b[0;34m.\u001b[0m\u001b[0m_backend\u001b[0m\u001b[0;34m.\u001b[0m\u001b[0mapply_async\u001b[0m\u001b[0;34m(\u001b[0m\u001b[0mbatch\u001b[0m\u001b[0;34m,\u001b[0m \u001b[0mcallback\u001b[0m\u001b[0;34m=\u001b[0m\u001b[0mcb\u001b[0m\u001b[0;34m)\u001b[0m\u001b[0;34m\u001b[0m\u001b[0;34m\u001b[0m\u001b[0m\n\u001b[0m\u001b[1;32m    785\u001b[0m             \u001b[0;31m# A job can complete so quickly than its callback is\u001b[0m\u001b[0;34m\u001b[0m\u001b[0;34m\u001b[0m\u001b[0;34m\u001b[0m\u001b[0m\n\u001b[1;32m    786\u001b[0m             \u001b[0;31m# called before we get here, causing self._jobs to\u001b[0m\u001b[0;34m\u001b[0m\u001b[0;34m\u001b[0m\u001b[0;34m\u001b[0m\u001b[0m\n",
            "\u001b[0;32m/usr/local/lib/python3.6/dist-packages/joblib/_parallel_backends.py\u001b[0m in \u001b[0;36mapply_async\u001b[0;34m(self, func, callback)\u001b[0m\n\u001b[1;32m    206\u001b[0m     \u001b[0;32mdef\u001b[0m \u001b[0mapply_async\u001b[0m\u001b[0;34m(\u001b[0m\u001b[0mself\u001b[0m\u001b[0;34m,\u001b[0m \u001b[0mfunc\u001b[0m\u001b[0;34m,\u001b[0m \u001b[0mcallback\u001b[0m\u001b[0;34m=\u001b[0m\u001b[0;32mNone\u001b[0m\u001b[0;34m)\u001b[0m\u001b[0;34m:\u001b[0m\u001b[0;34m\u001b[0m\u001b[0;34m\u001b[0m\u001b[0m\n\u001b[1;32m    207\u001b[0m         \u001b[0;34m\"\"\"Schedule a func to be run\"\"\"\u001b[0m\u001b[0;34m\u001b[0m\u001b[0;34m\u001b[0m\u001b[0m\n\u001b[0;32m--> 208\u001b[0;31m         \u001b[0mresult\u001b[0m \u001b[0;34m=\u001b[0m \u001b[0mImmediateResult\u001b[0m\u001b[0;34m(\u001b[0m\u001b[0mfunc\u001b[0m\u001b[0;34m)\u001b[0m\u001b[0;34m\u001b[0m\u001b[0;34m\u001b[0m\u001b[0m\n\u001b[0m\u001b[1;32m    209\u001b[0m         \u001b[0;32mif\u001b[0m \u001b[0mcallback\u001b[0m\u001b[0;34m:\u001b[0m\u001b[0;34m\u001b[0m\u001b[0;34m\u001b[0m\u001b[0m\n\u001b[1;32m    210\u001b[0m             \u001b[0mcallback\u001b[0m\u001b[0;34m(\u001b[0m\u001b[0mresult\u001b[0m\u001b[0;34m)\u001b[0m\u001b[0;34m\u001b[0m\u001b[0;34m\u001b[0m\u001b[0m\n",
            "\u001b[0;32m/usr/local/lib/python3.6/dist-packages/joblib/_parallel_backends.py\u001b[0m in \u001b[0;36m__init__\u001b[0;34m(self, batch)\u001b[0m\n\u001b[1;32m    570\u001b[0m         \u001b[0;31m# Don't delay the application, to avoid keeping the input\u001b[0m\u001b[0;34m\u001b[0m\u001b[0;34m\u001b[0m\u001b[0;34m\u001b[0m\u001b[0m\n\u001b[1;32m    571\u001b[0m         \u001b[0;31m# arguments in memory\u001b[0m\u001b[0;34m\u001b[0m\u001b[0;34m\u001b[0m\u001b[0;34m\u001b[0m\u001b[0m\n\u001b[0;32m--> 572\u001b[0;31m         \u001b[0mself\u001b[0m\u001b[0;34m.\u001b[0m\u001b[0mresults\u001b[0m \u001b[0;34m=\u001b[0m \u001b[0mbatch\u001b[0m\u001b[0;34m(\u001b[0m\u001b[0;34m)\u001b[0m\u001b[0;34m\u001b[0m\u001b[0;34m\u001b[0m\u001b[0m\n\u001b[0m\u001b[1;32m    573\u001b[0m \u001b[0;34m\u001b[0m\u001b[0m\n\u001b[1;32m    574\u001b[0m     \u001b[0;32mdef\u001b[0m \u001b[0mget\u001b[0m\u001b[0;34m(\u001b[0m\u001b[0mself\u001b[0m\u001b[0;34m)\u001b[0m\u001b[0;34m:\u001b[0m\u001b[0;34m\u001b[0m\u001b[0;34m\u001b[0m\u001b[0m\n",
            "\u001b[0;32m/usr/local/lib/python3.6/dist-packages/joblib/parallel.py\u001b[0m in \u001b[0;36m__call__\u001b[0;34m(self)\u001b[0m\n\u001b[1;32m    261\u001b[0m         \u001b[0;32mwith\u001b[0m \u001b[0mparallel_backend\u001b[0m\u001b[0;34m(\u001b[0m\u001b[0mself\u001b[0m\u001b[0;34m.\u001b[0m\u001b[0m_backend\u001b[0m\u001b[0;34m,\u001b[0m \u001b[0mn_jobs\u001b[0m\u001b[0;34m=\u001b[0m\u001b[0mself\u001b[0m\u001b[0;34m.\u001b[0m\u001b[0m_n_jobs\u001b[0m\u001b[0;34m)\u001b[0m\u001b[0;34m:\u001b[0m\u001b[0;34m\u001b[0m\u001b[0;34m\u001b[0m\u001b[0m\n\u001b[1;32m    262\u001b[0m             return [func(*args, **kwargs)\n\u001b[0;32m--> 263\u001b[0;31m                     for func, args, kwargs in self.items]\n\u001b[0m\u001b[1;32m    264\u001b[0m \u001b[0;34m\u001b[0m\u001b[0m\n\u001b[1;32m    265\u001b[0m     \u001b[0;32mdef\u001b[0m \u001b[0m__reduce__\u001b[0m\u001b[0;34m(\u001b[0m\u001b[0mself\u001b[0m\u001b[0;34m)\u001b[0m\u001b[0;34m:\u001b[0m\u001b[0;34m\u001b[0m\u001b[0;34m\u001b[0m\u001b[0m\n",
            "\u001b[0;32m/usr/local/lib/python3.6/dist-packages/joblib/parallel.py\u001b[0m in \u001b[0;36m<listcomp>\u001b[0;34m(.0)\u001b[0m\n\u001b[1;32m    261\u001b[0m         \u001b[0;32mwith\u001b[0m \u001b[0mparallel_backend\u001b[0m\u001b[0;34m(\u001b[0m\u001b[0mself\u001b[0m\u001b[0;34m.\u001b[0m\u001b[0m_backend\u001b[0m\u001b[0;34m,\u001b[0m \u001b[0mn_jobs\u001b[0m\u001b[0;34m=\u001b[0m\u001b[0mself\u001b[0m\u001b[0;34m.\u001b[0m\u001b[0m_n_jobs\u001b[0m\u001b[0;34m)\u001b[0m\u001b[0;34m:\u001b[0m\u001b[0;34m\u001b[0m\u001b[0;34m\u001b[0m\u001b[0m\n\u001b[1;32m    262\u001b[0m             return [func(*args, **kwargs)\n\u001b[0;32m--> 263\u001b[0;31m                     for func, args, kwargs in self.items]\n\u001b[0m\u001b[1;32m    264\u001b[0m \u001b[0;34m\u001b[0m\u001b[0m\n\u001b[1;32m    265\u001b[0m     \u001b[0;32mdef\u001b[0m \u001b[0m__reduce__\u001b[0m\u001b[0;34m(\u001b[0m\u001b[0mself\u001b[0m\u001b[0;34m)\u001b[0m\u001b[0;34m:\u001b[0m\u001b[0;34m\u001b[0m\u001b[0;34m\u001b[0m\u001b[0m\n",
            "\u001b[0;32m/usr/local/lib/python3.6/dist-packages/sklearn/model_selection/_validation.py\u001b[0m in \u001b[0;36m_fit_and_score\u001b[0;34m(estimator, X, y, scorer, train, test, verbose, parameters, fit_params, return_train_score, return_parameters, return_n_test_samples, return_times, return_estimator, error_score)\u001b[0m\n\u001b[1;32m    513\u001b[0m             \u001b[0mestimator\u001b[0m\u001b[0;34m.\u001b[0m\u001b[0mfit\u001b[0m\u001b[0;34m(\u001b[0m\u001b[0mX_train\u001b[0m\u001b[0;34m,\u001b[0m \u001b[0;34m**\u001b[0m\u001b[0mfit_params\u001b[0m\u001b[0;34m)\u001b[0m\u001b[0;34m\u001b[0m\u001b[0;34m\u001b[0m\u001b[0m\n\u001b[1;32m    514\u001b[0m         \u001b[0;32melse\u001b[0m\u001b[0;34m:\u001b[0m\u001b[0;34m\u001b[0m\u001b[0;34m\u001b[0m\u001b[0m\n\u001b[0;32m--> 515\u001b[0;31m             \u001b[0mestimator\u001b[0m\u001b[0;34m.\u001b[0m\u001b[0mfit\u001b[0m\u001b[0;34m(\u001b[0m\u001b[0mX_train\u001b[0m\u001b[0;34m,\u001b[0m \u001b[0my_train\u001b[0m\u001b[0;34m,\u001b[0m \u001b[0;34m**\u001b[0m\u001b[0mfit_params\u001b[0m\u001b[0;34m)\u001b[0m\u001b[0;34m\u001b[0m\u001b[0;34m\u001b[0m\u001b[0m\n\u001b[0m\u001b[1;32m    516\u001b[0m \u001b[0;34m\u001b[0m\u001b[0m\n\u001b[1;32m    517\u001b[0m     \u001b[0;32mexcept\u001b[0m \u001b[0mException\u001b[0m \u001b[0;32mas\u001b[0m \u001b[0me\u001b[0m\u001b[0;34m:\u001b[0m\u001b[0;34m\u001b[0m\u001b[0;34m\u001b[0m\u001b[0m\n",
            "\u001b[0;32m/usr/local/lib/python3.6/dist-packages/sklearn/ensemble/_bagging.py\u001b[0m in \u001b[0;36mfit\u001b[0;34m(self, X, y, sample_weight)\u001b[0m\n\u001b[1;32m    241\u001b[0m         \u001b[0mself\u001b[0m \u001b[0;34m:\u001b[0m \u001b[0mobject\u001b[0m\u001b[0;34m\u001b[0m\u001b[0;34m\u001b[0m\u001b[0m\n\u001b[1;32m    242\u001b[0m         \"\"\"\n\u001b[0;32m--> 243\u001b[0;31m         \u001b[0;32mreturn\u001b[0m \u001b[0mself\u001b[0m\u001b[0;34m.\u001b[0m\u001b[0m_fit\u001b[0m\u001b[0;34m(\u001b[0m\u001b[0mX\u001b[0m\u001b[0;34m,\u001b[0m \u001b[0my\u001b[0m\u001b[0;34m,\u001b[0m \u001b[0mself\u001b[0m\u001b[0;34m.\u001b[0m\u001b[0mmax_samples\u001b[0m\u001b[0;34m,\u001b[0m \u001b[0msample_weight\u001b[0m\u001b[0;34m=\u001b[0m\u001b[0msample_weight\u001b[0m\u001b[0;34m)\u001b[0m\u001b[0;34m\u001b[0m\u001b[0;34m\u001b[0m\u001b[0m\n\u001b[0m\u001b[1;32m    244\u001b[0m \u001b[0;34m\u001b[0m\u001b[0m\n\u001b[1;32m    245\u001b[0m     \u001b[0;32mdef\u001b[0m \u001b[0m_parallel_args\u001b[0m\u001b[0;34m(\u001b[0m\u001b[0mself\u001b[0m\u001b[0;34m)\u001b[0m\u001b[0;34m:\u001b[0m\u001b[0;34m\u001b[0m\u001b[0;34m\u001b[0m\u001b[0m\n",
            "\u001b[0;32m/usr/local/lib/python3.6/dist-packages/sklearn/ensemble/_bagging.py\u001b[0m in \u001b[0;36m_fit\u001b[0;34m(self, X, y, max_samples, max_depth, sample_weight)\u001b[0m\n\u001b[1;32m    378\u001b[0m                 \u001b[0mtotal_n_estimators\u001b[0m\u001b[0;34m,\u001b[0m\u001b[0;34m\u001b[0m\u001b[0;34m\u001b[0m\u001b[0m\n\u001b[1;32m    379\u001b[0m                 verbose=self.verbose)\n\u001b[0;32m--> 380\u001b[0;31m             for i in range(n_jobs))\n\u001b[0m\u001b[1;32m    381\u001b[0m \u001b[0;34m\u001b[0m\u001b[0m\n\u001b[1;32m    382\u001b[0m         \u001b[0;31m# Reduce\u001b[0m\u001b[0;34m\u001b[0m\u001b[0;34m\u001b[0m\u001b[0;34m\u001b[0m\u001b[0m\n",
            "\u001b[0;32m/usr/local/lib/python3.6/dist-packages/joblib/parallel.py\u001b[0m in \u001b[0;36m__call__\u001b[0;34m(self, iterable)\u001b[0m\n\u001b[1;32m   1046\u001b[0m             \u001b[0;31m# remaining jobs.\u001b[0m\u001b[0;34m\u001b[0m\u001b[0;34m\u001b[0m\u001b[0;34m\u001b[0m\u001b[0m\n\u001b[1;32m   1047\u001b[0m             \u001b[0mself\u001b[0m\u001b[0;34m.\u001b[0m\u001b[0m_iterating\u001b[0m \u001b[0;34m=\u001b[0m \u001b[0;32mFalse\u001b[0m\u001b[0;34m\u001b[0m\u001b[0;34m\u001b[0m\u001b[0m\n\u001b[0;32m-> 1048\u001b[0;31m             \u001b[0;32mif\u001b[0m \u001b[0mself\u001b[0m\u001b[0;34m.\u001b[0m\u001b[0mdispatch_one_batch\u001b[0m\u001b[0;34m(\u001b[0m\u001b[0miterator\u001b[0m\u001b[0;34m)\u001b[0m\u001b[0;34m:\u001b[0m\u001b[0;34m\u001b[0m\u001b[0;34m\u001b[0m\u001b[0m\n\u001b[0m\u001b[1;32m   1049\u001b[0m                 \u001b[0mself\u001b[0m\u001b[0;34m.\u001b[0m\u001b[0m_iterating\u001b[0m \u001b[0;34m=\u001b[0m \u001b[0mself\u001b[0m\u001b[0;34m.\u001b[0m\u001b[0m_original_iterator\u001b[0m \u001b[0;32mis\u001b[0m \u001b[0;32mnot\u001b[0m \u001b[0;32mNone\u001b[0m\u001b[0;34m\u001b[0m\u001b[0;34m\u001b[0m\u001b[0m\n\u001b[1;32m   1050\u001b[0m \u001b[0;34m\u001b[0m\u001b[0m\n",
            "\u001b[0;32m/usr/local/lib/python3.6/dist-packages/joblib/parallel.py\u001b[0m in \u001b[0;36mdispatch_one_batch\u001b[0;34m(self, iterator)\u001b[0m\n\u001b[1;32m    864\u001b[0m                 \u001b[0;32mreturn\u001b[0m \u001b[0;32mFalse\u001b[0m\u001b[0;34m\u001b[0m\u001b[0;34m\u001b[0m\u001b[0m\n\u001b[1;32m    865\u001b[0m             \u001b[0;32melse\u001b[0m\u001b[0;34m:\u001b[0m\u001b[0;34m\u001b[0m\u001b[0;34m\u001b[0m\u001b[0m\n\u001b[0;32m--> 866\u001b[0;31m                 \u001b[0mself\u001b[0m\u001b[0;34m.\u001b[0m\u001b[0m_dispatch\u001b[0m\u001b[0;34m(\u001b[0m\u001b[0mtasks\u001b[0m\u001b[0;34m)\u001b[0m\u001b[0;34m\u001b[0m\u001b[0;34m\u001b[0m\u001b[0m\n\u001b[0m\u001b[1;32m    867\u001b[0m                 \u001b[0;32mreturn\u001b[0m \u001b[0;32mTrue\u001b[0m\u001b[0;34m\u001b[0m\u001b[0;34m\u001b[0m\u001b[0m\n\u001b[1;32m    868\u001b[0m \u001b[0;34m\u001b[0m\u001b[0m\n",
            "\u001b[0;32m/usr/local/lib/python3.6/dist-packages/joblib/parallel.py\u001b[0m in \u001b[0;36m_dispatch\u001b[0;34m(self, batch)\u001b[0m\n\u001b[1;32m    782\u001b[0m         \u001b[0;32mwith\u001b[0m \u001b[0mself\u001b[0m\u001b[0;34m.\u001b[0m\u001b[0m_lock\u001b[0m\u001b[0;34m:\u001b[0m\u001b[0;34m\u001b[0m\u001b[0;34m\u001b[0m\u001b[0m\n\u001b[1;32m    783\u001b[0m             \u001b[0mjob_idx\u001b[0m \u001b[0;34m=\u001b[0m \u001b[0mlen\u001b[0m\u001b[0;34m(\u001b[0m\u001b[0mself\u001b[0m\u001b[0;34m.\u001b[0m\u001b[0m_jobs\u001b[0m\u001b[0;34m)\u001b[0m\u001b[0;34m\u001b[0m\u001b[0;34m\u001b[0m\u001b[0m\n\u001b[0;32m--> 784\u001b[0;31m             \u001b[0mjob\u001b[0m \u001b[0;34m=\u001b[0m \u001b[0mself\u001b[0m\u001b[0;34m.\u001b[0m\u001b[0m_backend\u001b[0m\u001b[0;34m.\u001b[0m\u001b[0mapply_async\u001b[0m\u001b[0;34m(\u001b[0m\u001b[0mbatch\u001b[0m\u001b[0;34m,\u001b[0m \u001b[0mcallback\u001b[0m\u001b[0;34m=\u001b[0m\u001b[0mcb\u001b[0m\u001b[0;34m)\u001b[0m\u001b[0;34m\u001b[0m\u001b[0;34m\u001b[0m\u001b[0m\n\u001b[0m\u001b[1;32m    785\u001b[0m             \u001b[0;31m# A job can complete so quickly than its callback is\u001b[0m\u001b[0;34m\u001b[0m\u001b[0;34m\u001b[0m\u001b[0;34m\u001b[0m\u001b[0m\n\u001b[1;32m    786\u001b[0m             \u001b[0;31m# called before we get here, causing self._jobs to\u001b[0m\u001b[0;34m\u001b[0m\u001b[0;34m\u001b[0m\u001b[0;34m\u001b[0m\u001b[0m\n",
            "\u001b[0;32m/usr/local/lib/python3.6/dist-packages/joblib/_parallel_backends.py\u001b[0m in \u001b[0;36mapply_async\u001b[0;34m(self, func, callback)\u001b[0m\n\u001b[1;32m    206\u001b[0m     \u001b[0;32mdef\u001b[0m \u001b[0mapply_async\u001b[0m\u001b[0;34m(\u001b[0m\u001b[0mself\u001b[0m\u001b[0;34m,\u001b[0m \u001b[0mfunc\u001b[0m\u001b[0;34m,\u001b[0m \u001b[0mcallback\u001b[0m\u001b[0;34m=\u001b[0m\u001b[0;32mNone\u001b[0m\u001b[0;34m)\u001b[0m\u001b[0;34m:\u001b[0m\u001b[0;34m\u001b[0m\u001b[0;34m\u001b[0m\u001b[0m\n\u001b[1;32m    207\u001b[0m         \u001b[0;34m\"\"\"Schedule a func to be run\"\"\"\u001b[0m\u001b[0;34m\u001b[0m\u001b[0;34m\u001b[0m\u001b[0m\n\u001b[0;32m--> 208\u001b[0;31m         \u001b[0mresult\u001b[0m \u001b[0;34m=\u001b[0m \u001b[0mImmediateResult\u001b[0m\u001b[0;34m(\u001b[0m\u001b[0mfunc\u001b[0m\u001b[0;34m)\u001b[0m\u001b[0;34m\u001b[0m\u001b[0;34m\u001b[0m\u001b[0m\n\u001b[0m\u001b[1;32m    209\u001b[0m         \u001b[0;32mif\u001b[0m \u001b[0mcallback\u001b[0m\u001b[0;34m:\u001b[0m\u001b[0;34m\u001b[0m\u001b[0;34m\u001b[0m\u001b[0m\n\u001b[1;32m    210\u001b[0m             \u001b[0mcallback\u001b[0m\u001b[0;34m(\u001b[0m\u001b[0mresult\u001b[0m\u001b[0;34m)\u001b[0m\u001b[0;34m\u001b[0m\u001b[0;34m\u001b[0m\u001b[0m\n",
            "\u001b[0;32m/usr/local/lib/python3.6/dist-packages/joblib/_parallel_backends.py\u001b[0m in \u001b[0;36m__init__\u001b[0;34m(self, batch)\u001b[0m\n\u001b[1;32m    570\u001b[0m         \u001b[0;31m# Don't delay the application, to avoid keeping the input\u001b[0m\u001b[0;34m\u001b[0m\u001b[0;34m\u001b[0m\u001b[0;34m\u001b[0m\u001b[0m\n\u001b[1;32m    571\u001b[0m         \u001b[0;31m# arguments in memory\u001b[0m\u001b[0;34m\u001b[0m\u001b[0;34m\u001b[0m\u001b[0;34m\u001b[0m\u001b[0m\n\u001b[0;32m--> 572\u001b[0;31m         \u001b[0mself\u001b[0m\u001b[0;34m.\u001b[0m\u001b[0mresults\u001b[0m \u001b[0;34m=\u001b[0m \u001b[0mbatch\u001b[0m\u001b[0;34m(\u001b[0m\u001b[0;34m)\u001b[0m\u001b[0;34m\u001b[0m\u001b[0;34m\u001b[0m\u001b[0m\n\u001b[0m\u001b[1;32m    573\u001b[0m \u001b[0;34m\u001b[0m\u001b[0m\n\u001b[1;32m    574\u001b[0m     \u001b[0;32mdef\u001b[0m \u001b[0mget\u001b[0m\u001b[0;34m(\u001b[0m\u001b[0mself\u001b[0m\u001b[0;34m)\u001b[0m\u001b[0;34m:\u001b[0m\u001b[0;34m\u001b[0m\u001b[0;34m\u001b[0m\u001b[0m\n",
            "\u001b[0;32m/usr/local/lib/python3.6/dist-packages/joblib/parallel.py\u001b[0m in \u001b[0;36m__call__\u001b[0;34m(self)\u001b[0m\n\u001b[1;32m    261\u001b[0m         \u001b[0;32mwith\u001b[0m \u001b[0mparallel_backend\u001b[0m\u001b[0;34m(\u001b[0m\u001b[0mself\u001b[0m\u001b[0;34m.\u001b[0m\u001b[0m_backend\u001b[0m\u001b[0;34m,\u001b[0m \u001b[0mn_jobs\u001b[0m\u001b[0;34m=\u001b[0m\u001b[0mself\u001b[0m\u001b[0;34m.\u001b[0m\u001b[0m_n_jobs\u001b[0m\u001b[0;34m)\u001b[0m\u001b[0;34m:\u001b[0m\u001b[0;34m\u001b[0m\u001b[0;34m\u001b[0m\u001b[0m\n\u001b[1;32m    262\u001b[0m             return [func(*args, **kwargs)\n\u001b[0;32m--> 263\u001b[0;31m                     for func, args, kwargs in self.items]\n\u001b[0m\u001b[1;32m    264\u001b[0m \u001b[0;34m\u001b[0m\u001b[0m\n\u001b[1;32m    265\u001b[0m     \u001b[0;32mdef\u001b[0m \u001b[0m__reduce__\u001b[0m\u001b[0;34m(\u001b[0m\u001b[0mself\u001b[0m\u001b[0;34m)\u001b[0m\u001b[0;34m:\u001b[0m\u001b[0;34m\u001b[0m\u001b[0;34m\u001b[0m\u001b[0m\n",
            "\u001b[0;32m/usr/local/lib/python3.6/dist-packages/joblib/parallel.py\u001b[0m in \u001b[0;36m<listcomp>\u001b[0;34m(.0)\u001b[0m\n\u001b[1;32m    261\u001b[0m         \u001b[0;32mwith\u001b[0m \u001b[0mparallel_backend\u001b[0m\u001b[0;34m(\u001b[0m\u001b[0mself\u001b[0m\u001b[0;34m.\u001b[0m\u001b[0m_backend\u001b[0m\u001b[0;34m,\u001b[0m \u001b[0mn_jobs\u001b[0m\u001b[0;34m=\u001b[0m\u001b[0mself\u001b[0m\u001b[0;34m.\u001b[0m\u001b[0m_n_jobs\u001b[0m\u001b[0;34m)\u001b[0m\u001b[0;34m:\u001b[0m\u001b[0;34m\u001b[0m\u001b[0;34m\u001b[0m\u001b[0m\n\u001b[1;32m    262\u001b[0m             return [func(*args, **kwargs)\n\u001b[0;32m--> 263\u001b[0;31m                     for func, args, kwargs in self.items]\n\u001b[0m\u001b[1;32m    264\u001b[0m \u001b[0;34m\u001b[0m\u001b[0m\n\u001b[1;32m    265\u001b[0m     \u001b[0;32mdef\u001b[0m \u001b[0m__reduce__\u001b[0m\u001b[0;34m(\u001b[0m\u001b[0mself\u001b[0m\u001b[0;34m)\u001b[0m\u001b[0;34m:\u001b[0m\u001b[0;34m\u001b[0m\u001b[0;34m\u001b[0m\u001b[0m\n",
            "\u001b[0;32m/usr/local/lib/python3.6/dist-packages/sklearn/ensemble/_bagging.py\u001b[0m in \u001b[0;36m_parallel_build_estimators\u001b[0;34m(n_estimators, ensemble, X, y, sample_weight, seeds, total_n_estimators, verbose)\u001b[0m\n\u001b[1;32m    108\u001b[0m                 \u001b[0mcurr_sample_weight\u001b[0m\u001b[0;34m[\u001b[0m\u001b[0mnot_indices_mask\u001b[0m\u001b[0;34m]\u001b[0m \u001b[0;34m=\u001b[0m \u001b[0;36m0\u001b[0m\u001b[0;34m\u001b[0m\u001b[0;34m\u001b[0m\u001b[0m\n\u001b[1;32m    109\u001b[0m \u001b[0;34m\u001b[0m\u001b[0m\n\u001b[0;32m--> 110\u001b[0;31m             \u001b[0mestimator\u001b[0m\u001b[0;34m.\u001b[0m\u001b[0mfit\u001b[0m\u001b[0;34m(\u001b[0m\u001b[0mX\u001b[0m\u001b[0;34m[\u001b[0m\u001b[0;34m:\u001b[0m\u001b[0;34m,\u001b[0m \u001b[0mfeatures\u001b[0m\u001b[0;34m]\u001b[0m\u001b[0;34m,\u001b[0m \u001b[0my\u001b[0m\u001b[0;34m,\u001b[0m \u001b[0msample_weight\u001b[0m\u001b[0;34m=\u001b[0m\u001b[0mcurr_sample_weight\u001b[0m\u001b[0;34m)\u001b[0m\u001b[0;34m\u001b[0m\u001b[0;34m\u001b[0m\u001b[0m\n\u001b[0m\u001b[1;32m    111\u001b[0m \u001b[0;34m\u001b[0m\u001b[0m\n\u001b[1;32m    112\u001b[0m         \u001b[0;32melse\u001b[0m\u001b[0;34m:\u001b[0m\u001b[0;34m\u001b[0m\u001b[0;34m\u001b[0m\u001b[0m\n",
            "\u001b[0;32m/usr/local/lib/python3.6/dist-packages/sklearn/svm/_base.py\u001b[0m in \u001b[0;36mfit\u001b[0;34m(self, X, y, sample_weight)\u001b[0m\n\u001b[1;32m    197\u001b[0m \u001b[0;34m\u001b[0m\u001b[0m\n\u001b[1;32m    198\u001b[0m         \u001b[0mseed\u001b[0m \u001b[0;34m=\u001b[0m \u001b[0mrnd\u001b[0m\u001b[0;34m.\u001b[0m\u001b[0mrandint\u001b[0m\u001b[0;34m(\u001b[0m\u001b[0mnp\u001b[0m\u001b[0;34m.\u001b[0m\u001b[0miinfo\u001b[0m\u001b[0;34m(\u001b[0m\u001b[0;34m'i'\u001b[0m\u001b[0;34m)\u001b[0m\u001b[0;34m.\u001b[0m\u001b[0mmax\u001b[0m\u001b[0;34m)\u001b[0m\u001b[0;34m\u001b[0m\u001b[0;34m\u001b[0m\u001b[0m\n\u001b[0;32m--> 199\u001b[0;31m         \u001b[0mfit\u001b[0m\u001b[0;34m(\u001b[0m\u001b[0mX\u001b[0m\u001b[0;34m,\u001b[0m \u001b[0my\u001b[0m\u001b[0;34m,\u001b[0m \u001b[0msample_weight\u001b[0m\u001b[0;34m,\u001b[0m \u001b[0msolver_type\u001b[0m\u001b[0;34m,\u001b[0m \u001b[0mkernel\u001b[0m\u001b[0;34m,\u001b[0m \u001b[0mrandom_seed\u001b[0m\u001b[0;34m=\u001b[0m\u001b[0mseed\u001b[0m\u001b[0;34m)\u001b[0m\u001b[0;34m\u001b[0m\u001b[0;34m\u001b[0m\u001b[0m\n\u001b[0m\u001b[1;32m    200\u001b[0m         \u001b[0;31m# see comment on the other call to np.iinfo in this file\u001b[0m\u001b[0;34m\u001b[0m\u001b[0;34m\u001b[0m\u001b[0;34m\u001b[0m\u001b[0m\n\u001b[1;32m    201\u001b[0m \u001b[0;34m\u001b[0m\u001b[0m\n",
            "\u001b[0;32m/usr/local/lib/python3.6/dist-packages/sklearn/svm/_base.py\u001b[0m in \u001b[0;36m_dense_fit\u001b[0;34m(self, X, y, sample_weight, solver_type, kernel, random_seed)\u001b[0m\n\u001b[1;32m    256\u001b[0m                 \u001b[0mcache_size\u001b[0m\u001b[0;34m=\u001b[0m\u001b[0mself\u001b[0m\u001b[0;34m.\u001b[0m\u001b[0mcache_size\u001b[0m\u001b[0;34m,\u001b[0m \u001b[0mcoef0\u001b[0m\u001b[0;34m=\u001b[0m\u001b[0mself\u001b[0m\u001b[0;34m.\u001b[0m\u001b[0mcoef0\u001b[0m\u001b[0;34m,\u001b[0m\u001b[0;34m\u001b[0m\u001b[0;34m\u001b[0m\u001b[0m\n\u001b[1;32m    257\u001b[0m                 \u001b[0mgamma\u001b[0m\u001b[0;34m=\u001b[0m\u001b[0mself\u001b[0m\u001b[0;34m.\u001b[0m\u001b[0m_gamma\u001b[0m\u001b[0;34m,\u001b[0m \u001b[0mepsilon\u001b[0m\u001b[0;34m=\u001b[0m\u001b[0mself\u001b[0m\u001b[0;34m.\u001b[0m\u001b[0mepsilon\u001b[0m\u001b[0;34m,\u001b[0m\u001b[0;34m\u001b[0m\u001b[0;34m\u001b[0m\u001b[0m\n\u001b[0;32m--> 258\u001b[0;31m                 max_iter=self.max_iter, random_seed=random_seed)\n\u001b[0m\u001b[1;32m    259\u001b[0m \u001b[0;34m\u001b[0m\u001b[0m\n\u001b[1;32m    260\u001b[0m         \u001b[0mself\u001b[0m\u001b[0;34m.\u001b[0m\u001b[0m_warn_from_fit_status\u001b[0m\u001b[0;34m(\u001b[0m\u001b[0;34m)\u001b[0m\u001b[0;34m\u001b[0m\u001b[0;34m\u001b[0m\u001b[0m\n",
            "\u001b[0;31mKeyboardInterrupt\u001b[0m: "
          ]
        }
      ]
    },
    {
      "cell_type": "markdown",
      "metadata": {
        "id": "wS0pHKzCUBea"
      },
      "source": [
        "* Pasting"
      ]
    },
    {
      "cell_type": "code",
      "metadata": {
        "id": "qNxPPlWBUAqy"
      },
      "source": [
        "base_svc = SVC(kernel=\"poly\",degree=3, coef0=1, C=5,probability=True)\n",
        "\n",
        "Pasting_clf_svc = BaggingClassifier(base_svc,bootstrap=False)\n",
        "\n",
        "#gridSearch to look for the optim num of estimators\n",
        "params_grid = {\n",
        "    \"n_estimators\" : [ 1,5,10,15,20,30,40,50,70,100]\n",
        "}\n",
        "Pasting_clf_svc_grid = GridSearchCV(Pasting_clf_svc,params_grid)\n",
        "Pasting_clf_svc_grid.fit(X_train, y_train)"
      ],
      "execution_count": null,
      "outputs": []
    },
    {
      "cell_type": "markdown",
      "metadata": {
        "id": "DofTGU0OUL0u"
      },
      "source": [
        "# Measuring them"
      ]
    },
    {
      "cell_type": "code",
      "metadata": {
        "id": "zSCVu_aoUO4m"
      },
      "source": [
        "bagging_svc_predictions_train = bagging_clf_grid.predict(X_train)\n",
        "pasting_svc_predictions_train = Pasting_clf_grid.predict(X_train)\n",
        "\n",
        "confusion_matrix_bagging_svc_train = confusion_matrix(y_train, bagging_svc_predictions_train)\n",
        "confusion_matrix_pasting_svc_train = confusion_matrix(y_train, pasting_svc_predictions_train)\n",
        "\n",
        "recall_bagging_svc_train =recall_score(y_train, bagging_svc_predictions_train)\n",
        "recall_pasting_svc_train =recall_score(y_train, pasting_svc_predictions_train)"
      ],
      "execution_count": null,
      "outputs": []
    },
    {
      "cell_type": "markdown",
      "metadata": {
        "id": "-KOIIamuv5Nv"
      },
      "source": [
        "## Random Forest\n"
      ]
    },
    {
      "cell_type": "code",
      "metadata": {
        "id": "B4CdbSG6v8y2"
      },
      "source": [
        "from sklearn.ensemble import RandomForestClassifier\n",
        "rnd_clf = RandomForestClassifier()\n",
        "param_grid = {\n",
        "    \"n_estimators\": [2,5,10,20,25,30,50,75,100]\n",
        "}\n",
        "rnd_clf_grid = GridSearchCV(rnd_clf, param_grid)"
      ],
      "execution_count": 315,
      "outputs": []
    },
    {
      "cell_type": "code",
      "metadata": {
        "id": "Jcn-ZeK9ZUVP",
        "outputId": "51895f9a-3595-4315-a442-daf547a4621c",
        "colab": {
          "base_uri": "https://localhost:8080/"
        }
      },
      "source": [
        "rnd_clf_grid.fit(X_train, y_train)"
      ],
      "execution_count": 316,
      "outputs": [
        {
          "output_type": "execute_result",
          "data": {
            "text/plain": [
              "GridSearchCV(cv=None, error_score=nan,\n",
              "             estimator=RandomForestClassifier(bootstrap=True, ccp_alpha=0.0,\n",
              "                                              class_weight=None,\n",
              "                                              criterion='gini', max_depth=None,\n",
              "                                              max_features='auto',\n",
              "                                              max_leaf_nodes=None,\n",
              "                                              max_samples=None,\n",
              "                                              min_impurity_decrease=0.0,\n",
              "                                              min_impurity_split=None,\n",
              "                                              min_samples_leaf=1,\n",
              "                                              min_samples_split=2,\n",
              "                                              min_weight_fraction_leaf=0.0,\n",
              "                                              n_estimators=100, n_jobs=None,\n",
              "                                              oob_score=False,\n",
              "                                              random_state=None, verbose=0,\n",
              "                                              warm_start=False),\n",
              "             iid='deprecated', n_jobs=None,\n",
              "             param_grid={'n_estimators': [2, 5, 10, 20, 25, 30, 50, 75, 100]},\n",
              "             pre_dispatch='2*n_jobs', refit=True, return_train_score=False,\n",
              "             scoring=None, verbose=0)"
            ]
          },
          "metadata": {
            "tags": []
          },
          "execution_count": 316
        }
      ]
    },
    {
      "cell_type": "code",
      "metadata": {
        "id": "JOu08-ZIZviW",
        "outputId": "8202dae2-8319-4cc8-8847-bd3a0decd47f",
        "colab": {
          "base_uri": "https://localhost:8080/"
        }
      },
      "source": [
        "rnd_clf_grid.best_params_"
      ],
      "execution_count": 319,
      "outputs": [
        {
          "output_type": "execute_result",
          "data": {
            "text/plain": [
              "{'n_estimators': 100}"
            ]
          },
          "metadata": {
            "tags": []
          },
          "execution_count": 319
        }
      ]
    },
    {
      "cell_type": "code",
      "metadata": {
        "id": "nMTOIOf1ZbVn"
      },
      "source": [
        "rnd_clf_grid_predictions_train = rnd_clf_grid.predict(X_train)"
      ],
      "execution_count": 317,
      "outputs": []
    },
    {
      "cell_type": "code",
      "metadata": {
        "id": "5fsubwtgZihP",
        "outputId": "7bd5a446-1a59-4371-a574-56c2541f5438",
        "colab": {
          "base_uri": "https://localhost:8080/"
        }
      },
      "source": [
        "confusion_matrix(y_train,rnd_clf_grid_predictions_train)\n"
      ],
      "execution_count": 318,
      "outputs": [
        {
          "output_type": "execute_result",
          "data": {
            "text/plain": [
              "array([[2293,    0],\n",
              "       [   0,  419]])"
            ]
          },
          "metadata": {
            "tags": []
          },
          "execution_count": 318
        }
      ]
    },
    {
      "cell_type": "code",
      "metadata": {
        "id": "rdBnjDDzZ_Oh",
        "outputId": "8d6896cb-a6ab-4832-afd4-e5640423d33f",
        "colab": {
          "base_uri": "https://localhost:8080/"
        }
      },
      "source": [
        "recall_score(y_train, rnd_clf_grid_predictions_train)"
      ],
      "execution_count": 322,
      "outputs": [
        {
          "output_type": "execute_result",
          "data": {
            "text/plain": [
              "1.0"
            ]
          },
          "metadata": {
            "tags": []
          },
          "execution_count": 322
        }
      ]
    },
    {
      "cell_type": "code",
      "metadata": {
        "id": "1SmuTZ14Z1km"
      },
      "source": [
        "rnd_clf_grid_predictions_val = rnd_clf_grid.predict(X_val)"
      ],
      "execution_count": 320,
      "outputs": []
    },
    {
      "cell_type": "code",
      "metadata": {
        "id": "pBciNof4Z4v6",
        "outputId": "1e2923fe-c5ba-4576-dce6-c4c858482ff9",
        "colab": {
          "base_uri": "https://localhost:8080/"
        }
      },
      "source": [
        "confusion_matrix(y_val,rnd_clf_grid_predictions_val)"
      ],
      "execution_count": 321,
      "outputs": [
        {
          "output_type": "execute_result",
          "data": {
            "text/plain": [
              "array([[571,   6],\n",
              "       [ 92,   9]])"
            ]
          },
          "metadata": {
            "tags": []
          },
          "execution_count": 321
        }
      ]
    },
    {
      "cell_type": "markdown",
      "metadata": {
        "id": "rBwTyrXVaann"
      },
      "source": [
        "* The model is overfitting the data"
      ]
    },
    {
      "cell_type": "code",
      "metadata": {
        "id": "dfiUKtBEaFQy",
        "outputId": "ac0db1aa-7f6c-4c07-c016-1b2c99b6de19",
        "colab": {
          "base_uri": "https://localhost:8080/"
        }
      },
      "source": [
        "recall_score(y_val, rnd_clf_grid_predictions_val)"
      ],
      "execution_count": 323,
      "outputs": [
        {
          "output_type": "execute_result",
          "data": {
            "text/plain": [
              "0.0891089108910891"
            ]
          },
          "metadata": {
            "tags": []
          },
          "execution_count": 323
        }
      ]
    }
  ]
}