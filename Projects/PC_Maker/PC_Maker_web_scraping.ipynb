{
  "nbformat": 4,
  "nbformat_minor": 0,
  "metadata": {
    "colab": {
      "name": "PC_Maker_web_scraping.ipynb",
      "provenance": []
    },
    "kernelspec": {
      "name": "python3",
      "display_name": "Python 3"
    }
  },
  "cells": [
    {
      "cell_type": "markdown",
      "metadata": {
        "id": "wRUQAx7A3tmL"
      },
      "source": [
        "We want to obtain the requeriments of some games, as well as the description.\r\n",
        "\r\n",
        "We'll scraping info from steam."
      ]
    },
    {
      "cell_type": "markdown",
      "metadata": {
        "id": "RdVkfVoE3-of"
      },
      "source": [
        "# Cyberpunk 2077"
      ]
    },
    {
      "cell_type": "code",
      "metadata": {
        "id": "xe1GYdhc3CqD"
      },
      "source": [
        "import requests \r\n",
        "from urllib.request import urlopen\r\n",
        "from lxml import etree"
      ],
      "execution_count": 1,
      "outputs": []
    },
    {
      "cell_type": "code",
      "metadata": {
        "id": "jV1gBKtX42ni"
      },
      "source": [
        "# get html from site and write to local file\r\n",
        "url = \"https://store.steampowered.com/app/1091500/Cyberpunk_2077/\"\r\n",
        "headers = {'Content-Type': 'text/html',}\r\n",
        "response = requests.get(url, headers=headers)\r\n",
        "raw_html = response.text\r\n",
        "html = etree.HTML(raw_html)"
      ],
      "execution_count": 238,
      "outputs": []
    },
    {
      "cell_type": "markdown",
      "metadata": {
        "id": "N1dORT0-EN9p"
      },
      "source": [
        "* Look For Description"
      ]
    },
    {
      "cell_type": "code",
      "metadata": {
        "id": "o2x2MqxW5eQ6"
      },
      "source": [
        "xpath_for_description = \"//div[starts-with(@id, 'game_area_description')]/text()\"\r\n"
      ],
      "execution_count": 239,
      "outputs": []
    },
    {
      "cell_type": "code",
      "metadata": {
        "id": "HNxVNb9x6jE7"
      },
      "source": [
        "description_txt = html.xpath(xpath_0)"
      ],
      "execution_count": 240,
      "outputs": []
    },
    {
      "cell_type": "code",
      "metadata": {
        "colab": {
          "base_uri": "https://localhost:8080/"
        },
        "id": "7_bPfpKc6rEL",
        "outputId": "4fa56bb7-c938-43c9-b656-5b8c2110f830"
      },
      "source": [
        "description_txt"
      ],
      "execution_count": 241,
      "outputs": [
        {
          "output_type": "execute_result",
          "data": {
            "text/plain": [
              "['\\r\\n\\t\\t\\t\\t\\t\\t\\t',\n",
              " '\\r\\n\\t\\t\\t\\t\\t\\t\\t',\n",
              " 'Cyberpunk 2077 is an open-world, action-adventure story set in Night City, a megalopolis ',\n",
              " 'obsessed with power, glamour and body modification. You play as V, a mercenary outlaw going after a one-of-a-kind implant that is the key to immortality. You can customize your character’s cyberware, skillset and playstyle, and explore a vast city where the choices you make shape the story and the world around you.',\n",
              " 'Become a cyberpunk, an urban mercenary equipped with cybernetic enhancements and build',\n",
              " 'your legend on the streets of Night City.',\n",
              " 'Enter the massive open world of Night City, a place that sets new standards in terms of visuals, complexity and depth.',\n",
              " 'Take the riskiest job of your life and go after a prototype implant that is the key to immortality.',\n",
              " '\\t\\t\\t\\t\\t\\t']"
            ]
          },
          "metadata": {
            "tags": []
          },
          "execution_count": 241
        }
      ]
    },
    {
      "cell_type": "markdown",
      "metadata": {
        "id": "snPJ19ceER7B"
      },
      "source": [
        "* Look for minimum requierments"
      ]
    },
    {
      "cell_type": "code",
      "metadata": {
        "id": "doS3oLxO7pta"
      },
      "source": [
        "xpath_for_min_req_strongs = \"//div[starts-with(@class, 'game_area_sys_req_leftCol')]/ul/ul/li/strong/text()\"\r\n",
        "xpath_for_min_req = \"//div[starts-with(@class, 'game_area_sys_req_leftCol')]/ul/ul/li[strong]/text()\" #With [] we say to look for those li with strong"
      ],
      "execution_count": 242,
      "outputs": []
    },
    {
      "cell_type": "code",
      "metadata": {
        "id": "QQmOK62J8sCC"
      },
      "source": [
        "min_req_strongs = html.xpath(xpath_for_min_req_strongs)\r\n",
        "min_req_txt = html.xpath(xpath_for_min_req)\r\n"
      ],
      "execution_count": 243,
      "outputs": []
    },
    {
      "cell_type": "code",
      "metadata": {
        "colab": {
          "base_uri": "https://localhost:8080/"
        },
        "id": "_4G8VhNDBwrK",
        "outputId": "d1609735-dbaa-4408-a537-0ed89008918e"
      },
      "source": [
        "min_req_strongs"
      ],
      "execution_count": 244,
      "outputs": [
        {
          "output_type": "execute_result",
          "data": {
            "text/plain": [
              "['OS:',\n",
              " 'Processor:',\n",
              " 'Memory:',\n",
              " 'Graphics:',\n",
              " 'DirectX:',\n",
              " 'Storage:',\n",
              " 'Additional Notes:']"
            ]
          },
          "metadata": {
            "tags": []
          },
          "execution_count": 244
        }
      ]
    },
    {
      "cell_type": "code",
      "metadata": {
        "colab": {
          "base_uri": "https://localhost:8080/"
        },
        "id": "LpruvAML8yvy",
        "outputId": "94463e9b-6656-43dc-a9a7-4d57e22a6e17"
      },
      "source": [
        "min_req_txt"
      ],
      "execution_count": 245,
      "outputs": [
        {
          "output_type": "execute_result",
          "data": {
            "text/plain": [
              "[' Windows 7 or 10',\n",
              " ' Intel Core i5-3570K or AMD FX-8310',\n",
              " ' 8 GB RAM',\n",
              " ' NVIDIA GeForce GTX 780 or AMD Radeon RX 470',\n",
              " ' Version 12',\n",
              " ' 70 GB available space',\n",
              " ' SSD recommended']"
            ]
          },
          "metadata": {
            "tags": []
          },
          "execution_count": 245
        }
      ]
    },
    {
      "cell_type": "markdown",
      "metadata": {
        "id": "fJxVLZMNEedZ"
      },
      "source": [
        "* Look for recommended  requierments"
      ]
    },
    {
      "cell_type": "code",
      "metadata": {
        "id": "5pVSWv-6D-7R"
      },
      "source": [
        "xpath_for_recommended_req_strongs = \"//div[starts-with(@class, 'game_area_sys_req_rightCol')]/ul/ul/li/strong/text()\"\r\n",
        "xpath_for_recommended_req = \"//div[starts-with(@class, 'game_area_sys_req_rightCol')]/ul/ul/li[strong]/text()\" #With [] we say to look for those li with strong"
      ],
      "execution_count": 246,
      "outputs": []
    },
    {
      "cell_type": "code",
      "metadata": {
        "id": "i5ehb7A7E8oh"
      },
      "source": [
        "recommended_req_strongs = html.xpath(xpath_for_recommended_req_strongs)\r\n",
        "recommended_req_txt = html.xpath(xpath_for_recommended_req)"
      ],
      "execution_count": 247,
      "outputs": []
    },
    {
      "cell_type": "code",
      "metadata": {
        "colab": {
          "base_uri": "https://localhost:8080/"
        },
        "id": "ap9P9Xf8FJzJ",
        "outputId": "fe0eba16-55e6-4e86-f5af-488ab0ef3064"
      },
      "source": [
        "recommended_req_strongs"
      ],
      "execution_count": 248,
      "outputs": [
        {
          "output_type": "execute_result",
          "data": {
            "text/plain": [
              "['OS:', 'Processor:', 'Memory:', 'Graphics:', 'DirectX:', 'Storage:']"
            ]
          },
          "metadata": {
            "tags": []
          },
          "execution_count": 248
        }
      ]
    },
    {
      "cell_type": "code",
      "metadata": {
        "colab": {
          "base_uri": "https://localhost:8080/"
        },
        "id": "fEncK0I5FLyR",
        "outputId": "6a1b9599-95c3-473e-f8c9-4763613d0806"
      },
      "source": [
        "recommended_req_txt"
      ],
      "execution_count": 249,
      "outputs": [
        {
          "output_type": "execute_result",
          "data": {
            "text/plain": [
              "[' Windows 10',\n",
              " ' Intel Core i7-4790 or AMD Ryzen 3 3200G',\n",
              " ' 12 GB RAM',\n",
              " ' NVIDIA GeForce GTX 1060 or AMD Radeon R9 Fury',\n",
              " ' Version 12',\n",
              " ' 70 GB available space']"
            ]
          },
          "metadata": {
            "tags": []
          },
          "execution_count": 249
        }
      ]
    }
  ]
}