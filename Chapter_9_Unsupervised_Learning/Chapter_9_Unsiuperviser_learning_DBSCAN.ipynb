{
  "nbformat": 4,
  "nbformat_minor": 0,
  "metadata": {
    "colab": {
      "name": "Chapter_9_Unsiuperviser_learning_DBSCAN.ipynb",
      "provenance": [],
      "collapsed_sections": []
    },
    "kernelspec": {
      "name": "python3",
      "display_name": "Python 3"
    }
  },
  "cells": [
    {
      "cell_type": "code",
      "metadata": {
        "id": "ZQCS1x86JN5v"
      },
      "source": [
        "from sklearn.datasets import make_moons \n",
        "X, y = make_moons(n_samples=1000, noise=0.05, random_state=42)"
      ],
      "execution_count": 53,
      "outputs": []
    },
    {
      "cell_type": "code",
      "metadata": {
        "id": "B0557-r0E5jk"
      },
      "source": [
        "from sklearn.cluster import DBSCAN\n",
        "dbscan_clustering = DBSCAN(eps=0.05, min_samples=5)"
      ],
      "execution_count": 54,
      "outputs": []
    },
    {
      "cell_type": "code",
      "metadata": {
        "colab": {
          "base_uri": "https://localhost:8080/"
        },
        "id": "woddbFFDJsZW",
        "outputId": "aa3ae929-5125-4648-f288-b2a07630eea1"
      },
      "source": [
        "dbscan_clustering.fit(X)"
      ],
      "execution_count": 55,
      "outputs": [
        {
          "output_type": "execute_result",
          "data": {
            "text/plain": [
              "DBSCAN(algorithm='auto', eps=0.05, leaf_size=30, metric='euclidean',\n",
              "       metric_params=None, min_samples=5, n_jobs=None, p=None)"
            ]
          },
          "metadata": {
            "tags": []
          },
          "execution_count": 55
        }
      ]
    },
    {
      "cell_type": "code",
      "metadata": {
        "id": "CmfPF7wXJvde"
      },
      "source": [
        "anomalies = (dbscan_clustering.labels_ == -1)"
      ],
      "execution_count": 56,
      "outputs": []
    },
    {
      "cell_type": "code",
      "metadata": {
        "id": "elx06euBKRL9"
      },
      "source": [
        "import pandas as pd\n",
        "pd_anomalies =  pd.DataFrame(anomalies)"
      ],
      "execution_count": 57,
      "outputs": []
    },
    {
      "cell_type": "code",
      "metadata": {
        "colab": {
          "base_uri": "https://localhost:8080/"
        },
        "id": "E4T01qSVKixm",
        "outputId": "83b1ce1e-328f-4c1f-bb39-6b57b7d85297"
      },
      "source": [
        "pd_anomalies.value_counts() #To see how many anomalies are in the dataset"
      ],
      "execution_count": 58,
      "outputs": [
        {
          "output_type": "execute_result",
          "data": {
            "text/plain": [
              "False    923\n",
              "True      77\n",
              "dtype: int64"
            ]
          },
          "metadata": {
            "tags": []
          },
          "execution_count": 58
        }
      ]
    },
    {
      "cell_type": "code",
      "metadata": {
        "colab": {
          "base_uri": "https://localhost:8080/"
        },
        "id": "H6-UfUdsMz09",
        "outputId": "ba4bca65-5a57-422a-cd8a-fcc3f67ddf4c"
      },
      "source": [
        "dbscan_clustering.labels_"
      ],
      "execution_count": 59,
      "outputs": [
        {
          "output_type": "execute_result",
          "data": {
            "text/plain": [
              "array([ 0,  2, -1, -1,  1,  0,  0,  0,  2,  5,  2,  3,  0,  2,  2,  2,  4,\n",
              "        2,  2,  4,  0,  5,  1,  0,  5,  5,  3,  2,  2,  2,  4,  5,  0,  6,\n",
              "        1, -1,  0,  0,  2,  3, -1,  3,  4, -1,  4,  4,  2,  0,  6,  2,  0,\n",
              "        2,  4,  0,  3,  3,  0,  3,  5,  2, -1,  3,  0,  5,  0,  0,  0,  2,\n",
              "        3,  0,  3,  6,  0,  2,  4,  4,  0,  3,  0,  4,  0,  3, -1,  3,  4,\n",
              "        0, -1,  2,  2,  4,  1,  6,  0,  5,  2,  6,  2,  3,  3, -1,  2, -1,\n",
              "        2,  4,  0,  0,  0,  2,  5,  2,  0,  2, -1,  2,  3,  1,  5,  2,  0,\n",
              "        4,  2,  1,  2,  4,  4,  0,  0,  6,  2,  2,  0,  2, -1,  2,  0,  3,\n",
              "        3,  5, -1,  3,  3,  5,  2,  4,  2,  2,  2,  4,  2,  4,  0, -1,  2,\n",
              "        1,  2,  6,  4,  2,  3,  2, -1,  2,  0,  0,  2,  0,  4,  0,  4,  4,\n",
              "        1,  6,  3,  2,  6,  1,  4,  4,  2,  0,  6,  0,  1,  0,  2,  5,  1,\n",
              "        1,  2,  2,  2,  2,  0,  5,  5,  1,  4,  5,  0,  3,  3,  0,  0,  0,\n",
              "        2,  0,  5,  2, -1,  2,  3,  5,  2,  2,  0,  4,  0,  4,  2,  2,  4,\n",
              "        2,  2,  3,  2,  3,  0,  1,  2,  0,  4, -1,  6,  0,  3,  3,  5, -1,\n",
              "        5,  4,  3,  5,  0,  2, -1,  3,  6,  3,  3,  4,  3,  2,  2,  2,  1,\n",
              "        4,  0,  2,  2, -1,  2,  6,  3,  4,  4,  2,  2,  1,  0,  1,  6,  3,\n",
              "        2,  4,  0,  3,  5,  0,  3,  2,  0,  2,  5,  4,  5,  2, -1,  6,  5,\n",
              "        2,  2,  2,  0,  6,  1,  6,  2,  1,  3,  5,  0,  1, -1,  1,  2,  2,\n",
              "        4, -1,  2,  0,  0,  0,  0,  2,  6,  6, -1,  1,  2,  5,  3,  5,  4,\n",
              "        0,  2,  0, -1,  6,  2,  3,  2,  4,  2,  0, -1,  4, -1,  0, -1,  0,\n",
              "        6,  1,  5,  3,  1,  1,  0,  2,  3,  2, -1,  4,  2,  3,  4,  5,  4,\n",
              "       -1,  4, -1,  1,  0,  5,  6,  5,  3,  2,  5,  1, -1,  5,  2,  5,  5,\n",
              "        3,  2,  6,  3,  2,  2,  5,  5,  2,  5,  5,  2, -1,  3,  2,  2,  5,\n",
              "        3,  0,  3,  0,  3,  1,  6,  2,  2,  3,  6,  0,  0,  0,  0,  2, -1,\n",
              "        3,  0, -1,  2,  2,  4,  2,  2,  0,  2,  0,  6,  3,  2,  6,  0,  6,\n",
              "        1,  3,  3,  0,  4,  4,  1,  4,  6,  4,  3,  5,  1,  2, -1,  5,  0,\n",
              "        2,  0,  0,  0,  0,  5,  0,  0,  0,  2,  1,  5,  5,  0,  2,  0,  1,\n",
              "        1,  3,  3,  0,  2,  1,  3,  3,  1,  0,  6,  1,  3,  2,  3,  4,  2,\n",
              "        2,  2,  0,  0,  0,  3, -1,  1,  0,  3,  3,  4,  5,  6, -1,  0,  2,\n",
              "        3,  6,  5,  6,  1,  2,  2,  0,  5,  1,  2,  2,  2,  0,  1,  2,  2,\n",
              "        4,  0,  4,  3,  4,  2,  5, -1,  2,  3,  1,  0, -1,  4,  1,  0,  2,\n",
              "       -1,  0,  3,  0,  3,  0,  4,  2,  6,  5,  3,  2,  6,  5,  4,  5, -1,\n",
              "        3,  2,  0,  2,  0,  3,  3,  6,  0,  3,  2,  2,  1,  4,  3,  1,  5,\n",
              "       -1,  2,  2,  4,  6,  0,  4,  4,  2,  5,  3,  2,  3,  4,  2,  5,  6,\n",
              "        1,  0,  4,  3, -1,  2,  2,  1,  0, -1,  3,  5,  4,  2,  0,  2,  2,\n",
              "        5,  4,  0,  0,  2,  3,  3,  4,  4,  0,  2,  5,  3,  0, -1,  5,  4,\n",
              "       -1,  2,  2,  0,  2,  0, -1, -1,  2, -1, -1,  5,  3,  0,  3,  2,  2,\n",
              "        0,  2,  6,  4,  2,  2,  5,  3,  2,  6,  2,  1,  5,  3,  2,  1,  6,\n",
              "        2,  2,  2,  2,  5,  2,  2,  0, -1,  2,  0,  2,  5,  2, -1,  2,  2,\n",
              "        2,  3,  4,  0,  3,  1, -1,  2,  0,  2,  0, -1,  3,  5,  1,  2,  5,\n",
              "        0,  2,  2,  3,  2,  3,  6, -1,  4,  4,  2,  0,  0, -1,  2,  4,  0,\n",
              "        4,  1,  5,  2, -1, -1,  0,  2,  6,  5,  3,  2,  2,  2,  0,  1,  6,\n",
              "        4,  5,  3,  2,  0,  5, -1,  5,  0,  4,  4,  1,  3,  5,  5,  6,  4,\n",
              "        1,  2,  2,  2,  2,  2,  3,  0,  1,  2,  2,  2,  2,  5,  0,  2,  2,\n",
              "        2,  2,  0,  2,  2,  1,  2,  0,  4,  2,  6,  6,  3,  0,  4,  2, -1,\n",
              "        0,  1,  2,  2,  5,  2,  0,  4,  0,  1,  2,  0,  1, -1, -1,  0,  0,\n",
              "        4,  1,  1,  5,  2,  2,  6,  4, -1,  0,  2,  2,  2,  0,  2,  2,  0,\n",
              "        2,  0,  2,  0,  2,  3,  4,  0,  5,  0,  3,  0,  5,  0,  2,  2,  2,\n",
              "        2,  2,  3,  0,  4,  2,  0,  0,  6,  0,  2,  5,  1,  2,  1,  2,  2,\n",
              "        5, -1,  2,  0,  2,  0,  2,  0,  2,  0,  3, -1,  2,  0,  1,  0,  3,\n",
              "        3,  2,  2,  5,  5,  3,  2,  5,  6, -1,  1,  4,  1,  0,  1,  0,  6,\n",
              "        3,  3,  6,  0,  3,  2,  0,  2, -1,  3,  2,  3,  5,  3,  6,  1,  5,\n",
              "        2,  5,  2,  3,  2,  4,  2,  2,  2,  4,  0,  4,  2,  6,  6,  2, -1,\n",
              "        2,  4,  5,  5,  0,  2,  1,  0,  6,  2,  2,  3,  0,  1, -1,  2,  2,\n",
              "        0,  3,  5,  3,  2,  0,  1,  6,  1, -1,  4,  2,  0,  4,  2,  4,  3,\n",
              "        4, -1,  1,  4,  5,  2,  2,  0,  2,  6,  2,  0,  2,  4,  0,  2,  0,\n",
              "        0,  5,  2, -1,  6, -1,  0,  3,  6,  0,  2,  2,  4,  3,  4,  6,  5,\n",
              "        4,  2,  5,  1, -1,  1,  6,  4,  2,  4,  0,  5,  0,  2,  3,  1,  3,\n",
              "        6,  4,  5, -1,  3, -1,  3,  2,  3,  3,  4,  2,  6,  3])"
            ]
          },
          "metadata": {
            "tags": []
          },
          "execution_count": 59
        }
      ]
    },
    {
      "cell_type": "markdown",
      "metadata": {
        "id": "ty94Q9TEM4Dd"
      },
      "source": [
        "* There are to many clusters!"
      ]
    },
    {
      "cell_type": "markdown",
      "metadata": {
        "id": "oGtOa9rzK1Jb"
      },
      "source": [
        "* Indices of the core instances"
      ]
    },
    {
      "cell_type": "code",
      "metadata": {
        "colab": {
          "base_uri": "https://localhost:8080/"
        },
        "id": "bOCczXOJKwZu",
        "outputId": "2347c675-b8a2-45de-ba01-d3baf81615df"
      },
      "source": [
        "dbscan_clustering.core_sample_indices_"
      ],
      "execution_count": 60,
      "outputs": [
        {
          "output_type": "execute_result",
          "data": {
            "text/plain": [
              "array([  0,   4,   5,   6,   7,   8,  10,  11,  12,  13,  14,  16,  17,\n",
              "        18,  19,  20,  21,  22,  23,  24,  25,  26,  28,  29,  30,  31,\n",
              "        32,  33,  34,  36,  38,  39,  41,  42,  44,  45,  47,  49,  50,\n",
              "        51,  52,  53,  54,  55,  56,  58,  59,  61,  63,  64,  65,  66,\n",
              "        67,  68,  69,  70,  71,  72,  73,  74,  75,  76,  77,  78,  79,\n",
              "        80,  81,  83,  84,  85,  87,  88,  89,  90,  91,  93,  94,  96,\n",
              "        97,  98, 102, 103, 104, 105, 106, 107, 108, 109, 110, 113, 114,\n",
              "       115, 116, 117, 119, 120, 122, 123, 124, 125, 126, 127, 128, 129,\n",
              "       130, 135, 136, 139, 140, 141, 143, 144, 145, 146, 147, 148, 149,\n",
              "       150, 152, 153, 154, 155, 156, 157, 158, 159, 161, 162, 163, 164,\n",
              "       165, 166, 167, 168, 169, 170, 172, 173, 174, 175, 176, 177, 178,\n",
              "       179, 181, 182, 183, 185, 186, 187, 188, 189, 191, 193, 194, 195,\n",
              "       196, 198, 199, 200, 201, 202, 203, 204, 205, 206, 207, 209, 210,\n",
              "       211, 212, 213, 214, 215, 216, 217, 218, 219, 221, 222, 223, 224,\n",
              "       226, 228, 229, 230, 232, 233, 234, 235, 236, 238, 239, 240, 241,\n",
              "       242, 243, 245, 246, 247, 248, 249, 250, 251, 252, 253, 255, 256,\n",
              "       257, 260, 261, 262, 263, 264, 265, 266, 267, 268, 269, 270, 271,\n",
              "       272, 273, 274, 276, 277, 278, 279, 280, 281, 282, 283, 284, 285,\n",
              "       287, 288, 289, 290, 291, 293, 294, 295, 296, 297, 300, 301, 303,\n",
              "       304, 305, 308, 309, 310, 311, 313, 315, 317, 318, 319, 320, 321,\n",
              "       322, 323, 324, 327, 328, 329, 330, 332, 333, 335, 339, 340, 341,\n",
              "       342, 343, 346, 347, 348, 349, 351, 352, 353, 354, 355, 356, 358,\n",
              "       360, 361, 362, 363, 364, 365, 366, 367, 368, 370, 371, 372, 373,\n",
              "       374, 375, 377, 378, 379, 380, 381, 382, 384, 385, 387, 388, 389,\n",
              "       390, 391, 392, 393, 394, 395, 397, 398, 399, 400, 401, 402, 403,\n",
              "       404, 405, 406, 409, 411, 412, 413, 414, 415, 416, 417, 418, 419,\n",
              "       420, 421, 422, 423, 424, 425, 426, 427, 428, 429, 430, 431, 432,\n",
              "       433, 435, 436, 437, 438, 440, 441, 442, 443, 444, 445, 446, 447,\n",
              "       448, 449, 450, 451, 452, 453, 454, 456, 457, 458, 459, 461, 462,\n",
              "       463, 464, 467, 468, 469, 471, 472, 473, 474, 475, 476, 477, 478,\n",
              "       479, 480, 483, 484, 485, 486, 487, 488, 489, 491, 492, 493, 495,\n",
              "       496, 497, 498, 499, 501, 502, 503, 504, 505, 506, 507, 508, 509,\n",
              "       510, 511, 512, 513, 514, 515, 516, 518, 519, 520, 521, 523, 524,\n",
              "       525, 526, 528, 529, 530, 531, 532, 533, 535, 536, 537, 538, 539,\n",
              "       540, 541, 542, 544, 545, 546, 547, 548, 549, 550, 551, 552, 553,\n",
              "       554, 555, 556, 557, 559, 560, 562, 563, 564, 565, 566, 568, 569,\n",
              "       570, 572, 573, 574, 575, 576, 578, 579, 580, 583, 584, 585, 586,\n",
              "       588, 589, 590, 591, 592, 593, 594, 595, 596, 597, 599, 600, 601,\n",
              "       602, 603, 604, 605, 607, 610, 611, 614, 615, 616, 617, 620, 624,\n",
              "       625, 627, 628, 629, 631, 633, 634, 635, 636, 637, 638, 639, 640,\n",
              "       641, 642, 643, 644, 645, 646, 647, 648, 649, 650, 652, 655, 656,\n",
              "       657, 661, 662, 663, 664, 666, 667, 670, 671, 672, 673, 675, 676,\n",
              "       677, 678, 679, 680, 681, 682, 684, 685, 686, 688, 689, 690, 691,\n",
              "       692, 694, 695, 696, 697, 698, 703, 704, 705, 706, 708, 709, 710,\n",
              "       711, 712, 713, 714, 716, 717, 718, 719, 721, 722, 723, 724, 726,\n",
              "       729, 730, 731, 733, 735, 736, 737, 738, 739, 740, 741, 742, 743,\n",
              "       744, 745, 746, 748, 749, 750, 751, 752, 753, 754, 756, 757, 758,\n",
              "       759, 760, 761, 762, 763, 765, 766, 768, 770, 772, 773, 774, 775,\n",
              "       776, 777, 780, 781, 782, 783, 784, 785, 786, 787, 788, 789, 791,\n",
              "       792, 793, 794, 795, 796, 797, 798, 799, 800, 802, 803, 804, 805,\n",
              "       806, 807, 808, 809, 810, 811, 812, 813, 814, 815, 816, 817, 818,\n",
              "       819, 820, 821, 822, 824, 825, 826, 827, 828, 829, 830, 831, 832,\n",
              "       835, 836, 837, 838, 839, 840, 841, 842, 843, 845, 846, 848, 849,\n",
              "       850, 851, 852, 853, 854, 855, 857, 858, 860, 861, 862, 863, 864,\n",
              "       865, 867, 868, 870, 871, 873, 877, 878, 879, 880, 882, 883, 884,\n",
              "       885, 886, 887, 888, 889, 890, 891, 892, 893, 894, 895, 896, 897,\n",
              "       898, 899, 902, 903, 904, 905, 906, 907, 908, 910, 912, 913, 916,\n",
              "       918, 919, 920, 921, 922, 923, 925, 926, 928, 929, 930, 931, 932,\n",
              "       933, 934, 935, 937, 938, 939, 940, 941, 942, 943, 944, 945, 947,\n",
              "       948, 949, 951, 952, 953, 954, 956, 958, 959, 960, 961, 962, 963,\n",
              "       964, 965, 966, 967, 968, 969, 970, 972, 974, 975, 976, 978, 979,\n",
              "       980, 982, 983, 984, 985, 986, 987, 988, 990, 992, 993, 995, 997,\n",
              "       998, 999])"
            ]
          },
          "metadata": {
            "tags": []
          },
          "execution_count": 60
        }
      ]
    },
    {
      "cell_type": "markdown",
      "metadata": {
        "id": "IGFbGWM9LudG"
      },
      "source": [
        "* Core instances themselves "
      ]
    },
    {
      "cell_type": "code",
      "metadata": {
        "colab": {
          "base_uri": "https://localhost:8080/"
        },
        "id": "ME_pZx1FLJuz",
        "outputId": "325797e7-f213-4355-de5d-50f623535a39"
      },
      "source": [
        "dbscan_clustering.components_"
      ],
      "execution_count": 61,
      "outputs": [
        {
          "output_type": "execute_result",
          "data": {
            "text/plain": [
              "array([[-0.02137124,  0.40618608],\n",
              "       [-0.84192557,  0.53058695],\n",
              "       [ 0.58930337, -0.32137599],\n",
              "       ...,\n",
              "       [ 1.66258462, -0.3079193 ],\n",
              "       [-0.94355873,  0.3278936 ],\n",
              "       [ 0.79419406,  0.60777171]])"
            ]
          },
          "metadata": {
            "tags": []
          },
          "execution_count": 61
        }
      ]
    },
    {
      "cell_type": "markdown",
      "metadata": {
        "id": "QEgW57X9MVA1"
      },
      "source": [
        "* There are too much anomalies, lets change the \"eps\" hyperparameter"
      ]
    },
    {
      "cell_type": "code",
      "metadata": {
        "id": "f2hx-eu3MaFC"
      },
      "source": [
        "dbscan_clustering = DBSCAN(eps=0.2)"
      ],
      "execution_count": 62,
      "outputs": []
    },
    {
      "cell_type": "code",
      "metadata": {
        "colab": {
          "base_uri": "https://localhost:8080/"
        },
        "id": "LIeBqpIbMq59",
        "outputId": "fb755ed7-f984-444b-b790-ec3e79ebc24f"
      },
      "source": [
        "dbscan_clustering.fit(X)"
      ],
      "execution_count": 63,
      "outputs": [
        {
          "output_type": "execute_result",
          "data": {
            "text/plain": [
              "DBSCAN(algorithm='auto', eps=0.2, leaf_size=30, metric='euclidean',\n",
              "       metric_params=None, min_samples=5, n_jobs=None, p=None)"
            ]
          },
          "metadata": {
            "tags": []
          },
          "execution_count": 63
        }
      ]
    },
    {
      "cell_type": "code",
      "metadata": {
        "colab": {
          "base_uri": "https://localhost:8080/"
        },
        "id": "XCZUkihvMtMl",
        "outputId": "e73f143a-28c6-4305-ee91-d1a061de032d"
      },
      "source": [
        "dbscan_clustering.labels_"
      ],
      "execution_count": 64,
      "outputs": [
        {
          "output_type": "execute_result",
          "data": {
            "text/plain": [
              "array([0, 0, 0, 0, 1, 0, 0, 0, 0, 1, 0, 1, 0, 0, 0, 0, 1, 0, 0, 1, 0, 1,\n",
              "       1, 0, 1, 1, 1, 0, 0, 0, 1, 1, 0, 1, 1, 1, 0, 0, 0, 1, 1, 1, 1, 0,\n",
              "       1, 1, 0, 0, 1, 0, 0, 0, 1, 0, 1, 1, 0, 1, 1, 0, 1, 1, 0, 1, 0, 0,\n",
              "       0, 0, 1, 0, 1, 1, 0, 0, 1, 1, 0, 1, 0, 1, 0, 1, 1, 1, 1, 0, 0, 0,\n",
              "       0, 1, 1, 1, 0, 1, 0, 1, 0, 1, 1, 0, 0, 1, 0, 1, 0, 0, 0, 0, 1, 0,\n",
              "       0, 0, 0, 0, 1, 1, 1, 0, 0, 1, 0, 1, 0, 1, 1, 0, 0, 1, 0, 0, 0, 0,\n",
              "       1, 0, 0, 1, 1, 1, 1, 1, 1, 1, 0, 1, 0, 0, 0, 1, 0, 1, 0, 1, 0, 1,\n",
              "       0, 1, 1, 0, 1, 0, 0, 0, 0, 0, 0, 0, 1, 0, 1, 1, 1, 1, 1, 0, 1, 1,\n",
              "       1, 1, 0, 0, 1, 0, 1, 0, 0, 1, 1, 1, 0, 0, 0, 0, 0, 1, 1, 1, 1, 1,\n",
              "       0, 1, 1, 0, 0, 0, 0, 0, 1, 0, 1, 0, 1, 1, 0, 0, 0, 1, 0, 1, 0, 0,\n",
              "       1, 0, 0, 1, 0, 1, 0, 1, 0, 0, 1, 0, 1, 0, 1, 1, 1, 0, 1, 1, 1, 1,\n",
              "       0, 0, 1, 1, 1, 1, 1, 1, 1, 0, 0, 0, 1, 1, 0, 0, 0, 1, 0, 1, 1, 1,\n",
              "       1, 0, 0, 1, 0, 1, 1, 1, 0, 1, 0, 1, 1, 0, 1, 0, 0, 0, 1, 1, 1, 0,\n",
              "       1, 1, 1, 0, 0, 0, 0, 1, 1, 1, 0, 1, 1, 1, 0, 1, 1, 1, 0, 0, 1, 0,\n",
              "       0, 0, 0, 0, 0, 0, 1, 1, 1, 1, 0, 1, 1, 1, 1, 0, 0, 0, 1, 1, 0, 1,\n",
              "       0, 1, 0, 0, 1, 1, 0, 0, 0, 0, 1, 1, 1, 1, 1, 1, 0, 0, 1, 0, 1, 1,\n",
              "       0, 1, 1, 1, 1, 1, 1, 1, 1, 0, 1, 1, 1, 1, 0, 1, 1, 0, 1, 0, 1, 1,\n",
              "       1, 0, 1, 1, 0, 0, 1, 1, 0, 1, 1, 0, 0, 1, 0, 0, 1, 1, 0, 1, 0, 1,\n",
              "       1, 1, 0, 0, 1, 1, 0, 0, 0, 0, 0, 1, 1, 0, 0, 0, 0, 1, 0, 0, 0, 0,\n",
              "       0, 1, 1, 0, 1, 0, 1, 1, 1, 1, 0, 1, 1, 1, 1, 1, 1, 1, 1, 1, 0, 0,\n",
              "       1, 0, 0, 0, 0, 0, 0, 1, 0, 0, 0, 0, 1, 1, 1, 0, 0, 0, 1, 1, 1, 1,\n",
              "       0, 0, 1, 1, 1, 1, 0, 1, 1, 1, 0, 1, 1, 0, 0, 0, 0, 0, 0, 1, 1, 1,\n",
              "       0, 1, 1, 1, 1, 1, 0, 0, 0, 1, 1, 1, 1, 1, 0, 0, 0, 1, 1, 0, 0, 0,\n",
              "       0, 1, 0, 0, 1, 0, 1, 1, 1, 0, 1, 1, 0, 1, 1, 0, 0, 1, 1, 0, 0, 1,\n",
              "       0, 1, 0, 1, 0, 1, 0, 1, 1, 1, 0, 1, 1, 1, 1, 1, 1, 0, 0, 0, 0, 1,\n",
              "       1, 1, 0, 1, 0, 0, 1, 1, 1, 1, 1, 0, 0, 0, 1, 1, 0, 1, 1, 0, 1, 1,\n",
              "       0, 1, 1, 0, 1, 1, 1, 0, 1, 1, 0, 0, 0, 1, 0, 0, 1, 1, 1, 0, 0, 0,\n",
              "       0, 1, 1, 0, 0, 0, 1, 1, 1, 1, 0, 0, 1, 1, 0, 0, 1, 1, 0, 0, 0, 0,\n",
              "       0, 0, 0, 1, 0, 1, 0, 1, 1, 0, 1, 0, 0, 0, 0, 1, 1, 0, 0, 1, 1, 0,\n",
              "       1, 0, 1, 1, 1, 0, 1, 1, 0, 0, 0, 0, 1, 0, 0, 0, 0, 0, 0, 0, 1, 0,\n",
              "       1, 0, 0, 0, 1, 1, 0, 1, 1, 1, 0, 0, 0, 0, 1, 1, 1, 1, 0, 1, 0, 0,\n",
              "       0, 1, 0, 1, 1, 0, 1, 1, 0, 0, 0, 0, 0, 1, 0, 1, 1, 1, 0, 0, 0, 0,\n",
              "       0, 1, 1, 1, 0, 0, 0, 0, 1, 1, 1, 1, 1, 0, 0, 1, 0, 1, 0, 1, 1, 1,\n",
              "       1, 1, 1, 1, 1, 1, 0, 0, 0, 0, 0, 1, 0, 1, 0, 0, 0, 0, 1, 0, 0, 0,\n",
              "       0, 0, 0, 0, 0, 1, 0, 0, 1, 0, 1, 1, 1, 0, 1, 0, 0, 0, 1, 0, 0, 1,\n",
              "       0, 0, 1, 0, 1, 0, 0, 1, 1, 0, 0, 0, 1, 1, 1, 1, 0, 0, 1, 1, 0, 0,\n",
              "       0, 0, 0, 0, 0, 0, 0, 0, 0, 0, 0, 0, 1, 1, 0, 1, 0, 1, 0, 1, 0, 0,\n",
              "       0, 0, 0, 0, 1, 0, 1, 0, 0, 0, 1, 0, 0, 1, 1, 0, 1, 0, 0, 1, 1, 0,\n",
              "       0, 0, 0, 0, 0, 0, 0, 1, 0, 0, 0, 1, 0, 1, 1, 0, 0, 1, 1, 1, 0, 1,\n",
              "       1, 0, 1, 1, 1, 0, 1, 0, 1, 1, 1, 1, 0, 1, 0, 0, 0, 0, 1, 0, 1, 1,\n",
              "       1, 1, 1, 1, 0, 1, 0, 1, 0, 1, 0, 0, 0, 1, 0, 1, 0, 1, 1, 0, 0, 0,\n",
              "       1, 1, 1, 0, 0, 1, 0, 1, 0, 0, 1, 0, 1, 1, 0, 0, 0, 1, 1, 1, 0, 0,\n",
              "       1, 1, 1, 1, 1, 0, 0, 1, 0, 1, 1, 1, 0, 1, 1, 1, 0, 0, 0, 0, 1, 0,\n",
              "       0, 0, 1, 0, 0, 0, 0, 1, 0, 0, 1, 0, 0, 1, 1, 0, 0, 0, 1, 1, 1, 1,\n",
              "       1, 1, 0, 1, 1, 0, 1, 1, 1, 0, 1, 0, 1, 0, 0, 1, 1, 1, 1, 1, 1, 1,\n",
              "       1, 0, 1, 0, 1, 1, 1, 0, 1, 1])"
            ]
          },
          "metadata": {
            "tags": []
          },
          "execution_count": 64
        }
      ]
    },
    {
      "cell_type": "markdown",
      "metadata": {
        "id": "FAFJprzvM9Et"
      },
      "source": [
        "* Here we only have two clusters, great!\n",
        "* We'll continue with this model."
      ]
    },
    {
      "cell_type": "markdown",
      "metadata": {
        "id": "gba8xJpvT6I0"
      },
      "source": [
        "* Since DBSCAN dont have any predict function, we can train some other clustering with the instances and the labels of DBSCAN. "
      ]
    },
    {
      "cell_type": "code",
      "metadata": {
        "id": "1jdD4om1NMhS"
      },
      "source": [
        "from sklearn.neighbors import KNeighborsClassifier\n",
        "knn = KNeighborsClassifier(n_neighbors=50)"
      ],
      "execution_count": 66,
      "outputs": []
    },
    {
      "cell_type": "markdown",
      "metadata": {
        "id": "5AguIb-vUlAh"
      },
      "source": [
        "* We'll train this model with the core instances and its labels (only the labels of the core instances)"
      ]
    },
    {
      "cell_type": "code",
      "metadata": {
        "colab": {
          "base_uri": "https://localhost:8080/"
        },
        "id": "aJVdDlB0UWQ8",
        "outputId": "417b4327-cf87-4952-a432-915bc917e68f"
      },
      "source": [
        "knn.fit(dbscan_clustering.components_, dbscan_clustering.labels_[dbscan_clustering.core_sample_indices_]) "
      ],
      "execution_count": 67,
      "outputs": [
        {
          "output_type": "execute_result",
          "data": {
            "text/plain": [
              "KNeighborsClassifier(algorithm='auto', leaf_size=30, metric='minkowski',\n",
              "                     metric_params=None, n_jobs=None, n_neighbors=50, p=2,\n",
              "                     weights='uniform')"
            ]
          },
          "metadata": {
            "tags": []
          },
          "execution_count": 67
        }
      ]
    },
    {
      "cell_type": "code",
      "metadata": {
        "id": "2VAP2EDnU1yT"
      },
      "source": [
        "import numpy as np\n"
      ],
      "execution_count": 68,
      "outputs": []
    },
    {
      "cell_type": "code",
      "metadata": {
        "id": "ptgCMbEzUiLs"
      },
      "source": [
        "X_new =  np.array([[-0.5, 0],[0,-0.5],[1,-0.1],[2,1]])"
      ],
      "execution_count": 69,
      "outputs": []
    },
    {
      "cell_type": "code",
      "metadata": {
        "colab": {
          "base_uri": "https://localhost:8080/"
        },
        "id": "jT1GfVYdVIjE",
        "outputId": "7dd0ce0d-0839-4b41-f0cb-b680cb04a161"
      },
      "source": [
        "knn.predict(X_new)"
      ],
      "execution_count": 70,
      "outputs": [
        {
          "output_type": "execute_result",
          "data": {
            "text/plain": [
              "array([1, 0, 1, 0])"
            ]
          },
          "metadata": {
            "tags": []
          },
          "execution_count": 70
        }
      ]
    },
    {
      "cell_type": "code",
      "metadata": {
        "colab": {
          "base_uri": "https://localhost:8080/"
        },
        "id": "gaMiLA0IVMZ8",
        "outputId": "cc08737e-1e81-4fb8-e47e-046981b97254"
      },
      "source": [
        "knn.predict_proba(X_new)"
      ],
      "execution_count": 71,
      "outputs": [
        {
          "output_type": "execute_result",
          "data": {
            "text/plain": [
              "array([[0.18, 0.82],\n",
              "       [1.  , 0.  ],\n",
              "       [0.12, 0.88],\n",
              "       [1.  , 0.  ]])"
            ]
          },
          "metadata": {
            "tags": []
          },
          "execution_count": 71
        }
      ]
    },
    {
      "cell_type": "code",
      "metadata": {
        "id": "10udRcqDV8h7"
      },
      "source": [
        "y_dist, y_pred_idx = knn.kneighbors(X_new,n_neighbors=1 )#Returns [distances, index of the k nearest neighbors(in this case, 1 neighbor)] "
      ],
      "execution_count": 80,
      "outputs": []
    },
    {
      "cell_type": "code",
      "metadata": {
        "colab": {
          "base_uri": "https://localhost:8080/"
        },
        "id": "L_-2O07jXKUL",
        "outputId": "67be8a21-6ac5-426a-b1cf-6601022c3735"
      },
      "source": [
        "y_dist"
      ],
      "execution_count": 87,
      "outputs": [
        {
          "output_type": "execute_result",
          "data": {
            "text/plain": [
              "array([[0.43045422],\n",
              "       [0.2740511 ],\n",
              "       [0.06010476],\n",
              "       [0.48399468]])"
            ]
          },
          "metadata": {
            "tags": []
          },
          "execution_count": 87
        }
      ]
    },
    {
      "cell_type": "code",
      "metadata": {
        "colab": {
          "base_uri": "https://localhost:8080/"
        },
        "id": "TmUKXnOzXNIb",
        "outputId": "cc16da12-e7e9-46f6-f488-9f9c20b7bc5b"
      },
      "source": [
        "y_pred_idx"
      ],
      "execution_count": 88,
      "outputs": [
        {
          "output_type": "execute_result",
          "data": {
            "text/plain": [
              "array([[909],\n",
              "       [587],\n",
              "       [915],\n",
              "       [231]])"
            ]
          },
          "metadata": {
            "tags": []
          },
          "execution_count": 88
        }
      ]
    },
    {
      "cell_type": "code",
      "metadata": {
        "id": "373m1EHCWc0b"
      },
      "source": [
        "y_pred = dbscan_clustering.labels_[dbscan_clustering.core_sample_indices_][y_pred_idx] #why the dbscan_clustering.core_sample_indices_???"
      ],
      "execution_count": 91,
      "outputs": []
    },
    {
      "cell_type": "code",
      "metadata": {
        "colab": {
          "base_uri": "https://localhost:8080/"
        },
        "id": "8pryXuxdXmKM",
        "outputId": "b7f283c9-a16f-4af9-cbd1-200f5edeb39f"
      },
      "source": [
        "y_pred"
      ],
      "execution_count": 92,
      "outputs": [
        {
          "output_type": "execute_result",
          "data": {
            "text/plain": [
              "array([[1],\n",
              "       [0],\n",
              "       [1],\n",
              "       [0]])"
            ]
          },
          "metadata": {
            "tags": []
          },
          "execution_count": 92
        }
      ]
    },
    {
      "cell_type": "code",
      "metadata": {
        "id": "Fy434fbqW9Fj"
      },
      "source": [
        "y_pred[y_dist>0.2] = -1 #Getting anomalies using a distance threshold"
      ],
      "execution_count": 85,
      "outputs": []
    },
    {
      "cell_type": "code",
      "metadata": {
        "colab": {
          "base_uri": "https://localhost:8080/"
        },
        "id": "hufaZarEXHFT",
        "outputId": "1664b680-f11b-4554-b4d6-195a9ab627d1"
      },
      "source": [
        "y_pred"
      ],
      "execution_count": 86,
      "outputs": [
        {
          "output_type": "execute_result",
          "data": {
            "text/plain": [
              "array([[-1],\n",
              "       [-1],\n",
              "       [ 1],\n",
              "       [-1]])"
            ]
          },
          "metadata": {
            "tags": []
          },
          "execution_count": 86
        }
      ]
    }
  ]
}