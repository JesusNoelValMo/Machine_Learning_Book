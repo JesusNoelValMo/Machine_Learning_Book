{
  "nbformat": 4,
  "nbformat_minor": 0,
  "metadata": {
    "colab": {
      "name": "Chapter_3_Exersise_1.ipynb",
      "provenance": [],
      "collapsed_sections": []
    },
    "kernelspec": {
      "name": "python3",
      "display_name": "Python 3"
    },
    "accelerator": "TPU"
  },
  "cells": [
    {
      "cell_type": "code",
      "metadata": {
        "id": "TsgxiWfttouS",
        "colab_type": "code",
        "colab": {}
      },
      "source": [
        "#Exercise 1\n",
        "# Try to build a classifier for the MNIST dataset that achives 97% accuracy \n",
        "# on the test set. Hint: the KNeighborsClassifier works quite well for this task;\n",
        "# you just need to find good hyperparameter values (try a grid search on the\n",
        "# weights and n_neighbors hyperparameters)\n",
        "\n",
        "from sklearn.datasets import fetch_openml\n",
        "\n",
        "mnist_ = fetch_openml(name=\"mnist_784\", version='active')"
      ],
      "execution_count": null,
      "outputs": []
    },
    {
      "cell_type": "code",
      "metadata": {
        "id": "FLxS4tbBvM3C",
        "colab_type": "code",
        "colab": {
          "base_uri": "https://localhost:8080/",
          "height": 283
        },
        "outputId": "f84a3777-81c0-4d7d-d870-3c55ec84fa60"
      },
      "source": [
        "from matplotlib import pyplot as plt\n",
        "features = mnist_[\"data\"]\n",
        "labels = mnist_[\"target\"]\n",
        "idx_of_some_num = 1\n",
        "some_num_to_img = features[idx_of_some_num].reshape([28, 28])\n",
        "some_num = features[idx_of_some_num]\n",
        "plt.imshow(some_num_to_img, cmap=\"Greys\")"
      ],
      "execution_count": null,
      "outputs": [
        {
          "output_type": "execute_result",
          "data": {
            "text/plain": [
              "<matplotlib.image.AxesImage at 0x7fe63aba3c18>"
            ]
          },
          "metadata": {
            "tags": []
          },
          "execution_count": 9
        },
        {
          "output_type": "display_data",
          "data": {
            "image/png": "[encoded data removed]",
            "text/plain": [
              "<Figure size 432x288 with 1 Axes>"
            ]
          },
          "metadata": {
            "tags": [],
            "needs_background": "light"
          }
        }
      ]
    },
    {
      "cell_type": "code",
      "metadata": {
        "id": "aeaFUsVOxYKw",
        "colab_type": "code",
        "colab": {}
      },
      "source": [
        "from sklearn.neighbors import KNeighborsClassifier\n",
        "kn_cfr = KNeighborsClassifier()\n",
        "#Split our data \n",
        "x_train, x_test, y_train, y_test = features[:60000], features[60000:], labels[:60000], labels[60000:]\n",
        "y_train[1]\n",
        "#Convert our labels into integers\n",
        "y_train = y_train.astype(\"int\")\n",
        "y_test = y_test.astype(\"int\")"
      ],
      "execution_count": null,
      "outputs": []
    },
    {
      "cell_type": "code",
      "metadata": {
        "id": "UtOw_NaRye_M",
        "colab_type": "code",
        "colab": {
          "base_uri": "https://localhost:8080/",
          "height": 69
        },
        "outputId": "dcfec01a-0501-4947-8fe8-d47dcf5baf73"
      },
      "source": [
        "#train our model \n",
        "kn_cfr.fit(x_train, y_train)\n"
      ],
      "execution_count": null,
      "outputs": [
        {
          "output_type": "execute_result",
          "data": {
            "text/plain": [
              "KNeighborsClassifier(algorithm='auto', leaf_size=30, metric='minkowski',\n",
              "                     metric_params=None, n_jobs=None, n_neighbors=5, p=2,\n",
              "                     weights='uniform')"
            ]
          },
          "metadata": {
            "tags": []
          },
          "execution_count": 11
        }
      ]
    },
    {
      "cell_type": "code",
      "metadata": {
        "id": "PaOtlTFl0Knh",
        "colab_type": "code",
        "colab": {
          "base_uri": "https://localhost:8080/",
          "height": 52
        },
        "outputId": "2bbc884e-ed94-44fb-f92a-c87930a267e9"
      },
      "source": [
        "import numpy as np\n",
        "\n",
        "#Predict a value\n",
        "print(f\"The prediction for x_train[{idx_of_some_num}] is :{kn_cfr.predict([some_num])}\")\n",
        "print(f\"The actual value is: {y_train[idx_of_some_num]}\")\n"
      ],
      "execution_count": null,
      "outputs": [
        {
          "output_type": "stream",
          "text": [
            "The prediction for x_train[1] is :[0]\n",
            "The actual value is: 0\n"
          ],
          "name": "stdout"
        }
      ]
    },
    {
      "cell_type": "code",
      "metadata": {
        "id": "Cw_5NOWI3DLY",
        "colab_type": "code",
        "colab": {}
      },
      "source": [
        "#Now let's measure the preformance of our KNeighbors classifier\n",
        "#Let's measure it using cross validation accuracy \n",
        "#from sklearn.model_selection import cross_val_score\n",
        "#cross_val_score(kn_cfr, x_train, y_train, cv=3, scoring=\"accuracy\")"
      ],
      "execution_count": null,
      "outputs": []
    },
    {
      "cell_type": "code",
      "metadata": {
        "id": "XJG7Ws5u6TCC",
        "colab_type": "code",
        "colab": {}
      },
      "source": [
        "#let's do a gridSearchCV in order to have the hyperparameters for our model\n",
        "from sklearn.model_selection import GridSearchCV\n",
        "params_grid = {\"weights\": [\"uniform\", \"distance\"], \"n_neighbors\": [3,4,5]} \n",
        "grid_search = GridSearchCV(kn_cfr, params_grid, cv=3, scoring='accuracy', \n",
        "                           return_train_score = True)\n",
        "grid_search.fit(x_train, y_train)\n"
      ],
      "execution_count": null,
      "outputs": []
    },
    {
      "cell_type": "code",
      "metadata": {
        "id": "OzhMo6BZRrvg",
        "colab_type": "code",
        "colab": {}
      },
      "source": [
        "#let's save our model \n",
        "import joblib\n",
        "joblib.dump(grid_search, \"grid_search_for_KNeighbors.pkl\")\n",
        "grid_search.best_params_\n",
        "grid_search.best_score_\n"
      ],
      "execution_count": null,
      "outputs": []
    },
    {
      "cell_type": "code",
      "metadata": {
        "id": "RNhyRiIPR4VA",
        "colab_type": "code",
        "colab": {}
      },
      "source": [
        "#Let's try out our new model \n",
        "from sklearn.metrics import accuracy_score\n",
        "y_pred = grid_search.predict(X_test)\n",
        "accuracy_score(y_test, y_pred)"
      ],
      "execution_count": null,
      "outputs": []
    }
  ]
}