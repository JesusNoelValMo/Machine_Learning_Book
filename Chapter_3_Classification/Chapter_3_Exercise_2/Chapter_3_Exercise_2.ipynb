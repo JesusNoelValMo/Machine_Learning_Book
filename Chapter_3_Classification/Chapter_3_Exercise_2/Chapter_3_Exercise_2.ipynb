{
  "nbformat": 4,
  "nbformat_minor": 0,
  "metadata": {
    "colab": {
      "name": "Chapter_3_Exercise_2.ipynb",
      "provenance": [],
      "collapsed_sections": []
    },
    "kernelspec": {
      "name": "python3",
      "display_name": "Python 3"
    },
    "accelerator": "GPU"
  },
  "cells": [
    {
      "cell_type": "code",
      "metadata": {
        "id": "uanacpsK8-q_",
        "colab_type": "code",
        "colab": {}
      },
      "source": [
        "from sklearn.datasets import fetch_openml\n",
        "data = fetch_openml(name= \"mnist_784\", version = 'active')\n"
      ],
      "execution_count": 1,
      "outputs": []
    },
    {
      "cell_type": "code",
      "metadata": {
        "id": "VUS9rWe-hlwv",
        "colab_type": "code",
        "colab": {}
      },
      "source": [
        "import scipy.ndimage\n",
        "data_features = data[\"data\"]\n",
        "data_labels = data[\"target\"]\n",
        "#split our data\n",
        "data_features_train, data_features_test , data_labels_train, data_labels_test = data_features[:60000], data_features[60000:], data_labels[:60000],  data_labels[60000:]"
      ],
      "execution_count": 2,
      "outputs": []
    },
    {
      "cell_type": "code",
      "metadata": {
        "id": "b7zZNbjRib13",
        "colab_type": "code",
        "colab": {
          "base_uri": "https://localhost:8080/",
          "height": 282
        },
        "outputId": "c9e28008-7bb5-4c45-ad1c-b8d406294b2e"
      },
      "source": [
        "from matplotlib import pyplot as plt\n",
        "some_number = data_features[200]\n",
        "some_number_label = data_labels[200]\n",
        "some_number_img = some_number.reshape(28,28)\n",
        "plt.imshow(some_number_img, cmap='Greys')\n",
        "print(some_number_label)\n"
      ],
      "execution_count": 3,
      "outputs": [
        {
          "output_type": "stream",
          "text": [
            "1\n"
          ],
          "name": "stdout"
        },
        {
          "output_type": "display_data",
          "data": {
            "image/png": "[encoded data removed]",
            "text/plain": [
              "<Figure size 432x288 with 1 Axes>"
            ]
          },
          "metadata": {
            "tags": [],
            "needs_background": "light"
          }
        }
      ]
    },
    {
      "cell_type": "code",
      "metadata": {
        "id": "NRy8Y_jTjb8a",
        "colab_type": "code",
        "colab": {
          "base_uri": "https://localhost:8080/",
          "height": 282
        },
        "outputId": "0b30e1d9-472f-422d-c327-210de5e954a4"
      },
      "source": [
        "from scipy.ndimage.interpolation import shift\n",
        "import numpy as np\n",
        "\n",
        "some_number_imgh_shifted = shift(some_number_img, [-5,5], cval=0)\n",
        "plt.imshow(some_number_imgh_shifted, cmap='Greys')"
      ],
      "execution_count": 4,
      "outputs": [
        {
          "output_type": "execute_result",
          "data": {
            "text/plain": [
              "<matplotlib.image.AxesImage at 0x7f02e375c198>"
            ]
          },
          "metadata": {
            "tags": []
          },
          "execution_count": 4
        },
        {
          "output_type": "display_data",
          "data": {
            "image/png": "[encoded data removed]",
            "text/plain": [
              "<Figure size 432x288 with 1 Axes>"
            ]
          },
          "metadata": {
            "tags": [],
            "needs_background": "light"
          }
        }
      ]
    },
    {
      "cell_type": "code",
      "metadata": {
        "id": "jj9WMds886f9",
        "colab_type": "code",
        "colab": {}
      },
      "source": [
        "\n",
        "#function for shift the image and return the new img\n",
        "def shift_image(number, dx,dy):\n",
        "  \n",
        "  img =  number.reshape(28,28)\n",
        "  img_shifted = shift(img, [dy,dx])\n",
        "  return img_shifted.reshape([-1])"
      ],
      "execution_count": 5,
      "outputs": []
    },
    {
      "cell_type": "code",
      "metadata": {
        "id": "i2iCwe_HkXw7",
        "colab_type": "code",
        "colab": {}
      },
      "source": [
        "\n",
        "#ndarrays must be LISTS in order to use append method\n",
        "extended_data_features_train = [image for image in data_features_train]\n",
        "extended_data_labels_train = [label for label in data_labels_train] \n",
        "iter = 0\n",
        "for dx, dy in ((1,0), (-1,0), (0,1), (0,-1)):\n",
        "  for number, label in zip(extended_data_features_train, extended_data_labels_train):\n",
        "    extended_data_features_train.append(shift_image(number, dx, dy))\n",
        "    extended_data_labels_train.append(label)\n",
        "\n",
        "\n",
        "\n",
        "   "
      ],
      "execution_count": null,
      "outputs": []
    },
    {
      "cell_type": "code",
      "metadata": {
        "id": "dODTN9gLywkh",
        "colab_type": "code",
        "colab": {}
      },
      "source": [
        "#return our list into array\n",
        "extended_data_features_train = np.array(extended_data_features_train)\n",
        "extended_data_labels_train = np.array(extended_data_labels_train)\n",
        "#shuffle our extended train dataset\n",
        "shuffle_idx = np.random.permutation(len(extended_data_features_train)) #use the same shuffled idx fot both arrays\n",
        "extended_data_features_train = extended_data_features_train[shuffle_idx]\n",
        "extended_data_labels_train = extended_data_labels[shuffle_idx]\n"
      ],
      "execution_count": null,
      "outputs": []
    },
    {
      "cell_type": "code",
      "metadata": {
        "id": "XRQHB6Hk0gtP",
        "colab_type": "code",
        "colab": {}
      },
      "source": [
        "from sklearn.neighbors import KNeighborsClassifier\n",
        "kn_classifier = KNeighborsClassifier()\n",
        "kn_classifier.fit(extended_data_features_train, extended_data_labels_train)\n"
      ],
      "execution_count": null,
      "outputs": []
    },
    {
      "cell_type": "code",
      "metadata": {
        "id": "GNK1UUKF3MvH",
        "colab_type": "code",
        "colab": {}
      },
      "source": [
        "from sklearn.metrics import accuracy_score\n",
        "y_predict = kn_classifier.predict(data_features_test)\n",
        "accuracy_score(y_predict, data_labels_test)"
      ],
      "execution_count": null,
      "outputs": []
    }
  ]
}