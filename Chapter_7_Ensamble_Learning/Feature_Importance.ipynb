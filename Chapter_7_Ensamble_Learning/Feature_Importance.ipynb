{
  "nbformat": 4,
  "nbformat_minor": 0,
  "metadata": {
    "colab": {
      "name": "Feature_Importance.ipynb",
      "provenance": [],
      "collapsed_sections": []
    },
    "kernelspec": {
      "name": "python3",
      "display_name": "Python 3"
    }
  },
  "cells": [
    {
      "cell_type": "code",
      "metadata": {
        "id": "DqrnpV9ldbCk"
      },
      "source": [
        "from sklearn.datasets import load_iris\n",
        "iris = load_iris()\n"
      ],
      "execution_count": 3,
      "outputs": []
    },
    {
      "cell_type": "code",
      "metadata": {
        "id": "rsLS-DLUd1pM"
      },
      "source": [
        "from sklearn.ensemble import RandomForestClassifier\n",
        "rand_clf = RandomForestClassifier(n_estimators=500, n_jobs=-1)"
      ],
      "execution_count": 6,
      "outputs": []
    },
    {
      "cell_type": "code",
      "metadata": {
        "id": "w8qdOeJOd-X6",
        "outputId": "c23d6cad-b867-4204-b78c-157d4742767c",
        "colab": {
          "base_uri": "https://localhost:8080/",
          "height": 153
        }
      },
      "source": [
        "rand_clf.fit(iris[\"data\"], iris['target'])"
      ],
      "execution_count": 7,
      "outputs": [
        {
          "output_type": "execute_result",
          "data": {
            "text/plain": [
              "RandomForestClassifier(bootstrap=True, ccp_alpha=0.0, class_weight=None,\n",
              "                       criterion='gini', max_depth=None, max_features='auto',\n",
              "                       max_leaf_nodes=None, max_samples=None,\n",
              "                       min_impurity_decrease=0.0, min_impurity_split=None,\n",
              "                       min_samples_leaf=1, min_samples_split=2,\n",
              "                       min_weight_fraction_leaf=0.0, n_estimators=500,\n",
              "                       n_jobs=-1, oob_score=False, random_state=None, verbose=0,\n",
              "                       warm_start=False)"
            ]
          },
          "metadata": {
            "tags": []
          },
          "execution_count": 7
        }
      ]
    },
    {
      "cell_type": "code",
      "metadata": {
        "id": "XdSVBgsieIOa",
        "outputId": "8dee39c6-65b6-4089-f3a7-2f27b3dbcd14",
        "colab": {
          "base_uri": "https://localhost:8080/",
          "height": 85
        }
      },
      "source": [
        "for name, score in zip(iris[\"feature_names\"], rand_clf.feature_importances_):\n",
        "  print(name, score)"
      ],
      "execution_count": 8,
      "outputs": [
        {
          "output_type": "stream",
          "text": [
            "sepal length (cm) 0.11546995327814288\n",
            "sepal width (cm) 0.02976364287813203\n",
            "petal length (cm) 0.44174151756532865\n",
            "petal width (cm) 0.41302488627839645\n"
          ],
          "name": "stdout"
        }
      ]
    }
  ]
}