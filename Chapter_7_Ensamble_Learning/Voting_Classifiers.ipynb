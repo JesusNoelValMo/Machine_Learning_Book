{
  "nbformat": 4,
  "nbformat_minor": 0,
  "metadata": {
    "colab": {
      "name": "Voting_Classifiers.ipynb",
      "provenance": [],
      "collapsed_sections": []
    },
    "kernelspec": {
      "name": "python3",
      "display_name": "Python 3"
    }
  },
  "cells": [
    {
      "cell_type": "code",
      "metadata": {
        "id": "ZTIooj7OcfuV"
      },
      "source": [
        "from sklearn.ensemble import RandomForestClassifier\n",
        "from sklearn.linear_model import LogisticRegression\n",
        "from sklearn.svm import SVC\n",
        "from sklearn.ensemble import VotingClassifier\n"
      ],
      "execution_count": 154,
      "outputs": []
    },
    {
      "cell_type": "code",
      "metadata": {
        "id": "CXPy9l6NctmR"
      },
      "source": [
        "from sklearn.datasets import make_moons\n",
        "\n"
      ],
      "execution_count": 155,
      "outputs": []
    },
    {
      "cell_type": "code",
      "metadata": {
        "id": "fyVKuA3EdC2A"
      },
      "source": [
        "X, y = make_moons(n_samples= 10000, noise=0.3)"
      ],
      "execution_count": 156,
      "outputs": []
    },
    {
      "cell_type": "code",
      "metadata": {
        "id": "BVGUkOMMeCMY"
      },
      "source": [
        "#Split Data \n",
        "from sklearn.model_selection import train_test_split\n",
        "from sklearn.metrics import accuracy_score\n",
        "x_train, x_test, y_train, y_test = train_test_split(X,y)"
      ],
      "execution_count": 157,
      "outputs": []
    },
    {
      "cell_type": "code",
      "metadata": {
        "id": "N1IYWJqBdLiA"
      },
      "source": [
        "forest_clf = RandomForestClassifier()\n",
        "logistic_reg = LogisticRegression()\n",
        "sv_clf = SVC()\n",
        "\n"
      ],
      "execution_count": 158,
      "outputs": []
    },
    {
      "cell_type": "code",
      "metadata": {
        "id": "Q5xW8tZZdm1I"
      },
      "source": [
        "voting_clf = VotingClassifier(\n",
        "    estimators=[(\"fc\", forest_clf), (\"lr\", logistic_reg), (\"svc\", sv_clf)],\n",
        "    voting=\"hard\"\n",
        ")"
      ],
      "execution_count": 159,
      "outputs": []
    },
    {
      "cell_type": "code",
      "metadata": {
        "id": "QhD5Jj4ves6Q",
        "outputId": "0463d61b-7d72-432d-9118-ca625347fe0d",
        "colab": {
          "base_uri": "https://localhost:8080/",
          "height": 85
        }
      },
      "source": [
        "for clf in (forest_clf, logistic_reg, sv_clf, voting_clf):\n",
        "  clf.fit(x_train, y_train)\n",
        "  y_prediction_tests = clf.predict(x_test)\n",
        "  print(clf.__class__.__name__, accuracy_score(y_test, y_prediction_tests))"
      ],
      "execution_count": 160,
      "outputs": [
        {
          "output_type": "stream",
          "text": [
            "RandomForestClassifier 0.8948\n",
            "LogisticRegression 0.848\n",
            "SVC 0.9076\n",
            "VotingClassifier 0.906\n"
          ],
          "name": "stdout"
        }
      ]
    },
    {
      "cell_type": "code",
      "metadata": {
        "id": "YNLw-FG0hKN5"
      },
      "source": [
        "#Soft voting uses the probability of the prediction \n",
        "#gives more weight to the more confident predictions\n",
        "#To use soft voting all the classifiers must have predict_proba() method \n",
        "sv_clf = SVC(probability= True ) #By default SVC does not have predict_proba\n",
        "                                #if we set probability parameter as True, the classifier will have this method by using cross val to estimate probabilities\n",
        "\n",
        " \n",
        "voting_clf = VotingClassifier(\n",
        "    estimators=[(\"fc\", forest_clf), (\"lr\", logistic_reg), (\"svc\", sv_clf)],\n",
        "    voting=\"soft\"  #Replace \"hard\" by \"soft\" \n",
        ")"
      ],
      "execution_count": 161,
      "outputs": []
    },
    {
      "cell_type": "code",
      "metadata": {
        "id": "0Uz5Pi2YiEdh",
        "outputId": "8ae8dba8-1209-4af9-9ccb-cae007781dc7",
        "colab": {
          "base_uri": "https://localhost:8080/",
          "height": 85
        }
      },
      "source": [
        "for clf in (forest_clf, logistic_reg, sv_clf, voting_clf):\n",
        "  clf.fit(x_train, y_train)+\n",
        "  y_prediction_tests = clf.predict(x_test)\n",
        "  print(clf.__class__.__name__, accuracy_score(y_test, y_prediction_tests))"
      ],
      "execution_count": 162,
      "outputs": [
        {
          "output_type": "stream",
          "text": [
            "RandomForestClassifier 0.8976\n",
            "LogisticRegression 0.848\n",
            "SVC 0.9076\n",
            "VotingClassifier 0.9068\n"
          ],
          "name": "stdout"
        }
      ]
    }
  ]
}