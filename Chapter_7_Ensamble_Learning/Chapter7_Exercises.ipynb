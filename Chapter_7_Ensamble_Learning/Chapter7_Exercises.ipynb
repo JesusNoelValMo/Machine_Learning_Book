{
  "nbformat": 4,
  "nbformat_minor": 0,
  "metadata": {
    "colab": {
      "name": "Chapter7_Exercises.ipynb",
      "provenance": [],
      "collapsed_sections": []
    },
    "kernelspec": {
      "name": "python3",
      "display_name": "Python 3"
    }
  },
  "cells": [
    {
      "cell_type": "markdown",
      "metadata": {
        "id": "uUUlxS9NPwW2"
      },
      "source": [
        "Exercise 8\n"
      ]
    },
    {
      "cell_type": "code",
      "metadata": {
        "id": "EKZBqIjVguE1"
      },
      "source": [
        "from sklearn.datasets import fetch_openml"
      ],
      "execution_count": 1,
      "outputs": []
    },
    {
      "cell_type": "code",
      "metadata": {
        "id": "chXNqRK5xJ8S"
      },
      "source": [
        "data = fetch_openml(name=\"mnist_784\", version = \"active\")\n"
      ],
      "execution_count": 2,
      "outputs": []
    },
    {
      "cell_type": "code",
      "metadata": {
        "id": "nRe1I0y4xdzx"
      },
      "source": [
        "X = data[\"data\"]\n",
        "y = data[\"target\"]"
      ],
      "execution_count": 3,
      "outputs": []
    },
    {
      "cell_type": "code",
      "metadata": {
        "id": "siEXGemjx3A6"
      },
      "source": [
        "#split instances for training and test/val\n",
        "from sklearn.model_selection import train_test_split\n",
        "X_train, X_test_val, y_train, y_test_val = train_test_split(X, y, test_size=20000)"
      ],
      "execution_count": 4,
      "outputs": []
    },
    {
      "cell_type": "code",
      "metadata": {
        "id": "M2wYy0feyvNq"
      },
      "source": [
        "#Split instances for test and validation sets\n",
        "X_test, X_val, y_test, y_val = train_test_split(X_test_val, y_test_val, test_size = 10000)"
      ],
      "execution_count": 5,
      "outputs": []
    },
    {
      "cell_type": "code",
      "metadata": {
        "id": "2-MxmqbQzTHh"
      },
      "source": [
        "from sklearn.linear_model import LogisticRegression\n",
        "from sklearn.ensemble import RandomForestClassifier\n",
        "from sklearn.ensemble import ExtraTreesClassifier\n",
        "from sklearn.svm import SVC\n"
      ],
      "execution_count": 6,
      "outputs": []
    },
    {
      "cell_type": "code",
      "metadata": {
        "id": "dx00Kx3R1WsZ"
      },
      "source": [
        "#Create our models\n",
        "Logistic_clf = LogisticRegression()\n",
        "forest_clf = RandomForestClassifier(n_estimators=150, max_depth=5, min_samples_split=100)\n",
        "Extra_tree = ExtraTreesClassifier(n_estimators=150, max_depth=5, min_samples_split=100)\n",
        "svc = SVC(probability=True)\n"
      ],
      "execution_count": 7,
      "outputs": []
    },
    {
      "cell_type": "code",
      "metadata": {
        "id": "EykOJzHW2EKh",
        "outputId": "433fd634-98ec-476a-a3a6-56d0cd786735",
        "colab": {
          "base_uri": "https://localhost:8080/",
          "height": 153
        }
      },
      "source": [
        "#Logistic_clf.fit(X_train,y_train)\n",
        "forest_clf.fit(X_train,y_train)\n",
        "Extra_tree.fit(X_train,y_train)\n"
      ],
      "execution_count": 8,
      "outputs": [
        {
          "output_type": "execute_result",
          "data": {
            "text/plain": [
              "ExtraTreesClassifier(bootstrap=False, ccp_alpha=0.0, class_weight=None,\n",
              "                     criterion='gini', max_depth=5, max_features='auto',\n",
              "                     max_leaf_nodes=None, max_samples=None,\n",
              "                     min_impurity_decrease=0.0, min_impurity_split=None,\n",
              "                     min_samples_leaf=1, min_samples_split=100,\n",
              "                     min_weight_fraction_leaf=0.0, n_estimators=150,\n",
              "                     n_jobs=None, oob_score=False, random_state=None, verbose=0,\n",
              "                     warm_start=False)"
            ]
          },
          "metadata": {
            "tags": []
          },
          "execution_count": 8
        }
      ]
    },
    {
      "cell_type": "code",
      "metadata": {
        "id": "KF5KO9iV7mR_"
      },
      "source": [
        "svc.fit(X_train,y_train)"
      ],
      "execution_count": null,
      "outputs": []
    },
    {
      "cell_type": "code",
      "metadata": {
        "id": "RPXw6aRJ3Urg"
      },
      "source": [
        "forest_predictions = forest_clf.predict(X_val)\n",
        "Extra_tree_predictions = Extra_tree.predict(X_val)\n",
        "svc_predictions = svc.predict(X_val)"
      ],
      "execution_count": null,
      "outputs": []
    },
    {
      "cell_type": "code",
      "metadata": {
        "id": "N0rQa5NS3bsQ"
      },
      "source": [
        "from sklearn.metrics import accuracy_score\n",
        "print(f\"Accuracy for forest: {accuracy_score(y_val,forest_predictions)}\")\n",
        "print(f\"Accuracy for Extra-trees: {accuracy_score(y_val,Extra_tree_predictions)}\")\n",
        "print(f\"Accuracy for svc: {accuracy_score(y_val,svc_predictions)}\")"
      ],
      "execution_count": null,
      "outputs": []
    },
    {
      "cell_type": "code",
      "metadata": {
        "id": "ex8Bm4-W23bA"
      },
      "source": [
        "from sklearn.ensemble import VotingClassifier\n",
        "voting_clf = VotingClassifier(estimators=[(\"forest\", forest_clf), (\"Extra-trees\",Extra_tree),(\"SVC\" ,svc)],\n",
        "                              voting='hard'\n",
        "                              )"
      ],
      "execution_count": null,
      "outputs": []
    },
    {
      "cell_type": "code",
      "metadata": {
        "id": "ztvPJFV24hpY"
      },
      "source": [
        "voting_clf.fit(X_train,y_train)"
      ],
      "execution_count": null,
      "outputs": []
    },
    {
      "cell_type": "code",
      "metadata": {
        "id": "ezaTwczn51H_"
      },
      "source": [
        "voting_predictions = voting_clf.predict(X_val)\n"
      ],
      "execution_count": null,
      "outputs": []
    },
    {
      "cell_type": "code",
      "metadata": {
        "id": "8l2IFSznitme"
      },
      "source": [
        "voting_clf.score(X_val, y_val)"
      ],
      "execution_count": null,
      "outputs": []
    },
    {
      "cell_type": "code",
      "metadata": {
        "id": "bD5Rna-w59A_"
      },
      "source": [
        "print(f\"Accuracy for hard voting: {accuracy_score(y_val,voting_predictions)}\")"
      ],
      "execution_count": null,
      "outputs": []
    },
    {
      "cell_type": "code",
      "metadata": {
        "id": "VLjID14MkCRd"
      },
      "source": [
        "#Try to change to soft voting\n",
        "voting_clf.voting = \"soft\"\n",
        "voting_clf.score(X_val, y_val)"
      ],
      "execution_count": null,
      "outputs": []
    },
    {
      "cell_type": "markdown",
      "metadata": {
        "id": "KPtRJXGpPzWN"
      },
      "source": [
        "# **Exercise 9**\n",
        "## * Let's Create a Blender!\n"
      ]
    },
    {
      "cell_type": "code",
      "metadata": {
        "id": "crihNK6XUL58"
      },
      "source": [
        "# Let's save our trained models\n",
        "def model_saver_and_downloader(model, name)\n",
        "  joblib.dump(model, f\"{name}.pkl\")\n",
        "  files.download(f\"{name}.pkl\")"
      ],
      "execution_count": null,
      "outputs": []
    },
    {
      "cell_type": "code",
      "metadata": {
        "id": "GHhf90-AQ_kc"
      },
      "source": [
        "\n",
        "model_saver_and_downloader(forest_clf, \"forest_clf\")\n",
        "model_saver_and_downloader(Extra_tree, \"Extra_tree\")\n",
        "model_saver_and_downloader(svc, \"svc\")\n",
        "model_saver_and_downloader(voting_clf, \"voting_clf\")\n",
        "\n",
        "#Calling the model and using it\n",
        "#model_saved = joblib.load(\"model_name\") this calls our trained model\n",
        "\n",
        "\n",
        "#Let's Create a Blender!\n",
        "logistic_clf_blender = LogisticRegression()\n",
        "\n",
        "#Create a new training set with the validation prediction of all the predictors\n",
        "first_layer_predictions_training_set =  pd.DataFrame()\n",
        "first_layer_predictions_training_set['forest_predictions'] = forest_predictions\n",
        "first_layer_predictions_training_set['Extra_trees_predictions'] = Extra_tree_predictions\n",
        "first_layer_predictions_training_set['SVC_predictions'] = svc_predictions\n",
        "first_layer_predictions_training_set['labels'] = y_val\n",
        "\n",
        "#Split the new dataset into X and y\n",
        "X_blender = first_layer_predictions_training_set[:][:2]\n",
        "y_blender = first_layer_predictions_training_set['labels']\n",
        "#Train this blender with the new data\n",
        "logistic_clf_blender.fit(X_blender, y_blender)\n",
        "\n",
        "#Test the blender with the test_set\n",
        "blender_predictions = logistic_clf_blender.predict(X_test)\n",
        "\n",
        "\n",
        "#Check accuracy\n",
        "accuracy_score(y_test, blender_predictions)"
      ],
      "execution_count": null,
      "outputs": []
    }
  ]
}