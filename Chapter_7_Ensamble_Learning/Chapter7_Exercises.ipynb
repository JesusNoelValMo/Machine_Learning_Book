{
  "nbformat": 4,
  "nbformat_minor": 0,
  "metadata": {
    "colab": {
      "name": "Chapter7_Exercises.ipynb",
      "provenance": [],
      "collapsed_sections": []
    },
    "kernelspec": {
      "name": "python3",
      "display_name": "Python 3"
    }
  },
  "cells": [
    {
      "cell_type": "markdown",
      "metadata": {
        "id": "uUUlxS9NPwW2"
      },
      "source": [
        "Exercise 8\n"
      ]
    },
    {
      "cell_type": "code",
      "metadata": {
        "id": "EKZBqIjVguE1"
      },
      "source": [
        "from sklearn.datasets import fetch_openml"
      ],
      "execution_count": 1,
      "outputs": []
    },
    {
      "cell_type": "code",
      "metadata": {
        "id": "chXNqRK5xJ8S"
      },
      "source": [
        "data = fetch_openml(name=\"mnist_784\", version = \"active\")\n"
      ],
      "execution_count": 2,
      "outputs": []
    },
    {
      "cell_type": "code",
      "metadata": {
        "id": "nRe1I0y4xdzx"
      },
      "source": [
        "X = data[\"data\"]\n",
        "y = data[\"target\"]"
      ],
      "execution_count": 3,
      "outputs": []
    },
    {
      "cell_type": "code",
      "metadata": {
        "id": "siEXGemjx3A6"
      },
      "source": [
        "#split instances for training and test/val\n",
        "from sklearn.model_selection import train_test_split\n",
        "X_train, X_test_val, y_train, y_test_val = train_test_split(X, y, test_size=20000)"
      ],
      "execution_count": 4,
      "outputs": []
    },
    {
      "cell_type": "code",
      "metadata": {
        "id": "M2wYy0feyvNq"
      },
      "source": [
        "#Split instances for test and validation sets\n",
        "X_test, X_val, y_test, y_val = train_test_split(X_test_val, y_test_val, test_size = 10000)"
      ],
      "execution_count": 5,
      "outputs": []
    },
    {
      "cell_type": "code",
      "metadata": {
        "id": "2-MxmqbQzTHh"
      },
      "source": [
        "from sklearn.linear_model import LogisticRegression\n",
        "from sklearn.ensemble import RandomForestClassifier\n",
        "from sklearn.ensemble import ExtraTreesClassifier\n",
        "from sklearn.svm import SVC\n",
        "from sklearn.svm import LinearSVC\n"
      ],
      "execution_count": 6,
      "outputs": []
    },
    {
      "cell_type": "code",
      "metadata": {
        "id": "dx00Kx3R1WsZ"
      },
      "source": [
        "#Create our models\n",
        "Logistic_clf = LogisticRegression()\n",
        "forest_clf = RandomForestClassifier(n_estimators=150, max_depth=5, min_samples_split=100)\n",
        "Extra_tree = ExtraTreesClassifier(n_estimators=150, max_depth=5, min_samples_split=100)\n",
        "svc = SVC(probability=True)\n",
        "linear_svc = LinearSVC()\n"
      ],
      "execution_count": null,
      "outputs": []
    },
    {
      "cell_type": "code",
      "metadata": {
        "id": "EykOJzHW2EKh",
        "outputId": "a9e32560-5734-42a2-9945-40408e54adcf",
        "colab": {
          "base_uri": "https://localhost:8080/",
          "height": 85
        }
      },
      "source": [
        "#Logistic_clf.fit(X_train,y_train)\n",
        "forest_clf.fit(X_train,y_train)\n",
        "Extra_tree.fit(X_train,y_train)\n",
        "svc.fit(X_train,y_train)\n",
        "#linear_svc.fit(X_train,y_train)"
      ],
      "execution_count": null,
      "outputs": [
        {
          "output_type": "execute_result",
          "data": {
            "text/plain": [
              "SVC(C=1.0, break_ties=False, cache_size=200, class_weight=None, coef0=0.0,\n",
              "    decision_function_shape='ovr', degree=3, gamma='scale', kernel='rbf',\n",
              "    max_iter=-1, probability=True, random_state=None, shrinking=True, tol=0.001,\n",
              "    verbose=False)"
            ]
          },
          "metadata": {
            "tags": []
          },
          "execution_count": 80
        }
      ]
    },
    {
      "cell_type": "code",
      "metadata": {
        "id": "RPXw6aRJ3Urg"
      },
      "source": [
        "forest_predictions = forest_clf.predict(X_val)\n",
        "Extra_tree_predictions = Extra_tree.predict(X_val)\n",
        "svc_predictions = svc.predict(X_val)"
      ],
      "execution_count": null,
      "outputs": []
    },
    {
      "cell_type": "code",
      "metadata": {
        "id": "N0rQa5NS3bsQ",
        "outputId": "b9420016-6144-4c17-db2e-f3b9acce2c10",
        "colab": {
          "base_uri": "https://localhost:8080/",
          "height": 68
        }
      },
      "source": [
        "from sklearn.metrics import accuracy_score\n",
        "print(f\"Accuracy for forest: {accuracy_score(y_val,forest_predictions)}\")\n",
        "print(f\"Accuracy for Extra-trees: {accuracy_score(y_val,Extra_tree_predictions)}\")\n",
        "print(f\"Accuracy for svc: {accuracy_score(y_val,svc_predictions)}\")"
      ],
      "execution_count": null,
      "outputs": [
        {
          "output_type": "stream",
          "text": [
            "Accuracy for forest: 0.8575\n",
            "Accuracy for Extra-trees: 0.8465\n",
            "Accuracy for svc: 0.9784\n"
          ],
          "name": "stdout"
        }
      ]
    },
    {
      "cell_type": "code",
      "metadata": {
        "id": "ex8Bm4-W23bA"
      },
      "source": [
        "from sklearn.ensemble import VotingClassifier\n",
        "voting_clf = VotingClassifier(estimators=[(\"forest\", forest_clf), (\"Extra-trees\",Extra_tree),(\"SVC\" ,svc)],\n",
        "                              voting='hard'\n",
        "                              )"
      ],
      "execution_count": null,
      "outputs": []
    },
    {
      "cell_type": "code",
      "metadata": {
        "id": "ztvPJFV24hpY",
        "outputId": "b381f593-7e06-4232-ec96-a9cd69109f2b",
        "colab": {
          "base_uri": "https://localhost:8080/",
          "height": 510
        }
      },
      "source": [
        "voting_clf.fit(X_train,y_train)"
      ],
      "execution_count": null,
      "outputs": [
        {
          "output_type": "execute_result",
          "data": {
            "text/plain": [
              "VotingClassifier(estimators=[('forest',\n",
              "                              RandomForestClassifier(bootstrap=True,\n",
              "                                                     ccp_alpha=0.0,\n",
              "                                                     class_weight=None,\n",
              "                                                     criterion='gini',\n",
              "                                                     max_depth=5,\n",
              "                                                     max_features='auto',\n",
              "                                                     max_leaf_nodes=None,\n",
              "                                                     max_samples=None,\n",
              "                                                     min_impurity_decrease=0.0,\n",
              "                                                     min_impurity_split=None,\n",
              "                                                     min_samples_leaf=1,\n",
              "                                                     min_samples_split=100,\n",
              "                                                     min_weight_fraction_leaf=0.0,\n",
              "                                                     n_estimators=150,\n",
              "                                                     n_jobs=None,\n",
              "                                                     oob_sc...\n",
              "                                                   n_jobs=None, oob_score=False,\n",
              "                                                   random_state=None, verbose=0,\n",
              "                                                   warm_start=False)),\n",
              "                             ('SVC',\n",
              "                              SVC(C=1.0, break_ties=False, cache_size=200,\n",
              "                                  class_weight=None, coef0=0.0,\n",
              "                                  decision_function_shape='ovr', degree=3,\n",
              "                                  gamma='scale', kernel='rbf', max_iter=-1,\n",
              "                                  probability=True, random_state=None,\n",
              "                                  shrinking=True, tol=0.001, verbose=False))],\n",
              "                 flatten_transform=True, n_jobs=None, voting='hard',\n",
              "                 weights=None)"
            ]
          },
          "metadata": {
            "tags": []
          },
          "execution_count": 84
        }
      ]
    },
    {
      "cell_type": "code",
      "metadata": {
        "id": "ezaTwczn51H_"
      },
      "source": [
        "voting_predictions = voting_clf.predict(X_val)\n"
      ],
      "execution_count": null,
      "outputs": []
    },
    {
      "cell_type": "code",
      "metadata": {
        "id": "8l2IFSznitme",
        "outputId": "a560e284-dae3-488c-fd1c-4a89f9f38554",
        "colab": {
          "base_uri": "https://localhost:8080/",
          "height": 34
        }
      },
      "source": [
        "voting_clf.score(X_val, y_val)"
      ],
      "execution_count": null,
      "outputs": [
        {
          "output_type": "execute_result",
          "data": {
            "text/plain": [
              "0.8891"
            ]
          },
          "metadata": {
            "tags": []
          },
          "execution_count": 86
        }
      ]
    },
    {
      "cell_type": "code",
      "metadata": {
        "id": "bD5Rna-w59A_",
        "outputId": "14e1ff85-6fd2-4347-b43c-1defdd7a9424",
        "colab": {
          "base_uri": "https://localhost:8080/",
          "height": 34
        }
      },
      "source": [
        "print(f\"Accuracy for hard voting: {accuracy_score(y_val,voting_predictions)}\")"
      ],
      "execution_count": null,
      "outputs": [
        {
          "output_type": "stream",
          "text": [
            "Accuracy for hard voting: 0.8891\n"
          ],
          "name": "stdout"
        }
      ]
    },
    {
      "cell_type": "code",
      "metadata": {
        "id": "VLjID14MkCRd",
        "outputId": "270f5435-94ed-46da-90c6-9b21401d4c18",
        "colab": {
          "base_uri": "https://localhost:8080/",
          "height": 34
        }
      },
      "source": [
        "#Try to change to soft voting\n",
        "voting_clf.voting = \"soft\"\n",
        "voting_clf.score(X_val, y_val)"
      ],
      "execution_count": null,
      "outputs": [
        {
          "output_type": "execute_result",
          "data": {
            "text/plain": [
              "0.9745"
            ]
          },
          "metadata": {
            "tags": []
          },
          "execution_count": 88
        }
      ]
    },
    {
      "cell_type": "markdown",
      "metadata": {
        "id": "KPtRJXGpPzWN"
      },
      "source": [
        "# **Exercise 9**\n",
        "## * Let's Create a Blender!\n"
      ]
    },
    {
      "cell_type": "code",
      "metadata": {
        "id": "crihNK6XUL58",
        "outputId": "35e3a129-5306-4262-c687-1fff4fbe6c7c",
        "colab": {
          "base_uri": "https://localhost:8080/",
          "height": 34
        }
      },
      "source": [
        "# Let's save our trained models\n",
        "\n",
        "import joblib\n",
        "from google.colab import files\n",
        "def model_saver_and_downloader(model, name):\n",
        "  joblib.dump(model, f\"{name}.pkl\")\n",
        "  files.download(f\"{name}.pkl\")\n",
        "\n",
        "from google.colab import drive\n",
        "drive.mount('/content/gdrive')"
      ],
      "execution_count": 7,
      "outputs": [
        {
          "output_type": "stream",
          "text": [
            "Drive already mounted at /content/gdrive; to attempt to forcibly remount, call drive.mount(\"/content/gdrive\", force_remount=True).\n"
          ],
          "name": "stdout"
        }
      ]
    },
    {
      "cell_type": "code",
      "metadata": {
        "id": "f5_gvVfZ6sMj"
      },
      "source": [
        "#model_saver_and_downloader(forest_clf, \"forest_clf\")\n",
        "#model_saver_and_downloader(Extra_tree, \"Extra_tree\")\n",
        "#model_saver_and_downloader(svc, \"svc\")\n",
        "#model_saver_and_downloader(voting_clf, \"voting_clf\")\n",
        "\n",
        "#Calling the models and using them\n",
        "forest_clf_saved = joblib.load('/content/gdrive/My Drive/forest_clf.pkl') #this calls our trained model\n",
        "Extra_tree_saved = joblib.load(\"/content/gdrive/My Drive/Extra_tree.pkl\")\n",
        "#svc_saved = joblib.load(\"/content/gdrive/My Drive/svc.pkl\")\n",
        "voting_clf_saved = joblib.load(\"/content/gdrive/My Drive/voting_clf.pkl\")\n",
        "forest_predictions = forest_clf_saved.predict(X_val)\n",
        "Extra_tree_predictions = Extra_tree_saved.predict(X_val)"
      ],
      "execution_count": 8,
      "outputs": []
    },
    {
      "cell_type": "code",
      "metadata": {
        "id": "GHhf90-AQ_kc"
      },
      "source": [
        "#Let's Create a Blender!\n",
        "forest_clf_blender = RandomForestClassifier()\n",
        "import pandas as pd\n",
        "\n",
        "\n"
      ],
      "execution_count": 9,
      "outputs": []
    },
    {
      "cell_type": "code",
      "metadata": {
        "id": "NK417UMWEMa_"
      },
      "source": [
        "\n",
        "#Create a new training set with the validation prediction of all the predictors\n",
        "first_layer_predictions_training_set =  pd.DataFrame()\n",
        "first_layer_predictions_training_set['forest_predictions'] = forest_clf_saved.predict(X_val)\n",
        "first_layer_predictions_training_set['Extra_trees_predictions'] = Extra_tree_saved.predict(X_val)\n",
        "#first_layer_predictions_training_set['SVC_predictions'] = linear_svc_predictions\n",
        "first_layer_predictions_training_set['labels'] = y_val\n"
      ],
      "execution_count": 10,
      "outputs": []
    },
    {
      "cell_type": "code",
      "metadata": {
        "id": "6viPmzZYA1TV",
        "outputId": "c86a3bea-da9e-412a-c7a9-d1cdfccfab00",
        "colab": {
          "base_uri": "https://localhost:8080/",
          "height": 419
        }
      },
      "source": [
        "first_layer_predictions_training_set"
      ],
      "execution_count": 11,
      "outputs": [
        {
          "output_type": "execute_result",
          "data": {
            "text/html": [
              "<div>\n",
              "<style scoped>\n",
              "    .dataframe tbody tr th:only-of-type {\n",
              "        vertical-align: middle;\n",
              "    }\n",
              "\n",
              "    .dataframe tbody tr th {\n",
              "        vertical-align: top;\n",
              "    }\n",
              "\n",
              "    .dataframe thead th {\n",
              "        text-align: right;\n",
              "    }\n",
              "</style>\n",
              "<table border=\"1\" class=\"dataframe\">\n",
              "  <thead>\n",
              "    <tr style=\"text-align: right;\">\n",
              "      <th></th>\n",
              "      <th>forest_predictions</th>\n",
              "      <th>Extra_trees_predictions</th>\n",
              "      <th>labels</th>\n",
              "    </tr>\n",
              "  </thead>\n",
              "  <tbody>\n",
              "    <tr>\n",
              "      <th>0</th>\n",
              "      <td>5</td>\n",
              "      <td>8</td>\n",
              "      <td>6</td>\n",
              "    </tr>\n",
              "    <tr>\n",
              "      <th>1</th>\n",
              "      <td>4</td>\n",
              "      <td>4</td>\n",
              "      <td>4</td>\n",
              "    </tr>\n",
              "    <tr>\n",
              "      <th>2</th>\n",
              "      <td>5</td>\n",
              "      <td>5</td>\n",
              "      <td>5</td>\n",
              "    </tr>\n",
              "    <tr>\n",
              "      <th>3</th>\n",
              "      <td>0</td>\n",
              "      <td>0</td>\n",
              "      <td>0</td>\n",
              "    </tr>\n",
              "    <tr>\n",
              "      <th>4</th>\n",
              "      <td>4</td>\n",
              "      <td>4</td>\n",
              "      <td>4</td>\n",
              "    </tr>\n",
              "    <tr>\n",
              "      <th>...</th>\n",
              "      <td>...</td>\n",
              "      <td>...</td>\n",
              "      <td>...</td>\n",
              "    </tr>\n",
              "    <tr>\n",
              "      <th>9995</th>\n",
              "      <td>0</td>\n",
              "      <td>0</td>\n",
              "      <td>6</td>\n",
              "    </tr>\n",
              "    <tr>\n",
              "      <th>9996</th>\n",
              "      <td>8</td>\n",
              "      <td>2</td>\n",
              "      <td>2</td>\n",
              "    </tr>\n",
              "    <tr>\n",
              "      <th>9997</th>\n",
              "      <td>3</td>\n",
              "      <td>3</td>\n",
              "      <td>3</td>\n",
              "    </tr>\n",
              "    <tr>\n",
              "      <th>9998</th>\n",
              "      <td>3</td>\n",
              "      <td>3</td>\n",
              "      <td>3</td>\n",
              "    </tr>\n",
              "    <tr>\n",
              "      <th>9999</th>\n",
              "      <td>8</td>\n",
              "      <td>8</td>\n",
              "      <td>0</td>\n",
              "    </tr>\n",
              "  </tbody>\n",
              "</table>\n",
              "<p>10000 rows × 3 columns</p>\n",
              "</div>"
            ],
            "text/plain": [
              "     forest_predictions Extra_trees_predictions labels\n",
              "0                     5                       8      6\n",
              "1                     4                       4      4\n",
              "2                     5                       5      5\n",
              "3                     0                       0      0\n",
              "4                     4                       4      4\n",
              "...                 ...                     ...    ...\n",
              "9995                  0                       0      6\n",
              "9996                  8                       2      2\n",
              "9997                  3                       3      3\n",
              "9998                  3                       3      3\n",
              "9999                  8                       8      0\n",
              "\n",
              "[10000 rows x 3 columns]"
            ]
          },
          "metadata": {
            "tags": []
          },
          "execution_count": 11
        }
      ]
    },
    {
      "cell_type": "code",
      "metadata": {
        "id": "GyhdKDUKZFIq",
        "outputId": "e6a92756-2bcb-460e-85a7-49d31492cefb",
        "colab": {
          "base_uri": "https://localhost:8080/",
          "height": 153
        }
      },
      "source": [
        "#Split the new dataset into X and y\n",
        "X_blender = first_layer_predictions_training_set.to_numpy()[:, :2]\n",
        "y_blender = first_layer_predictions_training_set['labels']\n",
        "forest_clf_blender.fit(X_blender,y_blender)\n"
      ],
      "execution_count": 12,
      "outputs": [
        {
          "output_type": "execute_result",
          "data": {
            "text/plain": [
              "RandomForestClassifier(bootstrap=True, ccp_alpha=0.0, class_weight=None,\n",
              "                       criterion='gini', max_depth=None, max_features='auto',\n",
              "                       max_leaf_nodes=None, max_samples=None,\n",
              "                       min_impurity_decrease=0.0, min_impurity_split=None,\n",
              "                       min_samples_leaf=1, min_samples_split=2,\n",
              "                       min_weight_fraction_leaf=0.0, n_estimators=100,\n",
              "                       n_jobs=None, oob_score=False, random_state=None,\n",
              "                       verbose=0, warm_start=False)"
            ]
          },
          "metadata": {
            "tags": []
          },
          "execution_count": 12
        }
      ]
    },
    {
      "cell_type": "code",
      "metadata": {
        "id": "9SogOubQan2B",
        "outputId": "59ba3a7d-7f5e-4202-d0d8-f5f80f0d579a",
        "colab": {
          "base_uri": "https://localhost:8080/",
          "height": 68
        }
      },
      "source": [
        "#Test the blender with the test_set\n",
        "#create predictions for the test test and create a new test set for predictions \n",
        "from sklearn.metrics import accuracy_score\n",
        "#Create the input to the blender\n",
        "blender_test_set  =  pd.DataFrame()\n",
        "blender_test_set['forest_predictions'] = forest_clf_saved.predict(X_test)\n",
        "blender_test_set['Extra_trees_predictions'] = Extra_tree_saved.predict(X_test)\n",
        "#blender_test_set['SVC_predictions'] = svc_test_predictions\n",
        "\n",
        "\n",
        "blender_predictions = forest_clf_blender.predict(blender_test_set)\n",
        "\n",
        "\n",
        "#Check accuracy\n",
        "\n",
        "print(f\"Accuracy for forest: {accuracy_score(y_val,forest_predictions)}\")\n",
        "print(f\"Accuracy for Extra-trees: {accuracy_score(y_val,Extra_tree_predictions)}\")\n",
        "print(f\"Accuracy for blender: {accuracy_score(y_test, blender_predictions)}\")"
      ],
      "execution_count": 13,
      "outputs": [
        {
          "output_type": "stream",
          "text": [
            "Accuracy for forest: 0.8623\n",
            "Accuracy for Extra-trees: 0.8504\n",
            "Accuracy for blender: 0.8698\n"
          ],
          "name": "stdout"
        }
      ]
    }
  ]
}