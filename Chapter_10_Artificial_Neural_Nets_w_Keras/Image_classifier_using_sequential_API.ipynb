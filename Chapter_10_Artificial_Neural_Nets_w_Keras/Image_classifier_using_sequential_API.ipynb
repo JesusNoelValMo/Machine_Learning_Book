{
  "nbformat": 4,
  "nbformat_minor": 0,
  "metadata": {
    "colab": {
      "name": "Image_classifier_using_sequential_API.ipynb",
      "provenance": [],
      "collapsed_sections": []
    },
    "kernelspec": {
      "name": "python3",
      "display_name": "Python 3"
    }
  },
  "cells": [
    {
      "cell_type": "code",
      "metadata": {
        "colab": {
          "base_uri": "https://localhost:8080/"
        },
        "id": "dtlIfGm9wFBi",
        "outputId": "61895673-be83-4389-9853-d5fb680d8e28"
      },
      "source": [
        "import tensorflow as tf\r\n",
        "from tensorflow import keras\r\n",
        "import matplotlib as mpl\r\n",
        "import matplotlib.pyplot as plt\r\n",
        "print(tf.__version__, keras.__version__)\r\n",
        "#Load Fashion MNIST\r\n",
        "fasion_mnist = keras.datasets.fashion_mnist"
      ],
      "execution_count": 9,
      "outputs": [
        {
          "output_type": "stream",
          "text": [
            "2.4.1 2.4.0\n"
          ],
          "name": "stdout"
        }
      ]
    },
    {
      "cell_type": "code",
      "metadata": {
        "id": "lWcDm2MGxK4e"
      },
      "source": [
        "(X_train_full, y_train_full), (X_test, y_test) = fasion_mnist.load_data()\r\n",
        "class_names = [\"T-shirt/top\", \"Trouser\", \"Pillover\", \"Dress\", \"Coat\", \"Sandal\", \"Shirt\", \"Sneaker\", \"Bag\",\"Ankle Boot\" ]"
      ],
      "execution_count": 17,
      "outputs": []
    },
    {
      "cell_type": "code",
      "metadata": {
        "colab": {
          "base_uri": "https://localhost:8080/",
          "height": 282
        },
        "id": "U4P4pMOsyJMJ",
        "outputId": "8e6c2940-4025-4273-8602-910b9b2e50b4"
      },
      "source": [
        "plt.imshow(X_train_full[0],cmap='binary')\r\n",
        "#plt.title(class_names[y_train_full[0]])\r\n",
        "y_train_full[0]"
      ],
      "execution_count": 22,
      "outputs": [
        {
          "output_type": "execute_result",
          "data": {
            "text/plain": [
              "9"
            ]
          },
          "metadata": {
            "tags": []
          },
          "execution_count": 22
        },
        {
          "output_type": "display_data",
          "data": {
            "image/png": "[encoded data removed]",
            "text/plain": [
              "<Figure size 432x288 with 1 Axes>"
            ]
          },
          "metadata": {
            "tags": [],
            "needs_background": "light"
          }
        }
      ]
    },
    {
      "cell_type": "code",
      "metadata": {
        "colab": {
          "base_uri": "https://localhost:8080/"
        },
        "id": "BtyZG7T2xn5A",
        "outputId": "1ea7c53f-16bf-4fb8-853e-cf6fcf7ed5cd"
      },
      "source": [
        ""
      ],
      "execution_count": 8,
      "outputs": [
        {
          "output_type": "execute_result",
          "data": {
            "text/plain": [
              "(60000, 28, 28)"
            ]
          },
          "metadata": {
            "tags": []
          },
          "execution_count": 8
        }
      ]
    }
  ]
}