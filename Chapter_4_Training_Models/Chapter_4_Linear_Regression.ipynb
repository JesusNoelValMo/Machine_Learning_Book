{
  "nbformat": 4,
  "nbformat_minor": 0,
  "metadata": {
    "colab": {
      "name": "Chapter_4_Linear_Regression.ipynb",
      "provenance": [],
      "collapsed_sections": []
    },
    "kernelspec": {
      "name": "python3",
      "display_name": "Python 3"
    }
  },
  "cells": [
    {
      "cell_type": "code",
      "metadata": {
        "id": "-kdxjsQH0hTV",
        "colab_type": "code",
        "colab": {}
      },
      "source": [
        "import numpy as np\n",
        "X = 2 * np.random.rand(100, 1) #All of our instances (one feature )\n",
        "y = 4 + 3 * X + np.random.rand(100,1) #our labels\n"
      ],
      "execution_count": 1,
      "outputs": []
    },
    {
      "cell_type": "code",
      "metadata": {
        "id": "LUkrAL-I6iIO",
        "colab_type": "code",
        "colab": {
          "base_uri": "https://localhost:8080/",
          "height": 265
        },
        "outputId": "db2abd4d-b885-4aac-f8a8-acb62fbd280c"
      },
      "source": [
        "from matplotlib import pyplot as plt\n",
        "plt.plot(X, y, \"b.\" ) \n",
        "plt.axis([0,2,0,15])\n",
        "plt.show()\n"
      ],
      "execution_count": 2,
      "outputs": [
        {
          "output_type": "display_data",
          "data": {
            "image/png": "[encoded data removed]",
            "text/plain": [
              "<Figure size 432x288 with 1 Axes>"
            ]
          },
          "metadata": {
            "tags": [],
            "needs_background": "light"
          }
        }
      ]
    },
    {
      "cell_type": "code",
      "metadata": {
        "id": "AHqbycMM72TP",
        "colab_type": "code",
        "colab": {
          "base_uri": "https://localhost:8080/",
          "height": 51
        },
        "outputId": "c35f525b-aae2-43d5-a555-f2982a801b74"
      },
      "source": [
        "X_b = np.c_[np.ones((100,1)), X] #add x0 = 1 to each instance, this is our bias\n",
        "theta_best = np.linalg.inv(X_b.T.dot(X_b)).dot(X_b.T).dot(y)\n",
        "theta_best #parameters that better fit for our linear model\n"
      ],
      "execution_count": 3,
      "outputs": [
        {
          "output_type": "execute_result",
          "data": {
            "text/plain": [
              "array([[4.6434725 ],\n",
              "       [2.92773764]])"
            ]
          },
          "metadata": {
            "tags": []
          },
          "execution_count": 3
        }
      ]
    },
    {
      "cell_type": "code",
      "metadata": {
        "id": "WFm7nA3e-SNC",
        "colab_type": "code",
        "colab": {
          "base_uri": "https://localhost:8080/",
          "height": 51
        },
        "outputId": "e1844b58-0bff-4fdf-ec95-d45bc9570d3a"
      },
      "source": [
        "#Let's do some predictions with our parameters\n",
        "X_new = np.array([[0], [2]]) #New instances\n",
        "X_new_b = np.c_[np.ones((2,1)), X_new]\n",
        "y_predict = X_new_b.dot(theta_best)\n",
        "y_predict "
      ],
      "execution_count": 4,
      "outputs": [
        {
          "output_type": "execute_result",
          "data": {
            "text/plain": [
              "array([[ 4.6434725 ],\n",
              "       [10.49894779]])"
            ]
          },
          "metadata": {
            "tags": []
          },
          "execution_count": 4
        }
      ]
    },
    {
      "cell_type": "code",
      "metadata": {
        "id": "gaco0bxK_ht2",
        "colab_type": "code",
        "colab": {
          "base_uri": "https://localhost:8080/",
          "height": 265
        },
        "outputId": "2dc8404b-2585-45c4-b281-8fbdb1af40df"
      },
      "source": [
        "#Let's plot the model's predictions\n",
        "plt.plot(X_new, y_predict, \"r-\")\n",
        "plt.plot(X,y, \"b.\")\n",
        "plt.axis([0,2,0,15])\n",
        "plt.show()"
      ],
      "execution_count": 5,
      "outputs": [
        {
          "output_type": "display_data",
          "data": {
            "image/png": "[encoded data removed]",
            "text/plain": [
              "<Figure size 432x288 with 1 Axes>"
            ]
          },
          "metadata": {
            "tags": [],
            "needs_background": "light"
          }
        }
      ]
    },
    {
      "cell_type": "code",
      "metadata": {
        "id": "09dDDHAVARyG",
        "colab_type": "code",
        "colab": {
          "base_uri": "https://localhost:8080/",
          "height": 51
        },
        "outputId": "ce9f7961-fc23-497c-bfd2-e87b930377dc"
      },
      "source": [
        "#Now let's use scikit learn to preform a linear regression model\n",
        "from sklearn.linear_model import LinearRegression\n",
        "linear_regressor = LinearRegression()\n",
        "linear_regressor.fit(X, y)\n",
        "linear_regressor.coef_, linear_regressor.intercept_\n",
        "linear_regressor.predict(X_new)"
      ],
      "execution_count": 6,
      "outputs": [
        {
          "output_type": "execute_result",
          "data": {
            "text/plain": [
              "array([[ 4.6434725 ],\n",
              "       [10.49894779]])"
            ]
          },
          "metadata": {
            "tags": []
          },
          "execution_count": 6
        }
      ]
    },
    {
      "cell_type": "code",
      "metadata": {
        "id": "uKVfPXsiPx9-",
        "colab_type": "code",
        "colab": {
          "base_uri": "https://localhost:8080/",
          "height": 51
        },
        "outputId": "e6c5844d-cfe6-4b35-b65d-84a2193b3eed"
      },
      "source": [
        "\n",
        "theta_best_svd, residuals, rank, s = np.linalg.lstsq(X_b, y, rcond= 1e-6)\n",
        "theta_best_svd "
      ],
      "execution_count": 7,
      "outputs": [
        {
          "output_type": "execute_result",
          "data": {
            "text/plain": [
              "array([[4.6434725 ],\n",
              "       [2.92773764]])"
            ]
          },
          "metadata": {
            "tags": []
          },
          "execution_count": 7
        }
      ]
    },
    {
      "cell_type": "code",
      "metadata": {
        "id": "aNjNbeFSQmrJ",
        "colab_type": "code",
        "colab": {
          "base_uri": "https://localhost:8080/",
          "height": 289
        },
        "outputId": "01ec611c-3aff-41c1-d9a4-37535b9a1ebd"
      },
      "source": [
        "np.linalg.pinv(X_b).dot(y)\n",
        "np.linalg.svd(X_b)"
      ],
      "execution_count": 8,
      "outputs": [
        {
          "output_type": "execute_result",
          "data": {
            "text/plain": [
              "(array([[-1.03110114e-01,  6.94194441e-03, -1.09651678e-01, ...,\n",
              "         -1.05189180e-01, -9.45931606e-02, -9.57151357e-02],\n",
              "        [-1.32988502e-01, -8.25319852e-02,  1.36002038e-01, ...,\n",
              "          6.89176422e-02, -9.03715184e-02, -7.35049516e-02],\n",
              "        [-4.93673044e-02,  1.67880360e-01,  9.70973810e-01, ...,\n",
              "         -1.98090204e-02,  2.07677192e-03, -2.40637349e-04],\n",
              "        ...,\n",
              "        [-7.07441447e-02,  1.03865196e-01, -2.02147020e-02, ...,\n",
              "          9.84928435e-01, -2.85939554e-03, -4.15249902e-03],\n",
              "        [-1.21502580e-01, -4.81361995e-02,  7.07815798e-04, ...,\n",
              "         -3.82267002e-03,  9.85419876e-01, -1.34410549e-02],\n",
              "        [-1.16127948e-01, -3.20413085e-02, -1.50759574e-03, ...,\n",
              "         -5.01377578e-03, -1.33390572e-02,  9.87542477e-01]]),\n",
              " array([14.96674532,  4.09468366]),\n",
              " array([[-0.63374649, -0.77354081],\n",
              "        [ 0.77354081, -0.63374649]]))"
            ]
          },
          "metadata": {
            "tags": []
          },
          "execution_count": 8
        }
      ]
    },
    {
      "cell_type": "markdown",
      "metadata": {
        "id": "kfLVI-njWQmM",
        "colab_type": "text"
      },
      "source": [
        "# **Batch Gradient Descent ** "
      ]
    },
    {
      "cell_type": "code",
      "metadata": {
        "id": "OY_GhW2-WhX6",
        "colab_type": "code",
        "colab": {
          "base_uri": "https://localhost:8080/",
          "height": 51
        },
        "outputId": "8038aee5-7a3c-47c5-8bbb-ce1bd2d55c01"
      },
      "source": [
        "eta = 0.1 #Learning rate\n",
        "n_iterations = 1000\n",
        "m = 100 #Number of instances\n",
        "X_b #Train set (with the bias parameter (x0 = 1))\n",
        " \n",
        "thetas = np.random.rand(2,1) #Random values for thetas\n",
        "\n",
        "for iterations in range(n_iterations):\n",
        "  gradients = 2 /m * X_b.T.dot(X_b.dot(thetas) - y) #compute gradient vector\n",
        "  thetas = thetas - eta*gradients #compute the new thetas\n",
        "\n",
        "thetas"
      ],
      "execution_count": 9,
      "outputs": [
        {
          "output_type": "execute_result",
          "data": {
            "text/plain": [
              "array([[4.6434725 ],\n",
              "       [2.92773764]])"
            ]
          },
          "metadata": {
            "tags": []
          },
          "execution_count": 9
        }
      ]
    },
    {
      "cell_type": "markdown",
      "metadata": {
        "id": "g_iLhxeG1q7W",
        "colab_type": "text"
      },
      "source": [
        "# *Stochastic Gradient Descent *\n"
      ]
    },
    {
      "cell_type": "code",
      "metadata": {
        "id": "3wi1EFED12Sj",
        "colab_type": "code",
        "colab": {
          "base_uri": "https://localhost:8080/",
          "height": 34
        },
        "outputId": "1fabff71-eee5-4776-f9f4-e8a040c6b2b7"
      },
      "source": [
        "n_epochs = 50\n",
        "t0, t1 = 5,50 #learning schedule hyperparameters\n",
        "\n",
        "def learning_schedule(t):\n",
        "  return t0/ (t+t1)\n",
        "\n",
        "thetas - np.random.rand(2,1)\n",
        "\n",
        "for epoch in range(n_epochs):\n",
        "  for i in range(m):\n",
        "    random_idx = np.random.randint(m)\n",
        "    xi = X_b[random_idx:random_idx + 1]\n",
        "    yi = y[random_idx:random_idx + 1]\n",
        "\n",
        "    gradients = 2* xi.T.dot(xi.dot(thetas) - yi)\n",
        "    eta = learning_schedule(n_epochs * m + i )\n",
        "    thetas = thetas - eta * gradients\n",
        "\n",
        "#Using Sklearn\n",
        "from sklearn.linear_model import SGDRegressor\n",
        "sgd_reg = SGDRegressor(max_iter=1000, tol=1e-3, penalty=None, eta0=0.1)\n",
        "sgd_reg.fit(X, y.ravel())\n",
        "sgd_reg.intercept_, sgd_reg.coef_"
      ],
      "execution_count": 15,
      "outputs": [
        {
          "output_type": "execute_result",
          "data": {
            "text/plain": [
              "(array([4.63511701]), array([2.9538454]))"
            ]
          },
          "metadata": {
            "tags": []
          },
          "execution_count": 15
        }
      ]
    }
  ]
}