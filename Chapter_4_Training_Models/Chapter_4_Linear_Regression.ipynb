{
  "nbformat": 4,
  "nbformat_minor": 0,
  "metadata": {
    "colab": {
      "name": "Chapter_4_Linear_Regression.ipynb",
      "provenance": [],
      "collapsed_sections": []
    },
    "kernelspec": {
      "name": "python3",
      "display_name": "Python 3"
    }
  },
  "cells": [
    {
      "cell_type": "code",
      "metadata": {
        "id": "-kdxjsQH0hTV",
        "colab_type": "code",
        "colab": {}
      },
      "source": [
        "import numpy as np\n",
        "X = 2 * np.random.rand(100, 1) #All of our instances (one feature )\n",
        "y = 4 + 3 * X + np.random.rand(100,1) #our labels\n"
      ],
      "execution_count": null,
      "outputs": []
    },
    {
      "cell_type": "code",
      "metadata": {
        "id": "LUkrAL-I6iIO",
        "colab_type": "code",
        "colab": {
          "base_uri": "https://localhost:8080/",
          "height": 265
        },
        "outputId": "3014c890-4ed0-4654-e0a8-43ee2833fc66"
      },
      "source": [
        "from matplotlib import pyplot as plt\n",
        "plt.plot(X, y, \"b.\" ) \n",
        "plt.axis([0,2,0,15])\n",
        "plt.show()\n"
      ],
      "execution_count": null,
      "outputs": [
        {
          "output_type": "display_data",
          "data": {
            "image/png": "[encoded data removed]",
            "text/plain": [
              "<Figure size 432x288 with 1 Axes>"
            ]
          },
          "metadata": {
            "tags": [],
            "needs_background": "light"
          }
        }
      ]
    },
    {
      "cell_type": "code",
      "metadata": {
        "id": "AHqbycMM72TP",
        "colab_type": "code",
        "colab": {
          "base_uri": "https://localhost:8080/",
          "height": 51
        },
        "outputId": "7af26151-72fb-4494-e7d1-3cd73fb23353"
      },
      "source": [
        "X_b = np.c_[np.ones((100,1)), X] #add x0 = 1 to each instance, this is our bias\n",
        "theta_best = np.linalg.inv(X_b.T.dot(X_b)).dot(X_b.T).dot(y)\n",
        "theta_best #parameters that better fit for our linear model\n"
      ],
      "execution_count": null,
      "outputs": [
        {
          "output_type": "execute_result",
          "data": {
            "text/plain": [
              "array([[4.50132317],\n",
              "       [2.9939651 ]])"
            ]
          },
          "metadata": {
            "tags": []
          },
          "execution_count": 3
        }
      ]
    },
    {
      "cell_type": "code",
      "metadata": {
        "id": "WFm7nA3e-SNC",
        "colab_type": "code",
        "colab": {
          "base_uri": "https://localhost:8080/",
          "height": 51
        },
        "outputId": "d6552946-e6f8-4497-893c-9f7468004f4c"
      },
      "source": [
        "#Let's do some predictions with our parameters\n",
        "X_new = np.array([[0], [2]]) #New instances\n",
        "X_new_b = np.c_[np.ones((2,1)), X_new]\n",
        "y_predict = X_new_b.dot(theta_best)\n",
        "y_predict "
      ],
      "execution_count": null,
      "outputs": [
        {
          "output_type": "execute_result",
          "data": {
            "text/plain": [
              "array([[ 4.50132317],\n",
              "       [10.48925337]])"
            ]
          },
          "metadata": {
            "tags": []
          },
          "execution_count": 4
        }
      ]
    },
    {
      "cell_type": "code",
      "metadata": {
        "id": "gaco0bxK_ht2",
        "colab_type": "code",
        "colab": {
          "base_uri": "https://localhost:8080/",
          "height": 265
        },
        "outputId": "f9eddedc-95d4-4078-93f2-263027623696"
      },
      "source": [
        "#Let's plot the model's predictions\n",
        "plt.plot(X_new, y_predict, \"r-\")\n",
        "plt.plot(X,y, \"b.\")\n",
        "plt.axis([0,2,0,15])\n",
        "plt.show()"
      ],
      "execution_count": null,
      "outputs": [
        {
          "output_type": "display_data",
          "data": {
            "image/png": "[encoded data removed]",
            "text/plain": [
              "<Figure size 432x288 with 1 Axes>"
            ]
          },
          "metadata": {
            "tags": [],
            "needs_background": "light"
          }
        }
      ]
    },
    {
      "cell_type": "code",
      "metadata": {
        "id": "09dDDHAVARyG",
        "colab_type": "code",
        "colab": {
          "base_uri": "https://localhost:8080/",
          "height": 51
        },
        "outputId": "fd4a71fa-b85a-482d-e401-ed371537cd36"
      },
      "source": [
        "#Now let's use scikit learn to preform a linear regression model\n",
        "from sklearn.linear_model import LinearRegression\n",
        "linear_regressor = LinearRegression()\n",
        "linear_regressor.fit(X, y)\n",
        "linear_regressor.coef_, linear_regressor.intercept_\n",
        "linear_regressor.predict(X_new)"
      ],
      "execution_count": null,
      "outputs": [
        {
          "output_type": "execute_result",
          "data": {
            "text/plain": [
              "array([[ 4.50132317],\n",
              "       [10.48925337]])"
            ]
          },
          "metadata": {
            "tags": []
          },
          "execution_count": 6
        }
      ]
    },
    {
      "cell_type": "code",
      "metadata": {
        "id": "uKVfPXsiPx9-",
        "colab_type": "code",
        "colab": {
          "base_uri": "https://localhost:8080/",
          "height": 51
        },
        "outputId": "6e51ad95-042e-4892-dbac-69272758703c"
      },
      "source": [
        "\n",
        "theta_best_svd, residuals, rank, s = np.linalg.lstsq(X_b, y, rcond= 1e-6)\n",
        "theta_best_svd "
      ],
      "execution_count": null,
      "outputs": [
        {
          "output_type": "execute_result",
          "data": {
            "text/plain": [
              "array([[4.50132317],\n",
              "       [2.9939651 ]])"
            ]
          },
          "metadata": {
            "tags": []
          },
          "execution_count": 7
        }
      ]
    },
    {
      "cell_type": "code",
      "metadata": {
        "id": "aNjNbeFSQmrJ",
        "colab_type": "code",
        "colab": {
          "base_uri": "https://localhost:8080/",
          "height": 289
        },
        "outputId": "da9d4539-0aa9-4d75-a6c3-4f875c40f728"
      },
      "source": [
        "np.linalg.pinv(X_b).dot(y)\n",
        "np.linalg.svd(X_b)"
      ],
      "execution_count": null,
      "outputs": [
        {
          "output_type": "execute_result",
          "data": {
            "text/plain": [
              "(array([[-5.07725840e-02, -1.80831446e-01, -9.73515651e-02, ...,\n",
              "         -9.50206480e-02, -9.68996917e-02, -1.06866936e-01],\n",
              "        [-6.94379350e-02, -1.17759043e-01,  3.95821171e-02, ...,\n",
              "          8.24197898e-02,  4.78866614e-02, -1.35291698e-01],\n",
              "        [-1.05531348e-01,  4.20481842e-03,  9.88975432e-01, ...,\n",
              "         -1.27264025e-02, -1.13544868e-02, -4.07726434e-03],\n",
              "        ...,\n",
              "        [-1.17627267e-01,  4.50783441e-02, -1.29383041e-02, ...,\n",
              "          9.83675561e-01, -1.35947428e-02,  8.84724562e-04],\n",
              "        [-1.07876272e-01,  1.21285917e-02, -1.13955662e-02, ...,\n",
              "         -1.34239207e-02,  9.88211215e-01, -3.11532934e-03],\n",
              "        [-5.61528585e-02, -1.62650870e-01, -3.21223058e-03, ...,\n",
              "          1.96165988e-03, -2.20921618e-03,  9.75666688e-01]]),\n",
              " array([14.47758929,  3.78757402]),\n",
              " array([[-0.66232874, -0.74921335],\n",
              "        [-0.74921335,  0.66232874]]))"
            ]
          },
          "metadata": {
            "tags": []
          },
          "execution_count": 9
        }
      ]
    },
    {
      "cell_type": "markdown",
      "metadata": {
        "id": "kfLVI-njWQmM",
        "colab_type": "text"
      },
      "source": [
        "# **Batch Gradient Descent ** "
      ]
    },
    {
      "cell_type": "code",
      "metadata": {
        "id": "OY_GhW2-WhX6",
        "colab_type": "code",
        "colab": {
          "base_uri": "https://localhost:8080/",
          "height": 51
        },
        "outputId": "3f02e2ed-57a3-4641-9af2-4c29b25019d0"
      },
      "source": [
        "eta = 0.1 #Learning rate\n",
        "n_iterations = 1000\n",
        "m = 100 #Number of instances\n",
        "X_b #Train set (with the bias parameter (x0 = 1))\n",
        " \n",
        "thetas = np.random.rand(2,1) #Random values for thetas\n",
        "\n",
        "for iterations in range(n_iterations):\n",
        "  gradients = 2 /m * X_b.T.dot(X_b.dot(thetas) - y) #compute gradient vector\n",
        "  thetas = thetas - eta*gradients #compute the new thetas\n",
        "\n",
        "thetas"
      ],
      "execution_count": null,
      "outputs": [
        {
          "output_type": "execute_result",
          "data": {
            "text/plain": [
              "array([[4.50132317],\n",
              "       [2.9939651 ]])"
            ]
          },
          "metadata": {
            "tags": []
          },
          "execution_count": 32
        }
      ]
    }
  ]
}