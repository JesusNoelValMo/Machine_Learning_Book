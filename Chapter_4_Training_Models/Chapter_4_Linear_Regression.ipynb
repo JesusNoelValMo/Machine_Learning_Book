{
  "nbformat": 4,
  "nbformat_minor": 0,
  "metadata": {
    "colab": {
      "name": "Chapter_4_Linear_Regression.ipynb",
      "provenance": [],
      "collapsed_sections": []
    },
    "kernelspec": {
      "name": "python3",
      "display_name": "Python 3"
    }
  },
  "cells": [
    {
      "cell_type": "code",
      "metadata": {
        "id": "-kdxjsQH0hTV",
        "colab_type": "code",
        "colab": {}
      },
      "source": [
        "import numpy as np\n",
        "X = 2 * np.random.rand(100, 1) #All of our instances (one feature )\n",
        "y = 4 + 3 * X + np.random.rand(100,1) #our labels\n"
      ],
      "execution_count": 22,
      "outputs": []
    },
    {
      "cell_type": "code",
      "metadata": {
        "id": "LUkrAL-I6iIO",
        "colab_type": "code",
        "colab": {
          "base_uri": "https://localhost:8080/",
          "height": 265
        },
        "outputId": "da22eda2-a579-436a-a934-95fd9643d7e6"
      },
      "source": [
        "from matplotlib import pyplot as plt\n",
        "plt.plot(X, y, \"b.\" ) \n",
        "plt.axis([0,2,0,15])\n",
        "plt.show()\n"
      ],
      "execution_count": 37,
      "outputs": [
        {
          "output_type": "display_data",
          "data": {
            "image/png": "[encoded data removed]",
            "text/plain": [
              "<Figure size 432x288 with 1 Axes>"
            ]
          },
          "metadata": {
            "tags": [],
            "needs_background": "light"
          }
        }
      ]
    },
    {
      "cell_type": "code",
      "metadata": {
        "id": "AHqbycMM72TP",
        "colab_type": "code",
        "colab": {
          "base_uri": "https://localhost:8080/",
          "height": 50
        },
        "outputId": "91ac8666-41fd-4bc4-daf1-f921dc484fe3"
      },
      "source": [
        "X_b = np.c_[np.ones((100,1)), X] #add x0 = 1 to each instance \n",
        "theta_best = np.linalg.inv(X_b.T.dot(X_b)).dot(X_b.T).dot(y)\n",
        "theta_best #parameters that better fit for our linear model\n"
      ],
      "execution_count": 31,
      "outputs": [
        {
          "output_type": "execute_result",
          "data": {
            "text/plain": [
              "array([[4.4014943 ],\n",
              "       [3.04388559]])"
            ]
          },
          "metadata": {
            "tags": []
          },
          "execution_count": 31
        }
      ]
    },
    {
      "cell_type": "code",
      "metadata": {
        "id": "WFm7nA3e-SNC",
        "colab_type": "code",
        "colab": {
          "base_uri": "https://localhost:8080/",
          "height": 50
        },
        "outputId": "8e94fd0e-82b0-4d4a-e221-4cd2599d4e13"
      },
      "source": [
        "#Let's do some predictions with our parameters\n",
        "X_new = np.array([[0], [2]]) #New instances\n",
        "X_new_b = np.c_[np.ones((2,1)), X_new]\n",
        "y_predict = X_new_b.dot(theta_best)\n",
        "y_predict "
      ],
      "execution_count": 34,
      "outputs": [
        {
          "output_type": "execute_result",
          "data": {
            "text/plain": [
              "array([[ 4.4014943 ],\n",
              "       [10.48926547]])"
            ]
          },
          "metadata": {
            "tags": []
          },
          "execution_count": 34
        }
      ]
    },
    {
      "cell_type": "code",
      "metadata": {
        "id": "gaco0bxK_ht2",
        "colab_type": "code",
        "colab": {
          "base_uri": "https://localhost:8080/",
          "height": 265
        },
        "outputId": "1be48b9b-8d81-4c3b-8dc4-ade34f2a62e6"
      },
      "source": [
        "#Let's plot the model's predictions\n",
        "plt.plot(X_new, y_predict, \"r-\")\n",
        "plt.plot(X,y, \"b.\")\n",
        "plt.axis([0,2,0,15])\n",
        "plt.show()"
      ],
      "execution_count": 35,
      "outputs": [
        {
          "output_type": "display_data",
          "data": {
            "image/png": "[encoded data removed]",
            "text/plain": [
              "<Figure size 432x288 with 1 Axes>"
            ]
          },
          "metadata": {
            "tags": [],
            "needs_background": "light"
          }
        }
      ]
    },
    {
      "cell_type": "code",
      "metadata": {
        "id": "09dDDHAVARyG",
        "colab_type": "code",
        "colab": {
          "base_uri": "https://localhost:8080/",
          "height": 50
        },
        "outputId": "5783b0fc-db07-42ab-fbd2-9b0bed709d4b"
      },
      "source": [
        "#Now let's use scikit learn to preform a linear regression model\n",
        "from sklearn.linear_model import LinearRegression\n",
        "linear_regressor = LinearRegression()\n",
        "linear_regressor.fit(X, y)\n",
        "linear_regressor.coef_, linear_regressor.intercept_\n",
        "linear_regressor.predict(X_new)"
      ],
      "execution_count": 43,
      "outputs": [
        {
          "output_type": "execute_result",
          "data": {
            "text/plain": [
              "array([[ 4.4014943 ],\n",
              "       [10.48926547]])"
            ]
          },
          "metadata": {
            "tags": []
          },
          "execution_count": 43
        }
      ]
    },
    {
      "cell_type": "code",
      "metadata": {
        "id": "uKVfPXsiPx9-",
        "colab_type": "code",
        "colab": {
          "base_uri": "https://localhost:8080/",
          "height": 50
        },
        "outputId": "193b5f23-8ee0-41c3-8a57-58f61c2f19c6"
      },
      "source": [
        "\n",
        "theta_best_svd, residuals, rank, s = np.linalg.lstsq(X_b, y, rcond= 1e-6)\n",
        "theta_best_svd "
      ],
      "execution_count": 44,
      "outputs": [
        {
          "output_type": "execute_result",
          "data": {
            "text/plain": [
              "array([[4.4014943 ],\n",
              "       [3.04388559]])"
            ]
          },
          "metadata": {
            "tags": []
          },
          "execution_count": 44
        }
      ]
    },
    {
      "cell_type": "code",
      "metadata": {
        "id": "aNjNbeFSQmrJ",
        "colab_type": "code",
        "colab": {
          "base_uri": "https://localhost:8080/",
          "height": 286
        },
        "outputId": "357cbb04-030c-457f-f683-685a01981314"
      },
      "source": [
        "np.linalg.pinv(X_b).dot(y)\n",
        "np.linalg.svd(X_b)"
      ],
      "execution_count": 46,
      "outputs": [
        {
          "output_type": "execute_result",
          "data": {
            "text/plain": [
              "(array([[-1.12496308e-01,  2.79303813e-02, -9.36052394e-02, ...,\n",
              "         -1.18376720e-01, -8.68054863e-02, -9.65694330e-02],\n",
              "        [-5.46850718e-02, -1.68082999e-01, -5.49171081e-02, ...,\n",
              "          1.22600532e-01, -1.03645568e-01, -3.36750732e-02],\n",
              "        [-8.42945288e-02, -6.76898892e-02,  9.89619436e-01, ...,\n",
              "         -5.38480760e-03, -1.17518957e-02, -9.78276428e-03],\n",
              "        ...,\n",
              "        [-1.35149176e-01,  1.04736650e-01, -3.13285479e-03, ...,\n",
              "          9.73787340e-01,  3.20253451e-03, -5.89461990e-03],\n",
              "        [-7.03349660e-02, -1.15020846e-01, -1.23700551e-02, ...,\n",
              "          3.32422332e-04,  9.84143124e-01, -1.08500570e-02],\n",
              "        [-9.03798744e-02, -4.70570633e-02, -9.51329213e-03, ...,\n",
              "         -7.87710056e-03, -9.96242550e-03,  9.90682497e-01]]),\n",
              " array([15.21655449,  3.64394574]),\n",
              " array([[-0.63033519, -0.7763231 ],\n",
              "        [-0.7763231 ,  0.63033519]]))"
            ]
          },
          "metadata": {
            "tags": []
          },
          "execution_count": 46
        }
      ]
    }
  ]
}