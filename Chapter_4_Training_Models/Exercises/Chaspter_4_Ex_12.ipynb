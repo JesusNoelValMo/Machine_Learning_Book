{
  "nbformat": 4,
  "nbformat_minor": 0,
  "metadata": {
    "colab": {
      "name": "Chaspter_4_Ex_12.ipynb",
      "provenance": [],
      "collapsed_sections": []
    },
    "kernelspec": {
      "name": "python3",
      "display_name": "Python 3"
    }
  },
  "cells": [
    {
      "cell_type": "code",
      "metadata": {
        "id": "3BaAzw0fWAo4",
        "colab_type": "code",
        "colab": {}
      },
      "source": [
        "from sklearn.datasets import fetch_openml\n",
        "mnist = fetch_openml('mnist_784', version=1)"
      ],
      "execution_count": 3,
      "outputs": []
    },
    {
      "cell_type": "code",
      "metadata": {
        "id": "pB4zM_zLbHQO",
        "colab_type": "code",
        "colab": {}
      },
      "source": [
        "import pandas as pd\n",
        "import numpy as np\n",
        "import matplotlib.pyplot as plt\n",
        "from sklearn.model_selection import train_test_split\n",
        "from sklearn.metrics import confusion_matrix"
      ],
      "execution_count": 4,
      "outputs": []
    },
    {
      "cell_type": "code",
      "metadata": {
        "id": "FBiPzWQZetQK",
        "colab_type": "code",
        "colab": {
          "base_uri": "https://localhost:8080/",
          "height": 108
        },
        "outputId": "0016c9af-1051-472f-d22d-aa4004602595"
      },
      "source": [
        "\n",
        "X = mnist['data']\n",
        "X.shape\n",
        "y = mnist['target'].ravel()\n",
        "X_w_bias = np.c_[np.ones([len(X), 1]), X]\n",
        "mnist.DESCR"
      ],
      "execution_count": 5,
      "outputs": [
        {
          "output_type": "execute_result",
          "data": {
            "application/vnd.google.colaboratory.intrinsic+json": {
              "type": "string"
            },
            "text/plain": [
              "\"**Author**: Yann LeCun, Corinna Cortes, Christopher J.C. Burges  \\n**Source**: [MNIST Website](http://yann.lecun.com/exdb/mnist/) - Date unknown  \\n**Please cite**:  \\n\\nThe MNIST database of handwritten digits with 784 features, raw data available at: http://yann.lecun.com/exdb/mnist/. It can be split in a training set of the first 60,000 examples, and a test set of 10,000 examples  \\n\\nIt is a subset of a larger set available from NIST. The digits have been size-normalized and centered in a fixed-size image. It is a good database for people who want to try learning techniques and pattern recognition methods on real-world data while spending minimal efforts on preprocessing and formatting. The original black and white (bilevel) images from NIST were size normalized to fit in a 20x20 pixel box while preserving their aspect ratio. The resulting images contain grey levels as a result of the anti-aliasing technique used by the normalization algorithm. the images were centered in a 28x28 image by computing the center of mass of the pixels, and translating the image so as to position this point at the center of the 28x28 field.  \\n\\nWith some classification methods (particularly template-based methods, such as SVM and K-nearest neighbors), the error rate improves when the digits are centered by bounding box rather than center of mass. If you do this kind of pre-processing, you should report it in your publications. The MNIST database was constructed from NIST's NIST originally designated SD-3 as their training set and SD-1 as their test set. However, SD-3 is much cleaner and easier to recognize than SD-1. The reason for this can be found on the fact that SD-3 was collected among Census Bureau employees, while SD-1 was collected among high-school students. Drawing sensible conclusions from learning experiments requires that the result be independent of the choice of training set and test among the complete set of samples. Therefore it was necessary to build a new database by mixing NIST's datasets.  \\n\\nThe MNIST training set is composed of 30,000 patterns from SD-3 and 30,000 patterns from SD-1. Our test set was composed of 5,000 patterns from SD-3 and 5,000 patterns from SD-1. The 60,000 pattern training set contained examples from approximately 250 writers. We made sure that the sets of writers of the training set and test set were disjoint. SD-1 contains 58,527 digit images written by 500 different writers. In contrast to SD-3, where blocks of data from each writer appeared in sequence, the data in SD-1 is scrambled. Writer identities for SD-1 is available and we used this information to unscramble the writers. We then split SD-1 in two: characters written by the first 250 writers went into our new training set. The remaining 250 writers were placed in our test set. Thus we had two sets with nearly 30,000 examples each. The new training set was completed with enough examples from SD-3, starting at pattern # 0, to make a full set of 60,000 training patterns. Similarly, the new test set was completed with SD-3 examples starting at pattern # 35,000 to make a full set with 60,000 test patterns. Only a subset of 10,000 test images (5,000 from SD-1 and 5,000 from SD-3) is available on this site. The full 60,000 sample training set is available.\\n\\nDownloaded from openml.org.\""
            ]
          },
          "metadata": {
            "tags": []
          },
          "execution_count": 5
        }
      ]
    },
    {
      "cell_type": "code",
      "metadata": {
        "id": "0JSmipW0gQ3D",
        "colab_type": "code",
        "colab": {}
      },
      "source": [
        "#Normalize X\n",
        "X_w_bias = X_w_bias /255.0 #To the X go from 0 to 1, instead of 0 to 255\n",
        "X_train, X_test, y_train, y_test = train_test_split(X_w_bias, y, test_size = 0.4, random_state = 2)\n"
      ],
      "execution_count": 6,
      "outputs": []
    },
    {
      "cell_type": "code",
      "metadata": {
        "id": "FG_u0qBhhcFS",
        "colab_type": "code",
        "colab": {
          "base_uri": "https://localhost:8080/",
          "height": 35
        },
        "outputId": "2121b13e-b835-4310-b883-b7772ead02ae"
      },
      "source": [
        "#Let's take a validation set \n",
        "X_train, X_val, y_train, y_val = train_test_split(X_train, y_train, test_size = 0.2, random_state = 2)\n",
        "n_inputs = X_train.shape[1] #Number of features (all the pixels plus the bias term) \n",
        "n_outputs = len(np.unique(y_train)) #Number of possible classes (0 to 9 )\n",
        "y_train"
      ],
      "execution_count": 7,
      "outputs": [
        {
          "output_type": "execute_result",
          "data": {
            "text/plain": [
              "array(['7', '4', '7', ..., '1', '7', '8'], dtype=object)"
            ]
          },
          "metadata": {
            "tags": []
          },
          "execution_count": 7
        }
      ]
    },
    {
      "cell_type": "code",
      "metadata": {
        "id": "x7QD3fuOHxE_",
        "colab_type": "code",
        "colab": {}
      },
      "source": [
        "from sklearn.preprocessing import OneHotEncoder\n",
        "encoder = OneHotEncoder()\n",
        "#One Hot the classes with a OneHotEncoder in order to have de probabilities of being any of this chances \n",
        "#on the labels \n",
        "#It is important to keep our encoded data as arrays\n",
        "y_train_encoded = encoder.fit_transform(y_train.reshape(-1,1)).toarray()\n",
        "y_val_encoded = encoder.fit_transform(y_val.reshape(-1,1)).toarray()\n",
        "y_test_encoded = encoder.fit_transform(y_test.reshape(-1,1)).toarray()\n"
      ],
      "execution_count": 8,
      "outputs": []
    },
    {
      "cell_type": "code",
      "metadata": {
        "id": "tg_if7W_IwPa",
        "colab_type": "code",
        "colab": {
          "base_uri": "https://localhost:8080/",
          "height": 35
        },
        "outputId": "689bf1fb-406f-4765-a9fe-61315f19d237"
      },
      "source": [
        "y_train_encoded.shape"
      ],
      "execution_count": 9,
      "outputs": [
        {
          "output_type": "execute_result",
          "data": {
            "text/plain": [
              "(33600, 10)"
            ]
          },
          "metadata": {
            "tags": []
          },
          "execution_count": 9
        }
      ]
    },
    {
      "cell_type": "code",
      "metadata": {
        "id": "N3COGUceLY8j",
        "colab_type": "code",
        "colab": {}
      },
      "source": [
        "def Softmax(logits):\n",
        "  exps = np.exp(logits)\n",
        "  exp_sums = np.sum(exps, axis=1, keepdims=True)\n",
        "  return exps / exp_sums\n",
        "\n"
      ],
      "execution_count": 10,
      "outputs": []
    },
    {
      "cell_type": "code",
      "metadata": {
        "id": "9Qv4TcPXh7JI",
        "colab_type": "code",
        "colab": {}
      },
      "source": [
        "\n",
        "#Lets do the Batch Gradient descent without the softmaxt algorithm\n",
        "eta = 0.1 #Learning rate\n",
        "n_iterations = 2501\n",
        "m = len(X_train)\n",
        "epsilon = 1e-7\n",
        "thetas = np.random.rand(n_inputs, n_outputs) #Thetas for all the features and all the possible classes (all pixels plus bias X 0 to 9 classes)\n",
        "\n",
        "for iteration in range(n_iterations):\n",
        "  logits = X_train.dot(thetas)\n",
        "  y_proba = Softmax(logits)\n",
        "  loss = -np.mean(np.sum(y_train_encoded * np.log(y_proba + epsilon), axis=1)) #Cross entropy cost function\n",
        "  if iteration % 500 == 0:\n",
        "    print(iteration, loss)\n",
        "  erro = y_proba - y_train_encoded\n",
        "  gradients = 1/m * X_train.T.dot(erro)\n",
        "  thetas = thetas - eta * gradients\n",
        "\n",
        "  "
      ],
      "execution_count": null,
      "outputs": []
    },
    {
      "cell_type": "code",
      "metadata": {
        "id": "jZGPSGg5W1Ic",
        "colab_type": "code",
        "colab": {}
      },
      "source": [
        "thetas\n"
      ],
      "execution_count": null,
      "outputs": []
    },
    {
      "cell_type": "code",
      "metadata": {
        "id": "YK4tmN0bNOSJ",
        "colab_type": "code",
        "colab": {}
      },
      "source": [
        "#Let's do predictions for the validation set and check the accuracy score\n",
        "logits = X_val.dot(thetas)\n",
        "y_proba = Softmax(logits)\n",
        "prediction = np.argmax(y_proba, axis=1) #Returns the INDEX with the highest probability\n",
        "y_val_int = [int(string_val) for string_val in y_val ]\n",
        "score_accuracy = np.mean(prediction == y_val_int)\n",
        "prediction\n"
      ],
      "execution_count": null,
      "outputs": []
    },
    {
      "cell_type": "markdown",
      "metadata": {
        "id": "nHPQJDmkdwU7",
        "colab_type": "text"
      },
      "source": [
        "let's add a bit of $\\ell_2$ regularization "
      ]
    },
    {
      "cell_type": "code",
      "metadata": {
        "id": "zGuYEB87dklS",
        "colab_type": "code",
        "colab": {}
      },
      "source": [
        "#Lets do the Batch Gradient descent without the softmaxt algorithm\n",
        "eta = 0.1 #Learning rate\n",
        "n_iterations = 5001\n",
        "m = len(X_train)\n",
        "epsilon = 1e-7\n",
        "alpha = 0.1 #Regularization Hyperparameter\n",
        "\n",
        "\n",
        "\n",
        "thetas = np.random.rand(n_inputs, n_outputs) #Thetas for all the features and all the possible classes (all pixels plus bias X 0 to 9 classes)\n",
        "\n",
        "for iteration in range(n_iterations):\n",
        "  logits = X_train.dot(thetas)\n",
        "  y_proba = Softmax(logits)\n",
        "  X_entropy_loss = -np.mean(np.sum(y_train_encoded * np.log(y_proba + epsilon), axis=1)) #Cross entropy cost function\n",
        "  l2_loss = 1/2 * np.sum(np.square(thetas[1:]))\n",
        "  loss = X_entropy_loss + alpha * l2_loss\n",
        "  if iteration % 500 == 0:\n",
        "    print(iteration, loss)\n",
        "  erro = y_proba - y_train_encoded\n",
        "  gradients = 1/m * X_train.T.dot(erro) + np.r_[np.zeros([1,n_outputs]), alpha * thetas[1:]]\n",
        "  thetas = thetas - eta * gradients\n"
      ],
      "execution_count": null,
      "outputs": []
    },
    {
      "cell_type": "code",
      "metadata": {
        "id": "7R_m7nU4g3lU",
        "colab_type": "code",
        "colab": {}
      },
      "source": [
        "logits = X_val.dot(thetas)\n",
        "y_proba = Softmax(logits)\n",
        "prediction = np.argmax(y_proba, axis=1) #Returns the INDEX with the highest probability\n",
        "y_val_int = [int(string_val) for string_val in y_val ]\n",
        "score_accuracy = np.mean(prediction == y_val_int)\n",
        "score_accuracy"
      ],
      "execution_count": null,
      "outputs": []
    },
    {
      "cell_type": "markdown",
      "metadata": {
        "id": "vfBtnYbIz5yk",
        "colab_type": "text"
      },
      "source": [
        "Finally, Let's add early stopping using the validation set on each epoch\n"
      ]
    },
    {
      "cell_type": "code",
      "metadata": {
        "id": "abjFJzAZ0Gzg",
        "colab_type": "code",
        "colab": {
          "base_uri": "https://localhost:8080/",
          "height": 697
        },
        "outputId": "8dbfb802-a3e3-425e-fcc6-1543c6d5e6ff"
      },
      "source": [
        "#Lets do the Batch Gradient descent without the softmaxt algorithm\n",
        "eta = 0.1 #Learning rate\n",
        "n_iterations = 10001\n",
        "m = len(X_train)\n",
        "epsilon = 1e-7\n",
        "alpha = 0.01 #Regularization Hyperparameter\n",
        "\n",
        "minimum_val_loss = np.infty\n",
        "\n",
        "Training_loss, Validation_loss = [],[]\n",
        "\n",
        "best_thetas = None\n",
        "best_epoch = None\n",
        "\n",
        "thetas = np.random.rand(n_inputs, n_outputs) #Thetas for all the features and all the possible classes (all pixels plus bias X 0 to 9 classes)\n",
        "\n",
        "for iteration in range(n_iterations):\n",
        "  #Process for training Set\n",
        "  logits = X_train.dot(thetas)\n",
        "  y_proba = Softmax(logits)\n",
        "  X_entropy_loss = -np.mean(np.sum(y_train_encoded * np.log(y_proba + epsilon), axis=1)) #Cross entropy cost function\n",
        "  l2_loss = 1/2 * np.sum(np.square(thetas[1:]))\n",
        "  loss = X_entropy_loss + alpha * l2_loss\n",
        "  Training_loss.append(loss)\n",
        "\n",
        "\n",
        "  if iteration % 500 == 0:\n",
        "    print(iteration, loss)\n",
        "  erro = y_proba - y_train_encoded\n",
        "  gradients = 1/m * X_train.T.dot(erro) + np.r_[np.zeros([1,n_outputs]), alpha * thetas[1:]]\n",
        "  thetas = thetas - eta * gradients\n",
        "\n",
        "#Process for validation set\n",
        "  logits_val = X_val.dot(thetas)\n",
        "  y_proba_val = Softmax(logits_val)\n",
        "  Val_entropy_loss = -np.mean(np.sum(y_val_encoded * np.log(y_proba_val + epsilon), axis=1)) #Cross entropy cost function\n",
        "  l2_loss = 1/2 * np.sum(np.square(thetas[1:]))\n",
        "  loss = X_entropy_loss + alpha * l2_loss\n",
        "  Validation_loss.append(loss)\n",
        "\n",
        " \n",
        "\n",
        "  if Val_entropy_loss < minimum_val_loss:\n",
        "    minimum_val_loss = Val_entropy_loss\n",
        "    best_thetas = thetas\n",
        "    best_epoch = iteration\n",
        "\n",
        "  else:\n",
        "    print(f\"early stopping on epoch {iteration}!...\")\n",
        "    print(f\"Best thetas:\")\n",
        "    print(thetas)\n",
        "    plt.plot(Training_loss, \"r-+\", label=\"train\")\n",
        "    plt.plot(Validation_loss, \"b-\", label=\"val\")\n",
        "    plt.xlabel(\"Epoch\")\n",
        "    plt.ylabel(\"Epoch\")\n",
        "    break\n",
        "\n"
      ],
      "execution_count": 24,
      "outputs": [
        {
          "output_type": "stream",
          "text": [
            "0 18.316730432153932\n",
            "500 5.277881058596735\n",
            "1000 2.2704664656596947\n",
            "1500 1.1799689250411076\n",
            "2000 0.7823943520085597\n",
            "2500 0.6371379667324781\n",
            "3000 0.58400460321565\n",
            "3500 0.5645538565061063\n",
            "early stopping on epoch 3894!...\n",
            "Best thetas:\n",
            "[[1.85849683e-01 5.84170109e-02 7.91193270e-01 ... 7.28659781e-01\n",
            "  8.75328867e-01 6.36181161e-01]\n",
            " [1.91994755e-02 1.86263890e-02 8.23037268e-03 ... 9.35500190e-03\n",
            "  6.68877571e-03 9.20316177e-03]\n",
            " [4.95468984e-04 1.04980909e-02 1.81340786e-02 ... 9.52841700e-03\n",
            "  1.82052847e-02 6.08999547e-03]\n",
            " ...\n",
            " [7.66949109e-03 2.78278815e-03 1.95809204e-02 ... 1.59578269e-02\n",
            "  1.98701507e-02 7.64718063e-03]\n",
            " [1.30774328e-02 1.75878684e-03 1.06545835e-02 ... 1.66275220e-02\n",
            "  1.30958068e-02 1.24950545e-02]\n",
            " [1.38125349e-03 2.91802287e-03 1.61895133e-02 ... 7.34525420e-03\n",
            "  2.67769284e-03 4.35246102e-03]]\n"
          ],
          "name": "stdout"
        },
        {
          "output_type": "display_data",
          "data": {
            "image/png": "[encoded data removed]",
            "text/plain": [
              "<Figure size 432x288 with 1 Axes>"
            ]
          },
          "metadata": {
            "tags": [],
            "needs_background": "light"
          }
        }
      ]
    },
    {
      "cell_type": "code",
      "metadata": {
        "id": "VA1kQc67-t49",
        "colab_type": "code",
        "colab": {
          "base_uri": "https://localhost:8080/",
          "height": 552
        },
        "outputId": "4a378ec3-0ee8-45c0-9ed1-2f5af6905883"
      },
      "source": [
        "print(f\"Best thetas:\")\n",
        "print(thetas)\n",
        "plt.plot(Training_loss, \"r-+\", label=\"train\")\n",
        "plt.plot(Validation_loss, \"b-\", label=\"val\")\n",
        "plt.xlabel(\"Epoch\")\n",
        "plt.ylabel(\"Epoch\")\n",
        "plt.axis([0, n_iterations, 0, 1.5])"
      ],
      "execution_count": 25,
      "outputs": [
        {
          "output_type": "stream",
          "text": [
            "Best thetas:\n",
            "[[1.85849683e-01 5.84170109e-02 7.91193270e-01 ... 7.28659781e-01\n",
            "  8.75328867e-01 6.36181161e-01]\n",
            " [1.91994755e-02 1.86263890e-02 8.23037268e-03 ... 9.35500190e-03\n",
            "  6.68877571e-03 9.20316177e-03]\n",
            " [4.95468984e-04 1.04980909e-02 1.81340786e-02 ... 9.52841700e-03\n",
            "  1.82052847e-02 6.08999547e-03]\n",
            " ...\n",
            " [7.66949109e-03 2.78278815e-03 1.95809204e-02 ... 1.59578269e-02\n",
            "  1.98701507e-02 7.64718063e-03]\n",
            " [1.30774328e-02 1.75878684e-03 1.06545835e-02 ... 1.66275220e-02\n",
            "  1.30958068e-02 1.24950545e-02]\n",
            " [1.38125349e-03 2.91802287e-03 1.61895133e-02 ... 7.34525420e-03\n",
            "  2.67769284e-03 4.35246102e-03]]\n"
          ],
          "name": "stdout"
        },
        {
          "output_type": "execute_result",
          "data": {
            "text/plain": [
              "(0.0, 10001.0, 0.0, 1.5)"
            ]
          },
          "metadata": {
            "tags": []
          },
          "execution_count": 25
        },
        {
          "output_type": "display_data",
          "data": {
            "image/png": "[encoded data removed]",
            "text/plain": [
              "<Figure size 432x288 with 1 Axes>"
            ]
          },
          "metadata": {
            "tags": [],
            "needs_background": "light"
          }
        }
      ]
    },
    {
      "cell_type": "code",
      "metadata": {
        "id": "zV9dlpgD_JVM",
        "colab_type": "code",
        "colab": {
          "base_uri": "https://localhost:8080/",
          "height": 35
        },
        "outputId": "03149311-842c-4d7e-c94c-bca66703a319"
      },
      "source": [
        "logits = X_val.dot(thetas)\n",
        "y_proba = Softmax(logits)\n",
        "prediction = np.argmax(y_proba, axis=1) #Returns the INDEX with the highest probability\n",
        "y_val_int = [int(string_val) for string_val in y_val ]\n",
        "score_accuracy = np.mean(prediction == y_val_int)\n",
        "score_accuracy"
      ],
      "execution_count": 26,
      "outputs": [
        {
          "output_type": "execute_result",
          "data": {
            "text/plain": [
              "0.8953571428571429"
            ]
          },
          "metadata": {
            "tags": []
          },
          "execution_count": 26
        }
      ]
    }
  ]
}