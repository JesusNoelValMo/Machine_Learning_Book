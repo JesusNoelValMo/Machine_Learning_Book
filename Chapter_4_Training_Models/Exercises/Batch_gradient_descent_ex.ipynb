{
  "nbformat": 4,
  "nbformat_minor": 0,
  "metadata": {
    "colab": {
      "name": "Batch_gradient_descent_ex.ipynb",
      "provenance": [],
      "collapsed_sections": []
    },
    "kernelspec": {
      "name": "python3",
      "display_name": "Python 3"
    }
  },
  "cells": [
    {
      "cell_type": "code",
      "metadata": {
        "id": "DfH440Dk23oa",
        "colab_type": "code",
        "colab": {}
      },
      "source": [
        "import pandas as pd\n",
        "import matplotlib.pyplot as plt\n",
        "import numpy as np\n",
        "\n",
        "\n",
        "\n",
        "DOWNLOAD_PATH = \"https://raw.githubusercontent.com/JesusNoelValMo/Machine_Learning_Book/master/Chapter_4_Training_Models/Exercises/high_diamond_ranked_10min.csv\""
      ],
      "execution_count": 1,
      "outputs": []
    },
    {
      "cell_type": "code",
      "metadata": {
        "id": "6dgX0PkE3HSj",
        "colab_type": "code",
        "colab": {}
      },
      "source": [
        "def load_csv(path):\n",
        "  return pd.read_csv(path)"
      ],
      "execution_count": 2,
      "outputs": []
    },
    {
      "cell_type": "code",
      "metadata": {
        "id": "iQBLqhrx3wpx",
        "colab_type": "code",
        "colab": {
          "base_uri": "https://localhost:8080/",
          "height": 872
        },
        "outputId": "b380c9b6-a5c4-4acd-9010-ff8b7772e77f"
      },
      "source": [
        "data_ = load_csv(DOWNLOAD_PATH)\n",
        "data_.info()"
      ],
      "execution_count": 3,
      "outputs": [
        {
          "output_type": "stream",
          "text": [
            "<class 'pandas.core.frame.DataFrame'>\n",
            "RangeIndex: 9879 entries, 0 to 9878\n",
            "Data columns (total 40 columns):\n",
            " #   Column                        Non-Null Count  Dtype  \n",
            "---  ------                        --------------  -----  \n",
            " 0   gameId                        9879 non-null   int64  \n",
            " 1   blueWins                      9879 non-null   int64  \n",
            " 2   blueWardsPlaced               9879 non-null   int64  \n",
            " 3   blueWardsDestroyed            9879 non-null   int64  \n",
            " 4   blueFirstBlood                9879 non-null   int64  \n",
            " 5   blueKills                     9879 non-null   int64  \n",
            " 6   blueDeaths                    9879 non-null   int64  \n",
            " 7   blueAssists                   9879 non-null   int64  \n",
            " 8   blueEliteMonsters             9879 non-null   int64  \n",
            " 9   blueDragons                   9879 non-null   int64  \n",
            " 10  blueHeralds                   9879 non-null   int64  \n",
            " 11  blueTowersDestroyed           9879 non-null   int64  \n",
            " 12  blueTotalGold                 9879 non-null   int64  \n",
            " 13  blueAvgLevel                  9879 non-null   float64\n",
            " 14  blueTotalExperience           9879 non-null   int64  \n",
            " 15  blueTotalMinionsKilled        9879 non-null   int64  \n",
            " 16  blueTotalJungleMinionsKilled  9879 non-null   int64  \n",
            " 17  blueGoldDiff                  9879 non-null   int64  \n",
            " 18  blueExperienceDiff            9879 non-null   int64  \n",
            " 19  blueCSPerMin                  9879 non-null   float64\n",
            " 20  blueGoldPerMin                9879 non-null   float64\n",
            " 21  redWardsPlaced                9879 non-null   int64  \n",
            " 22  redWardsDestroyed             9879 non-null   int64  \n",
            " 23  redFirstBlood                 9879 non-null   int64  \n",
            " 24  redKills                      9879 non-null   int64  \n",
            " 25  redDeaths                     9879 non-null   int64  \n",
            " 26  redAssists                    9879 non-null   int64  \n",
            " 27  redEliteMonsters              9879 non-null   int64  \n",
            " 28  redDragons                    9879 non-null   int64  \n",
            " 29  redHeralds                    9879 non-null   int64  \n",
            " 30  redTowersDestroyed            9879 non-null   int64  \n",
            " 31  redTotalGold                  9879 non-null   int64  \n",
            " 32  redAvgLevel                   9879 non-null   float64\n",
            " 33  redTotalExperience            9879 non-null   int64  \n",
            " 34  redTotalMinionsKilled         9879 non-null   int64  \n",
            " 35  redTotalJungleMinionsKilled   9879 non-null   int64  \n",
            " 36  redGoldDiff                   9879 non-null   int64  \n",
            " 37  redExperienceDiff             9879 non-null   int64  \n",
            " 38  redCSPerMin                   9879 non-null   float64\n",
            " 39  redGoldPerMin                 9879 non-null   float64\n",
            "dtypes: float64(6), int64(34)\n",
            "memory usage: 3.0 MB\n"
          ],
          "name": "stdout"
        }
      ]
    },
    {
      "cell_type": "code",
      "metadata": {
        "id": "sl6yQ_hA4iL-",
        "colab_type": "code",
        "colab": {}
      },
      "source": [
        "from sklearn.model_selection import  StratifiedShuffleSplit\n",
        "from sklearn.model_selection import  train_test_split\n",
        "corr_matrix = data_.corr()\n",
        "#print(corr_matrix[\"blueWins\"].sort_values(ascending=False))\n",
        "#Separate labels and features\n",
        "y_bluewins = data_[\"blueWins\"]\n",
        "X_features = data_[[\"blueTotalGold\", \"blueAvgLevel\", \"blueKills\", \"blueAssists\", \"blueTotalMinionsKilled\", \"blueDragons\", \"blueTotalJungleMinionsKilled\"]] #Let's take only some attributes\n",
        "#Split to have train and test data\n",
        "X_features_train, X_features_test, y_bluewins_train, y_bluewins_test = train_test_split(X_features, y_bluewins, test_size=0.2)\n",
        "\n",
        "\n"
      ],
      "execution_count": 4,
      "outputs": []
    },
    {
      "cell_type": "code",
      "metadata": {
        "id": "ypo3uSMoIkEv",
        "colab_type": "code",
        "colab": {
          "base_uri": "https://localhost:8080/",
          "height": 35
        },
        "outputId": "366fd598-cd07-4b5a-8b2b-607292ce28be"
      },
      "source": [
        "#Let's Scale our data!\n",
        "from sklearn.preprocessing import MinMaxScaler\n",
        "scaler = MinMaxScaler()\n",
        "X_features_train_scaled = scaler.fit_transform(X_features_train)\n",
        "X_features_test_scaled = scaler.fit_transform(X_features_test)\n",
        "X_features_test_scaled.shape"
      ],
      "execution_count": 5,
      "outputs": [
        {
          "output_type": "execute_result",
          "data": {
            "text/plain": [
              "(1976, 7)"
            ]
          },
          "metadata": {
            "tags": []
          },
          "execution_count": 5
        }
      ]
    },
    {
      "cell_type": "markdown",
      "metadata": {
        "id": "Qjo00SySCDmX",
        "colab_type": "text"
      },
      "source": [
        "#**BATCH GRADIENT DESCENT**"
      ]
    },
    {
      "cell_type": "code",
      "metadata": {
        "id": "UC_t48cYCKTA",
        "colab_type": "code",
        "colab": {
          "base_uri": "https://localhost:8080/",
          "height": 578
        },
        "outputId": "c5a85c04-f7fe-486e-a0f5-f318a0a78b93"
      },
      "source": [
        "#First, add a bias parameter X0 = 1\n",
        "from sklearn.metrics import mean_squared_error\n",
        "\n",
        "X_features_w_bias = np.c_[np.ones((7903,1)), X_features_train_scaled]\n",
        "X_features_w_bias_test = np.c_[np.ones((1976,1)), X_features_test_scaled]\n",
        "\n",
        "eta = 0.1 #Learning Rate\n",
        "n_iterations = 10000\n",
        "m = 7903\n",
        "epsilon =  0.454  #Tolerance \n",
        "\n",
        "theta = np.random.randn(8,1)\n",
        "y_for_iters = y_bluewins_train.to_numpy().reshape(m,1)\n",
        "iterations = 0\n",
        "train_errors, test_errors = [], []\n",
        "\n",
        "for iteration in range(n_iterations):\n",
        "  gradients = 2/m * X_features_w_bias.T.dot(X_features_w_bias.dot(theta) - y_for_iters)\n",
        "  theta = theta - eta * gradients\n",
        "  iteration += 1\n",
        "\n",
        "  #Plot predictions \n",
        "  train_predictions = X_features_w_bias.dot(theta)\n",
        "  test_predictions = X_features_w_bias_test.dot(theta)\n",
        "\n",
        "  train_errors.append(mean_squared_error(y_bluewins_train, train_predictions))\n",
        "  test_errors.append(mean_squared_error(y_bluewins_test, test_predictions))\n",
        "  if mean_squared_error(y_bluewins_train, train_predictions) > epsilon:\n",
        "    pass\n",
        "\n",
        "plt.plot(np.sqrt(train_errors), \"r-\", linewidth=1, label=\"train\")\n",
        "plt.plot(np.sqrt(test_errors), \"b-\", linewidth=1, label=\"test\")\n",
        "plt.legend(loc=\"upper right\")\n",
        "plt.xlabel(\"iterations\", fontsize=14)\n",
        "plt.ylabel(\"RMSE\", fontsize=14)\n",
        "plt.axis([0,1000,0.4,1.0])\n",
        "plt.show()\n",
        "\n",
        "print(f'Thetas using Batch gradient descent: {theta}')\n",
        "#For compare purpose, let's compute thetas by the normal equation\n",
        "theta_norm_eq = np.linalg.inv(X_features_w_bias.T.dot(X_features_w_bias)).dot(X_features_w_bias.T).dot(y_for_iters)\n",
        "print(f'Thetas using Normal Equation: {theta_norm_eq}')\n"
      ],
      "execution_count": 53,
      "outputs": [
        {
          "output_type": "display_data",
          "data": {
            "image/png": "[encoded data removed]",
            "text/plain": [
              "<Figure size 432x288 with 1 Axes>"
            ]
          },
          "metadata": {
            "tags": [],
            "needs_background": "light"
          }
        },
        {
          "output_type": "stream",
          "text": [
            "Thetas using Batch gradient descent: [[-0.80895541]\n",
            " [ 0.9525387 ]\n",
            " [ 0.5258611 ]\n",
            " [ 0.26291651]\n",
            " [ 0.03863114]\n",
            " [ 0.40499594]\n",
            " [ 0.12987832]\n",
            " [ 0.21329816]]\n",
            "Thetas using Normal Equation: [[-0.79385663]\n",
            " [ 1.11892614]\n",
            " [ 0.5356694 ]\n",
            " [ 0.12285929]\n",
            " [ 0.0332286 ]\n",
            " [ 0.34719832]\n",
            " [ 0.13120763]\n",
            " [ 0.17949636]]\n"
          ],
          "name": "stdout"
        }
      ]
    },
    {
      "cell_type": "code",
      "metadata": {
        "id": "tH1nk2-00HlA",
        "colab_type": "code",
        "colab": {
          "base_uri": "https://localhost:8080/",
          "height": 54
        },
        "outputId": "1ea0bb2a-7baa-47b1-d393-e264e872fc3e"
      },
      "source": [
        "#Let's apply confussion matrix to analyze\n",
        "from sklearn.metrics import confusion_matrix\n",
        "one_zero_train_redictions = (train_predictions>1)\n",
        "confusion_matrix(one_zero_train_redictions, y_bluewins_train)"
      ],
      "execution_count": 7,
      "outputs": [
        {
          "output_type": "execute_result",
          "data": {
            "text/plain": [
              "array([[3934, 3815],\n",
              "       [   7,  147]])"
            ]
          },
          "metadata": {
            "tags": []
          },
          "execution_count": 7
        }
      ]
    },
    {
      "cell_type": "markdown",
      "metadata": {
        "id": "Ze6QeVsjJUK0",
        "colab_type": "text"
      },
      "source": [
        "# **Stochastic Gradient Descent**"
      ]
    },
    {
      "cell_type": "code",
      "metadata": {
        "id": "P9lHnmozJeY0",
        "colab_type": "code",
        "colab": {
          "base_uri": "https://localhost:8080/",
          "height": 526
        },
        "outputId": "fd7d34c3-547c-4845-b6fe-c98bd993f3e9"
      },
      "source": [
        "#Let's Try a SGD implementation\n",
        "t0, t1 = 5,5 \n",
        "n_epochs = 10\n",
        "theta = np.random.randn(8,1)\n",
        "errors_stoch = []\n",
        "print(theta)\n",
        "def learning_schedule (t):\n",
        "  return t0 / ( t + t1)\n",
        "\n",
        "for epoch in range(n_epochs):\n",
        "  for i in range(m):\n",
        "\n",
        "    random_idx = np.random.randint(m)\n",
        "    x_random = X_features_w_bias[random_idx:random_idx + 1]\n",
        "    y_random = y_for_iters[random_idx:random_idx+1]\n",
        "    gradients = 2 * x_random.T.dot(x_random.dot(theta) - y_random)\n",
        "    eta = learning_schedule(epoch * m + i)\n",
        "    theta = theta - eta * gradients\n",
        "    predictions_stoch_train = X_features_w_bias.dot(thetas) \n",
        "    errors_stoch.append(np.sqrt(mean_squared_error(y_bluewins_train, predictions_mini_train)))\n",
        "\n",
        "errors_mini\n"
      ],
      "execution_count": 89,
      "outputs": [
        {
          "output_type": "stream",
          "text": [
            "[[-0.57062647]\n",
            " [ 0.12811305]\n",
            " [-0.01693389]\n",
            " [-0.65546877]\n",
            " [-0.23523929]\n",
            " [-0.8450075 ]\n",
            " [ 0.60441279]\n",
            " [ 1.28358266]]\n"
          ],
          "name": "stdout"
        },
        {
          "output_type": "execute_result",
          "data": {
            "text/plain": [
              "[1.2874209226210314,\n",
              " 0.5457141279721586,\n",
              " 0.5233522615858683,\n",
              " 0.5173770724160367,\n",
              " 0.5156371926016071,\n",
              " 0.514747844811154,\n",
              " 0.5140210045029081,\n",
              " 0.5134000027140252,\n",
              " 0.5128773685514361,\n",
              " 0.5124627110197902,\n",
              " 0.5120680952030677,\n",
              " 0.5117651001529607,\n",
              " 0.5114370228168256,\n",
              " 0.5111596323456203,\n",
              " 0.5108349790055107,\n",
              " 0.5106100394394096,\n",
              " 0.5103341558446786,\n",
              " 0.510123523677693,\n",
              " 0.5099332894899229,\n",
              " 0.5097695134289503]"
            ]
          },
          "metadata": {
            "tags": []
          },
          "execution_count": 89
        }
      ]
    },
    {
      "cell_type": "markdown",
      "metadata": {
        "id": "Y0dDJbEKSE3V",
        "colab_type": "text"
      },
      "source": [
        "# **Mini-batch Gradient Descent**"
      ]
    },
    {
      "cell_type": "code",
      "metadata": {
        "id": "GUZvPrMTSLlI",
        "colab_type": "code",
        "colab": {
          "base_uri": "https://localhost:8080/",
          "height": 381
        },
        "outputId": "50a3e96f-5c27-41f6-c74f-20d41bb6ef3d"
      },
      "source": [
        "t0, t1 = 5,50 \n",
        "n_epochs = 20\n",
        "thetas = np.random.randn(8,1)\n",
        "n_indexes = 2000\n",
        "errors_mini = []\n",
        "def learning_schedule (t):\n",
        "  return t0 / ( t + t1)\n",
        "for epoch in range(n_epochs):\n",
        "  random_indexes = np.random.choice(m, n_indexes)\n",
        "  \n",
        "  x_random = X_features_w_bias[random_indexes]\n",
        "  y_random = y_for_iters[random_indexes]\n",
        "  gradients = 2 * x_random.T.dot(x_random.dot(thetas) - y_random)\n",
        "  eta = learning_schedule(epoch * m + i)\n",
        "  thetas = thetas - eta * gradients\n",
        "  predictions_mini_train = X_features_w_bias.dot(thetas) \n",
        "  errors_mini.append(np.sqrt(mean_squared_error(y_bluewins_train, predictions_mini_train)))\n",
        "\n",
        "errors_mini"
      ],
      "execution_count": 97,
      "outputs": [
        {
          "output_type": "execute_result",
          "data": {
            "text/plain": [
              "[15.671551319773544,\n",
              " 38.26127262180072,\n",
              " 49.014798655335056,\n",
              " 35.81052924803976,\n",
              " 13.695968962672278,\n",
              " 2.174956071094851,\n",
              " 0.49870644806331577,\n",
              " 0.49429558655562483,\n",
              " 0.49271220224135776,\n",
              " 0.491988121312558,\n",
              " 0.49092408486782885,\n",
              " 0.4901608297276068,\n",
              " 0.48947853991808854,\n",
              " 0.4889314987867484,\n",
              " 0.48847128361412184,\n",
              " 0.48805680771266974,\n",
              " 0.48763639006705517,\n",
              " 0.48726541010739155,\n",
              " 0.48691486465500156,\n",
              " 0.48662975360960486]"
            ]
          },
          "metadata": {
            "tags": []
          },
          "execution_count": 97
        }
      ]
    }
  ]
}