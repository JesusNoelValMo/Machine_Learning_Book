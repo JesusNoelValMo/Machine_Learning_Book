{
  "nbformat": 4,
  "nbformat_minor": 0,
  "metadata": {
    "colab": {
      "name": "Batch_gradient_descent_ex.ipynb",
      "provenance": [],
      "collapsed_sections": []
    },
    "kernelspec": {
      "name": "python3",
      "display_name": "Python 3"
    }
  },
  "cells": [
    {
      "cell_type": "code",
      "metadata": {
        "id": "DfH440Dk23oa",
        "colab_type": "code",
        "colab": {}
      },
      "source": [
        "import pandas as pd\n",
        "import matplotlib.pyplot as plt\n",
        "import numpy as np\n",
        "\n",
        "\n",
        "\n",
        "DOWNLOAD_PATH = \"https://raw.githubusercontent.com/JesusNoelValMo/Machine_Learning_Book/master/Chapter_4_Training_Models/Exercises/high_diamond_ranked_10min.csv\""
      ],
      "execution_count": 7,
      "outputs": []
    },
    {
      "cell_type": "code",
      "metadata": {
        "id": "6dgX0PkE3HSj",
        "colab_type": "code",
        "colab": {}
      },
      "source": [
        "def load_csv(path):\n",
        "  return pd.read_csv(path)"
      ],
      "execution_count": 8,
      "outputs": []
    },
    {
      "cell_type": "code",
      "metadata": {
        "id": "iQBLqhrx3wpx",
        "colab_type": "code",
        "colab": {
          "base_uri": "https://localhost:8080/",
          "height": 806
        },
        "outputId": "7f96d024-f971-4985-9683-7feb9f56f856"
      },
      "source": [
        "data_ = load_csv(DOWNLOAD_PATH)\n",
        "data_.info()"
      ],
      "execution_count": 9,
      "outputs": [
        {
          "output_type": "stream",
          "text": [
            "<class 'pandas.core.frame.DataFrame'>\n",
            "RangeIndex: 9879 entries, 0 to 9878\n",
            "Data columns (total 40 columns):\n",
            " #   Column                        Non-Null Count  Dtype  \n",
            "---  ------                        --------------  -----  \n",
            " 0   gameId                        9879 non-null   int64  \n",
            " 1   blueWins                      9879 non-null   int64  \n",
            " 2   blueWardsPlaced               9879 non-null   int64  \n",
            " 3   blueWardsDestroyed            9879 non-null   int64  \n",
            " 4   blueFirstBlood                9879 non-null   int64  \n",
            " 5   blueKills                     9879 non-null   int64  \n",
            " 6   blueDeaths                    9879 non-null   int64  \n",
            " 7   blueAssists                   9879 non-null   int64  \n",
            " 8   blueEliteMonsters             9879 non-null   int64  \n",
            " 9   blueDragons                   9879 non-null   int64  \n",
            " 10  blueHeralds                   9879 non-null   int64  \n",
            " 11  blueTowersDestroyed           9879 non-null   int64  \n",
            " 12  blueTotalGold                 9879 non-null   int64  \n",
            " 13  blueAvgLevel                  9879 non-null   float64\n",
            " 14  blueTotalExperience           9879 non-null   int64  \n",
            " 15  blueTotalMinionsKilled        9879 non-null   int64  \n",
            " 16  blueTotalJungleMinionsKilled  9879 non-null   int64  \n",
            " 17  blueGoldDiff                  9879 non-null   int64  \n",
            " 18  blueExperienceDiff            9879 non-null   int64  \n",
            " 19  blueCSPerMin                  9879 non-null   float64\n",
            " 20  blueGoldPerMin                9879 non-null   float64\n",
            " 21  redWardsPlaced                9879 non-null   int64  \n",
            " 22  redWardsDestroyed             9879 non-null   int64  \n",
            " 23  redFirstBlood                 9879 non-null   int64  \n",
            " 24  redKills                      9879 non-null   int64  \n",
            " 25  redDeaths                     9879 non-null   int64  \n",
            " 26  redAssists                    9879 non-null   int64  \n",
            " 27  redEliteMonsters              9879 non-null   int64  \n",
            " 28  redDragons                    9879 non-null   int64  \n",
            " 29  redHeralds                    9879 non-null   int64  \n",
            " 30  redTowersDestroyed            9879 non-null   int64  \n",
            " 31  redTotalGold                  9879 non-null   int64  \n",
            " 32  redAvgLevel                   9879 non-null   float64\n",
            " 33  redTotalExperience            9879 non-null   int64  \n",
            " 34  redTotalMinionsKilled         9879 non-null   int64  \n",
            " 35  redTotalJungleMinionsKilled   9879 non-null   int64  \n",
            " 36  redGoldDiff                   9879 non-null   int64  \n",
            " 37  redExperienceDiff             9879 non-null   int64  \n",
            " 38  redCSPerMin                   9879 non-null   float64\n",
            " 39  redGoldPerMin                 9879 non-null   float64\n",
            "dtypes: float64(6), int64(34)\n",
            "memory usage: 3.0 MB\n"
          ],
          "name": "stdout"
        }
      ]
    },
    {
      "cell_type": "code",
      "metadata": {
        "id": "sl6yQ_hA4iL-",
        "colab_type": "code",
        "colab": {}
      },
      "source": [
        "from sklearn.model_selection import  StratifiedShuffleSplit\n",
        "from sklearn.model_selection import  train_test_split\n",
        "corr_matrix = data_.corr()\n",
        "#print(corr_matrix[\"blueWins\"].sort_values(ascending=False))\n",
        "#Separate labels and features\n",
        "y_bluewins = data_[\"blueWins\"]\n",
        "X_features = data_[[\"blueTotalGold\", \"blueAvgLevel\", \"blueKills\", \"blueAssists\", \"blueTotalMinionsKilled\", \"blueDragons\", \"blueTotalJungleMinionsKilled\"]] #Let's take only some attributes\n",
        "#Split to have train and test data\n",
        "X_features_train, X_features_test, y_bluewins_train, y_bluewins_test = train_test_split(X_features, y_bluewins, test_size=0.2)\n",
        "\n",
        "\n"
      ],
      "execution_count": 10,
      "outputs": []
    },
    {
      "cell_type": "code",
      "metadata": {
        "id": "ypo3uSMoIkEv",
        "colab_type": "code",
        "colab": {
          "base_uri": "https://localhost:8080/",
          "height": 34
        },
        "outputId": "52632b99-96bc-4602-fff9-e711d1b049c0"
      },
      "source": [
        "#Let's Scale our data!\n",
        "from sklearn.preprocessing import MinMaxScaler\n",
        "scaler = MinMaxScaler()\n",
        "X_features_train_scaled = scaler.fit_transform(X_features_train)\n",
        "X_features_test_scaled = scaler.fit_transform(X_features_test)\n",
        "X_features_test_scaled.shape"
      ],
      "execution_count": 81,
      "outputs": [
        {
          "output_type": "execute_result",
          "data": {
            "text/plain": [
              "(1976, 7)"
            ]
          },
          "metadata": {
            "tags": []
          },
          "execution_count": 81
        }
      ]
    },
    {
      "cell_type": "markdown",
      "metadata": {
        "id": "Qjo00SySCDmX",
        "colab_type": "text"
      },
      "source": [
        "#**BATCH GRADIENT DESCENT**"
      ]
    },
    {
      "cell_type": "code",
      "metadata": {
        "id": "UC_t48cYCKTA",
        "colab_type": "code",
        "colab": {
          "base_uri": "https://localhost:8080/",
          "height": 556
        },
        "outputId": "4bea2f99-2855-4143-a55e-26499fe42c19"
      },
      "source": [
        "#First, add a bias parameter X0 = 1\n",
        "from sklearn.metrics import mean_squared_error\n",
        "\n",
        "X_features_w_bias = np.c_[np.ones((7903,1)), X_features_train_scaled]\n",
        "X_features_w_bias_test = np.c_[np.ones((1976,1)), X_features_test_scaled]\n",
        "\n",
        "eta = 0.1 #Learning Rate\n",
        "n_iterations = 1000\n",
        "m = 7903\n",
        "epsilon =  0.454  #Tolerance \n",
        "\n",
        "theta = np.random.randn(8,1)\n",
        "y_for_iters = y_bluewins_train.to_numpy().reshape(m,1)\n",
        "iterations = 0\n",
        "train_errors, test_errors = [], []\n",
        "\n",
        "for iteration in range(n_iterations):\n",
        "  gradients = 2/m * X_features_w_bias.T.dot(X_features_w_bias.dot(theta) - y_for_iters)\n",
        "  theta = theta - eta * gradients\n",
        "  iteration += 1\n",
        "\n",
        "  #Plot predictions \n",
        "  train_predictions = X_features_w_bias.dot(theta)\n",
        "  test_predictions = X_features_w_bias_test.dot(theta)\n",
        "\n",
        "  train_errors.append(mean_squared_error(y_bluewins_train, train_predictions))\n",
        "  test_errors.append(mean_squared_error(y_bluewins_test, test_predictions))\n",
        "  if mean_squared_error(y_bluewins_train, train_predictions) > epsilon:\n",
        "    pass\n",
        "\n",
        "plt.plot(np.sqrt(train_errors), \"r-\", linewidth=1, label=\"train\")\n",
        "plt.plot(np.sqrt(test_errors), \"b-\", linewidth=1, label=\"test\")\n",
        "plt.legend(loc=\"upper right\")\n",
        "plt.xlabel(\"iterations\", fontsize=14)\n",
        "plt.ylabel(\"RMSE\", fontsize=14)\n",
        "plt.axis([0,1000,0.4,1.0])\n",
        "plt.show()\n",
        "\n",
        "print(f'Thetas using Batch gradient descent: {theta}')\n",
        "#For compare purpose, let's compute thetas by the normal equation\n",
        "theta_norm_eq = np.linalg.inv(X_features_w_bias.T.dot(X_features_w_bias)).dot(X_features_w_bias.T).dot(y_for_iters)\n",
        "print(f'Thetas using Normal Equation: {theta_norm_eq}')\n"
      ],
      "execution_count": 124,
      "outputs": [
        {
          "output_type": "display_data",
          "data": {
            "image/png": "[encoded data removed]",
            "text/plain": [
              "<Figure size 432x288 with 1 Axes>"
            ]
          },
          "metadata": {
            "tags": [],
            "needs_background": "light"
          }
        },
        {
          "output_type": "stream",
          "text": [
            "Thetas using Batch gradient descent: [[-0.69640692]\n",
            " [ 0.62338259]\n",
            " [ 0.63204376]\n",
            " [ 0.30343435]\n",
            " [ 0.1919261 ]\n",
            " [ 0.28890382]\n",
            " [ 0.12916812]\n",
            " [ 0.21719963]]\n",
            "Thetas using Normal Equation: [[-0.7316792 ]\n",
            " [ 1.06671743]\n",
            " [ 0.52238691]\n",
            " [ 0.16060331]\n",
            " [ 0.04679213]\n",
            " [ 0.294723  ]\n",
            " [ 0.1294379 ]\n",
            " [ 0.19720438]]\n"
          ],
          "name": "stdout"
        }
      ]
    },
    {
      "cell_type": "code",
      "metadata": {
        "id": "kML0OPoM-KNV",
        "colab_type": "code",
        "colab": {}
      },
      "source": [
        ""
      ],
      "execution_count": null,
      "outputs": []
    },
    {
      "cell_type": "code",
      "metadata": {
        "id": "tH1nk2-00HlA",
        "colab_type": "code",
        "colab": {
          "base_uri": "https://localhost:8080/",
          "height": 50
        },
        "outputId": "e6d14d7e-20ee-43bc-ba0b-aad89f276051"
      },
      "source": [
        "#Let's apply confussion matrix to analyze\n",
        "from sklearn.metrics import confusion_matrix\n",
        "one_zero_train_redictions = (train_predictions>1)\n",
        "confusion_matrix(one_zero_train_redictions, y_bluewins_train)"
      ],
      "execution_count": 132,
      "outputs": [
        {
          "output_type": "execute_result",
          "data": {
            "text/plain": [
              "array([[3969, 3823],\n",
              "       [   3,  108]])"
            ]
          },
          "metadata": {
            "tags": []
          },
          "execution_count": 132
        }
      ]
    }
  ]
}