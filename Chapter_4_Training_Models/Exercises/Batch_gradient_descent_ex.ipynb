{
  "nbformat": 4,
  "nbformat_minor": 0,
  "metadata": {
    "colab": {
      "name": "Batch_gradient_descent_ex.ipynb",
      "provenance": [],
      "collapsed_sections": []
    },
    "kernelspec": {
      "name": "python3",
      "display_name": "Python 3"
    }
  },
  "cells": [
    {
      "cell_type": "code",
      "metadata": {
        "id": "DfH440Dk23oa",
        "colab_type": "code",
        "colab": {}
      },
      "source": [
        "import pandas as pd\n",
        "import matplotlib.pyplot as plt\n",
        "import numpy as np\n",
        "\n",
        "\n",
        "\n",
        "DOWNLOAD_PATH = \"https://raw.githubusercontent.com/JesusNoelValMo/Machine_Learning_Book/master/Chapter_4_Training_Models/Exercises/high_diamond_ranked_10min.csv\""
      ],
      "execution_count": null,
      "outputs": []
    },
    {
      "cell_type": "code",
      "metadata": {
        "id": "6dgX0PkE3HSj",
        "colab_type": "code",
        "colab": {}
      },
      "source": [
        "def load_csv(path):\n",
        "  return pd.read_csv(path)"
      ],
      "execution_count": null,
      "outputs": []
    },
    {
      "cell_type": "code",
      "metadata": {
        "id": "iQBLqhrx3wpx",
        "colab_type": "code",
        "colab": {
          "base_uri": "https://localhost:8080/",
          "height": 872
        },
        "outputId": "fb0497f2-2734-483a-8111-0694c1fa9964"
      },
      "source": [
        "data_ = load_csv(DOWNLOAD_PATH)\n",
        "data_.info()"
      ],
      "execution_count": null,
      "outputs": [
        {
          "output_type": "stream",
          "text": [
            "<class 'pandas.core.frame.DataFrame'>\n",
            "RangeIndex: 9879 entries, 0 to 9878\n",
            "Data columns (total 40 columns):\n",
            " #   Column                        Non-Null Count  Dtype  \n",
            "---  ------                        --------------  -----  \n",
            " 0   gameId                        9879 non-null   int64  \n",
            " 1   blueWins                      9879 non-null   int64  \n",
            " 2   blueWardsPlaced               9879 non-null   int64  \n",
            " 3   blueWardsDestroyed            9879 non-null   int64  \n",
            " 4   blueFirstBlood                9879 non-null   int64  \n",
            " 5   blueKills                     9879 non-null   int64  \n",
            " 6   blueDeaths                    9879 non-null   int64  \n",
            " 7   blueAssists                   9879 non-null   int64  \n",
            " 8   blueEliteMonsters             9879 non-null   int64  \n",
            " 9   blueDragons                   9879 non-null   int64  \n",
            " 10  blueHeralds                   9879 non-null   int64  \n",
            " 11  blueTowersDestroyed           9879 non-null   int64  \n",
            " 12  blueTotalGold                 9879 non-null   int64  \n",
            " 13  blueAvgLevel                  9879 non-null   float64\n",
            " 14  blueTotalExperience           9879 non-null   int64  \n",
            " 15  blueTotalMinionsKilled        9879 non-null   int64  \n",
            " 16  blueTotalJungleMinionsKilled  9879 non-null   int64  \n",
            " 17  blueGoldDiff                  9879 non-null   int64  \n",
            " 18  blueExperienceDiff            9879 non-null   int64  \n",
            " 19  blueCSPerMin                  9879 non-null   float64\n",
            " 20  blueGoldPerMin                9879 non-null   float64\n",
            " 21  redWardsPlaced                9879 non-null   int64  \n",
            " 22  redWardsDestroyed             9879 non-null   int64  \n",
            " 23  redFirstBlood                 9879 non-null   int64  \n",
            " 24  redKills                      9879 non-null   int64  \n",
            " 25  redDeaths                     9879 non-null   int64  \n",
            " 26  redAssists                    9879 non-null   int64  \n",
            " 27  redEliteMonsters              9879 non-null   int64  \n",
            " 28  redDragons                    9879 non-null   int64  \n",
            " 29  redHeralds                    9879 non-null   int64  \n",
            " 30  redTowersDestroyed            9879 non-null   int64  \n",
            " 31  redTotalGold                  9879 non-null   int64  \n",
            " 32  redAvgLevel                   9879 non-null   float64\n",
            " 33  redTotalExperience            9879 non-null   int64  \n",
            " 34  redTotalMinionsKilled         9879 non-null   int64  \n",
            " 35  redTotalJungleMinionsKilled   9879 non-null   int64  \n",
            " 36  redGoldDiff                   9879 non-null   int64  \n",
            " 37  redExperienceDiff             9879 non-null   int64  \n",
            " 38  redCSPerMin                   9879 non-null   float64\n",
            " 39  redGoldPerMin                 9879 non-null   float64\n",
            "dtypes: float64(6), int64(34)\n",
            "memory usage: 3.0 MB\n"
          ],
          "name": "stdout"
        }
      ]
    },
    {
      "cell_type": "code",
      "metadata": {
        "id": "sl6yQ_hA4iL-",
        "colab_type": "code",
        "colab": {}
      },
      "source": [
        "from sklearn.model_selection import  StratifiedShuffleSplit\n",
        "from sklearn.model_selection import  train_test_split\n",
        "corr_matrix = data_.corr()\n",
        "#print(corr_matrix[\"blueWins\"].sort_values(ascending=False))\n",
        "#Separate labels and features\n",
        "y_bluewins = data_[\"blueWins\"]\n",
        "X_features = data_[[\"blueTotalGold\", \"blueAvgLevel\", \"blueKills\", \"blueAssists\", \"blueTotalMinionsKilled\", \"blueDragons\", \"blueTotalJungleMinionsKilled\"]] #Let's take only some attributes\n",
        "#Split to have train and test data\n",
        "X_features_train, X_features_test, y_bluewins_train, y_bluewins_test = train_test_split(X_features, y_bluewins, test_size=0.2)\n",
        "\n",
        "\n"
      ],
      "execution_count": null,
      "outputs": []
    },
    {
      "cell_type": "code",
      "metadata": {
        "id": "ypo3uSMoIkEv",
        "colab_type": "code",
        "colab": {
          "base_uri": "https://localhost:8080/",
          "height": 35
        },
        "outputId": "4ce66bb6-aab4-4715-b65c-3fdee87540d4"
      },
      "source": [
        "#Let's Scale our data!\n",
        "from sklearn.preprocessing import MinMaxScaler\n",
        "scaler = MinMaxScaler()\n",
        "X_features_train_scaled = scaler.fit_transform(X_features_train)\n",
        "X_features_train_scaled.shape"
      ],
      "execution_count": null,
      "outputs": [
        {
          "output_type": "execute_result",
          "data": {
            "text/plain": [
              "(7903, 7)"
            ]
          },
          "metadata": {
            "tags": []
          },
          "execution_count": 105
        }
      ]
    },
    {
      "cell_type": "markdown",
      "metadata": {
        "id": "Qjo00SySCDmX",
        "colab_type": "text"
      },
      "source": [
        "#**BATCH GRADIENT DESCENT**"
      ]
    },
    {
      "cell_type": "code",
      "metadata": {
        "id": "UC_t48cYCKTA",
        "colab_type": "code",
        "colab": {
          "base_uri": "https://localhost:8080/",
          "height": 254
        },
        "outputId": "348ed55a-692a-457c-be48-ea174e7f1f83"
      },
      "source": [
        "#First, add a bias parameter X0 = 1\n",
        "\n",
        "X_features_w_bias = np.c_[np.ones((7903,1)), X_features_train_scaled]\n",
        "eta = 0.1 #Learning Rate\n",
        "n_iterations = 10\n",
        "m = 7903\n",
        "theta = np.random.rand(8, 1)\n",
        "for iteration in range(n_iterations):\n",
        "  gradients = 2/m * X_features_w_bias.T.dot(X_features_w_bias.dot(theta) - y_bluewins_train.to_numpy())\n",
        "  theta = theta - eta * gradients\n",
        "\n"
      ],
      "execution_count": null,
      "outputs": [
        {
          "output_type": "execute_result",
          "data": {
            "text/plain": [
              "array([[-0.09340853, -0.4764793 , -0.09340853, ..., -0.09340853,\n",
              "        -0.09340853, -0.09340853],\n",
              "       [ 0.59149365,  0.46127928,  0.59149365, ...,  0.59149365,\n",
              "         0.59149365,  0.59149365],\n",
              "       [-0.18321758, -0.44820789, -0.18321758, ..., -0.18321758,\n",
              "        -0.18321758, -0.18321758],\n",
              "       ...,\n",
              "       [ 0.63155415,  0.39013802,  0.63155415, ...,  0.63155415,\n",
              "         0.63155415,  0.63155415],\n",
              "       [ 0.2742841 ,  0.19143909,  0.2742841 , ...,  0.2742841 ,\n",
              "         0.2742841 ,  0.2742841 ],\n",
              "       [ 0.33602927,  0.1243704 ,  0.33602927, ...,  0.33602927,\n",
              "         0.33602927,  0.33602927]])"
            ]
          },
          "metadata": {
            "tags": []
          },
          "execution_count": 110
        }
      ]
    },
    {
      "cell_type": "code",
      "metadata": {
        "id": "ZKrSplA4N0kl",
        "colab_type": "code",
        "colab": {}
      },
      "source": [
        ""
      ],
      "execution_count": null,
      "outputs": []
    }
  ]
}