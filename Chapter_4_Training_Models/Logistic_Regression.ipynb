{
  "nbformat": 4,
  "nbformat_minor": 0,
  "metadata": {
    "colab": {
      "name": "Logistic_Regression.ipynb",
      "provenance": [],
      "collapsed_sections": []
    },
    "kernelspec": {
      "name": "python3",
      "display_name": "Python 3"
    }
  },
  "cells": [
    {
      "cell_type": "code",
      "metadata": {
        "id": "I0_52WOVcGuQ",
        "colab_type": "code",
        "colab": {}
      },
      "source": [
        "\n",
        "import numpy as np\n",
        "import matplotlib.pyplot as plt"
      ],
      "execution_count": 4,
      "outputs": []
    },
    {
      "cell_type": "code",
      "metadata": {
        "id": "guIQsQUadiQt",
        "colab_type": "code",
        "colab": {
          "base_uri": "https://localhost:8080/",
          "height": 247
        },
        "outputId": "1ff775c9-fb99-4f3e-fdfa-785c812be199"
      },
      "source": [
        "\n",
        "#Logistic Function\n",
        "t = np.linspace(-10, 10, 200)\n",
        "sigma = 1 / (1 + np.exp(-t))\n",
        "plt.figure(figsize=(9,3))\n",
        "plt.plot([-10,10], [0,0], \"k:\")\n",
        "plt.plot([-10,10], [0.5,0.5], \"k:\")\n",
        "plt.plot([-10,10], [1,1], \"k:\")\n",
        "\n",
        "plt.plot([0,0], [0,1], \"k-\")\n",
        "plt.plot([-10,-10], [0,1], \"k-\")\n",
        "plt.plot([10,10], [0,1], \"k-\")\n",
        "plt.xlabel(\"t\", fontsize=14)\n",
        "\n",
        "plt.plot(t, sigma, \"b-\", linewidth=2, label=r\"$\\sigma(t) = \\frac{1}{1+e^{-t}}$\")\n",
        "plt.legend(loc=\"upper left\", fontsize=20)"
      ],
      "execution_count": 37,
      "outputs": [
        {
          "output_type": "execute_result",
          "data": {
            "text/plain": [
              "<matplotlib.legend.Legend at 0x7f5ccf90cda0>"
            ]
          },
          "metadata": {
            "tags": []
          },
          "execution_count": 37
        },
        {
          "output_type": "display_data",
          "data": {
            "image/png": "[encoded data removed]",
            "text/plain": [
              "<Figure size 648x216 with 1 Axes>"
            ]
          },
          "metadata": {
            "tags": [],
            "needs_background": "light"
          }
        }
      ]
    },
    {
      "cell_type": "code",
      "metadata": {
        "id": "0n-yZrj2fYDy",
        "colab_type": "code",
        "colab": {}
      },
      "source": [
        ""
      ],
      "execution_count": null,
      "outputs": []
    }
  ]
}