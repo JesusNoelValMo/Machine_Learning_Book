{
  "nbformat": 4,
  "nbformat_minor": 0,
  "metadata": {
    "colab": {
      "name": "Polynomial_Regression.ipynb",
      "provenance": [],
      "collapsed_sections": []
    },
    "kernelspec": {
      "name": "python3",
      "display_name": "Python 3"
    }
  },
  "cells": [
    {
      "cell_type": "code",
      "metadata": {
        "id": "dT0TCkdKb5sI",
        "colab_type": "code",
        "colab": {
          "base_uri": "https://localhost:8080/",
          "height": 314
        },
        "outputId": "bcf0aada-4986-4497-cfd1-6560a67a69b3"
      },
      "source": [
        "import numpy as np\n",
        "import matplotlib.pyplot as plt\n",
        "\n",
        "#For an example, let's create some nonlinear data\n",
        "\n",
        "m = 100\n",
        "X = 6 * np.random.rand(m, 1) - 3 \n",
        "y = 0.5 * X**2  + X +  2 + np.random.rand(m,1)\n",
        "plt.plot(X, y, \"b.\",alpha = 0.5)\n",
        "plt.xlabel(\"X1\")\n",
        "plt.ylabel(\"y\")\n",
        "plt.figure(figsize=(10,7))\n",
        "\n",
        "\n"
      ],
      "execution_count": 97,
      "outputs": [
        {
          "output_type": "execute_result",
          "data": {
            "text/plain": [
              "<Figure size 720x504 with 0 Axes>"
            ]
          },
          "metadata": {
            "tags": []
          },
          "execution_count": 97
        },
        {
          "output_type": "display_data",
          "data": {
            "image/png": "[encoded data removed]",
            "text/plain": [
              "<Figure size 432x288 with 1 Axes>"
            ]
          },
          "metadata": {
            "tags": [],
            "needs_background": "light"
          }
        },
        {
          "output_type": "display_data",
          "data": {
            "text/plain": [
              "<Figure size 720x504 with 0 Axes>"
            ]
          },
          "metadata": {
            "tags": []
          }
        }
      ]
    },
    {
      "cell_type": "code",
      "metadata": {
        "id": "mN3GN_me8wEt",
        "colab_type": "code",
        "colab": {
          "base_uri": "https://localhost:8080/",
          "height": 35
        },
        "outputId": "3a6b9de7-cd28-48d3-db01-600fb571f3e9"
      },
      "source": [
        "#Let's transform our training data ,a dding the square of each feature in the training set as a new feature \n",
        "from sklearn.preprocessing import PolynomialFeatures\n",
        "from sklearn.linear_model import LinearRegression\n",
        "\n",
        "poly_features = PolynomialFeatures(degree = 2, include_bias = False)\n",
        "X_poly = poly_features.fit_transform(X)\n",
        "#print(f\"For X: {X[0]} and X_poly: {X_poly[0]}\")\n",
        "\n",
        "lin_reg = LinearRegression()\n",
        "lin_reg.fit(X_poly, y)\n",
        "lin_reg.intercept_, lin_reg.coef_\n",
        "#the model's function prediction is\n",
        "# y(hat) = .51X1**2 + 1.0034X1 + 2.458\n",
        "#The original function is \n",
        "#y = .5X1**2 + X1 + 2.0\n"
      ],
      "execution_count": 98,
      "outputs": [
        {
          "output_type": "execute_result",
          "data": {
            "text/plain": [
              "(array([2.45800394]), array([[1.00348445, 0.51060958]]))"
            ]
          },
          "metadata": {
            "tags": []
          },
          "execution_count": 98
        }
      ]
    },
    {
      "cell_type": "code",
      "metadata": {
        "id": "qESOt17kBVp6",
        "colab_type": "code",
        "colab": {
          "base_uri": "https://localhost:8080/",
          "height": 289
        },
        "outputId": "3a2a66f0-8a5d-490e-b91c-a47014013216"
      },
      "source": [
        "\n",
        "#THIS PLOT GOES BAD BECAUSE THE X Values are not sorted\n",
        "#i.e my first x value is randomly .05, the next value is 1.5 and the next .2 \n",
        "#the plot will jump form .05 to 1.5 to .2 in X... with the correspongin y\n",
        "\n",
        "# y_predict = lin_reg.predict(X_poly)\n",
        "# plt.plot(X, y, \"b.\",alpha = 0.5)\n",
        "# plt.plot(X, y_predict, \"r-\")\n",
        "# plt.xlabel(\"X1\")\n",
        "# plt.ylabel(\"y\")\n",
        "# plt.figure(figsize=(10,7))\n",
        "# plt.show()\n",
        "\n",
        "\n",
        "X_new=np.linspace(-3, 3, 100).reshape(100, 1) #here we have sort values from -3 to 3\n",
        "X_new_poly = poly_features.transform(X_new)\n",
        "y_new = lin_reg.predict(X_new_poly)\n",
        "plt.plot(X, y, \"b.\")\n",
        "plt.plot(X_new, y_new, \"r-\",linewidth=2, label=\"Predictions\")\n",
        "plt.xlabel(\"$X_1$\", fontsize=18) #$ and _ for sub 1\n",
        "plt.ylabel(\"$y$\", rotation = 0, fontsize = 18)\n",
        "plt.legend(loc = \"upper left\", fontsize=14)\n",
        "plt.show()\n"
      ],
      "execution_count": 170,
      "outputs": [
        {
          "output_type": "display_data",
          "data": {
            "image/png": "[encoded data removed]",
            "text/plain": [
              "<Figure size 432x288 with 1 Axes>"
            ]
          },
          "metadata": {
            "tags": [],
            "needs_background": "light"
          }
        }
      ]
    }
  ]
}