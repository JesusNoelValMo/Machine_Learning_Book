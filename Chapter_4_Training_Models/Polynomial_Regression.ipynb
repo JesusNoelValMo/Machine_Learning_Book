{
  "nbformat": 4,
  "nbformat_minor": 0,
  "metadata": {
    "colab": {
      "name": "Polynomial_Regression.ipynb",
      "provenance": [],
      "collapsed_sections": []
    },
    "kernelspec": {
      "name": "python3",
      "display_name": "Python 3"
    }
  },
  "cells": [
    {
      "cell_type": "code",
      "metadata": {
        "id": "dT0TCkdKb5sI",
        "colab_type": "code",
        "colab": {
          "base_uri": "https://localhost:8080/",
          "height": 313
        },
        "outputId": "eedf10ac-2f0e-4131-ad84-94d169a520de"
      },
      "source": [
        "import numpy as np\n",
        "import matplotlib.pyplot as plt\n",
        "\n",
        "#For an example, let's create some nonlinear data\n",
        "\n",
        "m = 100\n",
        "X = 6 * np.random.rand(m, 1) - 3 \n",
        "y = 0.5 * X**2  + X +  2 + np.random.rand(m,1)\n",
        "plt.plot(X, y, \"b.\",alpha = 0.5)\n",
        "plt.xlabel(\"X1\")\n",
        "plt.ylabel(\"y\")\n",
        "plt.figure(figsize=(10,7))\n",
        "\n",
        "\n"
      ],
      "execution_count": 1,
      "outputs": [
        {
          "output_type": "execute_result",
          "data": {
            "text/plain": [
              "<Figure size 720x504 with 0 Axes>"
            ]
          },
          "metadata": {
            "tags": []
          },
          "execution_count": 1
        },
        {
          "output_type": "display_data",
          "data": {
            "image/png": "[encoded data removed]",
            "text/plain": [
              "<Figure size 432x288 with 1 Axes>"
            ]
          },
          "metadata": {
            "tags": [],
            "needs_background": "light"
          }
        },
        {
          "output_type": "display_data",
          "data": {
            "text/plain": [
              "<Figure size 720x504 with 0 Axes>"
            ]
          },
          "metadata": {
            "tags": []
          }
        }
      ]
    },
    {
      "cell_type": "code",
      "metadata": {
        "id": "mN3GN_me8wEt",
        "colab_type": "code",
        "colab": {
          "base_uri": "https://localhost:8080/",
          "height": 34
        },
        "outputId": "06c64d4a-c3e2-4185-fe97-a1555830b163"
      },
      "source": [
        "#Let's transform our training data ,a dding the square of each feature in the training set as a new feature \n",
        "from sklearn.preprocessing import PolynomialFeatures\n",
        "from sklearn.linear_model import LinearRegression\n",
        "\n",
        "poly_features = PolynomialFeatures(degree = 2, include_bias = False)\n",
        "X_poly = poly_features.fit_transform(X)\n",
        "#print(f\"For X: {X[0]} and X_poly: {X_poly[0]}\")\n",
        "\n",
        "lin_reg = LinearRegression()\n",
        "lin_reg.fit(X_poly, y)\n",
        "lin_reg.intercept_, lin_reg.coef_\n",
        "#the model's function prediction is\n",
        "# y(hat) = .51X1**2 + 1.0034X1 + 2.458\n",
        "#The original function is \n",
        "#y = .5X1**2 + X1 + 2.0\n"
      ],
      "execution_count": 2,
      "outputs": [
        {
          "output_type": "execute_result",
          "data": {
            "text/plain": [
              "(array([2.50068966]), array([[1.01839004, 0.49537259]]))"
            ]
          },
          "metadata": {
            "tags": []
          },
          "execution_count": 2
        }
      ]
    },
    {
      "cell_type": "code",
      "metadata": {
        "id": "qESOt17kBVp6",
        "colab_type": "code",
        "colab": {
          "base_uri": "https://localhost:8080/",
          "height": 289
        },
        "outputId": "ecdfe917-52ae-4749-cec7-32a1f9689a64"
      },
      "source": [
        "\n",
        "#THIS PLOT GOES BAD BECAUSE THE X Values are not sorted\n",
        "#i.e my first x value is randomly .05, the next value is 1.5 and the next .2 \n",
        "#the plot will jump form .05 to 1.5 to .2 in X... with the correspondgin y\n",
        "\n",
        "# y_predict = lin_reg.predict(X_poly)\n",
        "# plt.plot(X, y, \"b.\",alpha = 0.5)\n",
        "# plt.plot(X, y_predict, \"r-\")\n",
        "# plt.xlabel(\"X1\")\n",
        "# plt.ylabel(\"y\")\n",
        "# plt.figure(figsize=(10,7))\n",
        "# plt.show()\n",
        "\n",
        "\n",
        "X_new=np.linspace(-3, 3, 100).reshape(100, 1) #here we have sort values from -3 to 3\n",
        "X_new_poly = poly_features.transform(X_new)\n",
        "y_new = lin_reg.predict(X_new_poly)\n",
        "plt.plot(X, y, \"b.\")\n",
        "plt.plot(X_new, y_new, \"r-\",linewidth=2, label=\"Predictions\")\n",
        "plt.xlabel(\"$X_1$\", fontsize=18) #$ and _ for sub 1\n",
        "plt.ylabel(\"$y$\", rotation = 0, fontsize = 18)\n",
        "plt.legend(loc = \"upper left\", fontsize=14)\n",
        "plt.show()\n"
      ],
      "execution_count": 3,
      "outputs": [
        {
          "output_type": "display_data",
          "data": {
            "image/png": "[encoded data removed]",
            "text/plain": [
              "<Figure size 432x288 with 1 Axes>"
            ]
          },
          "metadata": {
            "tags": [],
            "needs_background": "light"
          }
        }
      ]
    },
    {
      "cell_type": "markdown",
      "metadata": {
        "id": "po9BH_1eY8RK",
        "colab_type": "text"
      },
      "source": [
        "#*Learning Curves*\n"
      ]
    },
    {
      "cell_type": "code",
      "metadata": {
        "id": "1kFQ-0afZGOi",
        "colab_type": "code",
        "colab": {
          "base_uri": "https://localhost:8080/",
          "height": 305
        },
        "outputId": "0e0f107a-1e04-46f9-841f-bad2e02cec54"
      },
      "source": [
        "#Let's comparte how a high-degree polynomial regressor,Linear regressor and a quadratic model  fits \n",
        "#The training data\n",
        "from sklearn.preprocessing import StandardScaler\n",
        "from sklearn.pipeline import Pipeline\n",
        "\n",
        "for style, width, degree in ((\"g-\", 1, 300), (\"b--\", 2, 2), (\"r-+\", 2, 1)):\n",
        "  polybig_features = PolynomialFeatures(degree=degree, include_bias=False)\n",
        "  std_scaler = StandardScaler()\n",
        "  lin_ref = LinearRegression()\n",
        "\n",
        "  polynomial_regression_pipeline = Pipeline([\n",
        "    (\"poly_features\", polybig_features),\n",
        "    (\"std_scaler\", std_scaler),\n",
        "    (\"lin_reg\", lin_reg),\n",
        "  ])\n",
        "\n",
        "  polynomial_regression_pipeline.fit(X, y)\n",
        "  y_newbig = polynomial_regression_pipeline.predict(X_new)\n",
        "  plt.plot(X_new, y_newbig, style, label=str(degree), linewidth=width)\n",
        "\n",
        "plt.plot(X, y, \"b.\", linewidth=3)\n",
        "plt.title(\"high degree polynomial plot\")\n",
        "plt.legend(loc='upper left')\n",
        "plt.xlabel(\"$X_1$\", fontsize = 18)\n",
        "plt.ylabel(\"$y$\", fontsize= 18, rotation = 0)\n",
        "\n",
        "plt.axis([-3,3,0,10])\n",
        "plt.show()"
      ],
      "execution_count": 4,
      "outputs": [
        {
          "output_type": "display_data",
          "data": {
            "image/png": "[encoded data removed]",
            "text/plain": [
              "<Figure size 432x288 with 1 Axes>"
            ]
          },
          "metadata": {
            "tags": [],
            "needs_background": "light"
          }
        }
      ]
    },
    {
      "cell_type": "code",
      "metadata": {
        "id": "G4X-GpKQeYH5",
        "colab_type": "code",
        "colab": {}
      },
      "source": [
        "#Now let's do a function that, given some training data, plots the learning curve of a model\n",
        "from sklearn.model_selection import train_test_split\n",
        "from sklearn.metrics import mean_squared_error\n",
        "\n",
        "def plot_learning_curve(model, X, y):\n",
        "    X_train, X_val, y_train, y_val = train_test_split(X,y, test_size = 0.2, random_state=10)\n",
        "    train_errors, val_errors = [], []\n",
        "    for m in range(1, len(X_train)):\n",
        "        model.fit(X_train[:m], y_train[:m])\n",
        "        y_train_predict = model.predict(X_train[:m])\n",
        "        y_val_predict = model.predict(X_val)\n",
        "        train_errors.append(mean_squared_error(y_train[:m],y_train_predict))\n",
        "        val_errors.append(mean_squared_error(y_val, y_val_predict))\n",
        "\n",
        "    plt.plot(np.sqrt(train_errors), \"r-+\", linewidth=2, label = \"train\")\n",
        "    plt.plot(np.sqrt(val_errors), \"b-\", linewidth=3, label = \"val\")\n",
        "    plt.legend(loc=\"upper right\", fontsize=14)\n",
        "    plt.xlabel(\"Training set size\", fontsize=14)\n",
        "    plt.ylabel(\"RMSE\", fontsize=14)\n",
        "    \n",
        "\n"
      ],
      "execution_count": 5,
      "outputs": []
    },
    {
      "cell_type": "code",
      "metadata": {
        "id": "0NqUvmW9hOUq",
        "colab_type": "code",
        "colab": {
          "base_uri": "https://localhost:8080/",
          "height": 287
        },
        "outputId": "5de32876-63ae-456e-adee-2ea39dea60d1"
      },
      "source": [
        "lin_reg = LinearRegression()\n",
        "plot_learning_curve(lin_reg, X, y)\n",
        "plt.axis([0,80,0,3])\n",
        "plt.show()\n"
      ],
      "execution_count": 6,
      "outputs": [
        {
          "output_type": "display_data",
          "data": {
            "image/png": "[encoded data removed]",
            "text/plain": [
              "<Figure size 432x288 with 1 Axes>"
            ]
          },
          "metadata": {
            "tags": [],
            "needs_background": "light"
          }
        }
      ]
    },
    {
      "cell_type": "code",
      "metadata": {
        "id": "aiBio7iJlrLF",
        "colab_type": "code",
        "colab": {
          "base_uri": "https://localhost:8080/",
          "height": 283
        },
        "outputId": "b51504dd-8786-4c45-fdcd-c01eeb46bab7"
      },
      "source": [
        "from sklearn.pipeline import Pipeline\n",
        "polynomial_regression = Pipeline([\n",
        "    (\"poly_features\", PolynomialFeatures(degree=10, include_bias=False)),\n",
        "    (\"lin_reg\", LinearRegression()),\n",
        "    \n",
        "])\n",
        "plot_learning_curve(polynomial_regression, X, y)"
      ],
      "execution_count": 7,
      "outputs": [
        {
          "output_type": "display_data",
          "data": {
            "image/png": "[encoded data removed]",
            "text/plain": [
              "<Figure size 432x288 with 1 Axes>"
            ]
          },
          "metadata": {
            "tags": [],
            "needs_background": "light"
          }
        }
      ]
    },
    {
      "cell_type": "markdown",
      "metadata": {
        "id": "l-gWZwgIedj3",
        "colab_type": "text"
      },
      "source": [
        "#*Regularized Linear Models*"
      ]
    },
    {
      "cell_type": "code",
      "metadata": {
        "id": "DXDjLP7heoYH",
        "colab_type": "code",
        "colab": {
          "base_uri": "https://localhost:8080/",
          "height": 34
        },
        "outputId": "0adaba88-8458-4a3f-9cbd-7b4c01d9d9e3"
      },
      "source": [
        "#Preforming Ridge Regression with scikit-learn using a close-form solution\n",
        "from sklearn.linear_model import Ridge\n",
        "ridge_reg = Ridge(alpha=1, solver=\"cholesky\")\n",
        "ridge_reg.fit(X, y)\n",
        "ridge_reg.predict([[1.5]])"
      ],
      "execution_count": 8,
      "outputs": [
        {
          "output_type": "execute_result",
          "data": {
            "text/plain": [
              "array([[5.22091126]])"
            ]
          },
          "metadata": {
            "tags": []
          },
          "execution_count": 8
        }
      ]
    },
    {
      "cell_type": "code",
      "metadata": {
        "id": "K-PkBkWKfa20",
        "colab_type": "code",
        "colab": {
          "base_uri": "https://localhost:8080/",
          "height": 34
        },
        "outputId": "85d8b8dc-d7cb-4179-b336-d4e48f13ccb0"
      },
      "source": [
        "#Using Stochastical Gradient Descent\n",
        "from sklearn.linear_model import SGDRegressor\n",
        "\n",
        "sgd_reg = SGDRegressor(penalty='l2')\n",
        "sgd_reg.fit(X, y.ravel())\n",
        "sgd_reg.predict([[1.5]])"
      ],
      "execution_count": 9,
      "outputs": [
        {
          "output_type": "execute_result",
          "data": {
            "text/plain": [
              "array([5.20330273])"
            ]
          },
          "metadata": {
            "tags": []
          },
          "execution_count": 9
        }
      ]
    },
    {
      "cell_type": "code",
      "metadata": {
        "id": "agwuAs0CRYzc",
        "colab_type": "code",
        "colab": {
          "base_uri": "https://localhost:8080/",
          "height": 34
        },
        "outputId": "eb779a1a-058c-4be0-eadb-82e7747e0808"
      },
      "source": [
        "#Scikit-Learn using Lasso class\n",
        "from sklearn.linear_model import Lasso\n",
        "lasso_reg = Lasso(alpha=0.1)\n",
        "lasso_reg.fit(X, y )\n",
        "lasso_reg.predict([[1.5]])"
      ],
      "execution_count": 10,
      "outputs": [
        {
          "output_type": "execute_result",
          "data": {
            "text/plain": [
              "array([5.1680901])"
            ]
          },
          "metadata": {
            "tags": []
          },
          "execution_count": 10
        }
      ]
    },
    {
      "cell_type": "code",
      "metadata": {
        "id": "3QeWxclSu7pn",
        "colab_type": "code",
        "colab": {
          "base_uri": "https://localhost:8080/",
          "height": 34
        },
        "outputId": "1eb88458-0997-48a9-93a8-e44e98030e1e"
      },
      "source": [
        "#Using ElasticNet with Scikit-learn\n",
        "from sklearn.linear_model import ElasticNet\n",
        "ENet = ElasticNet(alpha=0.1, l1_ratio= 0.5) #alpha is how much you want to regularize you features\n",
        "                                            #l1_ratio is the mix ratio between a Lasso regression and a ridge regression\n",
        "                                            \n",
        "ENet.fit(X,y)\n",
        "ENet.predict([[1.5]])"
      ],
      "execution_count": 12,
      "outputs": [
        {
          "output_type": "execute_result",
          "data": {
            "text/plain": [
              "array([5.17055199])"
            ]
          },
          "metadata": {
            "tags": []
          },
          "execution_count": 12
        }
      ]
    },
    {
      "cell_type": "markdown",
      "metadata": {
        "id": "GGIC_qNi0xpx",
        "colab_type": "text"
      },
      "source": [
        "# **Early Stopping**"
      ]
    },
    {
      "cell_type": "code",
      "metadata": {
        "id": "VlpjOBEY02DO",
        "colab_type": "code",
        "colab": {}
      },
      "source": [
        "np.random.seed(42)\n",
        "m = 100\n",
        "X = 6 * np.random.rand(m,1) - 3 \n",
        "y = 2 + X + 0.5 * X**2 + np.random.randn(m,1)\n",
        "\n",
        "\n",
        "X_train, X_val, y_train, y_val = train_test_split(X[:50], y[:50].ravel(), test_size=0.5, random_state = 10)\n"
      ],
      "execution_count": 58,
      "outputs": []
    },
    {
      "cell_type": "code",
      "metadata": {
        "id": "qDKpJADa4AVT",
        "colab_type": "code",
        "colab": {}
      },
      "source": [
        "from copy import deepcopy\n",
        "\n",
        "#Create our Pipeline for transform the data\n",
        "poly_scaler = Pipeline([\n",
        "           (\"poly_features\", PolynomialFeatures(degree=90, include_bias=False)), \n",
        "           (\"std_scaler\", StandardScaler())\n",
        "\n",
        "])\n",
        "\n",
        "\n",
        "#Use our Pipeline of transformers\n",
        "X_train_poly_scaled = poly_scaler.fit_transform(X_train)\n",
        "X_val_poly_scaled = poly_scaler.fit_transform(X_val)\n",
        "\n",
        "#Instance our Stochastic Gradient Descent Regressor\n",
        "sgd_reg = SGDRegressor(max_iter=1, tol=-np.infty, warm_start=True, penalty=None, \n",
        "                       learning_rate = \"constant\", eta0=0.0005, random_state = 42) #-np.infty = a negative infinit number\n",
        "\n",
        "\n",
        "minimun_val_error = float(\"inf\")\n",
        "\n",
        "best_epoch = None\n",
        "best_model = None\n",
        "\n",
        "\n",
        "for epoch in range(1000):\n",
        "  sgd_reg.fit(X_train_poly_scaled, y_train) #Continues where it left off \n",
        "  y_val_predict = sgd_reg.predict(X_val_poly_scaled)\n",
        "  val_err  = mean_squared_error(y_val, y_val_predict)\n",
        "  if val_err < minimun_val_error:\n",
        "    minimun_val_error = val_err\n",
        "    best_epoch = epoch\n",
        "    best_model = deepcopy(sgd_reg)\n"
      ],
      "execution_count": 64,
      "outputs": []
    },
    {
      "cell_type": "code",
      "metadata": {
        "id": "wnORKpzaAgC5",
        "colab_type": "code",
        "colab": {
          "base_uri": "https://localhost:8080/",
          "height": 283
        },
        "outputId": "acdbc57d-b251-402e-d9f2-df2b5fe07f2a"
      },
      "source": [
        "#Let's Create our graph with a new sgd regressor \n",
        "#the np.infty is to the sgd_reg don't stop fiting, it doesn't matter \n",
        "sgd_reg = SGDRegressor(max_iter=1, tol=-np.infty, warm_start=True, penalty=None,\n",
        "                       learning_rate = \"constant\", eta0=0.0005, random_state = 42)\n",
        "\n",
        "n_epochs = 500\n",
        "train_errors, val_errors = [], []\n",
        "\n",
        "for epoch in range(n_epochs):\n",
        "  sgd_reg.fit(X_train_poly_scaled, y_train)\n",
        "  y_train_predict = sgd_reg.predict(X_train_poly_scaled)\n",
        "  y_val_predict = sgd_reg.predict(X_val_poly_scaled)\n",
        "  train_errors.append(mean_squared_error(y_train, y_train_predict))\n",
        "  val_errors.append(mean_squared_error(y_val, y_val_predict))\n",
        "\n",
        "best_epoch = np.argmin(val_errors) #np.argmin returns the index of the minimun value of validation errors \n",
        "best_val_rmse = np.sqrt(val_errors[best_epoch]) \n",
        "\n",
        "#Do the notation of a specific point, in this case, showing the point of best_epoch and it rmse\n",
        "plt.annotate('Best model',\n",
        "             xy=(best_epoch, best_val_rmse), \n",
        "             xytext = (best_epoch,best_val_rmse + 1), \n",
        "             ha=\"center\",\n",
        "             arrowprops = dict(facecolor=\"black\", shrink=0.05), \n",
        "             fontsize = 16,\n",
        "             )\n",
        "\n",
        "best_val_rmse -= 0.03 #just to make the graph look better \n",
        "\n",
        "plt.plot([0, n_epochs], [best_val_rmse, best_val_rmse], \"k:\", linewidth=2)\n",
        "plt.plot(np.sqrt(val_errors), \"b-\", linewidth=3, label = \"Validation set\")\n",
        "plt.plot(np.sqrt(train_errors), \"r--\", linewidth=3, label=\"Training set\")\n",
        "plt.legend(loc=\"upper right\", fontsize=14)\n",
        "plt.ylabel(\"RMSE\", fontsize=14)\n",
        "plt.xlabel(\"Epoch\", fontsize=14)\n",
        "plt.show()\n"
      ],
      "execution_count": 65,
      "outputs": [
        {
          "output_type": "display_data",
          "data": {
            "image/png": "[encoded data removed]",
            "text/plain": [
              "<Figure size 432x288 with 1 Axes>"
            ]
          },
          "metadata": {
            "tags": [],
            "needs_background": "light"
          }
        }
      ]
    },
    {
      "cell_type": "code",
      "metadata": {
        "id": "A1bDzbB2H_0n",
        "colab_type": "code",
        "colab": {
          "base_uri": "https://localhost:8080/",
          "height": 136
        },
        "outputId": "0de09146-bffb-451c-cdd8-ce6bd348c288"
      },
      "source": [
        "best_epoch, best_model"
      ],
      "execution_count": 66,
      "outputs": [
        {
          "output_type": "execute_result",
          "data": {
            "text/plain": [
              "(443,\n",
              " SGDRegressor(alpha=0.0001, average=False, early_stopping=False, epsilon=0.1,\n",
              "              eta0=0.0005, fit_intercept=True, l1_ratio=0.15,\n",
              "              learning_rate='constant', loss='squared_loss', max_iter=1,\n",
              "              n_iter_no_change=5, penalty=None, power_t=0.25, random_state=42,\n",
              "              shuffle=True, tol=-inf, validation_fraction=0.1, verbose=0,\n",
              "              warm_start=True))"
            ]
          },
          "metadata": {
            "tags": []
          },
          "execution_count": 66
        }
      ]
    }
  ]
}