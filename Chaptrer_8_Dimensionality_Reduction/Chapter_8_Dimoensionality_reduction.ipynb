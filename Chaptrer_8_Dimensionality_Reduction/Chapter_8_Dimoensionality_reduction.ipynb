{
  "nbformat": 4,
  "nbformat_minor": 0,
  "metadata": {
    "colab": {
      "name": "Chapter_8_Dimoensionality_reduction.ipynb",
      "provenance": []
    },
    "kernelspec": {
      "name": "python3",
      "display_name": "Python 3"
    }
  },
  "cells": [
    {
      "cell_type": "code",
      "metadata": {
        "id": "d53PHL5TdV8U"
      },
      "source": [
        "from sklearn.datasets import fetch_openml\n",
        "\n",
        "mnist_ = fetch_openml(name=\"mnist_784\", version='active')"
      ],
      "execution_count": 1,
      "outputs": []
    },
    {
      "cell_type": "code",
      "metadata": {
        "id": "ojSEOEs7drLf"
      },
      "source": [
        "X = mnist_[\"data\"]\n",
        "y =mnist_[\"target\"]"
      ],
      "execution_count": 2,
      "outputs": []
    },
    {
      "cell_type": "code",
      "metadata": {
        "id": "TxffK6EPd6u-"
      },
      "source": [
        "from sklearn.decomposition import PCA\n",
        "pca = PCA(n_components=0.95)"
      ],
      "execution_count": 5,
      "outputs": []
    },
    {
      "cell_type": "code",
      "metadata": {
        "id": "JwC1ro7geBE2"
      },
      "source": [
        "X_reduced = pca.fit_transform(X)\n",
        "X_recovered = pca.inverse_transform(X_reduced)"
      ],
      "execution_count": 8,
      "outputs": []
    },
    {
      "cell_type": "code",
      "metadata": {
        "id": "YEpbhx9-fLn2",
        "outputId": "db15f466-c12a-4441-c512-12d9c47187e3",
        "colab": {
          "base_uri": "https://localhost:8080/"
        }
      },
      "source": [
        "X_recovered.shape"
      ],
      "execution_count": 13,
      "outputs": [
        {
          "output_type": "execute_result",
          "data": {
            "text/plain": [
              "(70000, 784)"
            ]
          },
          "metadata": {
            "tags": []
          },
          "execution_count": 13
        }
      ]
    },
    {
      "cell_type": "code",
      "metadata": {
        "id": "Fy_43SyfeeM2",
        "outputId": "d4cb22c6-c614-4bfd-8282-53ca4526d5c6",
        "colab": {
          "base_uri": "https://localhost:8080/"
        }
      },
      "source": [
        "pca.explained_variance_ratio_"
      ],
      "execution_count": 10,
      "outputs": [
        {
          "output_type": "execute_result",
          "data": {
            "text/plain": [
              "array([0.09746116, 0.07155445, 0.06149531, 0.05403385, 0.04888934,\n",
              "       0.04305227, 0.03278262, 0.02889642, 0.02758364, 0.0234214 ,\n",
              "       0.02106689, 0.02037553, 0.01707064, 0.0169402 , 0.01583382,\n",
              "       0.01486345, 0.01319358, 0.01279014, 0.01187272, 0.01152937,\n",
              "       0.0106604 , 0.01009794, 0.00959151, 0.00909635, 0.00883287,\n",
              "       0.00838818, 0.00809832, 0.00785718, 0.00740262, 0.00690014,\n",
              "       0.00656144, 0.0064547 , 0.00600819, 0.00585612, 0.00566754,\n",
              "       0.00543471, 0.00504717, 0.00487079, 0.00478955, 0.00467594,\n",
              "       0.00454369, 0.00444918, 0.00418217, 0.00396164, 0.00383708,\n",
              "       0.00375785, 0.00361426, 0.00349025, 0.00338732, 0.00319696,\n",
              "       0.00316854, 0.00310145, 0.0029648 , 0.00287101, 0.00282514,\n",
              "       0.00269423, 0.00268392, 0.00256509, 0.00253168, 0.00244648,\n",
              "       0.00239702, 0.00238581, 0.00229234, 0.00220949, 0.0021306 ,\n",
              "       0.00206317, 0.00202781, 0.00195035, 0.00191471, 0.0018855 ,\n",
              "       0.00186976, 0.00180104, 0.00176787, 0.00173359, 0.00164849,\n",
              "       0.00163237, 0.00161408, 0.00154304, 0.0014702 , 0.00142199,\n",
              "       0.00141016, 0.00140146, 0.00139605, 0.00135025, 0.00132371,\n",
              "       0.00131893, 0.00129197, 0.00125172, 0.00122529, 0.00120419,\n",
              "       0.00116363, 0.00114319, 0.00112547, 0.00109862, 0.00108343,\n",
              "       0.00107175, 0.00103692, 0.00103418, 0.00100591, 0.00099933,\n",
              "       0.00097674, 0.00094161, 0.00093583, 0.00091166, 0.00090074,\n",
              "       0.0008895 , 0.00086158, 0.00085255, 0.000841  , 0.00081723,\n",
              "       0.00078602, 0.0007775 , 0.00077581, 0.00076479, 0.00076057,\n",
              "       0.00074879, 0.00073024, 0.00072536, 0.00071584, 0.00070341,\n",
              "       0.00069175, 0.00068692, 0.00067938, 0.00067174, 0.00066127,\n",
              "       0.00064267, 0.00063277, 0.0006284 , 0.00061963, 0.0006014 ,\n",
              "       0.00060026, 0.00059379, 0.00058628, 0.00058345, 0.0005789 ,\n",
              "       0.00057275, 0.00056338, 0.0005523 , 0.00053557, 0.00052572,\n",
              "       0.00052274, 0.0005099 , 0.0005023 , 0.00049814, 0.00049585,\n",
              "       0.00049234, 0.00048378, 0.0004809 , 0.00047157, 0.00046671,\n",
              "       0.00046423, 0.00046199, 0.00045828, 0.0004495 ])"
            ]
          },
          "metadata": {
            "tags": []
          },
          "execution_count": 10
        }
      ]
    },
    {
      "cell_type": "code",
      "metadata": {
        "id": "RuMWRlsHerSm",
        "outputId": "e4a20223-c0cc-4214-a678-ca76de1b4f80",
        "colab": {
          "base_uri": "https://localhost:8080/",
          "height": 265
        }
      },
      "source": [
        "import matplotlib.pyplot as plt\n",
        "\n",
        "for i in range(25):\n",
        "  idx_of_some_num = i\n",
        "  some_num_to_img = X[idx_of_some_num].reshape([28, 28])\n",
        "  some_num = X[idx_of_some_num]\n",
        "  plt.imshow(some_num_to_img, cmap=\"Greys\")"
      ],
      "execution_count": 15,
      "outputs": [
        {
          "output_type": "display_data",
          "data": {
            "image/png": "[encoded data removed]",
            "text/plain": [
              "<Figure size 432x288 with 1 Axes>"
            ]
          },
          "metadata": {
            "tags": [],
            "needs_background": "light"
          }
        }
      ]
    },
    {
      "cell_type": "code",
      "metadata": {
        "id": "BaPaw2DWfj2O",
        "outputId": "a3688d4e-517c-4bcb-bf2e-582b6758dd90",
        "colab": {
          "base_uri": "https://localhost:8080/",
          "height": 265
        }
      },
      "source": [
        "for i in range(25):\n",
        "  idx_of_some_num = i\n",
        "  some_num_to_img = X_recovered[idx_of_some_num].reshape([28, 28])\n",
        "  some_num = X_recovered[idx_of_some_num]\n",
        "  plt.imshow(some_num_to_img, cmap=\"Greys\")"
      ],
      "execution_count": 16,
      "outputs": [
        {
          "output_type": "display_data",
          "data": {
            "image/png": "[encoded data removed]",
            "text/plain": [
              "<Figure size 432x288 with 1 Axes>"
            ]
          },
          "metadata": {
            "tags": [],
            "needs_background": "light"
          }
        }
      ]
    },
    {
      "cell_type": "markdown",
      "metadata": {
        "id": "CCK7SvG9gZA7"
      },
      "source": [
        "## Comparing times"
      ]
    },
    {
      "cell_type": "code",
      "metadata": {
        "id": "dXmK6FxXgbwm"
      },
      "source": [
        "randomized_PCA = PCA(n_components=154, svd_solver=\"randomized\")\n",
        "X_reduced = randomized_PCA.fit_transform(X)"
      ],
      "execution_count": 18,
      "outputs": []
    },
    {
      "cell_type": "markdown",
      "metadata": {
        "id": "41E9n9qDg26f"
      },
      "source": [
        "* Randomized PCA finished in 11.249s"
      ]
    },
    {
      "cell_type": "code",
      "metadata": {
        "id": "g1JEUrLVg8se"
      },
      "source": [
        "full_PCA = PCA(n_components=154, svd_solver=\"full\")\n",
        "X_reduced = full_PCA.fit_transform(X)"
      ],
      "execution_count": 20,
      "outputs": []
    },
    {
      "cell_type": "markdown",
      "metadata": {
        "id": "WgO1w5BzhGRe"
      },
      "source": [
        "* Full PCA finished in 13.942s"
      ]
    },
    {
      "cell_type": "markdown",
      "metadata": {
        "id": "ASq-3T7qjdhO"
      },
      "source": [
        "## Applying IPCA (Incremental Principal Components Analysis)"
      ]
    },
    {
      "cell_type": "code",
      "metadata": {
        "id": "utQhkJGsjcUD"
      },
      "source": [
        "from sklearn.decomposition import IncrementalPCA\n",
        "import numpy as np\n",
        "n_batches = 100\n",
        "incremental_PCA = IncrementalPCA(n_components=154)\n",
        "for X_batch in np.array_split(X, n_batches):\n",
        "  incremental_PCA.partial_fit(X_batch)\n",
        "\n",
        "X_reduced_by_IPCA = incremental_PCA.transform(X)"
      ],
      "execution_count": 24,
      "outputs": []
    }
  ]
}